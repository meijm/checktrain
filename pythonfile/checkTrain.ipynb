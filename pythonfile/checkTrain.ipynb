{
 "cells": [
  {
   "cell_type": "markdown",
   "metadata": {},
   "source": [
    "# 自动查询上海到郑州火车票"
   ]
  },
  {
   "cell_type": "code",
   "execution_count": 3,
   "metadata": {},
   "outputs": [],
   "source": [
    "from selenium import webdriver\n",
    "from selenium.webdriver.common.keys import Keys\n",
    "from selenium.webdriver.common.by import By\n",
    "import time\n",
    "from bs4 import BeautifulSoup\n",
    "import re\n",
    "import numpy as np\n",
    "import pandas as pd\n",
    "import random\n",
    "\n",
    "url='https://12306.cn/'\n",
    "options = webdriver.ChromeOptions()\n",
    "#options.add_argument('headless')\n",
    "options.add_argument('ignore-certificate-errors')\n",
    "\n",
    "driver = webdriver.Chrome(r'C:\\Users\\Administrator\\Documents\\meijmPy\\chromedriver.exe',options=options)\n",
    "driver.get(url)"
   ]
  },
  {
   "cell_type": "code",
   "execution_count": 2,
   "metadata": {},
   "outputs": [],
   "source": [
    "def element_input(ele_id,ele_input):\n",
    "    element=driver.find_element(By.ID, ele_id)\n",
    "    try:#search has no input\n",
    "        element.clear()\n",
    "        element.click()\n",
    "        element.send_keys(ele_input)\n",
    "    except:\n",
    "        print(ele_id+' no input')\n",
    "    element.send_keys(Keys.ENTER)\n",
    "    time.sleep(1)"
   ]
  },
  {
   "cell_type": "code",
   "execution_count": null,
   "metadata": {},
   "outputs": [],
   "source": [
    "element_input('fromStationText','上海')\n",
    "element_input('toStationText','郑州')\n",
    "element_input('train_date','2023-07-25')\n",
    "element_input('search_one','')"
   ]
  },
  {
   "cell_type": "code",
   "execution_count": null,
   "metadata": {
    "scrolled": true
   },
   "outputs": [],
   "source": [
    "#drive switch \n",
    "print(driver.window_handles)\n",
    "print(driver.current_window_handle)\n",
    "driver.switch_to.window(driver.window_handles[1])#switch to new tab\n",
    "print(driver.current_url)"
   ]
  },
  {
   "cell_type": "code",
   "execution_count": null,
   "metadata": {},
   "outputs": [],
   "source": [
    "from bs4 import BeautifulSoup\n",
    "import re\n",
    "import numpy as np\n",
    "import pandas as pd\n",
    "time.sleep(3)\n",
    "page_text = driver.page_source\n",
    "soup = BeautifulSoup(page_text, 'html.parser')"
   ]
  },
  {
   "cell_type": "code",
   "execution_count": null,
   "metadata": {},
   "outputs": [],
   "source": [
    "find_id = soup.find(id='queryLeftTable')\n",
    "columlist=['出发站','到达站','出发时间','达到时间','时长','商务座','一等座','二等座','高级软卧','软卧','动卧','硬卧','软座','硬座','无座','其他','预定']\n",
    "train_df = pd.DataFrame([],columns=columlist)#to store all info\n",
    "#each train info， and all train' id start with ticket in source page\n",
    "tr_list=find_id.find_all(name='tr',id=re.compile(\"ticket_*\"))\n",
    "for train in tr_list:\n",
    "    td_list=train.find_all('td')#each seat info\n",
    "    count=0#we need to extract the train info from the first td\n",
    "    seat_list=[]#to store seat info\n",
    "    for treat in td_list:\n",
    "        if count==0:\n",
    "            train_id=treat.find(title='点击查看停靠站信息')\n",
    "            print(train_id.text)\n",
    "            for strong in treat.find_all('strong'):#the time and station info in strong\n",
    "                print(strong.text)\n",
    "                seat_list.append(strong.text)\n",
    "        else:\n",
    "            print(treat.text)\n",
    "            seat_list.append(treat.text)\n",
    "        count=count+1\n",
    "    train_df1=pd.DataFrame(seat_list,index=columlist,columns=[train_id.text]).T\n",
    "    train_df=pd.concat([train_df,train_df1],axis=0)\n",
    "                     "
   ]
  },
  {
   "cell_type": "code",
   "execution_count": null,
   "metadata": {
    "scrolled": true
   },
   "outputs": [],
   "source": [
    "train_df"
   ]
  },
  {
   "cell_type": "code",
   "execution_count": null,
   "metadata": {},
   "outputs": [],
   "source": [
    "driver.close()\n",
    "driver.switch_to.window(driver.window_handles[0])"
   ]
  },
  {
   "cell_type": "code",
   "execution_count": null,
   "metadata": {},
   "outputs": [],
   "source": [
    "driver.current_url"
   ]
  },
  {
   "cell_type": "code",
   "execution_count": 19,
   "metadata": {},
   "outputs": [],
   "source": [
    "def checkTrain(fromStation='上海',toStation='郑州',train_date='2023-07-25'):\n",
    "    element_input('fromStationText',fromStation)\n",
    "    element_input('toStationText',toStation)\n",
    "    element_input('train_date',train_date)\n",
    "    element_input('search_one','')\n",
    "    driver.switch_to.window(driver.window_handles[1])#switch to new tab\n",
    "    print(driver.current_url)\n",
    "    #in case we are trecked\n",
    "    time.sleep(3+random.randint(1, 9)*0.1)\n",
    "    page_text = driver.page_source\n",
    "    soup = BeautifulSoup(page_text, 'html.parser')\n",
    "    find_id = soup.find(id='queryLeftTable')\n",
    "    columlist=['出发站','到达站','出发时间','达到时间','时长','商务座','一等座','二等座','高级软卧','软卧','动卧','硬卧','软座','硬座','无座','其他','预定']\n",
    "    train_df = pd.DataFrame([],columns=columlist)#to store all info\n",
    "    #each train info， and all train' id start with ticket in source page\n",
    "    tr_list=find_id.find_all(name='tr',id=re.compile(\"ticket_*\"))\n",
    "    for train in tr_list:\n",
    "        td_list=train.find_all('td')#each seat info\n",
    "        count=0#we need to extract the train info from the first td\n",
    "        seat_list=[]#to store seat info\n",
    "        for treat in td_list:\n",
    "            if count==0:\n",
    "                train_id=treat.find(title='点击查看停靠站信息')\n",
    "                #print(train_id.text)\n",
    "                for strong in treat.find_all('strong'):#the time and station info in strong\n",
    "                    #print(strong.text)\n",
    "                    seat_list.append(strong.text)\n",
    "            else:\n",
    "                #print(treat.text)\n",
    "                seat_list.append(treat.text)\n",
    "            count=count+1\n",
    "        train_df1=pd.DataFrame(seat_list,index=columlist,columns=[train_id.text]).T\n",
    "        train_df=pd.concat([train_df,train_df1],axis=0)\n",
    "        #print(train_df)\n",
    "    return train_df\n",
    "                     "
   ]
  },
  {
   "cell_type": "code",
   "execution_count": 26,
   "metadata": {
    "scrolled": false
   },
   "outputs": [
    {
     "name": "stdout",
     "output_type": "stream",
     "text": [
      "search_one no input\n",
      "https://kyfw.12306.cn/otn/leftTicket/init?linktypeid=dc&fs=%E4%B8%8A%E6%B5%B7,SHH&ts=%E9%AB%98%E5%AE%89,GCG&date=2023-07-25&flag=N,N,Y\n"
     ]
    },
    {
     "data": {
      "text/html": [
       "<div>\n",
       "<style scoped>\n",
       "    .dataframe tbody tr th:only-of-type {\n",
       "        vertical-align: middle;\n",
       "    }\n",
       "\n",
       "    .dataframe tbody tr th {\n",
       "        vertical-align: top;\n",
       "    }\n",
       "\n",
       "    .dataframe thead th {\n",
       "        text-align: right;\n",
       "    }\n",
       "</style>\n",
       "<table border=\"1\" class=\"dataframe\">\n",
       "  <thead>\n",
       "    <tr style=\"text-align: right;\">\n",
       "      <th></th>\n",
       "      <th>出发站</th>\n",
       "      <th>到达站</th>\n",
       "      <th>出发时间</th>\n",
       "      <th>达到时间</th>\n",
       "      <th>时长</th>\n",
       "      <th>商务座</th>\n",
       "      <th>一等座</th>\n",
       "      <th>二等座</th>\n",
       "      <th>高级软卧</th>\n",
       "      <th>软卧</th>\n",
       "      <th>动卧</th>\n",
       "      <th>硬卧</th>\n",
       "      <th>软座</th>\n",
       "      <th>硬座</th>\n",
       "      <th>无座</th>\n",
       "      <th>其他</th>\n",
       "      <th>预定</th>\n",
       "    </tr>\n",
       "  </thead>\n",
       "  <tbody>\n",
       "    <tr>\n",
       "      <td>G1501</td>\n",
       "      <td>上海虹桥</td>\n",
       "      <td>高安</td>\n",
       "      <td>10:03</td>\n",
       "      <td>14:06</td>\n",
       "      <td>04:03</td>\n",
       "      <td>候补</td>\n",
       "      <td>候补</td>\n",
       "      <td>有</td>\n",
       "      <td>--</td>\n",
       "      <td>--</td>\n",
       "      <td>--</td>\n",
       "      <td>--</td>\n",
       "      <td>--</td>\n",
       "      <td>--</td>\n",
       "      <td>--</td>\n",
       "      <td>--</td>\n",
       "      <td>预订</td>\n",
       "    </tr>\n",
       "    <tr>\n",
       "      <td>G1375</td>\n",
       "      <td>上海虹桥</td>\n",
       "      <td>高安</td>\n",
       "      <td>11:11</td>\n",
       "      <td>15:41</td>\n",
       "      <td>04:30</td>\n",
       "      <td>候补</td>\n",
       "      <td>候补</td>\n",
       "      <td>有</td>\n",
       "      <td>--</td>\n",
       "      <td>--</td>\n",
       "      <td>--</td>\n",
       "      <td>--</td>\n",
       "      <td>--</td>\n",
       "      <td>--</td>\n",
       "      <td>--</td>\n",
       "      <td>--</td>\n",
       "      <td>预订</td>\n",
       "    </tr>\n",
       "    <tr>\n",
       "      <td>G2141</td>\n",
       "      <td>上海虹桥</td>\n",
       "      <td>高安</td>\n",
       "      <td>13:47</td>\n",
       "      <td>17:56</td>\n",
       "      <td>04:09</td>\n",
       "      <td>候补</td>\n",
       "      <td>候补</td>\n",
       "      <td>候补</td>\n",
       "      <td>--</td>\n",
       "      <td>--</td>\n",
       "      <td>--</td>\n",
       "      <td>--</td>\n",
       "      <td>--</td>\n",
       "      <td>--</td>\n",
       "      <td>--</td>\n",
       "      <td>--</td>\n",
       "      <td>预订</td>\n",
       "    </tr>\n",
       "  </tbody>\n",
       "</table>\n",
       "</div>"
      ],
      "text/plain": [
       "        出发站 到达站   出发时间   达到时间     时长 商务座 一等座 二等座 高级软卧  软卧  动卧  硬卧  软座  硬座  无座  \\\n",
       "G1501  上海虹桥  高安  10:03  14:06  04:03  候补  候补   有   --  --  --  --  --  --  --   \n",
       "G1375  上海虹桥  高安  11:11  15:41  04:30  候补  候补   有   --  --  --  --  --  --  --   \n",
       "G2141  上海虹桥  高安  13:47  17:56  04:09  候补  候补  候补   --  --  --  --  --  --  --   \n",
       "\n",
       "       其他  预定  \n",
       "G1501  --  预订  \n",
       "G1375  --  预订  \n",
       "G2141  --  预订  "
      ]
     },
     "execution_count": 26,
     "metadata": {},
     "output_type": "execute_result"
    }
   ],
   "source": [
    "focusDate='2023-07-25'\n",
    "train_df=checkTrain('上海','高安',train_date=focusDate)\n",
    "train_df"
   ]
  },
  {
   "cell_type": "code",
   "execution_count": 27,
   "metadata": {},
   "outputs": [
    {
     "name": "stdout",
     "output_type": "stream",
     "text": [
      "['上海虹桥', '嘉善南', '桐乡', '杭州东', '义乌', '金华', '上饶', '鹰潭北', '南昌西', '高安', '宜春', '萍乡北', '长沙南', '湘潭北', '娄底南', '怀化南', '铜仁南', '铜仁']\n",
      "https://www.12306.cn/index/\n"
     ]
    }
   ],
   "source": [
    "focusID=\"G2141\"\n",
    "element=driver.find_element(By.LINK_TEXT, focusID)\n",
    "element.click()\n",
    "time.sleep(1)\n",
    "page_text = driver.page_source\n",
    "soup = BeautifulSoup(page_text, 'html.parser')\n",
    "find_id = soup.find(id='train_table_')\n",
    "#find all staion and remove time\n",
    "tr_list=find_id.find_all(text=re.compile(\"[\\u4e00-\\u9fa5]\"))\n",
    "pstation_list=[string for string in tr_list if '分钟' not in string ]\n",
    "print(pstation_list)\n",
    "driver.close()\n",
    "driver.switch_to.window(driver.window_handles[0])\n",
    "print(driver.current_url)"
   ]
  },
  {
   "cell_type": "code",
   "execution_count": 44,
   "metadata": {},
   "outputs": [
    {
     "name": "stdout",
     "output_type": "stream",
     "text": [
      "search_one no input\n",
      "https://kyfw.12306.cn/otn/leftTicket/init?linktypeid=dc&fs=%E4%B8%8A%E6%B5%B7%E8%99%B9%E6%A1%A5,AOH&ts=%E5%98%89%E5%96%84%E5%8D%97,EAH&date=2023-07-25&flag=N,N,Y\n",
      "嘉善南\n",
      "有\n",
      "search_one no input\n",
      "https://kyfw.12306.cn/otn/leftTicket/init?linktypeid=dc&fs=%E4%B8%8A%E6%B5%B7%E8%99%B9%E6%A1%A5,AOH&ts=%E6%A1%90%E4%B9%A1,TCH&date=2023-07-25&flag=N,N,Y\n",
      "桐乡\n",
      "有\n",
      "search_one no input\n",
      "https://kyfw.12306.cn/otn/leftTicket/init?linktypeid=dc&fs=%E4%B8%8A%E6%B5%B7%E8%99%B9%E6%A1%A5,AOH&ts=%E6%9D%AD%E5%B7%9E%E4%B8%9C,HGH&date=2023-07-25&flag=N,N,Y\n",
      "杭州东\n",
      "14\n",
      "search_one no input\n",
      "https://kyfw.12306.cn/otn/leftTicket/init?linktypeid=dc&fs=%E4%B8%8A%E6%B5%B7%E8%99%B9%E6%A1%A5,AOH&ts=%E4%B9%89%E4%B9%8C,YWH&date=2023-07-25&flag=N,N,Y\n",
      "义乌\n",
      "候补\n",
      "search_one no input\n",
      "https://kyfw.12306.cn/otn/leftTicket/init?linktypeid=dc&fs=%E4%B8%8A%E6%B5%B7%E8%99%B9%E6%A1%A5,AOH&ts=%E9%87%91%E5%8D%8E%E5%8D%97,RNH&date=2023-07-25&flag=N,N,Y\n",
      "金华\n",
      "候补\n",
      "search_one no input\n",
      "https://kyfw.12306.cn/otn/leftTicket/init?linktypeid=dc&fs=%E4%B8%8A%E6%B5%B7%E8%99%B9%E6%A1%A5,AOH&ts=%E4%B8%8A%E9%A5%B6,SRG&date=2023-07-25&flag=N,N,Y\n",
      "上饶\n",
      "1\n",
      "search_one no input\n",
      "https://kyfw.12306.cn/otn/leftTicket/init?linktypeid=dc&fs=%E4%B8%8A%E6%B5%B7%E8%99%B9%E6%A1%A5,AOH&ts=%E9%B9%B0%E6%BD%AD%E5%8C%97,YKG&date=2023-07-25&flag=N,N,Y\n",
      "鹰潭北\n",
      "候补\n",
      "search_one no input\n",
      "https://kyfw.12306.cn/otn/leftTicket/init?linktypeid=dc&fs=%E4%B8%8A%E6%B5%B7%E8%99%B9%E6%A1%A5,AOH&ts=%E5%8D%97%E6%98%8C%E8%A5%BF,NXG&date=2023-07-25&flag=N,N,Y\n",
      "南昌西\n",
      "候补\n",
      "search_one no input\n",
      "https://kyfw.12306.cn/otn/leftTicket/init?linktypeid=dc&fs=%E4%B8%8A%E6%B5%B7%E8%99%B9%E6%A1%A5,AOH&ts=%E9%AB%98%E5%AE%89,GCG&date=2023-07-25&flag=N,N,Y\n",
      "高安\n",
      "候补\n",
      "search_one no input\n",
      "https://kyfw.12306.cn/otn/leftTicket/init?linktypeid=dc&fs=%E4%B8%8A%E6%B5%B7%E8%99%B9%E6%A1%A5,AOH&ts=%E5%AE%9C%E6%98%A5,YEG&date=2023-07-25&flag=N,N,Y\n",
      "宜春\n",
      "候补\n",
      "search_one no input\n",
      "https://kyfw.12306.cn/otn/leftTicket/init?linktypeid=dc&fs=%E4%B8%8A%E6%B5%B7%E8%99%B9%E6%A1%A5,AOH&ts=%E8%90%8D%E4%B9%A1%E5%8C%97,PBG&date=2023-07-25&flag=N,N,Y\n",
      "萍乡北\n",
      "候补\n",
      "search_one no input\n",
      "https://kyfw.12306.cn/otn/leftTicket/init?linktypeid=dc&fs=%E4%B8%8A%E6%B5%B7%E8%99%B9%E6%A1%A5,AOH&ts=%E9%95%BF%E6%B2%99%E5%8D%97,CWQ&date=2023-07-25&flag=N,N,Y\n",
      "长沙南\n",
      "5\n"
     ]
    },
    {
     "ename": "KeyboardInterrupt",
     "evalue": "",
     "output_type": "error",
     "traceback": [
      "\u001b[1;31m---------------------------------------------------------------------------\u001b[0m",
      "\u001b[1;31mKeyboardInterrupt\u001b[0m                         Traceback (most recent call last)",
      "\u001b[1;32m<ipython-input-44-c94a5c013d64>\u001b[0m in \u001b[0;36m<module>\u001b[1;34m\u001b[0m\n\u001b[0;32m      1\u001b[0m \u001b[0mfocusdic\u001b[0m\u001b[1;33m=\u001b[0m\u001b[1;33m{\u001b[0m\u001b[1;33m}\u001b[0m\u001b[1;33m\u001b[0m\u001b[1;33m\u001b[0m\u001b[0m\n\u001b[0;32m      2\u001b[0m \u001b[1;32mfor\u001b[0m \u001b[0mi\u001b[0m \u001b[1;32min\u001b[0m \u001b[0mrange\u001b[0m\u001b[1;33m(\u001b[0m\u001b[0mlen\u001b[0m\u001b[1;33m(\u001b[0m\u001b[0mpstation_list\u001b[0m\u001b[1;33m)\u001b[0m\u001b[1;33m-\u001b[0m\u001b[1;36m1\u001b[0m\u001b[1;33m)\u001b[0m\u001b[1;33m:\u001b[0m\u001b[1;33m\u001b[0m\u001b[1;33m\u001b[0m\u001b[0m\n\u001b[1;32m----> 3\u001b[1;33m     \u001b[0mtrain_df\u001b[0m\u001b[1;33m=\u001b[0m\u001b[0mcheckTrain\u001b[0m\u001b[1;33m(\u001b[0m\u001b[0mpstation_list\u001b[0m\u001b[1;33m[\u001b[0m\u001b[1;36m0\u001b[0m\u001b[1;33m]\u001b[0m\u001b[1;33m,\u001b[0m\u001b[0mpstation_list\u001b[0m\u001b[1;33m[\u001b[0m\u001b[0mi\u001b[0m\u001b[1;33m+\u001b[0m\u001b[1;36m1\u001b[0m\u001b[1;33m]\u001b[0m\u001b[1;33m,\u001b[0m\u001b[0mtrain_date\u001b[0m\u001b[1;33m=\u001b[0m\u001b[0mfocusDate\u001b[0m\u001b[1;33m)\u001b[0m\u001b[1;33m\u001b[0m\u001b[1;33m\u001b[0m\u001b[0m\n\u001b[0m\u001b[0;32m      4\u001b[0m     \u001b[0mprint\u001b[0m\u001b[1;33m(\u001b[0m\u001b[0mpstation_list\u001b[0m\u001b[1;33m[\u001b[0m\u001b[0mi\u001b[0m\u001b[1;33m+\u001b[0m\u001b[1;36m1\u001b[0m\u001b[1;33m]\u001b[0m\u001b[1;33m)\u001b[0m\u001b[1;33m\u001b[0m\u001b[1;33m\u001b[0m\u001b[0m\n\u001b[0;32m      5\u001b[0m     \u001b[0mprint\u001b[0m\u001b[1;33m(\u001b[0m\u001b[0mtrain_df\u001b[0m\u001b[1;33m.\u001b[0m\u001b[0mloc\u001b[0m\u001b[1;33m[\u001b[0m\u001b[0mfocusID\u001b[0m\u001b[1;33m]\u001b[0m\u001b[1;33m[\u001b[0m\u001b[1;34m'二等座'\u001b[0m\u001b[1;33m]\u001b[0m\u001b[1;33m)\u001b[0m\u001b[1;33m\u001b[0m\u001b[1;33m\u001b[0m\u001b[0m\n",
      "\u001b[1;32m<ipython-input-19-a42fbc6484a8>\u001b[0m in \u001b[0;36mcheckTrain\u001b[1;34m(fromStation, toStation, train_date)\u001b[0m\n\u001b[0;32m      1\u001b[0m \u001b[1;32mdef\u001b[0m \u001b[0mcheckTrain\u001b[0m\u001b[1;33m(\u001b[0m\u001b[0mfromStation\u001b[0m\u001b[1;33m=\u001b[0m\u001b[1;34m'上海'\u001b[0m\u001b[1;33m,\u001b[0m\u001b[0mtoStation\u001b[0m\u001b[1;33m=\u001b[0m\u001b[1;34m'郑州'\u001b[0m\u001b[1;33m,\u001b[0m\u001b[0mtrain_date\u001b[0m\u001b[1;33m=\u001b[0m\u001b[1;34m'2023-07-25'\u001b[0m\u001b[1;33m)\u001b[0m\u001b[1;33m:\u001b[0m\u001b[1;33m\u001b[0m\u001b[1;33m\u001b[0m\u001b[0m\n\u001b[1;32m----> 2\u001b[1;33m     \u001b[0melement_input\u001b[0m\u001b[1;33m(\u001b[0m\u001b[1;34m'fromStationText'\u001b[0m\u001b[1;33m,\u001b[0m\u001b[0mfromStation\u001b[0m\u001b[1;33m)\u001b[0m\u001b[1;33m\u001b[0m\u001b[1;33m\u001b[0m\u001b[0m\n\u001b[0m\u001b[0;32m      3\u001b[0m     \u001b[0melement_input\u001b[0m\u001b[1;33m(\u001b[0m\u001b[1;34m'toStationText'\u001b[0m\u001b[1;33m,\u001b[0m\u001b[0mtoStation\u001b[0m\u001b[1;33m)\u001b[0m\u001b[1;33m\u001b[0m\u001b[1;33m\u001b[0m\u001b[0m\n\u001b[0;32m      4\u001b[0m     \u001b[0melement_input\u001b[0m\u001b[1;33m(\u001b[0m\u001b[1;34m'train_date'\u001b[0m\u001b[1;33m,\u001b[0m\u001b[0mtrain_date\u001b[0m\u001b[1;33m)\u001b[0m\u001b[1;33m\u001b[0m\u001b[1;33m\u001b[0m\u001b[0m\n\u001b[0;32m      5\u001b[0m     \u001b[0melement_input\u001b[0m\u001b[1;33m(\u001b[0m\u001b[1;34m'search_one'\u001b[0m\u001b[1;33m,\u001b[0m\u001b[1;34m''\u001b[0m\u001b[1;33m)\u001b[0m\u001b[1;33m\u001b[0m\u001b[1;33m\u001b[0m\u001b[0m\n",
      "\u001b[1;32m<ipython-input-2-c8b92333a407>\u001b[0m in \u001b[0;36melement_input\u001b[1;34m(ele_id, ele_input)\u001b[0m\n\u001b[0;32m      8\u001b[0m         \u001b[0mprint\u001b[0m\u001b[1;33m(\u001b[0m\u001b[0mele_id\u001b[0m\u001b[1;33m+\u001b[0m\u001b[1;34m' no input'\u001b[0m\u001b[1;33m)\u001b[0m\u001b[1;33m\u001b[0m\u001b[1;33m\u001b[0m\u001b[0m\n\u001b[0;32m      9\u001b[0m     \u001b[0melement\u001b[0m\u001b[1;33m.\u001b[0m\u001b[0msend_keys\u001b[0m\u001b[1;33m(\u001b[0m\u001b[0mKeys\u001b[0m\u001b[1;33m.\u001b[0m\u001b[0mENTER\u001b[0m\u001b[1;33m)\u001b[0m\u001b[1;33m\u001b[0m\u001b[1;33m\u001b[0m\u001b[0m\n\u001b[1;32m---> 10\u001b[1;33m     \u001b[0mtime\u001b[0m\u001b[1;33m.\u001b[0m\u001b[0msleep\u001b[0m\u001b[1;33m(\u001b[0m\u001b[1;36m1\u001b[0m\u001b[1;33m)\u001b[0m\u001b[1;33m\u001b[0m\u001b[1;33m\u001b[0m\u001b[0m\n\u001b[0m",
      "\u001b[1;31mKeyboardInterrupt\u001b[0m: "
     ]
    }
   ],
   "source": [
    "focusdic={}\n",
    "for i in range(len(pstation_list)-1):\n",
    "    train_df=checkTrain(pstation_list[0],pstation_list[i+1],train_date=focusDate)\n",
    "    print(pstation_list[i+1])\n",
    "    print(train_df.loc[focusID]['二等座'])\n",
    "    focusdic[pstation_list[i+1]]=train_df.loc[focusID]['二等座']\n",
    "    driver.close()\n",
    "    driver.switch_to.window(driver.window_handles[0])\n",
    "    #print(driver.current_url)\n",
    "print(focusdic)"
   ]
  },
  {
   "cell_type": "code",
   "execution_count": 43,
   "metadata": {},
   "outputs": [
    {
     "name": "stdout",
     "output_type": "stream",
     "text": [
      "https://www.12306.cn/index/\n"
     ]
    }
   ],
   "source": [
    "driver.close()\n",
    "driver.switch_to.window(driver.window_handles[0])\n",
    "print(driver.current_url)"
   ]
  },
  {
   "cell_type": "code",
   "execution_count": 45,
   "metadata": {},
   "outputs": [
    {
     "name": "stdout",
     "output_type": "stream",
     "text": [
      "{'嘉善南': '有', '桐乡': '有', '杭州东': '14', '义乌': '候补', '金华': '候补', '上饶': '1', '鹰潭北': '候补', '南昌西': '候补', '高安': '候补', '宜春': '候补', '萍乡北': '候补', '长沙南': '5'}\n"
     ]
    }
   ],
   "source": [
    "print(focusdic)"
   ]
  },
  {
   "cell_type": "code",
   "execution_count": 46,
   "metadata": {},
   "outputs": [],
   "source": [
    "time.sleep(3.5)"
   ]
  },
  {
   "cell_type": "code",
   "execution_count": 50,
   "metadata": {},
   "outputs": [
    {
     "data": {
      "text/plain": [
       "0.9"
      ]
     },
     "execution_count": 50,
     "metadata": {},
     "output_type": "execute_result"
    }
   ],
   "source": [
    "# 导入 random 包\n",
    "\n",
    "\n",
    "# 返回一个 1 到 9 之间的数字\n"
   ]
  },
  {
   "cell_type": "code",
   "execution_count": null,
   "metadata": {},
   "outputs": [],
   "source": []
  }
 ],
 "metadata": {
  "kernelspec": {
   "display_name": "Python 3",
   "language": "python",
   "name": "python3"
  },
  "language_info": {
   "codemirror_mode": {
    "name": "ipython",
    "version": 3
   },
   "file_extension": ".py",
   "mimetype": "text/x-python",
   "name": "python",
   "nbconvert_exporter": "python",
   "pygments_lexer": "ipython3",
   "version": "3.7.4"
  }
 },
 "nbformat": 4,
 "nbformat_minor": 2
}
