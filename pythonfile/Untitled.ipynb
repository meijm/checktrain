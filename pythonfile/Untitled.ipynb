{
 "cells": [
  {
   "cell_type": "code",
   "execution_count": 1,
   "metadata": {},
   "outputs": [],
   "source": [
    "import re\n",
    "import requests\n",
    "from selenium import webdriver"
   ]
  },
  {
   "cell_type": "code",
   "execution_count": 2,
   "metadata": {},
   "outputs": [],
   "source": [
    "url='https://kyfw.12306.cn/otn/resources/js/framework/station_name.js?station_version=1.9260'\n",
    "response=requests.get(url)\n",
    "station_text=response.text # 获取响应内容\n",
    "code_list=re.split('\\W+', station_text)#split the string by non-letters"
   ]
  },
  {
   "cell_type": "code",
   "execution_count": 3,
   "metadata": {},
   "outputs": [],
   "source": [
    "def find_code(city_name):\n",
    "    station_code=code_list[code_list.index(city_name)+1]#find city name's index, the code in behind the name\n",
    "    return station_code"
   ]
  },
  {
   "cell_type": "code",
   "execution_count": 4,
   "metadata": {},
   "outputs": [
    {
     "data": {
      "text/plain": [
       "'cqi'"
      ]
     },
     "execution_count": 4,
     "metadata": {},
     "output_type": "execute_result"
    }
   ],
   "source": [
    "find_code('重庆')"
   ]
  },
  {
   "cell_type": "code",
   "execution_count": 5,
   "metadata": {},
   "outputs": [],
   "source": [
    "from selenium import webdriver\n",
    "from selenium.webdriver.common.keys import Keys\n",
    "from selenium.webdriver.common.by import By\n",
    "import time\n",
    "\n",
    "url='https://12306.cn/'\n",
    "options = webdriver.ChromeOptions()\n",
    "#options.add_argument('headless')\n",
    "options.add_argument('ignore-certificate-errors')\n",
    "\n",
    "driver = webdriver.Chrome(r'C:\\Users\\Administrator\\Documents\\meijmPy\\chromedriver.exe',options=options)\n",
    "driver.get(url)"
   ]
  },
  {
   "cell_type": "code",
   "execution_count": 6,
   "metadata": {},
   "outputs": [],
   "source": [
    "def element_input(ele_id,ele_input):\n",
    "    element=driver.find_element(By.ID, ele_id)\n",
    "    try:#search has no input\n",
    "        element.clear()\n",
    "        element.click()\n",
    "        element.send_keys(ele_input)\n",
    "    except:\n",
    "        print(ele_id+' no input')\n",
    "    element.send_keys(Keys.ENTER)\n",
    "    time.sleep(1)"
   ]
  },
  {
   "cell_type": "code",
   "execution_count": 7,
   "metadata": {},
   "outputs": [
    {
     "name": "stdout",
     "output_type": "stream",
     "text": [
      "search_one no input\n"
     ]
    }
   ],
   "source": [
    "element_input('fromStationText','上海')\n",
    "element_input('toStationText','重庆')\n",
    "element_input('train_date','2023-05-07')\n",
    "element_input('search_one','')"
   ]
  },
  {
   "cell_type": "code",
   "execution_count": 8,
   "metadata": {},
   "outputs": [
    {
     "name": "stdout",
     "output_type": "stream",
     "text": [
      "['CDwindow-A1685171F35B86AE737655DEE31A9105', 'CDwindow-BE6AB2468391AAF87F22F8011E6C57E5']\n",
      "CDwindow-A1685171F35B86AE737655DEE31A9105\n",
      "https://kyfw.12306.cn/otn/leftTicket/init?linktypeid=dc&fs=%E4%B8%8A%E6%B5%B7,SHH&ts=%E9%87%8D%E5%BA%86%E5%8C%97,CUW&date=2023-05-07&flag=N,N,Y\n"
     ]
    }
   ],
   "source": [
    "#drive switch \n",
    "print(driver.window_handles)\n",
    "print(driver.current_window_handle)\n",
    "driver.switch_to.window(driver.window_handles[1])#switch to new tab\n",
    "print(driver.current_url)"
   ]
  },
  {
   "cell_type": "code",
   "execution_count": 9,
   "metadata": {},
   "outputs": [],
   "source": [
    "from bs4 import BeautifulSoup\n",
    "import numpy as np\n",
    "import pandas as pd\n",
    "\n",
    "page_text = driver.page_source\n",
    "soup = BeautifulSoup(page_text, 'html.parser')"
   ]
  },
  {
   "cell_type": "code",
   "execution_count": 10,
   "metadata": {},
   "outputs": [
    {
     "name": "stdout",
     "output_type": "stream",
     "text": [
      "D2206\n",
      "上海虹桥\n",
      "重庆北\n",
      "06:01\n",
      "19:17\n",
      "13:16\n",
      "--\n",
      "有\n",
      "有\n",
      "--\n",
      "--\n",
      "--\n",
      "--\n",
      "--\n",
      "--\n",
      "有\n",
      "--\n",
      "预订\n",
      "D352\n",
      "上海虹桥\n",
      "重庆北\n",
      "06:13\n",
      "18:07\n",
      "11:54\n",
      "--\n",
      "有\n",
      "有\n",
      "--\n",
      "--\n",
      "--\n",
      "--\n",
      "--\n",
      "--\n",
      "有\n",
      "--\n",
      "预订\n",
      "D636\n",
      "上海虹桥\n",
      "重庆北\n",
      "06:32\n",
      "18:38\n",
      "12:06\n",
      "--\n",
      "有\n",
      "有\n",
      "--\n",
      "--\n",
      "--\n",
      "--\n",
      "--\n",
      "--\n",
      "有\n",
      "--\n",
      "预订\n",
      "D3072\n",
      "上海虹桥\n",
      "重庆北\n",
      "07:02\n",
      "19:24\n",
      "12:22\n",
      "--\n",
      "有\n",
      "有\n",
      "--\n",
      "--\n",
      "--\n",
      "--\n",
      "--\n",
      "--\n",
      "有\n",
      "--\n",
      "预订\n",
      "G1974\n",
      "上海虹桥\n",
      "重庆西\n",
      "07:17\n",
      "20:27\n",
      "13:10\n",
      "4\n",
      "有\n",
      "有\n",
      "--\n",
      "--\n",
      "--\n",
      "--\n",
      "--\n",
      "--\n",
      "--\n",
      "--\n",
      "预订\n",
      "D3056\n",
      "上海\n",
      "重庆北\n",
      "07:23\n",
      "19:38\n",
      "12:15\n",
      "--\n",
      "有\n",
      "有\n",
      "--\n",
      "--\n",
      "--\n",
      "--\n",
      "--\n",
      "--\n",
      "有\n",
      "--\n",
      "预订\n",
      "D2216\n",
      "上海虹桥\n",
      "重庆北\n",
      "07:37\n",
      "21:20\n",
      "13:43\n",
      "--\n",
      "有\n",
      "有\n",
      "--\n",
      "--\n",
      "--\n",
      "--\n",
      "--\n",
      "--\n",
      "有\n",
      "--\n",
      "预订\n",
      "D2212\n",
      "上海虹桥\n",
      "重庆北\n",
      "07:42\n",
      "20:19\n",
      "12:37\n",
      "--\n",
      "18\n",
      "有\n",
      "--\n",
      "--\n",
      "--\n",
      "--\n",
      "--\n",
      "--\n",
      "无\n",
      "--\n",
      "预订\n",
      "G3288\n",
      "上海虹桥\n",
      "沙坪坝\n",
      "07:49\n",
      "21:48\n",
      "13:59\n",
      "5\n",
      "10\n",
      "有\n",
      "--\n",
      "--\n",
      "--\n",
      "--\n",
      "--\n",
      "--\n",
      "--\n",
      "--\n",
      "预订\n",
      "D2268\n",
      "上海虹桥\n",
      "重庆北\n",
      "08:01\n",
      "21:30\n",
      "13:29\n",
      "--\n",
      "有\n",
      "有\n",
      "--\n",
      "--\n",
      "--\n",
      "--\n",
      "--\n",
      "--\n",
      "有\n",
      "--\n",
      "预订\n",
      "G1337\n",
      "上海虹桥\n",
      "重庆西\n",
      "08:22\n",
      "19:46\n",
      "11:24\n",
      "15\n",
      "有\n",
      "有\n",
      "--\n",
      "--\n",
      "--\n",
      "--\n",
      "--\n",
      "--\n",
      "--\n",
      "--\n",
      "预订\n",
      "D952\n",
      "上海\n",
      "重庆北\n",
      "08:30\n",
      "19:00\n",
      "10:30\n",
      "--\n",
      "有\n",
      "有\n",
      "--\n",
      "--\n",
      "--\n",
      "--\n",
      "--\n",
      "--\n",
      "有\n",
      "--\n",
      "预订\n",
      "D956\n",
      "上海\n",
      "重庆北\n",
      "09:30\n",
      "20:14\n",
      "10:44\n",
      "--\n",
      "有\n",
      "有\n",
      "--\n",
      "--\n",
      "--\n",
      "--\n",
      "--\n",
      "--\n",
      "有\n",
      "--\n",
      "预订\n",
      "G1476\n",
      "上海虹桥\n",
      "重庆北\n",
      "09:51\n",
      "20:32\n",
      "10:41\n",
      "候补\n",
      "候补\n",
      "有\n",
      "--\n",
      "--\n",
      "--\n",
      "--\n",
      "--\n",
      "--\n",
      "--\n",
      "--\n",
      "预订\n",
      "G1333\n",
      "上海虹桥\n",
      "重庆西\n",
      "11:44\n",
      "23:09\n",
      "11:25\n",
      "候补\n",
      "候补\n",
      "有\n",
      "--\n",
      "--\n",
      "--\n",
      "--\n",
      "--\n",
      "--\n",
      "--\n",
      "--\n",
      "预订\n",
      "G1532\n",
      "上海虹桥\n",
      "重庆北\n",
      "11:52\n",
      "23:27\n",
      "11:35\n",
      "8\n",
      "有\n",
      "有\n",
      "--\n",
      "--\n",
      "--\n",
      "--\n",
      "--\n",
      "--\n",
      "--\n",
      "--\n",
      "预订\n",
      "K71\n",
      "上海南\n",
      "重庆北\n",
      "14:13\n",
      "15:34\n",
      "25:21\n",
      "--\n",
      "--\n",
      "--\n",
      "--\n",
      "8\n",
      "--\n",
      "有\n",
      "--\n",
      "有\n",
      "有\n",
      "--\n",
      "预订\n",
      "Z257\n",
      "上海南\n",
      "重庆北\n",
      "19:07\n",
      "12:44\n",
      "17:37\n",
      "--\n",
      "--\n",
      "--\n",
      "--\n",
      "2\n",
      "--\n",
      "有\n",
      "--\n",
      "--\n",
      "--\n",
      "--\n",
      "预订\n"
     ]
    }
   ],
   "source": [
    "find_id = soup.find(id='queryLeftTable')\n",
    "columlist=['出发站','到达站','出发时间','达到时间','时长','商务座','一等座','二等座','高级软卧','软卧','动卧','硬卧','软座','硬座','无座','其他','预定']\n",
    "train_df = pd.DataFrame([],columns=columlist)#to store all info\n",
    "#each train info， and all train' id start with ticket in source page\n",
    "tr_list=find_id.find_all(name='tr',id=re.compile(\"ticket_*\"))\n",
    "for train in tr_list:\n",
    "    td_list=train.find_all('td')#each seat info\n",
    "    count=0#we need to extract the train info from the first td\n",
    "    seat_list=[]#to store seat info\n",
    "    for treat in td_list:\n",
    "        if count==0:\n",
    "            train_id=treat.find(title='点击查看停靠站信息')\n",
    "            print(train_id.text)\n",
    "            for strong in treat.find_all('strong'):#the time and station info in strong\n",
    "                print(strong.text)\n",
    "                seat_list.append(strong.text)\n",
    "        else:\n",
    "            print(treat.text)\n",
    "            seat_list.append(treat.text)\n",
    "        count=count+1\n",
    "    train_df1=pd.DataFrame(seat_list,index=columlist,columns=[train_id.text]).T\n",
    "    train_df=pd.concat([train_df,train_df1],axis=0)\n",
    "                        "
   ]
  },
  {
   "cell_type": "code",
   "execution_count": 11,
   "metadata": {
    "scrolled": false
   },
   "outputs": [
    {
     "data": {
      "text/html": [
       "<div>\n",
       "<style scoped>\n",
       "    .dataframe tbody tr th:only-of-type {\n",
       "        vertical-align: middle;\n",
       "    }\n",
       "\n",
       "    .dataframe tbody tr th {\n",
       "        vertical-align: top;\n",
       "    }\n",
       "\n",
       "    .dataframe thead th {\n",
       "        text-align: right;\n",
       "    }\n",
       "</style>\n",
       "<table border=\"1\" class=\"dataframe\">\n",
       "  <thead>\n",
       "    <tr style=\"text-align: right;\">\n",
       "      <th></th>\n",
       "      <th>出发站</th>\n",
       "      <th>到达站</th>\n",
       "      <th>出发时间</th>\n",
       "      <th>达到时间</th>\n",
       "      <th>时长</th>\n",
       "      <th>商务座</th>\n",
       "      <th>一等座</th>\n",
       "      <th>二等座</th>\n",
       "      <th>高级软卧</th>\n",
       "      <th>软卧</th>\n",
       "      <th>动卧</th>\n",
       "      <th>硬卧</th>\n",
       "      <th>软座</th>\n",
       "      <th>硬座</th>\n",
       "      <th>无座</th>\n",
       "      <th>其他</th>\n",
       "      <th>预定</th>\n",
       "    </tr>\n",
       "  </thead>\n",
       "  <tbody>\n",
       "    <tr>\n",
       "      <td>D2206</td>\n",
       "      <td>上海虹桥</td>\n",
       "      <td>重庆北</td>\n",
       "      <td>06:01</td>\n",
       "      <td>19:17</td>\n",
       "      <td>13:16</td>\n",
       "      <td>--</td>\n",
       "      <td>有</td>\n",
       "      <td>有</td>\n",
       "      <td>--</td>\n",
       "      <td>--</td>\n",
       "      <td>--</td>\n",
       "      <td>--</td>\n",
       "      <td>--</td>\n",
       "      <td>--</td>\n",
       "      <td>有</td>\n",
       "      <td>--</td>\n",
       "      <td>预订</td>\n",
       "    </tr>\n",
       "    <tr>\n",
       "      <td>D352</td>\n",
       "      <td>上海虹桥</td>\n",
       "      <td>重庆北</td>\n",
       "      <td>06:13</td>\n",
       "      <td>18:07</td>\n",
       "      <td>11:54</td>\n",
       "      <td>--</td>\n",
       "      <td>有</td>\n",
       "      <td>有</td>\n",
       "      <td>--</td>\n",
       "      <td>--</td>\n",
       "      <td>--</td>\n",
       "      <td>--</td>\n",
       "      <td>--</td>\n",
       "      <td>--</td>\n",
       "      <td>有</td>\n",
       "      <td>--</td>\n",
       "      <td>预订</td>\n",
       "    </tr>\n",
       "    <tr>\n",
       "      <td>D636</td>\n",
       "      <td>上海虹桥</td>\n",
       "      <td>重庆北</td>\n",
       "      <td>06:32</td>\n",
       "      <td>18:38</td>\n",
       "      <td>12:06</td>\n",
       "      <td>--</td>\n",
       "      <td>有</td>\n",
       "      <td>有</td>\n",
       "      <td>--</td>\n",
       "      <td>--</td>\n",
       "      <td>--</td>\n",
       "      <td>--</td>\n",
       "      <td>--</td>\n",
       "      <td>--</td>\n",
       "      <td>有</td>\n",
       "      <td>--</td>\n",
       "      <td>预订</td>\n",
       "    </tr>\n",
       "    <tr>\n",
       "      <td>D3072</td>\n",
       "      <td>上海虹桥</td>\n",
       "      <td>重庆北</td>\n",
       "      <td>07:02</td>\n",
       "      <td>19:24</td>\n",
       "      <td>12:22</td>\n",
       "      <td>--</td>\n",
       "      <td>有</td>\n",
       "      <td>有</td>\n",
       "      <td>--</td>\n",
       "      <td>--</td>\n",
       "      <td>--</td>\n",
       "      <td>--</td>\n",
       "      <td>--</td>\n",
       "      <td>--</td>\n",
       "      <td>有</td>\n",
       "      <td>--</td>\n",
       "      <td>预订</td>\n",
       "    </tr>\n",
       "    <tr>\n",
       "      <td>G1974</td>\n",
       "      <td>上海虹桥</td>\n",
       "      <td>重庆西</td>\n",
       "      <td>07:17</td>\n",
       "      <td>20:27</td>\n",
       "      <td>13:10</td>\n",
       "      <td>4</td>\n",
       "      <td>有</td>\n",
       "      <td>有</td>\n",
       "      <td>--</td>\n",
       "      <td>--</td>\n",
       "      <td>--</td>\n",
       "      <td>--</td>\n",
       "      <td>--</td>\n",
       "      <td>--</td>\n",
       "      <td>--</td>\n",
       "      <td>--</td>\n",
       "      <td>预订</td>\n",
       "    </tr>\n",
       "    <tr>\n",
       "      <td>D3056</td>\n",
       "      <td>上海</td>\n",
       "      <td>重庆北</td>\n",
       "      <td>07:23</td>\n",
       "      <td>19:38</td>\n",
       "      <td>12:15</td>\n",
       "      <td>--</td>\n",
       "      <td>有</td>\n",
       "      <td>有</td>\n",
       "      <td>--</td>\n",
       "      <td>--</td>\n",
       "      <td>--</td>\n",
       "      <td>--</td>\n",
       "      <td>--</td>\n",
       "      <td>--</td>\n",
       "      <td>有</td>\n",
       "      <td>--</td>\n",
       "      <td>预订</td>\n",
       "    </tr>\n",
       "    <tr>\n",
       "      <td>D2216</td>\n",
       "      <td>上海虹桥</td>\n",
       "      <td>重庆北</td>\n",
       "      <td>07:37</td>\n",
       "      <td>21:20</td>\n",
       "      <td>13:43</td>\n",
       "      <td>--</td>\n",
       "      <td>有</td>\n",
       "      <td>有</td>\n",
       "      <td>--</td>\n",
       "      <td>--</td>\n",
       "      <td>--</td>\n",
       "      <td>--</td>\n",
       "      <td>--</td>\n",
       "      <td>--</td>\n",
       "      <td>有</td>\n",
       "      <td>--</td>\n",
       "      <td>预订</td>\n",
       "    </tr>\n",
       "    <tr>\n",
       "      <td>D2212</td>\n",
       "      <td>上海虹桥</td>\n",
       "      <td>重庆北</td>\n",
       "      <td>07:42</td>\n",
       "      <td>20:19</td>\n",
       "      <td>12:37</td>\n",
       "      <td>--</td>\n",
       "      <td>18</td>\n",
       "      <td>有</td>\n",
       "      <td>--</td>\n",
       "      <td>--</td>\n",
       "      <td>--</td>\n",
       "      <td>--</td>\n",
       "      <td>--</td>\n",
       "      <td>--</td>\n",
       "      <td>无</td>\n",
       "      <td>--</td>\n",
       "      <td>预订</td>\n",
       "    </tr>\n",
       "    <tr>\n",
       "      <td>G3288</td>\n",
       "      <td>上海虹桥</td>\n",
       "      <td>沙坪坝</td>\n",
       "      <td>07:49</td>\n",
       "      <td>21:48</td>\n",
       "      <td>13:59</td>\n",
       "      <td>5</td>\n",
       "      <td>10</td>\n",
       "      <td>有</td>\n",
       "      <td>--</td>\n",
       "      <td>--</td>\n",
       "      <td>--</td>\n",
       "      <td>--</td>\n",
       "      <td>--</td>\n",
       "      <td>--</td>\n",
       "      <td>--</td>\n",
       "      <td>--</td>\n",
       "      <td>预订</td>\n",
       "    </tr>\n",
       "    <tr>\n",
       "      <td>D2268</td>\n",
       "      <td>上海虹桥</td>\n",
       "      <td>重庆北</td>\n",
       "      <td>08:01</td>\n",
       "      <td>21:30</td>\n",
       "      <td>13:29</td>\n",
       "      <td>--</td>\n",
       "      <td>有</td>\n",
       "      <td>有</td>\n",
       "      <td>--</td>\n",
       "      <td>--</td>\n",
       "      <td>--</td>\n",
       "      <td>--</td>\n",
       "      <td>--</td>\n",
       "      <td>--</td>\n",
       "      <td>有</td>\n",
       "      <td>--</td>\n",
       "      <td>预订</td>\n",
       "    </tr>\n",
       "    <tr>\n",
       "      <td>G1337</td>\n",
       "      <td>上海虹桥</td>\n",
       "      <td>重庆西</td>\n",
       "      <td>08:22</td>\n",
       "      <td>19:46</td>\n",
       "      <td>11:24</td>\n",
       "      <td>15</td>\n",
       "      <td>有</td>\n",
       "      <td>有</td>\n",
       "      <td>--</td>\n",
       "      <td>--</td>\n",
       "      <td>--</td>\n",
       "      <td>--</td>\n",
       "      <td>--</td>\n",
       "      <td>--</td>\n",
       "      <td>--</td>\n",
       "      <td>--</td>\n",
       "      <td>预订</td>\n",
       "    </tr>\n",
       "    <tr>\n",
       "      <td>D952</td>\n",
       "      <td>上海</td>\n",
       "      <td>重庆北</td>\n",
       "      <td>08:30</td>\n",
       "      <td>19:00</td>\n",
       "      <td>10:30</td>\n",
       "      <td>--</td>\n",
       "      <td>有</td>\n",
       "      <td>有</td>\n",
       "      <td>--</td>\n",
       "      <td>--</td>\n",
       "      <td>--</td>\n",
       "      <td>--</td>\n",
       "      <td>--</td>\n",
       "      <td>--</td>\n",
       "      <td>有</td>\n",
       "      <td>--</td>\n",
       "      <td>预订</td>\n",
       "    </tr>\n",
       "    <tr>\n",
       "      <td>D956</td>\n",
       "      <td>上海</td>\n",
       "      <td>重庆北</td>\n",
       "      <td>09:30</td>\n",
       "      <td>20:14</td>\n",
       "      <td>10:44</td>\n",
       "      <td>--</td>\n",
       "      <td>有</td>\n",
       "      <td>有</td>\n",
       "      <td>--</td>\n",
       "      <td>--</td>\n",
       "      <td>--</td>\n",
       "      <td>--</td>\n",
       "      <td>--</td>\n",
       "      <td>--</td>\n",
       "      <td>有</td>\n",
       "      <td>--</td>\n",
       "      <td>预订</td>\n",
       "    </tr>\n",
       "    <tr>\n",
       "      <td>G1476</td>\n",
       "      <td>上海虹桥</td>\n",
       "      <td>重庆北</td>\n",
       "      <td>09:51</td>\n",
       "      <td>20:32</td>\n",
       "      <td>10:41</td>\n",
       "      <td>候补</td>\n",
       "      <td>候补</td>\n",
       "      <td>有</td>\n",
       "      <td>--</td>\n",
       "      <td>--</td>\n",
       "      <td>--</td>\n",
       "      <td>--</td>\n",
       "      <td>--</td>\n",
       "      <td>--</td>\n",
       "      <td>--</td>\n",
       "      <td>--</td>\n",
       "      <td>预订</td>\n",
       "    </tr>\n",
       "    <tr>\n",
       "      <td>G1333</td>\n",
       "      <td>上海虹桥</td>\n",
       "      <td>重庆西</td>\n",
       "      <td>11:44</td>\n",
       "      <td>23:09</td>\n",
       "      <td>11:25</td>\n",
       "      <td>候补</td>\n",
       "      <td>候补</td>\n",
       "      <td>有</td>\n",
       "      <td>--</td>\n",
       "      <td>--</td>\n",
       "      <td>--</td>\n",
       "      <td>--</td>\n",
       "      <td>--</td>\n",
       "      <td>--</td>\n",
       "      <td>--</td>\n",
       "      <td>--</td>\n",
       "      <td>预订</td>\n",
       "    </tr>\n",
       "    <tr>\n",
       "      <td>G1532</td>\n",
       "      <td>上海虹桥</td>\n",
       "      <td>重庆北</td>\n",
       "      <td>11:52</td>\n",
       "      <td>23:27</td>\n",
       "      <td>11:35</td>\n",
       "      <td>8</td>\n",
       "      <td>有</td>\n",
       "      <td>有</td>\n",
       "      <td>--</td>\n",
       "      <td>--</td>\n",
       "      <td>--</td>\n",
       "      <td>--</td>\n",
       "      <td>--</td>\n",
       "      <td>--</td>\n",
       "      <td>--</td>\n",
       "      <td>--</td>\n",
       "      <td>预订</td>\n",
       "    </tr>\n",
       "    <tr>\n",
       "      <td>K71</td>\n",
       "      <td>上海南</td>\n",
       "      <td>重庆北</td>\n",
       "      <td>14:13</td>\n",
       "      <td>15:34</td>\n",
       "      <td>25:21</td>\n",
       "      <td>--</td>\n",
       "      <td>--</td>\n",
       "      <td>--</td>\n",
       "      <td>--</td>\n",
       "      <td>8</td>\n",
       "      <td>--</td>\n",
       "      <td>有</td>\n",
       "      <td>--</td>\n",
       "      <td>有</td>\n",
       "      <td>有</td>\n",
       "      <td>--</td>\n",
       "      <td>预订</td>\n",
       "    </tr>\n",
       "    <tr>\n",
       "      <td>Z257</td>\n",
       "      <td>上海南</td>\n",
       "      <td>重庆北</td>\n",
       "      <td>19:07</td>\n",
       "      <td>12:44</td>\n",
       "      <td>17:37</td>\n",
       "      <td>--</td>\n",
       "      <td>--</td>\n",
       "      <td>--</td>\n",
       "      <td>--</td>\n",
       "      <td>2</td>\n",
       "      <td>--</td>\n",
       "      <td>有</td>\n",
       "      <td>--</td>\n",
       "      <td>--</td>\n",
       "      <td>--</td>\n",
       "      <td>--</td>\n",
       "      <td>预订</td>\n",
       "    </tr>\n",
       "  </tbody>\n",
       "</table>\n",
       "</div>"
      ],
      "text/plain": [
       "        出发站  到达站   出发时间   达到时间     时长 商务座 一等座 二等座 高级软卧  软卧  动卧  硬卧  软座  硬座  \\\n",
       "D2206  上海虹桥  重庆北  06:01  19:17  13:16  --   有   有   --  --  --  --  --  --   \n",
       "D352   上海虹桥  重庆北  06:13  18:07  11:54  --   有   有   --  --  --  --  --  --   \n",
       "D636   上海虹桥  重庆北  06:32  18:38  12:06  --   有   有   --  --  --  --  --  --   \n",
       "D3072  上海虹桥  重庆北  07:02  19:24  12:22  --   有   有   --  --  --  --  --  --   \n",
       "G1974  上海虹桥  重庆西  07:17  20:27  13:10   4   有   有   --  --  --  --  --  --   \n",
       "D3056    上海  重庆北  07:23  19:38  12:15  --   有   有   --  --  --  --  --  --   \n",
       "D2216  上海虹桥  重庆北  07:37  21:20  13:43  --   有   有   --  --  --  --  --  --   \n",
       "D2212  上海虹桥  重庆北  07:42  20:19  12:37  --  18   有   --  --  --  --  --  --   \n",
       "G3288  上海虹桥  沙坪坝  07:49  21:48  13:59   5  10   有   --  --  --  --  --  --   \n",
       "D2268  上海虹桥  重庆北  08:01  21:30  13:29  --   有   有   --  --  --  --  --  --   \n",
       "G1337  上海虹桥  重庆西  08:22  19:46  11:24  15   有   有   --  --  --  --  --  --   \n",
       "D952     上海  重庆北  08:30  19:00  10:30  --   有   有   --  --  --  --  --  --   \n",
       "D956     上海  重庆北  09:30  20:14  10:44  --   有   有   --  --  --  --  --  --   \n",
       "G1476  上海虹桥  重庆北  09:51  20:32  10:41  候补  候补   有   --  --  --  --  --  --   \n",
       "G1333  上海虹桥  重庆西  11:44  23:09  11:25  候补  候补   有   --  --  --  --  --  --   \n",
       "G1532  上海虹桥  重庆北  11:52  23:27  11:35   8   有   有   --  --  --  --  --  --   \n",
       "K71     上海南  重庆北  14:13  15:34  25:21  --  --  --   --   8  --   有  --   有   \n",
       "Z257    上海南  重庆北  19:07  12:44  17:37  --  --  --   --   2  --   有  --  --   \n",
       "\n",
       "       无座  其他  预定  \n",
       "D2206   有  --  预订  \n",
       "D352    有  --  预订  \n",
       "D636    有  --  预订  \n",
       "D3072   有  --  预订  \n",
       "G1974  --  --  预订  \n",
       "D3056   有  --  预订  \n",
       "D2216   有  --  预订  \n",
       "D2212   无  --  预订  \n",
       "G3288  --  --  预订  \n",
       "D2268   有  --  预订  \n",
       "G1337  --  --  预订  \n",
       "D952    有  --  预订  \n",
       "D956    有  --  预订  \n",
       "G1476  --  --  预订  \n",
       "G1333  --  --  预订  \n",
       "G1532  --  --  预订  \n",
       "K71     有  --  预订  \n",
       "Z257   --  --  预订  "
      ]
     },
     "execution_count": 11,
     "metadata": {},
     "output_type": "execute_result"
    }
   ],
   "source": [
    "train_df"
   ]
  },
  {
   "cell_type": "code",
   "execution_count": null,
   "metadata": {},
   "outputs": [],
   "source": []
  },
  {
   "cell_type": "code",
   "execution_count": null,
   "metadata": {},
   "outputs": [],
   "source": []
  },
  {
   "cell_type": "code",
   "execution_count": null,
   "metadata": {},
   "outputs": [],
   "source": []
  },
  {
   "cell_type": "code",
   "execution_count": null,
   "metadata": {},
   "outputs": [],
   "source": []
  },
  {
   "cell_type": "code",
   "execution_count": null,
   "metadata": {},
   "outputs": [],
   "source": []
  },
  {
   "cell_type": "code",
   "execution_count": null,
   "metadata": {},
   "outputs": [],
   "source": []
  },
  {
   "cell_type": "code",
   "execution_count": null,
   "metadata": {},
   "outputs": [],
   "source": []
  },
  {
   "cell_type": "code",
   "execution_count": null,
   "metadata": {},
   "outputs": [],
   "source": []
  },
  {
   "cell_type": "code",
   "execution_count": 406,
   "metadata": {},
   "outputs": [],
   "source": [
    "columlist=['出发站','到达站','出发时间','达到时间','时长','商务座','一等座','二等座','高级软卧','软卧','动卧','硬卧','软座','硬座','无座','其他','预定']\n",
    "train_df = pd.DataFrame([],columns=columlist)#to store all info"
   ]
  },
  {
   "cell_type": "code",
   "execution_count": null,
   "metadata": {},
   "outputs": [],
   "source": []
  },
  {
   "cell_type": "code",
   "execution_count": null,
   "metadata": {},
   "outputs": [],
   "source": []
  },
  {
   "cell_type": "code",
   "execution_count": 362,
   "metadata": {},
   "outputs": [],
   "source": [
    "columlist1=['出发站','到达站','出发时间','达到时间','时长']\n",
    "columlist2=['商务座','一等座','二等座','高级软卧','软卧','动卧','硬卧','软座','硬座','无座','其他']\n",
    "init_np2=np.zeros((len(tr_list),len(columlist2)),dtype=int)-1\n",
    "df2 = pd.DataFrame(init_np2,index=trainid_list, columns=columlist2)\n",
    "infolist=[['unknown']*len(columlist1)]*len(tr_list)\n",
    "df1 = pd.DataFrame(data=infolist,index=trainid_list, columns=columlist1)\n",
    "df=pd.concat([df1, df2],axis=1)"
   ]
  },
  {
   "cell_type": "code",
   "execution_count": 371,
   "metadata": {},
   "outputs": [
    {
     "data": {
      "text/plain": [
       "0    c\n",
       "1    d\n",
       "0    c\n",
       "1    d\n",
       "dtype: object"
      ]
     },
     "execution_count": 371,
     "metadata": {},
     "output_type": "execute_result"
    }
   ],
   "source": [
    "s1 = pd.Series([])\n",
    "s2 = pd.Series(['c', 'd'])\n",
    "s3 = pd.Series(['c', 'd'])\n",
    "pd.concat([s2, s3])"
   ]
  },
  {
   "cell_type": "code",
   "execution_count": 325,
   "metadata": {},
   "outputs": [
    {
     "data": {
      "text/plain": [
       "['D2206',\n",
       " 'D352',\n",
       " 'D636',\n",
       " 'D3072',\n",
       " 'G1974',\n",
       " 'D3056',\n",
       " 'D2216',\n",
       " 'D2212',\n",
       " 'G3288',\n",
       " 'D2268',\n",
       " 'G1337',\n",
       " 'D952',\n",
       " 'D956',\n",
       " 'G1476',\n",
       " 'G1333',\n",
       " 'G1532',\n",
       " 'K71',\n",
       " 'Z257']"
      ]
     },
     "execution_count": 325,
     "metadata": {},
     "output_type": "execute_result"
    }
   ],
   "source": [
    "trainid_list"
   ]
  },
  {
   "cell_type": "code",
   "execution_count": 360,
   "metadata": {},
   "outputs": [],
   "source": []
  },
  {
   "cell_type": "code",
   "execution_count": 348,
   "metadata": {},
   "outputs": [],
   "source": [
    "infolist=[['unknown']*len(columlist1)]*len(tr_list)"
   ]
  },
  {
   "cell_type": "code",
   "execution_count": 353,
   "metadata": {},
   "outputs": [],
   "source": [
    "df1 = pd.DataFrame(data=infolist,index=trainid_list, columns=columlist1)"
   ]
  },
  {
   "cell_type": "code",
   "execution_count": 358,
   "metadata": {},
   "outputs": [],
   "source": [
    "df=pd.concat([df1, df2],axis=1)"
   ]
  },
  {
   "cell_type": "code",
   "execution_count": 359,
   "metadata": {},
   "outputs": [
    {
     "data": {
      "text/html": [
       "<div>\n",
       "<style scoped>\n",
       "    .dataframe tbody tr th:only-of-type {\n",
       "        vertical-align: middle;\n",
       "    }\n",
       "\n",
       "    .dataframe tbody tr th {\n",
       "        vertical-align: top;\n",
       "    }\n",
       "\n",
       "    .dataframe thead th {\n",
       "        text-align: right;\n",
       "    }\n",
       "</style>\n",
       "<table border=\"1\" class=\"dataframe\">\n",
       "  <thead>\n",
       "    <tr style=\"text-align: right;\">\n",
       "      <th></th>\n",
       "      <th>出发站</th>\n",
       "      <th>到达站</th>\n",
       "      <th>出发时间</th>\n",
       "      <th>达到时间</th>\n",
       "      <th>时长</th>\n",
       "      <th>商务座</th>\n",
       "      <th>一等座</th>\n",
       "      <th>二等座</th>\n",
       "      <th>高级软卧</th>\n",
       "      <th>软卧</th>\n",
       "      <th>动卧</th>\n",
       "      <th>硬卧</th>\n",
       "      <th>软座</th>\n",
       "      <th>硬座</th>\n",
       "      <th>无座</th>\n",
       "      <th>其他</th>\n",
       "    </tr>\n",
       "  </thead>\n",
       "  <tbody>\n",
       "    <tr>\n",
       "      <td>D2206</td>\n",
       "      <td>unknown</td>\n",
       "      <td>unknown</td>\n",
       "      <td>unknown</td>\n",
       "      <td>unknown</td>\n",
       "      <td>unknown</td>\n",
       "      <td>-1</td>\n",
       "      <td>-1</td>\n",
       "      <td>-1</td>\n",
       "      <td>-1</td>\n",
       "      <td>-1</td>\n",
       "      <td>-1</td>\n",
       "      <td>-1</td>\n",
       "      <td>-1</td>\n",
       "      <td>-1</td>\n",
       "      <td>-1</td>\n",
       "      <td>-1</td>\n",
       "    </tr>\n",
       "    <tr>\n",
       "      <td>D352</td>\n",
       "      <td>unknown</td>\n",
       "      <td>unknown</td>\n",
       "      <td>unknown</td>\n",
       "      <td>unknown</td>\n",
       "      <td>unknown</td>\n",
       "      <td>-1</td>\n",
       "      <td>-1</td>\n",
       "      <td>-1</td>\n",
       "      <td>-1</td>\n",
       "      <td>-1</td>\n",
       "      <td>-1</td>\n",
       "      <td>-1</td>\n",
       "      <td>-1</td>\n",
       "      <td>-1</td>\n",
       "      <td>-1</td>\n",
       "      <td>-1</td>\n",
       "    </tr>\n",
       "    <tr>\n",
       "      <td>D636</td>\n",
       "      <td>unknown</td>\n",
       "      <td>unknown</td>\n",
       "      <td>unknown</td>\n",
       "      <td>unknown</td>\n",
       "      <td>unknown</td>\n",
       "      <td>-1</td>\n",
       "      <td>-1</td>\n",
       "      <td>-1</td>\n",
       "      <td>-1</td>\n",
       "      <td>-1</td>\n",
       "      <td>-1</td>\n",
       "      <td>-1</td>\n",
       "      <td>-1</td>\n",
       "      <td>-1</td>\n",
       "      <td>-1</td>\n",
       "      <td>-1</td>\n",
       "    </tr>\n",
       "    <tr>\n",
       "      <td>D3072</td>\n",
       "      <td>unknown</td>\n",
       "      <td>unknown</td>\n",
       "      <td>unknown</td>\n",
       "      <td>unknown</td>\n",
       "      <td>unknown</td>\n",
       "      <td>-1</td>\n",
       "      <td>-1</td>\n",
       "      <td>-1</td>\n",
       "      <td>-1</td>\n",
       "      <td>-1</td>\n",
       "      <td>-1</td>\n",
       "      <td>-1</td>\n",
       "      <td>-1</td>\n",
       "      <td>-1</td>\n",
       "      <td>-1</td>\n",
       "      <td>-1</td>\n",
       "    </tr>\n",
       "    <tr>\n",
       "      <td>G1974</td>\n",
       "      <td>unknown</td>\n",
       "      <td>unknown</td>\n",
       "      <td>unknown</td>\n",
       "      <td>unknown</td>\n",
       "      <td>unknown</td>\n",
       "      <td>-1</td>\n",
       "      <td>-1</td>\n",
       "      <td>-1</td>\n",
       "      <td>-1</td>\n",
       "      <td>-1</td>\n",
       "      <td>-1</td>\n",
       "      <td>-1</td>\n",
       "      <td>-1</td>\n",
       "      <td>-1</td>\n",
       "      <td>-1</td>\n",
       "      <td>-1</td>\n",
       "    </tr>\n",
       "    <tr>\n",
       "      <td>D3056</td>\n",
       "      <td>unknown</td>\n",
       "      <td>unknown</td>\n",
       "      <td>unknown</td>\n",
       "      <td>unknown</td>\n",
       "      <td>unknown</td>\n",
       "      <td>-1</td>\n",
       "      <td>-1</td>\n",
       "      <td>-1</td>\n",
       "      <td>-1</td>\n",
       "      <td>-1</td>\n",
       "      <td>-1</td>\n",
       "      <td>-1</td>\n",
       "      <td>-1</td>\n",
       "      <td>-1</td>\n",
       "      <td>-1</td>\n",
       "      <td>-1</td>\n",
       "    </tr>\n",
       "    <tr>\n",
       "      <td>D2216</td>\n",
       "      <td>unknown</td>\n",
       "      <td>unknown</td>\n",
       "      <td>unknown</td>\n",
       "      <td>unknown</td>\n",
       "      <td>unknown</td>\n",
       "      <td>-1</td>\n",
       "      <td>-1</td>\n",
       "      <td>-1</td>\n",
       "      <td>-1</td>\n",
       "      <td>-1</td>\n",
       "      <td>-1</td>\n",
       "      <td>-1</td>\n",
       "      <td>-1</td>\n",
       "      <td>-1</td>\n",
       "      <td>-1</td>\n",
       "      <td>-1</td>\n",
       "    </tr>\n",
       "    <tr>\n",
       "      <td>D2212</td>\n",
       "      <td>unknown</td>\n",
       "      <td>unknown</td>\n",
       "      <td>unknown</td>\n",
       "      <td>unknown</td>\n",
       "      <td>unknown</td>\n",
       "      <td>-1</td>\n",
       "      <td>-1</td>\n",
       "      <td>-1</td>\n",
       "      <td>-1</td>\n",
       "      <td>-1</td>\n",
       "      <td>-1</td>\n",
       "      <td>-1</td>\n",
       "      <td>-1</td>\n",
       "      <td>-1</td>\n",
       "      <td>-1</td>\n",
       "      <td>-1</td>\n",
       "    </tr>\n",
       "    <tr>\n",
       "      <td>G3288</td>\n",
       "      <td>unknown</td>\n",
       "      <td>unknown</td>\n",
       "      <td>unknown</td>\n",
       "      <td>unknown</td>\n",
       "      <td>unknown</td>\n",
       "      <td>-1</td>\n",
       "      <td>-1</td>\n",
       "      <td>-1</td>\n",
       "      <td>-1</td>\n",
       "      <td>-1</td>\n",
       "      <td>-1</td>\n",
       "      <td>-1</td>\n",
       "      <td>-1</td>\n",
       "      <td>-1</td>\n",
       "      <td>-1</td>\n",
       "      <td>-1</td>\n",
       "    </tr>\n",
       "    <tr>\n",
       "      <td>D2268</td>\n",
       "      <td>unknown</td>\n",
       "      <td>unknown</td>\n",
       "      <td>unknown</td>\n",
       "      <td>unknown</td>\n",
       "      <td>unknown</td>\n",
       "      <td>-1</td>\n",
       "      <td>-1</td>\n",
       "      <td>-1</td>\n",
       "      <td>-1</td>\n",
       "      <td>-1</td>\n",
       "      <td>-1</td>\n",
       "      <td>-1</td>\n",
       "      <td>-1</td>\n",
       "      <td>-1</td>\n",
       "      <td>-1</td>\n",
       "      <td>-1</td>\n",
       "    </tr>\n",
       "    <tr>\n",
       "      <td>G1337</td>\n",
       "      <td>unknown</td>\n",
       "      <td>unknown</td>\n",
       "      <td>unknown</td>\n",
       "      <td>unknown</td>\n",
       "      <td>unknown</td>\n",
       "      <td>-1</td>\n",
       "      <td>-1</td>\n",
       "      <td>-1</td>\n",
       "      <td>-1</td>\n",
       "      <td>-1</td>\n",
       "      <td>-1</td>\n",
       "      <td>-1</td>\n",
       "      <td>-1</td>\n",
       "      <td>-1</td>\n",
       "      <td>-1</td>\n",
       "      <td>-1</td>\n",
       "    </tr>\n",
       "    <tr>\n",
       "      <td>D952</td>\n",
       "      <td>unknown</td>\n",
       "      <td>unknown</td>\n",
       "      <td>unknown</td>\n",
       "      <td>unknown</td>\n",
       "      <td>unknown</td>\n",
       "      <td>-1</td>\n",
       "      <td>-1</td>\n",
       "      <td>-1</td>\n",
       "      <td>-1</td>\n",
       "      <td>-1</td>\n",
       "      <td>-1</td>\n",
       "      <td>-1</td>\n",
       "      <td>-1</td>\n",
       "      <td>-1</td>\n",
       "      <td>-1</td>\n",
       "      <td>-1</td>\n",
       "    </tr>\n",
       "    <tr>\n",
       "      <td>D956</td>\n",
       "      <td>unknown</td>\n",
       "      <td>unknown</td>\n",
       "      <td>unknown</td>\n",
       "      <td>unknown</td>\n",
       "      <td>unknown</td>\n",
       "      <td>-1</td>\n",
       "      <td>-1</td>\n",
       "      <td>-1</td>\n",
       "      <td>-1</td>\n",
       "      <td>-1</td>\n",
       "      <td>-1</td>\n",
       "      <td>-1</td>\n",
       "      <td>-1</td>\n",
       "      <td>-1</td>\n",
       "      <td>-1</td>\n",
       "      <td>-1</td>\n",
       "    </tr>\n",
       "    <tr>\n",
       "      <td>G1476</td>\n",
       "      <td>unknown</td>\n",
       "      <td>unknown</td>\n",
       "      <td>unknown</td>\n",
       "      <td>unknown</td>\n",
       "      <td>unknown</td>\n",
       "      <td>-1</td>\n",
       "      <td>-1</td>\n",
       "      <td>-1</td>\n",
       "      <td>-1</td>\n",
       "      <td>-1</td>\n",
       "      <td>-1</td>\n",
       "      <td>-1</td>\n",
       "      <td>-1</td>\n",
       "      <td>-1</td>\n",
       "      <td>-1</td>\n",
       "      <td>-1</td>\n",
       "    </tr>\n",
       "    <tr>\n",
       "      <td>G1333</td>\n",
       "      <td>unknown</td>\n",
       "      <td>unknown</td>\n",
       "      <td>unknown</td>\n",
       "      <td>unknown</td>\n",
       "      <td>unknown</td>\n",
       "      <td>-1</td>\n",
       "      <td>-1</td>\n",
       "      <td>-1</td>\n",
       "      <td>-1</td>\n",
       "      <td>-1</td>\n",
       "      <td>-1</td>\n",
       "      <td>-1</td>\n",
       "      <td>-1</td>\n",
       "      <td>-1</td>\n",
       "      <td>-1</td>\n",
       "      <td>-1</td>\n",
       "    </tr>\n",
       "    <tr>\n",
       "      <td>G1532</td>\n",
       "      <td>unknown</td>\n",
       "      <td>unknown</td>\n",
       "      <td>unknown</td>\n",
       "      <td>unknown</td>\n",
       "      <td>unknown</td>\n",
       "      <td>-1</td>\n",
       "      <td>-1</td>\n",
       "      <td>-1</td>\n",
       "      <td>-1</td>\n",
       "      <td>-1</td>\n",
       "      <td>-1</td>\n",
       "      <td>-1</td>\n",
       "      <td>-1</td>\n",
       "      <td>-1</td>\n",
       "      <td>-1</td>\n",
       "      <td>-1</td>\n",
       "    </tr>\n",
       "    <tr>\n",
       "      <td>K71</td>\n",
       "      <td>unknown</td>\n",
       "      <td>unknown</td>\n",
       "      <td>unknown</td>\n",
       "      <td>unknown</td>\n",
       "      <td>unknown</td>\n",
       "      <td>-1</td>\n",
       "      <td>-1</td>\n",
       "      <td>-1</td>\n",
       "      <td>-1</td>\n",
       "      <td>-1</td>\n",
       "      <td>-1</td>\n",
       "      <td>-1</td>\n",
       "      <td>-1</td>\n",
       "      <td>-1</td>\n",
       "      <td>-1</td>\n",
       "      <td>-1</td>\n",
       "    </tr>\n",
       "    <tr>\n",
       "      <td>Z257</td>\n",
       "      <td>unknown</td>\n",
       "      <td>unknown</td>\n",
       "      <td>unknown</td>\n",
       "      <td>unknown</td>\n",
       "      <td>unknown</td>\n",
       "      <td>-1</td>\n",
       "      <td>-1</td>\n",
       "      <td>-1</td>\n",
       "      <td>-1</td>\n",
       "      <td>-1</td>\n",
       "      <td>-1</td>\n",
       "      <td>-1</td>\n",
       "      <td>-1</td>\n",
       "      <td>-1</td>\n",
       "      <td>-1</td>\n",
       "      <td>-1</td>\n",
       "    </tr>\n",
       "  </tbody>\n",
       "</table>\n",
       "</div>"
      ],
      "text/plain": [
       "           出发站      到达站     出发时间     达到时间       时长  商务座  一等座  二等座  高级软卧  软卧  \\\n",
       "D2206  unknown  unknown  unknown  unknown  unknown   -1   -1   -1    -1  -1   \n",
       "D352   unknown  unknown  unknown  unknown  unknown   -1   -1   -1    -1  -1   \n",
       "D636   unknown  unknown  unknown  unknown  unknown   -1   -1   -1    -1  -1   \n",
       "D3072  unknown  unknown  unknown  unknown  unknown   -1   -1   -1    -1  -1   \n",
       "G1974  unknown  unknown  unknown  unknown  unknown   -1   -1   -1    -1  -1   \n",
       "D3056  unknown  unknown  unknown  unknown  unknown   -1   -1   -1    -1  -1   \n",
       "D2216  unknown  unknown  unknown  unknown  unknown   -1   -1   -1    -1  -1   \n",
       "D2212  unknown  unknown  unknown  unknown  unknown   -1   -1   -1    -1  -1   \n",
       "G3288  unknown  unknown  unknown  unknown  unknown   -1   -1   -1    -1  -1   \n",
       "D2268  unknown  unknown  unknown  unknown  unknown   -1   -1   -1    -1  -1   \n",
       "G1337  unknown  unknown  unknown  unknown  unknown   -1   -1   -1    -1  -1   \n",
       "D952   unknown  unknown  unknown  unknown  unknown   -1   -1   -1    -1  -1   \n",
       "D956   unknown  unknown  unknown  unknown  unknown   -1   -1   -1    -1  -1   \n",
       "G1476  unknown  unknown  unknown  unknown  unknown   -1   -1   -1    -1  -1   \n",
       "G1333  unknown  unknown  unknown  unknown  unknown   -1   -1   -1    -1  -1   \n",
       "G1532  unknown  unknown  unknown  unknown  unknown   -1   -1   -1    -1  -1   \n",
       "K71    unknown  unknown  unknown  unknown  unknown   -1   -1   -1    -1  -1   \n",
       "Z257   unknown  unknown  unknown  unknown  unknown   -1   -1   -1    -1  -1   \n",
       "\n",
       "       动卧  硬卧  软座  硬座  无座  其他  \n",
       "D2206  -1  -1  -1  -1  -1  -1  \n",
       "D352   -1  -1  -1  -1  -1  -1  \n",
       "D636   -1  -1  -1  -1  -1  -1  \n",
       "D3072  -1  -1  -1  -1  -1  -1  \n",
       "G1974  -1  -1  -1  -1  -1  -1  \n",
       "D3056  -1  -1  -1  -1  -1  -1  \n",
       "D2216  -1  -1  -1  -1  -1  -1  \n",
       "D2212  -1  -1  -1  -1  -1  -1  \n",
       "G3288  -1  -1  -1  -1  -1  -1  \n",
       "D2268  -1  -1  -1  -1  -1  -1  \n",
       "G1337  -1  -1  -1  -1  -1  -1  \n",
       "D952   -1  -1  -1  -1  -1  -1  \n",
       "D956   -1  -1  -1  -1  -1  -1  \n",
       "G1476  -1  -1  -1  -1  -1  -1  \n",
       "G1333  -1  -1  -1  -1  -1  -1  \n",
       "G1532  -1  -1  -1  -1  -1  -1  \n",
       "K71    -1  -1  -1  -1  -1  -1  \n",
       "Z257   -1  -1  -1  -1  -1  -1  "
      ]
     },
     "execution_count": 359,
     "metadata": {},
     "output_type": "execute_result"
    }
   ],
   "source": [
    "df"
   ]
  },
  {
   "cell_type": "code",
   "execution_count": 286,
   "metadata": {},
   "outputs": [],
   "source": [
    "train_id_id=train_id['id']"
   ]
  },
  {
   "cell_type": "code",
   "execution_count": 287,
   "metadata": {},
   "outputs": [],
   "source": [
    "element=driver.find_element(By.ID, train_id_id)"
   ]
  },
  {
   "cell_type": "code",
   "execution_count": 289,
   "metadata": {},
   "outputs": [],
   "source": [
    "element.click()"
   ]
  },
  {
   "cell_type": "code",
   "execution_count": 266,
   "metadata": {},
   "outputs": [
    {
     "name": "stdout",
     "output_type": "stream",
     "text": [
      "上海南\n",
      "重庆北\n",
      "19:07\n",
      "12:44\n",
      "17:37\n"
     ]
    }
   ],
   "source": [
    "for tt in treat.find_all('strong'):\n",
    "    print(tt.text)"
   ]
  },
  {
   "cell_type": "code",
   "execution_count": 300,
   "metadata": {},
   "outputs": [
    {
     "ename": "TypeError",
     "evalue": "data type not understood",
     "output_type": "error",
     "traceback": [
      "\u001b[1;31m---------------------------------------------------------------------------\u001b[0m",
      "\u001b[1;31mTypeError\u001b[0m                                 Traceback (most recent call last)",
      "\u001b[1;32m<ipython-input-300-b04a82b8bc1e>\u001b[0m in \u001b[0;36m<module>\u001b[1;34m\u001b[0m\n\u001b[1;32m----> 1\u001b[1;33m \u001b[0mnp\u001b[0m\u001b[1;33m.\u001b[0m\u001b[0mzeros\u001b[0m\u001b[1;33m(\u001b[0m\u001b[1;36m5\u001b[0m\u001b[1;33m,\u001b[0m\u001b[1;36m4\u001b[0m\u001b[1;33m)\u001b[0m\u001b[1;33m\u001b[0m\u001b[1;33m\u001b[0m\u001b[0m\n\u001b[0m",
      "\u001b[1;31mTypeError\u001b[0m: data type not understood"
     ]
    }
   ],
   "source": [
    "np.zeros(5,4)"
   ]
  },
  {
   "cell_type": "code",
   "execution_count": null,
   "metadata": {},
   "outputs": [],
   "source": []
  },
  {
   "cell_type": "code",
   "execution_count": 149,
   "metadata": {},
   "outputs": [
    {
     "data": {
      "text/plain": [
       "'queryLeftTable'"
      ]
     },
     "execution_count": 149,
     "metadata": {},
     "output_type": "execute_result"
    }
   ],
   "source": [
    "find_id['id']"
   ]
  },
  {
   "cell_type": "code",
   "execution_count": 150,
   "metadata": {},
   "outputs": [
    {
     "data": {
      "text/plain": [
       "'tbody'"
      ]
     },
     "execution_count": 150,
     "metadata": {},
     "output_type": "execute_result"
    }
   ],
   "source": [
    "find_id.name"
   ]
  },
  {
   "cell_type": "code",
   "execution_count": 151,
   "metadata": {},
   "outputs": [
    {
     "data": {
      "text/plain": [
       "{'id': 'queryLeftTable'}"
      ]
     },
     "execution_count": 151,
     "metadata": {},
     "output_type": "execute_result"
    }
   ],
   "source": [
    "find_id.attrs"
   ]
  },
  {
   "cell_type": "code",
   "execution_count": 161,
   "metadata": {},
   "outputs": [
    {
     "data": {
      "text/plain": [
       "'queryLeftTable'"
      ]
     },
     "execution_count": 161,
     "metadata": {},
     "output_type": "execute_result"
    }
   ],
   "source": [
    "find_id['id']"
   ]
  },
  {
   "cell_type": "code",
   "execution_count": 169,
   "metadata": {},
   "outputs": [
    {
     "data": {
      "text/plain": [
       "['queryLeftTable']"
      ]
     },
     "execution_count": 169,
     "metadata": {},
     "output_type": "execute_result"
    }
   ],
   "source": [
    "find_id.get_attribute_list('id')"
   ]
  },
  {
   "cell_type": "code",
   "execution_count": 171,
   "metadata": {},
   "outputs": [
    {
     "data": {
      "text/plain": [
       "<tbody id=\"queryLeftTable\"><tr class=\"bgc\" id=\"ticket_5l000D220602_01_17\"><td colspan=\"4\" width=\"370\"><div class=\"ticket-info clearfix\" id=\"train_num_0\"><div class=\"train\" id=\"ticket_5l000D220602_01_17_train\"><div><a class=\"number\" href=\"javascript:\" id=\"5l000D220602_AOH_CUW\" onclick=\"myStopStation.open('0','5l000D220602','AOH','CUW','20230507','3');\" title=\"点击查看停靠站信息\">D2206</a><div class=\"train-type\"></div></div><span class=\"lookup\" id=\"5l000D220602_01_17_C51435XW2CdKbQS2DdpLIkQbjr%2BC9UvLvOYujPMMNz%2FSdMGY_MOO\" onclick=\"showTicketPrice(this)\"><span style=\"display:none;\">查看票价</span><b aria-label=\"查看票价,按回车键操作\" tabindex=\"0\" title=\"查看票价\"></b></span></div><div class=\"cdz\"><strong class=\"start-s\" title=\"上海虹桥\">上海虹桥</strong><strong>重庆北</strong></div><div class=\"cds\"><strong class=\"start-t\">06:01</strong><strong class=\"color999\">19:17</strong></div><div class=\"ls\" id=\"5l000D220602_ls\"><strong>13:16</strong><span>当日到达</span></div></div></td> <td align=\"center\" hbdata=\"2023-05-07#5l000D220602#TZ_#\" hbid=\"2023-05-07#AOH#CUW#5l000D220602#TZ_#01#上海虹桥#17#重庆北#c12s9xiufZwiEdkcvqni4QWc5Qk%2Ftqeoctt24%2B1AthDSLmbj4Z4fq42BixnafZGK8ujAX%2BlXD5LO%0AsG5FMXWvponcFjrKcxc8BJCqMDcJOPyPzR04ar9GjRepAONoYRTHfXfNzZWBK4btKa0W%2FWIHx0sf%0AyJsPxabDawmJ5mAi%2FvTfKc%2BWc0g%2F9ya%2FPZn30KU65O2lKWu4KKFWwFfBmKPgtM11vbUrPqX4n7jt%0Apeq600zHB4%2F4EIkCFZKhm%2FrlrXctuoaOBks55kEIjkJy5HtHLd09cMLk2zcyANaPUcMe%2BZ4tnJ%2Fs%0ApmIdFeXcTvy897vYzDj3aB2U%2FybUoqI4#D2206#\" id=\"TZ_5l000D220602\" ifalow_maxlength=\"1\" onclick=\"showTicketPrice(this)\" style=\"cursor: pointer;\" title=\"\" undefined=\"\" width=\"46\">--</td><td align=\"center\" aria-label=\"D2206次列车，一等座票价997元，余票有\" class=\"yes\" hbdata=\"2023-05-07#5l000D220602#ZY_#\" hbid=\"2023-05-07#AOH#CUW#5l000D220602#ZY_#01#上海虹桥#17#重庆北#c12s9xiufZwiEdkcvqni4QWc5Qk%2Ftqeoctt24%2B1AthDSLmbj4Z4fq42BixnafZGK8ujAX%2BlXD5LO%0AsG5FMXWvponcFjrKcxc8BJCqMDcJOPyPzR04ar9GjRepAONoYRTHfXfNzZWBK4btKa0W%2FWIHx0sf%0AyJsPxabDawmJ5mAi%2FvTfKc%2BWc0g%2F9ya%2FPZn30KU65O2lKWu4KKFWwFfBmKPgtM11vbUrPqX4n7jt%0Apeq600zHB4%2F4EIkCFZKhm%2FrlrXctuoaOBks55kEIjkJy5HtHLd09cMLk2zcyANaPUcMe%2BZ4tnJ%2Fs%0ApmIdFeXcTvy897vYzDj3aB2U%2FybUoqI4#D2206#\" id=\"ZY_5l000D220602\" onclick=\"showTicketPrice(this)\" style=\"cursor: pointer;\" tabindex=\"0\" width=\"46\">有</td><td align=\"center\" aria-label=\"D2206次列车，二等座票价624.5元，余票有\" class=\"yes\" hbdata=\"2023-05-07#5l000D220602#ZE_#\" hbid=\"2023-05-07#AOH#CUW#5l000D220602#ZE_#01#上海虹桥#17#重庆北#c12s9xiufZwiEdkcvqni4QWc5Qk%2Ftqeoctt24%2B1AthDSLmbj4Z4fq42BixnafZGK8ujAX%2BlXD5LO%0AsG5FMXWvponcFjrKcxc8BJCqMDcJOPyPzR04ar9GjRepAONoYRTHfXfNzZWBK4btKa0W%2FWIHx0sf%0AyJsPxabDawmJ5mAi%2FvTfKc%2BWc0g%2F9ya%2FPZn30KU65O2lKWu4KKFWwFfBmKPgtM11vbUrPqX4n7jt%0Apeq600zHB4%2F4EIkCFZKhm%2FrlrXctuoaOBks55kEIjkJy5HtHLd09cMLk2zcyANaPUcMe%2BZ4tnJ%2Fs%0ApmIdFeXcTvy897vYzDj3aB2U%2FybUoqI4#D2206#\" id=\"ZE_5l000D220602\" onclick=\"showTicketPrice(this)\" style=\"cursor: pointer;\" tabindex=\"0\" width=\"46\">有</td> <td align=\"center\" hbdata=\"2023-05-07#5l000D220602#GR_#\" hbid=\"2023-05-07#AOH#CUW#5l000D220602#GR_#01#上海虹桥#17#重庆北#c12s9xiufZwiEdkcvqni4QWc5Qk%2Ftqeoctt24%2B1AthDSLmbj4Z4fq42BixnafZGK8ujAX%2BlXD5LO%0AsG5FMXWvponcFjrKcxc8BJCqMDcJOPyPzR04ar9GjRepAONoYRTHfXfNzZWBK4btKa0W%2FWIHx0sf%0AyJsPxabDawmJ5mAi%2FvTfKc%2BWc0g%2F9ya%2FPZn30KU65O2lKWu4KKFWwFfBmKPgtM11vbUrPqX4n7jt%0Apeq600zHB4%2F4EIkCFZKhm%2FrlrXctuoaOBks55kEIjkJy5HtHLd09cMLk2zcyANaPUcMe%2BZ4tnJ%2Fs%0ApmIdFeXcTvy897vYzDj3aB2U%2FybUoqI4#D2206#\" id=\"GR_5l000D220602\" ifalow_maxlength=\"1\" onclick=\"showTicketPrice(this)\" style=\"cursor: pointer;\" title=\"\" undefined=\"\" width=\"46\">--</td> <td align=\"center\" hbdata=\"2023-05-07#5l000D220602#RW_#\" hbid=\"2023-05-07#AOH#CUW#5l000D220602#RW_#01#上海虹桥#17#重庆北#c12s9xiufZwiEdkcvqni4QWc5Qk%2Ftqeoctt24%2B1AthDSLmbj4Z4fq42BixnafZGK8ujAX%2BlXD5LO%0AsG5FMXWvponcFjrKcxc8BJCqMDcJOPyPzR04ar9GjRepAONoYRTHfXfNzZWBK4btKa0W%2FWIHx0sf%0AyJsPxabDawmJ5mAi%2FvTfKc%2BWc0g%2F9ya%2FPZn30KU65O2lKWu4KKFWwFfBmKPgtM11vbUrPqX4n7jt%0Apeq600zHB4%2F4EIkCFZKhm%2FrlrXctuoaOBks55kEIjkJy5HtHLd09cMLk2zcyANaPUcMe%2BZ4tnJ%2Fs%0ApmIdFeXcTvy897vYzDj3aB2U%2FybUoqI4#D2206#\" id=\"RW_5l000D220602\" ifalow_maxlength=\"1\" onclick=\"showTicketPrice(this)\" style=\"cursor: pointer;\" title=\"\" undefined=\"\" width=\"46\">--</td> <td align=\"center\" hbdata=\"2023-05-07#5l000D220602#SRRB_#\" hbid=\"2023-05-07#AOH#CUW#5l000D220602#SRRB_#01#上海虹桥#17#重庆北#c12s9xiufZwiEdkcvqni4QWc5Qk%2Ftqeoctt24%2B1AthDSLmbj4Z4fq42BixnafZGK8ujAX%2BlXD5LO%0AsG5FMXWvponcFjrKcxc8BJCqMDcJOPyPzR04ar9GjRepAONoYRTHfXfNzZWBK4btKa0W%2FWIHx0sf%0AyJsPxabDawmJ5mAi%2FvTfKc%2BWc0g%2F9ya%2FPZn30KU65O2lKWu4KKFWwFfBmKPgtM11vbUrPqX4n7jt%0Apeq600zHB4%2F4EIkCFZKhm%2FrlrXctuoaOBks55kEIjkJy5HtHLd09cMLk2zcyANaPUcMe%2BZ4tnJ%2Fs%0ApmIdFeXcTvy897vYzDj3aB2U%2FybUoqI4#D2206#\" id=\"SRRB_5l000D220602\" ifalow_maxlength=\"1\" onclick=\"showTicketPrice(this)\" style=\"cursor: pointer;\" title=\"\" undefined=\"\" width=\"46\">--</td> <td align=\"center\" hbdata=\"2023-05-07#5l000D220602#YW_#\" hbid=\"2023-05-07#AOH#CUW#5l000D220602#YW_#01#上海虹桥#17#重庆北#c12s9xiufZwiEdkcvqni4QWc5Qk%2Ftqeoctt24%2B1AthDSLmbj4Z4fq42BixnafZGK8ujAX%2BlXD5LO%0AsG5FMXWvponcFjrKcxc8BJCqMDcJOPyPzR04ar9GjRepAONoYRTHfXfNzZWBK4btKa0W%2FWIHx0sf%0AyJsPxabDawmJ5mAi%2FvTfKc%2BWc0g%2F9ya%2FPZn30KU65O2lKWu4KKFWwFfBmKPgtM11vbUrPqX4n7jt%0Apeq600zHB4%2F4EIkCFZKhm%2FrlrXctuoaOBks55kEIjkJy5HtHLd09cMLk2zcyANaPUcMe%2BZ4tnJ%2Fs%0ApmIdFeXcTvy897vYzDj3aB2U%2FybUoqI4#D2206#\" id=\"YW_5l000D220602\" ifalow_maxlength=\"1\" onclick=\"showTicketPrice(this)\" style=\"cursor: pointer;\" title=\"\" undefined=\"\" width=\"46\">--</td> <td align=\"center\" hbdata=\"2023-05-07#5l000D220602#RZ_#\" hbid=\"2023-05-07#AOH#CUW#5l000D220602#RZ_#01#上海虹桥#17#重庆北#c12s9xiufZwiEdkcvqni4QWc5Qk%2Ftqeoctt24%2B1AthDSLmbj4Z4fq42BixnafZGK8ujAX%2BlXD5LO%0AsG5FMXWvponcFjrKcxc8BJCqMDcJOPyPzR04ar9GjRepAONoYRTHfXfNzZWBK4btKa0W%2FWIHx0sf%0AyJsPxabDawmJ5mAi%2FvTfKc%2BWc0g%2F9ya%2FPZn30KU65O2lKWu4KKFWwFfBmKPgtM11vbUrPqX4n7jt%0Apeq600zHB4%2F4EIkCFZKhm%2FrlrXctuoaOBks55kEIjkJy5HtHLd09cMLk2zcyANaPUcMe%2BZ4tnJ%2Fs%0ApmIdFeXcTvy897vYzDj3aB2U%2FybUoqI4#D2206#\" id=\"RZ_5l000D220602\" ifalow_maxlength=\"1\" onclick=\"showTicketPrice(this)\" style=\"cursor: pointer;\" title=\"\" undefined=\"\" width=\"46\">--</td> <td align=\"center\" hbdata=\"2023-05-07#5l000D220602#YZ_#\" hbid=\"2023-05-07#AOH#CUW#5l000D220602#YZ_#01#上海虹桥#17#重庆北#c12s9xiufZwiEdkcvqni4QWc5Qk%2Ftqeoctt24%2B1AthDSLmbj4Z4fq42BixnafZGK8ujAX%2BlXD5LO%0AsG5FMXWvponcFjrKcxc8BJCqMDcJOPyPzR04ar9GjRepAONoYRTHfXfNzZWBK4btKa0W%2FWIHx0sf%0AyJsPxabDawmJ5mAi%2FvTfKc%2BWc0g%2F9ya%2FPZn30KU65O2lKWu4KKFWwFfBmKPgtM11vbUrPqX4n7jt%0Apeq600zHB4%2F4EIkCFZKhm%2FrlrXctuoaOBks55kEIjkJy5HtHLd09cMLk2zcyANaPUcMe%2BZ4tnJ%2Fs%0ApmIdFeXcTvy897vYzDj3aB2U%2FybUoqI4#D2206#\" id=\"YZ_5l000D220602\" ifalow_maxlength=\"1\" onclick=\"showTicketPrice(this)\" style=\"cursor: pointer;\" title=\"\" undefined=\"\" width=\"46\">--</td><td align=\"center\" aria-label=\"D2206次列车，无座票价624.5元，余票有\" class=\"yes\" hbdata=\"2023-05-07#5l000D220602#WZ_#\" hbid=\"2023-05-07#AOH#CUW#5l000D220602#WZ_#01#上海虹桥#17#重庆北#c12s9xiufZwiEdkcvqni4QWc5Qk%2Ftqeoctt24%2B1AthDSLmbj4Z4fq42BixnafZGK8ujAX%2BlXD5LO%0AsG5FMXWvponcFjrKcxc8BJCqMDcJOPyPzR04ar9GjRepAONoYRTHfXfNzZWBK4btKa0W%2FWIHx0sf%0AyJsPxabDawmJ5mAi%2FvTfKc%2BWc0g%2F9ya%2FPZn30KU65O2lKWu4KKFWwFfBmKPgtM11vbUrPqX4n7jt%0Apeq600zHB4%2F4EIkCFZKhm%2FrlrXctuoaOBks55kEIjkJy5HtHLd09cMLk2zcyANaPUcMe%2BZ4tnJ%2Fs%0ApmIdFeXcTvy897vYzDj3aB2U%2FybUoqI4#D2206#\" id=\"WZ_5l000D220602\" onclick=\"showTicketPrice(this)\" style=\"cursor: pointer;\" tabindex=\"0\" width=\"46\">有</td> <td align=\"center\" hbdata=\"2023-05-07#5l000D220602#QT_#\" hbid=\"2023-05-07#AOH#CUW#5l000D220602#QT_#01#上海虹桥#17#重庆北#c12s9xiufZwiEdkcvqni4QWc5Qk%2Ftqeoctt24%2B1AthDSLmbj4Z4fq42BixnafZGK8ujAX%2BlXD5LO%0AsG5FMXWvponcFjrKcxc8BJCqMDcJOPyPzR04ar9GjRepAONoYRTHfXfNzZWBK4btKa0W%2FWIHx0sf%0AyJsPxabDawmJ5mAi%2FvTfKc%2BWc0g%2F9ya%2FPZn30KU65O2lKWu4KKFWwFfBmKPgtM11vbUrPqX4n7jt%0Apeq600zHB4%2F4EIkCFZKhm%2FrlrXctuoaOBks55kEIjkJy5HtHLd09cMLk2zcyANaPUcMe%2BZ4tnJ%2Fs%0ApmIdFeXcTvy897vYzDj3aB2U%2FybUoqI4#D2206#\" id=\"QT_5l000D220602\" ifalow_maxlength=\"1\" onclick=\"showTicketPrice(this)\" style=\"cursor: pointer;\" title=\"\" undefined=\"\" width=\"46\">--</td> <td align=\"center\" class=\"no-br\" width=\"80\"><a aria-label=\"预订D2206次车06:01从上海虹桥出发，19:17到重庆北,当日到达历时13:16的车票\" class=\"btn72\" href=\"javascript:\" onclick=\"checkG1234('c12s9xiufZwiEdkcvqni4QWc5Qk%2Ftqeoctt24%2B1AthDSLmbj4Z4fq42BixnafZGK8ujAX%2BlXD5LO%0AsG5FMXWvponcFjrKcxc8BJCqMDcJOPyPzR04ar9GjRepAONoYRTHfXfNzZWBK4btKa0W%2FWIHx0sf%0AyJsPxabDawmJ5mAi%2FvTfKc%2BWc0g%2F9ya%2FPZn30KU65O2lKWu4KKFWwFfBmKPgtM11vbUrPqX4n7jt%0Apeq600zHB4%2F4EIkCFZKhm%2FrlrXctuoaOBks55kEIjkJy5HtHLd09cMLk2zcyANaPUcMe%2BZ4tnJ%2Fs%0ApmIdFeXcTvy897vYzDj3aB2U%2FybUoqI4','06:01','5l000D220602','AOH','CUW')\">预订</a></td></tr><tr datatran=\"D2206\" id=\"price_5l000D220602_01_17\" style=\"display:none;\"></tr><tr class=\"\" id=\"ticket_5l0000D35204_01_21\"><td colspan=\"4\" width=\"370\"><div class=\"ticket-info clearfix\" id=\"train_num_1\"><div class=\"train\" id=\"ticket_5l0000D35204_01_21_train\"><div><a class=\"number\" href=\"javascript:\" id=\"5l0000D35204_AOH_CUW\" onclick=\"myStopStation.open('1','5l0000D35204','AOH','CUW','20230507','3');\" title=\"点击查看停靠站信息\">D352</a><div class=\"train-type\"></div></div><span class=\"lookup\" id=\"5l0000D35204_01_21_qd2%2BJYWKEblWj%2BQMoihilXbHmult5gLJMD4cxxtdrapHXdfX_MOO\" onclick=\"showTicketPrice(this)\"><span style=\"display:none;\">查看票价</span><b aria-label=\"查看票价,按回车键操作\" tabindex=\"0\" title=\"查看票价\"></b></span></div><div class=\"cdz\"><strong class=\"start-s\" title=\"上海虹桥\">上海虹桥</strong><strong>重庆北</strong></div><div class=\"cds\"><strong class=\"start-t\">06:13</strong><strong class=\"color999\">18:07</strong></div><div class=\"ls\" id=\"5l0000D35204_ls\"><strong>11:54</strong><span>当日到达</span></div></div></td> <td align=\"center\" hbdata=\"2023-05-07#5l0000D35204#TZ_#\" hbid=\"2023-05-07#AOH#CUW#5l0000D35204#TZ_#01#上海虹桥#21#重庆北#O0if%2BKHHF3upFkXZjPH%2B%2FMzhYCwePXlLiljNrGGU2YitKpbxAuhA7Jez%2FvDnRkK9Ak4xaFtftVPt%0AT591nKFMxXpgETBs%2FKVkBSXnI6CpgyaWqYRN3aqMcwPNrFnY91twJLhxwL%2F%2By2dAZOMhrAkzopC3%0ArOzSMUbyzMhEVeUtv2ePkOv7rKqME8mO83GXkW8%2BWw0awY%2FklRn3%2BfUFP5uvTbicPI8nJRUEYjVx%0ANYeapog3HzGyd5ts4H6m685dGsFVXl87GvtvcV1Vli2qJwTdZ37TAsIArzaxgT4og5W%2FxEjRPBDc%0ArcMT1bx%2FYS5OUTmLNfTT5TcPLcpHLWjH#D352#\" id=\"TZ_5l0000D35204\" ifalow_maxlength=\"1\" onclick=\"showTicketPrice(this)\" style=\"cursor: pointer;\" title=\"\" undefined=\"\" width=\"46\">--</td><td align=\"center\" aria-label=\"D352次列车，一等座票价949元，余票有\" class=\"yes\" hbdata=\"2023-05-07#5l0000D35204#ZY_#\" hbid=\"2023-05-07#AOH#CUW#5l0000D35204#ZY_#01#上海虹桥#21#重庆北#O0if%2BKHHF3upFkXZjPH%2B%2FMzhYCwePXlLiljNrGGU2YitKpbxAuhA7Jez%2FvDnRkK9Ak4xaFtftVPt%0AT591nKFMxXpgETBs%2FKVkBSXnI6CpgyaWqYRN3aqMcwPNrFnY91twJLhxwL%2F%2By2dAZOMhrAkzopC3%0ArOzSMUbyzMhEVeUtv2ePkOv7rKqME8mO83GXkW8%2BWw0awY%2FklRn3%2BfUFP5uvTbicPI8nJRUEYjVx%0ANYeapog3HzGyd5ts4H6m685dGsFVXl87GvtvcV1Vli2qJwTdZ37TAsIArzaxgT4og5W%2FxEjRPBDc%0ArcMT1bx%2FYS5OUTmLNfTT5TcPLcpHLWjH#D352#\" id=\"ZY_5l0000D35204\" onclick=\"showTicketPrice(this)\" style=\"cursor: pointer;\" tabindex=\"0\" width=\"46\">有</td><td align=\"center\" aria-label=\"D352次列车，二等座票价593.5元，余票有\" class=\"yes\" hbdata=\"2023-05-07#5l0000D35204#ZE_#\" hbid=\"2023-05-07#AOH#CUW#5l0000D35204#ZE_#01#上海虹桥#21#重庆北#O0if%2BKHHF3upFkXZjPH%2B%2FMzhYCwePXlLiljNrGGU2YitKpbxAuhA7Jez%2FvDnRkK9Ak4xaFtftVPt%0AT591nKFMxXpgETBs%2FKVkBSXnI6CpgyaWqYRN3aqMcwPNrFnY91twJLhxwL%2F%2By2dAZOMhrAkzopC3%0ArOzSMUbyzMhEVeUtv2ePkOv7rKqME8mO83GXkW8%2BWw0awY%2FklRn3%2BfUFP5uvTbicPI8nJRUEYjVx%0ANYeapog3HzGyd5ts4H6m685dGsFVXl87GvtvcV1Vli2qJwTdZ37TAsIArzaxgT4og5W%2FxEjRPBDc%0ArcMT1bx%2FYS5OUTmLNfTT5TcPLcpHLWjH#D352#\" id=\"ZE_5l0000D35204\" onclick=\"showTicketPrice(this)\" style=\"cursor: pointer;\" tabindex=\"0\" width=\"46\">有</td> <td align=\"center\" hbdata=\"2023-05-07#5l0000D35204#GR_#\" hbid=\"2023-05-07#AOH#CUW#5l0000D35204#GR_#01#上海虹桥#21#重庆北#O0if%2BKHHF3upFkXZjPH%2B%2FMzhYCwePXlLiljNrGGU2YitKpbxAuhA7Jez%2FvDnRkK9Ak4xaFtftVPt%0AT591nKFMxXpgETBs%2FKVkBSXnI6CpgyaWqYRN3aqMcwPNrFnY91twJLhxwL%2F%2By2dAZOMhrAkzopC3%0ArOzSMUbyzMhEVeUtv2ePkOv7rKqME8mO83GXkW8%2BWw0awY%2FklRn3%2BfUFP5uvTbicPI8nJRUEYjVx%0ANYeapog3HzGyd5ts4H6m685dGsFVXl87GvtvcV1Vli2qJwTdZ37TAsIArzaxgT4og5W%2FxEjRPBDc%0ArcMT1bx%2FYS5OUTmLNfTT5TcPLcpHLWjH#D352#\" id=\"GR_5l0000D35204\" ifalow_maxlength=\"1\" onclick=\"showTicketPrice(this)\" style=\"cursor: pointer;\" title=\"\" undefined=\"\" width=\"46\">--</td> <td align=\"center\" hbdata=\"2023-05-07#5l0000D35204#RW_#\" hbid=\"2023-05-07#AOH#CUW#5l0000D35204#RW_#01#上海虹桥#21#重庆北#O0if%2BKHHF3upFkXZjPH%2B%2FMzhYCwePXlLiljNrGGU2YitKpbxAuhA7Jez%2FvDnRkK9Ak4xaFtftVPt%0AT591nKFMxXpgETBs%2FKVkBSXnI6CpgyaWqYRN3aqMcwPNrFnY91twJLhxwL%2F%2By2dAZOMhrAkzopC3%0ArOzSMUbyzMhEVeUtv2ePkOv7rKqME8mO83GXkW8%2BWw0awY%2FklRn3%2BfUFP5uvTbicPI8nJRUEYjVx%0ANYeapog3HzGyd5ts4H6m685dGsFVXl87GvtvcV1Vli2qJwTdZ37TAsIArzaxgT4og5W%2FxEjRPBDc%0ArcMT1bx%2FYS5OUTmLNfTT5TcPLcpHLWjH#D352#\" id=\"RW_5l0000D35204\" ifalow_maxlength=\"1\" onclick=\"showTicketPrice(this)\" style=\"cursor: pointer;\" title=\"\" undefined=\"\" width=\"46\">--</td> <td align=\"center\" hbdata=\"2023-05-07#5l0000D35204#SRRB_#\" hbid=\"2023-05-07#AOH#CUW#5l0000D35204#SRRB_#01#上海虹桥#21#重庆北#O0if%2BKHHF3upFkXZjPH%2B%2FMzhYCwePXlLiljNrGGU2YitKpbxAuhA7Jez%2FvDnRkK9Ak4xaFtftVPt%0AT591nKFMxXpgETBs%2FKVkBSXnI6CpgyaWqYRN3aqMcwPNrFnY91twJLhxwL%2F%2By2dAZOMhrAkzopC3%0ArOzSMUbyzMhEVeUtv2ePkOv7rKqME8mO83GXkW8%2BWw0awY%2FklRn3%2BfUFP5uvTbicPI8nJRUEYjVx%0ANYeapog3HzGyd5ts4H6m685dGsFVXl87GvtvcV1Vli2qJwTdZ37TAsIArzaxgT4og5W%2FxEjRPBDc%0ArcMT1bx%2FYS5OUTmLNfTT5TcPLcpHLWjH#D352#\" id=\"SRRB_5l0000D35204\" ifalow_maxlength=\"1\" onclick=\"showTicketPrice(this)\" style=\"cursor: pointer;\" title=\"\" undefined=\"\" width=\"46\">--</td> <td align=\"center\" hbdata=\"2023-05-07#5l0000D35204#YW_#\" hbid=\"2023-05-07#AOH#CUW#5l0000D35204#YW_#01#上海虹桥#21#重庆北#O0if%2BKHHF3upFkXZjPH%2B%2FMzhYCwePXlLiljNrGGU2YitKpbxAuhA7Jez%2FvDnRkK9Ak4xaFtftVPt%0AT591nKFMxXpgETBs%2FKVkBSXnI6CpgyaWqYRN3aqMcwPNrFnY91twJLhxwL%2F%2By2dAZOMhrAkzopC3%0ArOzSMUbyzMhEVeUtv2ePkOv7rKqME8mO83GXkW8%2BWw0awY%2FklRn3%2BfUFP5uvTbicPI8nJRUEYjVx%0ANYeapog3HzGyd5ts4H6m685dGsFVXl87GvtvcV1Vli2qJwTdZ37TAsIArzaxgT4og5W%2FxEjRPBDc%0ArcMT1bx%2FYS5OUTmLNfTT5TcPLcpHLWjH#D352#\" id=\"YW_5l0000D35204\" ifalow_maxlength=\"1\" onclick=\"showTicketPrice(this)\" style=\"cursor: pointer;\" title=\"\" undefined=\"\" width=\"46\">--</td> <td align=\"center\" hbdata=\"2023-05-07#5l0000D35204#RZ_#\" hbid=\"2023-05-07#AOH#CUW#5l0000D35204#RZ_#01#上海虹桥#21#重庆北#O0if%2BKHHF3upFkXZjPH%2B%2FMzhYCwePXlLiljNrGGU2YitKpbxAuhA7Jez%2FvDnRkK9Ak4xaFtftVPt%0AT591nKFMxXpgETBs%2FKVkBSXnI6CpgyaWqYRN3aqMcwPNrFnY91twJLhxwL%2F%2By2dAZOMhrAkzopC3%0ArOzSMUbyzMhEVeUtv2ePkOv7rKqME8mO83GXkW8%2BWw0awY%2FklRn3%2BfUFP5uvTbicPI8nJRUEYjVx%0ANYeapog3HzGyd5ts4H6m685dGsFVXl87GvtvcV1Vli2qJwTdZ37TAsIArzaxgT4og5W%2FxEjRPBDc%0ArcMT1bx%2FYS5OUTmLNfTT5TcPLcpHLWjH#D352#\" id=\"RZ_5l0000D35204\" ifalow_maxlength=\"1\" onclick=\"showTicketPrice(this)\" style=\"cursor: pointer;\" title=\"\" undefined=\"\" width=\"46\">--</td> <td align=\"center\" hbdata=\"2023-05-07#5l0000D35204#YZ_#\" hbid=\"2023-05-07#AOH#CUW#5l0000D35204#YZ_#01#上海虹桥#21#重庆北#O0if%2BKHHF3upFkXZjPH%2B%2FMzhYCwePXlLiljNrGGU2YitKpbxAuhA7Jez%2FvDnRkK9Ak4xaFtftVPt%0AT591nKFMxXpgETBs%2FKVkBSXnI6CpgyaWqYRN3aqMcwPNrFnY91twJLhxwL%2F%2By2dAZOMhrAkzopC3%0ArOzSMUbyzMhEVeUtv2ePkOv7rKqME8mO83GXkW8%2BWw0awY%2FklRn3%2BfUFP5uvTbicPI8nJRUEYjVx%0ANYeapog3HzGyd5ts4H6m685dGsFVXl87GvtvcV1Vli2qJwTdZ37TAsIArzaxgT4og5W%2FxEjRPBDc%0ArcMT1bx%2FYS5OUTmLNfTT5TcPLcpHLWjH#D352#\" id=\"YZ_5l0000D35204\" ifalow_maxlength=\"1\" onclick=\"showTicketPrice(this)\" style=\"cursor: pointer;\" title=\"\" undefined=\"\" width=\"46\">--</td><td align=\"center\" aria-label=\"D352次列车，无座票价593.5元，余票有\" class=\"yes\" hbdata=\"2023-05-07#5l0000D35204#WZ_#\" hbid=\"2023-05-07#AOH#CUW#5l0000D35204#WZ_#01#上海虹桥#21#重庆北#O0if%2BKHHF3upFkXZjPH%2B%2FMzhYCwePXlLiljNrGGU2YitKpbxAuhA7Jez%2FvDnRkK9Ak4xaFtftVPt%0AT591nKFMxXpgETBs%2FKVkBSXnI6CpgyaWqYRN3aqMcwPNrFnY91twJLhxwL%2F%2By2dAZOMhrAkzopC3%0ArOzSMUbyzMhEVeUtv2ePkOv7rKqME8mO83GXkW8%2BWw0awY%2FklRn3%2BfUFP5uvTbicPI8nJRUEYjVx%0ANYeapog3HzGyd5ts4H6m685dGsFVXl87GvtvcV1Vli2qJwTdZ37TAsIArzaxgT4og5W%2FxEjRPBDc%0ArcMT1bx%2FYS5OUTmLNfTT5TcPLcpHLWjH#D352#\" id=\"WZ_5l0000D35204\" onclick=\"showTicketPrice(this)\" style=\"cursor: pointer;\" tabindex=\"0\" width=\"46\">有</td> <td align=\"center\" hbdata=\"2023-05-07#5l0000D35204#QT_#\" hbid=\"2023-05-07#AOH#CUW#5l0000D35204#QT_#01#上海虹桥#21#重庆北#O0if%2BKHHF3upFkXZjPH%2B%2FMzhYCwePXlLiljNrGGU2YitKpbxAuhA7Jez%2FvDnRkK9Ak4xaFtftVPt%0AT591nKFMxXpgETBs%2FKVkBSXnI6CpgyaWqYRN3aqMcwPNrFnY91twJLhxwL%2F%2By2dAZOMhrAkzopC3%0ArOzSMUbyzMhEVeUtv2ePkOv7rKqME8mO83GXkW8%2BWw0awY%2FklRn3%2BfUFP5uvTbicPI8nJRUEYjVx%0ANYeapog3HzGyd5ts4H6m685dGsFVXl87GvtvcV1Vli2qJwTdZ37TAsIArzaxgT4og5W%2FxEjRPBDc%0ArcMT1bx%2FYS5OUTmLNfTT5TcPLcpHLWjH#D352#\" id=\"QT_5l0000D35204\" ifalow_maxlength=\"1\" onclick=\"showTicketPrice(this)\" style=\"cursor: pointer;\" title=\"\" undefined=\"\" width=\"46\">--</td> <td align=\"center\" class=\"no-br\" width=\"80\"><a aria-label=\"预订D352次车06:13从上海虹桥出发，18:07到重庆北,当日到达历时11:54的车票\" class=\"btn72\" href=\"javascript:\" onclick=\"checkG1234('O0if%2BKHHF3upFkXZjPH%2B%2FMzhYCwePXlLiljNrGGU2YitKpbxAuhA7Jez%2FvDnRkK9Ak4xaFtftVPt%0AT591nKFMxXpgETBs%2FKVkBSXnI6CpgyaWqYRN3aqMcwPNrFnY91twJLhxwL%2F%2By2dAZOMhrAkzopC3%0ArOzSMUbyzMhEVeUtv2ePkOv7rKqME8mO83GXkW8%2BWw0awY%2FklRn3%2BfUFP5uvTbicPI8nJRUEYjVx%0ANYeapog3HzGyd5ts4H6m685dGsFVXl87GvtvcV1Vli2qJwTdZ37TAsIArzaxgT4og5W%2FxEjRPBDc%0ArcMT1bx%2FYS5OUTmLNfTT5TcPLcpHLWjH','06:13','5l0000D35204','AOH','CUW')\">预订</a></td></tr><tr datatran=\"D352\" id=\"price_5l0000D35204_01_21\" style=\"display:none;\"></tr><tr class=\"bgc\" id=\"ticket_5l0000D63604_01_21\"><td colspan=\"4\" width=\"370\"><div class=\"ticket-info clearfix\" id=\"train_num_2\"><div class=\"train\" id=\"ticket_5l0000D63604_01_21_train\"><div><a class=\"number\" href=\"javascript:\" id=\"5l0000D63604_AOH_CUW\" onclick=\"myStopStation.open('2','5l0000D63604','AOH','CUW','20230507','3');\" title=\"点击查看停靠站信息\">D636</a><div class=\"train-type\"></div></div><span class=\"lookup\" id=\"5l0000D63604_01_21_P1IGa9IKhzIXBajnB5LEBexPLM3dUz8nHslSZk4UlO55lsyC_MOO\" onclick=\"showTicketPrice(this)\"><span style=\"display:none;\">查看票价</span><b aria-label=\"查看票价,按回车键操作\" tabindex=\"0\" title=\"查看票价\"></b></span></div><div class=\"cdz\"><strong class=\"start-s\" title=\"上海虹桥\">上海虹桥</strong><strong>重庆北</strong></div><div class=\"cds\"><strong class=\"start-t\">06:32</strong><strong class=\"color999\">18:38</strong></div><div class=\"ls\" id=\"5l0000D63604_ls\"><strong>12:06</strong><span>当日到达</span></div></div></td> <td align=\"center\" hbdata=\"2023-05-07#5l0000D63604#TZ_#\" hbid=\"2023-05-07#AOH#CUW#5l0000D63604#TZ_#01#上海虹桥#21#重庆北#5LX%2BtQ9IpTQ6dQtG13cabfOKwLRFCtD%2BEQE6iemB8wciRF%2FaYZz9b9SZWumEE5Zyhn2FbVUNA%2Bzx%0AjuXggI06WIjE%2FWy%2BZmQQJ%2FMw3KQkvs%2Fss65Is9bGe%2BX9UsVXYm65ZSTeeZphKRo%2BufXwlOKzB9lR%0Ac6aBz7GPLPlEHM6LUlZKMoux5hdyvfsVHxIpuMNjgGYDBmL99eS%2BfBWd612bTM%2BCkN%2BrgSLeC8MT%0AIPAYmGplRURMuKqSfInO38UAs6ix2DVp0izeqkd5q%2Bsb9ztTXvFLUqu4Mjo7pd1vNZq%2BQ2HFMN4z%0AQd5gTmB2FDZ4%2FtbszGMX6p7HDmVpoKIa#D636#\" id=\"TZ_5l0000D63604\" ifalow_maxlength=\"1\" onclick=\"showTicketPrice(this)\" style=\"cursor: pointer;\" title=\"\" undefined=\"\" width=\"46\">--</td><td align=\"center\" aria-label=\"D636次列车，一等座票价949元，余票有\" class=\"yes\" hbdata=\"2023-05-07#5l0000D63604#ZY_#\" hbid=\"2023-05-07#AOH#CUW#5l0000D63604#ZY_#01#上海虹桥#21#重庆北#5LX%2BtQ9IpTQ6dQtG13cabfOKwLRFCtD%2BEQE6iemB8wciRF%2FaYZz9b9SZWumEE5Zyhn2FbVUNA%2Bzx%0AjuXggI06WIjE%2FWy%2BZmQQJ%2FMw3KQkvs%2Fss65Is9bGe%2BX9UsVXYm65ZSTeeZphKRo%2BufXwlOKzB9lR%0Ac6aBz7GPLPlEHM6LUlZKMoux5hdyvfsVHxIpuMNjgGYDBmL99eS%2BfBWd612bTM%2BCkN%2BrgSLeC8MT%0AIPAYmGplRURMuKqSfInO38UAs6ix2DVp0izeqkd5q%2Bsb9ztTXvFLUqu4Mjo7pd1vNZq%2BQ2HFMN4z%0AQd5gTmB2FDZ4%2FtbszGMX6p7HDmVpoKIa#D636#\" id=\"ZY_5l0000D63604\" onclick=\"showTicketPrice(this)\" style=\"cursor: pointer;\" tabindex=\"0\" width=\"46\">有</td><td align=\"center\" aria-label=\"D636次列车，二等座票价593.5元，余票有\" class=\"yes\" hbdata=\"2023-05-07#5l0000D63604#ZE_#\" hbid=\"2023-05-07#AOH#CUW#5l0000D63604#ZE_#01#上海虹桥#21#重庆北#5LX%2BtQ9IpTQ6dQtG13cabfOKwLRFCtD%2BEQE6iemB8wciRF%2FaYZz9b9SZWumEE5Zyhn2FbVUNA%2Bzx%0AjuXggI06WIjE%2FWy%2BZmQQJ%2FMw3KQkvs%2Fss65Is9bGe%2BX9UsVXYm65ZSTeeZphKRo%2BufXwlOKzB9lR%0Ac6aBz7GPLPlEHM6LUlZKMoux5hdyvfsVHxIpuMNjgGYDBmL99eS%2BfBWd612bTM%2BCkN%2BrgSLeC8MT%0AIPAYmGplRURMuKqSfInO38UAs6ix2DVp0izeqkd5q%2Bsb9ztTXvFLUqu4Mjo7pd1vNZq%2BQ2HFMN4z%0AQd5gTmB2FDZ4%2FtbszGMX6p7HDmVpoKIa#D636#\" id=\"ZE_5l0000D63604\" onclick=\"showTicketPrice(this)\" style=\"cursor: pointer;\" tabindex=\"0\" width=\"46\">有</td> <td align=\"center\" hbdata=\"2023-05-07#5l0000D63604#GR_#\" hbid=\"2023-05-07#AOH#CUW#5l0000D63604#GR_#01#上海虹桥#21#重庆北#5LX%2BtQ9IpTQ6dQtG13cabfOKwLRFCtD%2BEQE6iemB8wciRF%2FaYZz9b9SZWumEE5Zyhn2FbVUNA%2Bzx%0AjuXggI06WIjE%2FWy%2BZmQQJ%2FMw3KQkvs%2Fss65Is9bGe%2BX9UsVXYm65ZSTeeZphKRo%2BufXwlOKzB9lR%0Ac6aBz7GPLPlEHM6LUlZKMoux5hdyvfsVHxIpuMNjgGYDBmL99eS%2BfBWd612bTM%2BCkN%2BrgSLeC8MT%0AIPAYmGplRURMuKqSfInO38UAs6ix2DVp0izeqkd5q%2Bsb9ztTXvFLUqu4Mjo7pd1vNZq%2BQ2HFMN4z%0AQd5gTmB2FDZ4%2FtbszGMX6p7HDmVpoKIa#D636#\" id=\"GR_5l0000D63604\" ifalow_maxlength=\"1\" onclick=\"showTicketPrice(this)\" style=\"cursor: pointer;\" title=\"\" undefined=\"\" width=\"46\">--</td> <td align=\"center\" hbdata=\"2023-05-07#5l0000D63604#RW_#\" hbid=\"2023-05-07#AOH#CUW#5l0000D63604#RW_#01#上海虹桥#21#重庆北#5LX%2BtQ9IpTQ6dQtG13cabfOKwLRFCtD%2BEQE6iemB8wciRF%2FaYZz9b9SZWumEE5Zyhn2FbVUNA%2Bzx%0AjuXggI06WIjE%2FWy%2BZmQQJ%2FMw3KQkvs%2Fss65Is9bGe%2BX9UsVXYm65ZSTeeZphKRo%2BufXwlOKzB9lR%0Ac6aBz7GPLPlEHM6LUlZKMoux5hdyvfsVHxIpuMNjgGYDBmL99eS%2BfBWd612bTM%2BCkN%2BrgSLeC8MT%0AIPAYmGplRURMuKqSfInO38UAs6ix2DVp0izeqkd5q%2Bsb9ztTXvFLUqu4Mjo7pd1vNZq%2BQ2HFMN4z%0AQd5gTmB2FDZ4%2FtbszGMX6p7HDmVpoKIa#D636#\" id=\"RW_5l0000D63604\" ifalow_maxlength=\"1\" onclick=\"showTicketPrice(this)\" style=\"cursor: pointer;\" title=\"\" undefined=\"\" width=\"46\">--</td> <td align=\"center\" hbdata=\"2023-05-07#5l0000D63604#SRRB_#\" hbid=\"2023-05-07#AOH#CUW#5l0000D63604#SRRB_#01#上海虹桥#21#重庆北#5LX%2BtQ9IpTQ6dQtG13cabfOKwLRFCtD%2BEQE6iemB8wciRF%2FaYZz9b9SZWumEE5Zyhn2FbVUNA%2Bzx%0AjuXggI06WIjE%2FWy%2BZmQQJ%2FMw3KQkvs%2Fss65Is9bGe%2BX9UsVXYm65ZSTeeZphKRo%2BufXwlOKzB9lR%0Ac6aBz7GPLPlEHM6LUlZKMoux5hdyvfsVHxIpuMNjgGYDBmL99eS%2BfBWd612bTM%2BCkN%2BrgSLeC8MT%0AIPAYmGplRURMuKqSfInO38UAs6ix2DVp0izeqkd5q%2Bsb9ztTXvFLUqu4Mjo7pd1vNZq%2BQ2HFMN4z%0AQd5gTmB2FDZ4%2FtbszGMX6p7HDmVpoKIa#D636#\" id=\"SRRB_5l0000D63604\" ifalow_maxlength=\"1\" onclick=\"showTicketPrice(this)\" style=\"cursor: pointer;\" title=\"\" undefined=\"\" width=\"46\">--</td> <td align=\"center\" hbdata=\"2023-05-07#5l0000D63604#YW_#\" hbid=\"2023-05-07#AOH#CUW#5l0000D63604#YW_#01#上海虹桥#21#重庆北#5LX%2BtQ9IpTQ6dQtG13cabfOKwLRFCtD%2BEQE6iemB8wciRF%2FaYZz9b9SZWumEE5Zyhn2FbVUNA%2Bzx%0AjuXggI06WIjE%2FWy%2BZmQQJ%2FMw3KQkvs%2Fss65Is9bGe%2BX9UsVXYm65ZSTeeZphKRo%2BufXwlOKzB9lR%0Ac6aBz7GPLPlEHM6LUlZKMoux5hdyvfsVHxIpuMNjgGYDBmL99eS%2BfBWd612bTM%2BCkN%2BrgSLeC8MT%0AIPAYmGplRURMuKqSfInO38UAs6ix2DVp0izeqkd5q%2Bsb9ztTXvFLUqu4Mjo7pd1vNZq%2BQ2HFMN4z%0AQd5gTmB2FDZ4%2FtbszGMX6p7HDmVpoKIa#D636#\" id=\"YW_5l0000D63604\" ifalow_maxlength=\"1\" onclick=\"showTicketPrice(this)\" style=\"cursor: pointer;\" title=\"\" undefined=\"\" width=\"46\">--</td> <td align=\"center\" hbdata=\"2023-05-07#5l0000D63604#RZ_#\" hbid=\"2023-05-07#AOH#CUW#5l0000D63604#RZ_#01#上海虹桥#21#重庆北#5LX%2BtQ9IpTQ6dQtG13cabfOKwLRFCtD%2BEQE6iemB8wciRF%2FaYZz9b9SZWumEE5Zyhn2FbVUNA%2Bzx%0AjuXggI06WIjE%2FWy%2BZmQQJ%2FMw3KQkvs%2Fss65Is9bGe%2BX9UsVXYm65ZSTeeZphKRo%2BufXwlOKzB9lR%0Ac6aBz7GPLPlEHM6LUlZKMoux5hdyvfsVHxIpuMNjgGYDBmL99eS%2BfBWd612bTM%2BCkN%2BrgSLeC8MT%0AIPAYmGplRURMuKqSfInO38UAs6ix2DVp0izeqkd5q%2Bsb9ztTXvFLUqu4Mjo7pd1vNZq%2BQ2HFMN4z%0AQd5gTmB2FDZ4%2FtbszGMX6p7HDmVpoKIa#D636#\" id=\"RZ_5l0000D63604\" ifalow_maxlength=\"1\" onclick=\"showTicketPrice(this)\" style=\"cursor: pointer;\" title=\"\" undefined=\"\" width=\"46\">--</td> <td align=\"center\" hbdata=\"2023-05-07#5l0000D63604#YZ_#\" hbid=\"2023-05-07#AOH#CUW#5l0000D63604#YZ_#01#上海虹桥#21#重庆北#5LX%2BtQ9IpTQ6dQtG13cabfOKwLRFCtD%2BEQE6iemB8wciRF%2FaYZz9b9SZWumEE5Zyhn2FbVUNA%2Bzx%0AjuXggI06WIjE%2FWy%2BZmQQJ%2FMw3KQkvs%2Fss65Is9bGe%2BX9UsVXYm65ZSTeeZphKRo%2BufXwlOKzB9lR%0Ac6aBz7GPLPlEHM6LUlZKMoux5hdyvfsVHxIpuMNjgGYDBmL99eS%2BfBWd612bTM%2BCkN%2BrgSLeC8MT%0AIPAYmGplRURMuKqSfInO38UAs6ix2DVp0izeqkd5q%2Bsb9ztTXvFLUqu4Mjo7pd1vNZq%2BQ2HFMN4z%0AQd5gTmB2FDZ4%2FtbszGMX6p7HDmVpoKIa#D636#\" id=\"YZ_5l0000D63604\" ifalow_maxlength=\"1\" onclick=\"showTicketPrice(this)\" style=\"cursor: pointer;\" title=\"\" undefined=\"\" width=\"46\">--</td><td align=\"center\" aria-label=\"D636次列车，无座票价593.5元，余票有\" class=\"yes\" hbdata=\"2023-05-07#5l0000D63604#WZ_#\" hbid=\"2023-05-07#AOH#CUW#5l0000D63604#WZ_#01#上海虹桥#21#重庆北#5LX%2BtQ9IpTQ6dQtG13cabfOKwLRFCtD%2BEQE6iemB8wciRF%2FaYZz9b9SZWumEE5Zyhn2FbVUNA%2Bzx%0AjuXggI06WIjE%2FWy%2BZmQQJ%2FMw3KQkvs%2Fss65Is9bGe%2BX9UsVXYm65ZSTeeZphKRo%2BufXwlOKzB9lR%0Ac6aBz7GPLPlEHM6LUlZKMoux5hdyvfsVHxIpuMNjgGYDBmL99eS%2BfBWd612bTM%2BCkN%2BrgSLeC8MT%0AIPAYmGplRURMuKqSfInO38UAs6ix2DVp0izeqkd5q%2Bsb9ztTXvFLUqu4Mjo7pd1vNZq%2BQ2HFMN4z%0AQd5gTmB2FDZ4%2FtbszGMX6p7HDmVpoKIa#D636#\" id=\"WZ_5l0000D63604\" onclick=\"showTicketPrice(this)\" style=\"cursor: pointer;\" tabindex=\"0\" width=\"46\">有</td> <td align=\"center\" hbdata=\"2023-05-07#5l0000D63604#QT_#\" hbid=\"2023-05-07#AOH#CUW#5l0000D63604#QT_#01#上海虹桥#21#重庆北#5LX%2BtQ9IpTQ6dQtG13cabfOKwLRFCtD%2BEQE6iemB8wciRF%2FaYZz9b9SZWumEE5Zyhn2FbVUNA%2Bzx%0AjuXggI06WIjE%2FWy%2BZmQQJ%2FMw3KQkvs%2Fss65Is9bGe%2BX9UsVXYm65ZSTeeZphKRo%2BufXwlOKzB9lR%0Ac6aBz7GPLPlEHM6LUlZKMoux5hdyvfsVHxIpuMNjgGYDBmL99eS%2BfBWd612bTM%2BCkN%2BrgSLeC8MT%0AIPAYmGplRURMuKqSfInO38UAs6ix2DVp0izeqkd5q%2Bsb9ztTXvFLUqu4Mjo7pd1vNZq%2BQ2HFMN4z%0AQd5gTmB2FDZ4%2FtbszGMX6p7HDmVpoKIa#D636#\" id=\"QT_5l0000D63604\" ifalow_maxlength=\"1\" onclick=\"showTicketPrice(this)\" style=\"cursor: pointer;\" title=\"\" undefined=\"\" width=\"46\">--</td> <td align=\"center\" class=\"no-br\" width=\"80\"><a aria-label=\"预订D636次车06:32从上海虹桥出发，18:38到重庆北,当日到达历时12:06的车票\" class=\"btn72\" href=\"javascript:\" onclick=\"checkG1234('5LX%2BtQ9IpTQ6dQtG13cabfOKwLRFCtD%2BEQE6iemB8wciRF%2FaYZz9b9SZWumEE5Zyhn2FbVUNA%2Bzx%0AjuXggI06WIjE%2FWy%2BZmQQJ%2FMw3KQkvs%2Fss65Is9bGe%2BX9UsVXYm65ZSTeeZphKRo%2BufXwlOKzB9lR%0Ac6aBz7GPLPlEHM6LUlZKMoux5hdyvfsVHxIpuMNjgGYDBmL99eS%2BfBWd612bTM%2BCkN%2BrgSLeC8MT%0AIPAYmGplRURMuKqSfInO38UAs6ix2DVp0izeqkd5q%2Bsb9ztTXvFLUqu4Mjo7pd1vNZq%2BQ2HFMN4z%0AQd5gTmB2FDZ4%2FtbszGMX6p7HDmVpoKIa','06:32','5l0000D63604','AOH','CUW')\">预订</a></td></tr><tr datatran=\"D636\" id=\"price_5l0000D63604_01_21\" style=\"display:none;\"></tr><tr class=\"\" id=\"ticket_5l000D307290_01_20\"><td colspan=\"4\" width=\"370\"><div class=\"ticket-info clearfix\" id=\"train_num_3\"><div class=\"train\" id=\"ticket_5l000D307290_01_20_train\"><div><a class=\"number\" href=\"javascript:\" id=\"5l000D307290_AOH_CUW\" onclick=\"myStopStation.open('3','5l000D307290','AOH','CUW','20230507','3');\" title=\"点击查看停靠站信息\">D3072</a><div class=\"train-type\"></div></div><span class=\"lookup\" id=\"5l000D307290_01_20_v%2BVtseSkxQa23q%2BlI4xdmOUyLJLhYtnGq61l88tnSAK6AC%2Fz_MOO\" onclick=\"showTicketPrice(this)\"><span style=\"display:none;\">查看票价</span><b aria-label=\"查看票价,按回车键操作\" tabindex=\"0\" title=\"查看票价\"></b></span></div><div class=\"cdz\"><strong class=\"start-s\" title=\"上海虹桥\">上海虹桥</strong><strong class=\"end-s\" title=\"重庆北\">重庆北</strong></div><div class=\"cds\"><strong class=\"start-t\">07:02</strong><strong class=\"color999\">19:24</strong></div><div class=\"ls\" id=\"5l000D307290_ls\"><strong>12:22</strong><span>当日到达</span></div></div></td> <td align=\"center\" hbdata=\"2023-05-07#5l000D307290#TZ_#\" hbid=\"2023-05-07#AOH#CUW#5l000D307290#TZ_#01#上海虹桥#20#重庆北#UjKPvsS8YgIy3ZoO9HzGb1%2FYvmp5zE%2B9XYWSltO1AU8WPTwRvEGjLJY4SF2F4nc89e0GKk9vlfAL%0A9tV%2FJwC086KR0VU6mggyea8U3dmzxARsJWV%2Bb9p8u4%2BNMMsVIxyIWkjE5xHTpMlEGjV%2FjYsyZFy3%0Aizv%2FyQRqQG2syIQ2u4HkVUiC9HqdScyDTYqHQfmR58LduHYvLRaZVY9QX72oWfa1VA4At1%2BDMpf9%0ANG%2FDFlrDRQlIK%2BzGDCuqwJDKVcRFadfSu6KTxmy0xxbvf%2Ft2Pntlr%2B%2FXQ7u4f9vZ2fi4fBzbsSls%0AjwFDInZh56gRFFYKtapzXRFGzl1BrLjB#D3072#\" id=\"TZ_5l000D307290\" ifalow_maxlength=\"1\" onclick=\"showTicketPrice(this)\" style=\"cursor: pointer;\" title=\"\" undefined=\"\" width=\"46\">--</td><td align=\"center\" aria-label=\"D3072次列车，一等座票价949元，余票有\" class=\"yes\" hbdata=\"2023-05-07#5l000D307290#ZY_#\" hbid=\"2023-05-07#AOH#CUW#5l000D307290#ZY_#01#上海虹桥#20#重庆北#UjKPvsS8YgIy3ZoO9HzGb1%2FYvmp5zE%2B9XYWSltO1AU8WPTwRvEGjLJY4SF2F4nc89e0GKk9vlfAL%0A9tV%2FJwC086KR0VU6mggyea8U3dmzxARsJWV%2Bb9p8u4%2BNMMsVIxyIWkjE5xHTpMlEGjV%2FjYsyZFy3%0Aizv%2FyQRqQG2syIQ2u4HkVUiC9HqdScyDTYqHQfmR58LduHYvLRaZVY9QX72oWfa1VA4At1%2BDMpf9%0ANG%2FDFlrDRQlIK%2BzGDCuqwJDKVcRFadfSu6KTxmy0xxbvf%2Ft2Pntlr%2B%2FXQ7u4f9vZ2fi4fBzbsSls%0AjwFDInZh56gRFFYKtapzXRFGzl1BrLjB#D3072#\" id=\"ZY_5l000D307290\" onclick=\"showTicketPrice(this)\" style=\"cursor: pointer;\" tabindex=\"0\" width=\"46\">有</td><td align=\"center\" aria-label=\"D3072次列车，二等座票价593.5元，余票有\" class=\"yes\" hbdata=\"2023-05-07#5l000D307290#ZE_#\" hbid=\"2023-05-07#AOH#CUW#5l000D307290#ZE_#01#上海虹桥#20#重庆北#UjKPvsS8YgIy3ZoO9HzGb1%2FYvmp5zE%2B9XYWSltO1AU8WPTwRvEGjLJY4SF2F4nc89e0GKk9vlfAL%0A9tV%2FJwC086KR0VU6mggyea8U3dmzxARsJWV%2Bb9p8u4%2BNMMsVIxyIWkjE5xHTpMlEGjV%2FjYsyZFy3%0Aizv%2FyQRqQG2syIQ2u4HkVUiC9HqdScyDTYqHQfmR58LduHYvLRaZVY9QX72oWfa1VA4At1%2BDMpf9%0ANG%2FDFlrDRQlIK%2BzGDCuqwJDKVcRFadfSu6KTxmy0xxbvf%2Ft2Pntlr%2B%2FXQ7u4f9vZ2fi4fBzbsSls%0AjwFDInZh56gRFFYKtapzXRFGzl1BrLjB#D3072#\" id=\"ZE_5l000D307290\" onclick=\"showTicketPrice(this)\" style=\"cursor: pointer;\" tabindex=\"0\" width=\"46\">有</td> <td align=\"center\" hbdata=\"2023-05-07#5l000D307290#GR_#\" hbid=\"2023-05-07#AOH#CUW#5l000D307290#GR_#01#上海虹桥#20#重庆北#UjKPvsS8YgIy3ZoO9HzGb1%2FYvmp5zE%2B9XYWSltO1AU8WPTwRvEGjLJY4SF2F4nc89e0GKk9vlfAL%0A9tV%2FJwC086KR0VU6mggyea8U3dmzxARsJWV%2Bb9p8u4%2BNMMsVIxyIWkjE5xHTpMlEGjV%2FjYsyZFy3%0Aizv%2FyQRqQG2syIQ2u4HkVUiC9HqdScyDTYqHQfmR58LduHYvLRaZVY9QX72oWfa1VA4At1%2BDMpf9%0ANG%2FDFlrDRQlIK%2BzGDCuqwJDKVcRFadfSu6KTxmy0xxbvf%2Ft2Pntlr%2B%2FXQ7u4f9vZ2fi4fBzbsSls%0AjwFDInZh56gRFFYKtapzXRFGzl1BrLjB#D3072#\" id=\"GR_5l000D307290\" ifalow_maxlength=\"1\" onclick=\"showTicketPrice(this)\" style=\"cursor: pointer;\" title=\"\" undefined=\"\" width=\"46\">--</td> <td align=\"center\" hbdata=\"2023-05-07#5l000D307290#RW_#\" hbid=\"2023-05-07#AOH#CUW#5l000D307290#RW_#01#上海虹桥#20#重庆北#UjKPvsS8YgIy3ZoO9HzGb1%2FYvmp5zE%2B9XYWSltO1AU8WPTwRvEGjLJY4SF2F4nc89e0GKk9vlfAL%0A9tV%2FJwC086KR0VU6mggyea8U3dmzxARsJWV%2Bb9p8u4%2BNMMsVIxyIWkjE5xHTpMlEGjV%2FjYsyZFy3%0Aizv%2FyQRqQG2syIQ2u4HkVUiC9HqdScyDTYqHQfmR58LduHYvLRaZVY9QX72oWfa1VA4At1%2BDMpf9%0ANG%2FDFlrDRQlIK%2BzGDCuqwJDKVcRFadfSu6KTxmy0xxbvf%2Ft2Pntlr%2B%2FXQ7u4f9vZ2fi4fBzbsSls%0AjwFDInZh56gRFFYKtapzXRFGzl1BrLjB#D3072#\" id=\"RW_5l000D307290\" ifalow_maxlength=\"1\" onclick=\"showTicketPrice(this)\" style=\"cursor: pointer;\" title=\"\" undefined=\"\" width=\"46\">--</td> <td align=\"center\" hbdata=\"2023-05-07#5l000D307290#SRRB_#\" hbid=\"2023-05-07#AOH#CUW#5l000D307290#SRRB_#01#上海虹桥#20#重庆北#UjKPvsS8YgIy3ZoO9HzGb1%2FYvmp5zE%2B9XYWSltO1AU8WPTwRvEGjLJY4SF2F4nc89e0GKk9vlfAL%0A9tV%2FJwC086KR0VU6mggyea8U3dmzxARsJWV%2Bb9p8u4%2BNMMsVIxyIWkjE5xHTpMlEGjV%2FjYsyZFy3%0Aizv%2FyQRqQG2syIQ2u4HkVUiC9HqdScyDTYqHQfmR58LduHYvLRaZVY9QX72oWfa1VA4At1%2BDMpf9%0ANG%2FDFlrDRQlIK%2BzGDCuqwJDKVcRFadfSu6KTxmy0xxbvf%2Ft2Pntlr%2B%2FXQ7u4f9vZ2fi4fBzbsSls%0AjwFDInZh56gRFFYKtapzXRFGzl1BrLjB#D3072#\" id=\"SRRB_5l000D307290\" ifalow_maxlength=\"1\" onclick=\"showTicketPrice(this)\" style=\"cursor: pointer;\" title=\"\" undefined=\"\" width=\"46\">--</td> <td align=\"center\" hbdata=\"2023-05-07#5l000D307290#YW_#\" hbid=\"2023-05-07#AOH#CUW#5l000D307290#YW_#01#上海虹桥#20#重庆北#UjKPvsS8YgIy3ZoO9HzGb1%2FYvmp5zE%2B9XYWSltO1AU8WPTwRvEGjLJY4SF2F4nc89e0GKk9vlfAL%0A9tV%2FJwC086KR0VU6mggyea8U3dmzxARsJWV%2Bb9p8u4%2BNMMsVIxyIWkjE5xHTpMlEGjV%2FjYsyZFy3%0Aizv%2FyQRqQG2syIQ2u4HkVUiC9HqdScyDTYqHQfmR58LduHYvLRaZVY9QX72oWfa1VA4At1%2BDMpf9%0ANG%2FDFlrDRQlIK%2BzGDCuqwJDKVcRFadfSu6KTxmy0xxbvf%2Ft2Pntlr%2B%2FXQ7u4f9vZ2fi4fBzbsSls%0AjwFDInZh56gRFFYKtapzXRFGzl1BrLjB#D3072#\" id=\"YW_5l000D307290\" ifalow_maxlength=\"1\" onclick=\"showTicketPrice(this)\" style=\"cursor: pointer;\" title=\"\" undefined=\"\" width=\"46\">--</td> <td align=\"center\" hbdata=\"2023-05-07#5l000D307290#RZ_#\" hbid=\"2023-05-07#AOH#CUW#5l000D307290#RZ_#01#上海虹桥#20#重庆北#UjKPvsS8YgIy3ZoO9HzGb1%2FYvmp5zE%2B9XYWSltO1AU8WPTwRvEGjLJY4SF2F4nc89e0GKk9vlfAL%0A9tV%2FJwC086KR0VU6mggyea8U3dmzxARsJWV%2Bb9p8u4%2BNMMsVIxyIWkjE5xHTpMlEGjV%2FjYsyZFy3%0Aizv%2FyQRqQG2syIQ2u4HkVUiC9HqdScyDTYqHQfmR58LduHYvLRaZVY9QX72oWfa1VA4At1%2BDMpf9%0ANG%2FDFlrDRQlIK%2BzGDCuqwJDKVcRFadfSu6KTxmy0xxbvf%2Ft2Pntlr%2B%2FXQ7u4f9vZ2fi4fBzbsSls%0AjwFDInZh56gRFFYKtapzXRFGzl1BrLjB#D3072#\" id=\"RZ_5l000D307290\" ifalow_maxlength=\"1\" onclick=\"showTicketPrice(this)\" style=\"cursor: pointer;\" title=\"\" undefined=\"\" width=\"46\">--</td> <td align=\"center\" hbdata=\"2023-05-07#5l000D307290#YZ_#\" hbid=\"2023-05-07#AOH#CUW#5l000D307290#YZ_#01#上海虹桥#20#重庆北#UjKPvsS8YgIy3ZoO9HzGb1%2FYvmp5zE%2B9XYWSltO1AU8WPTwRvEGjLJY4SF2F4nc89e0GKk9vlfAL%0A9tV%2FJwC086KR0VU6mggyea8U3dmzxARsJWV%2Bb9p8u4%2BNMMsVIxyIWkjE5xHTpMlEGjV%2FjYsyZFy3%0Aizv%2FyQRqQG2syIQ2u4HkVUiC9HqdScyDTYqHQfmR58LduHYvLRaZVY9QX72oWfa1VA4At1%2BDMpf9%0ANG%2FDFlrDRQlIK%2BzGDCuqwJDKVcRFadfSu6KTxmy0xxbvf%2Ft2Pntlr%2B%2FXQ7u4f9vZ2fi4fBzbsSls%0AjwFDInZh56gRFFYKtapzXRFGzl1BrLjB#D3072#\" id=\"YZ_5l000D307290\" ifalow_maxlength=\"1\" onclick=\"showTicketPrice(this)\" style=\"cursor: pointer;\" title=\"\" undefined=\"\" width=\"46\">--</td><td align=\"center\" aria-label=\"D3072次列车，无座票价593.5元，余票有\" class=\"yes\" hbdata=\"2023-05-07#5l000D307290#WZ_#\" hbid=\"2023-05-07#AOH#CUW#5l000D307290#WZ_#01#上海虹桥#20#重庆北#UjKPvsS8YgIy3ZoO9HzGb1%2FYvmp5zE%2B9XYWSltO1AU8WPTwRvEGjLJY4SF2F4nc89e0GKk9vlfAL%0A9tV%2FJwC086KR0VU6mggyea8U3dmzxARsJWV%2Bb9p8u4%2BNMMsVIxyIWkjE5xHTpMlEGjV%2FjYsyZFy3%0Aizv%2FyQRqQG2syIQ2u4HkVUiC9HqdScyDTYqHQfmR58LduHYvLRaZVY9QX72oWfa1VA4At1%2BDMpf9%0ANG%2FDFlrDRQlIK%2BzGDCuqwJDKVcRFadfSu6KTxmy0xxbvf%2Ft2Pntlr%2B%2FXQ7u4f9vZ2fi4fBzbsSls%0AjwFDInZh56gRFFYKtapzXRFGzl1BrLjB#D3072#\" id=\"WZ_5l000D307290\" onclick=\"showTicketPrice(this)\" style=\"cursor: pointer;\" tabindex=\"0\" width=\"46\">有</td> <td align=\"center\" hbdata=\"2023-05-07#5l000D307290#QT_#\" hbid=\"2023-05-07#AOH#CUW#5l000D307290#QT_#01#上海虹桥#20#重庆北#UjKPvsS8YgIy3ZoO9HzGb1%2FYvmp5zE%2B9XYWSltO1AU8WPTwRvEGjLJY4SF2F4nc89e0GKk9vlfAL%0A9tV%2FJwC086KR0VU6mggyea8U3dmzxARsJWV%2Bb9p8u4%2BNMMsVIxyIWkjE5xHTpMlEGjV%2FjYsyZFy3%0Aizv%2FyQRqQG2syIQ2u4HkVUiC9HqdScyDTYqHQfmR58LduHYvLRaZVY9QX72oWfa1VA4At1%2BDMpf9%0ANG%2FDFlrDRQlIK%2BzGDCuqwJDKVcRFadfSu6KTxmy0xxbvf%2Ft2Pntlr%2B%2FXQ7u4f9vZ2fi4fBzbsSls%0AjwFDInZh56gRFFYKtapzXRFGzl1BrLjB#D3072#\" id=\"QT_5l000D307290\" ifalow_maxlength=\"1\" onclick=\"showTicketPrice(this)\" style=\"cursor: pointer;\" title=\"\" undefined=\"\" width=\"46\">--</td> <td align=\"center\" class=\"no-br\" width=\"80\"><a aria-label=\"预订D3072次车07:02从上海虹桥出发，19:24到重庆北,当日到达历时12:22的车票\" class=\"btn72\" href=\"javascript:\" onclick=\"checkG1234('UjKPvsS8YgIy3ZoO9HzGb1%2FYvmp5zE%2B9XYWSltO1AU8WPTwRvEGjLJY4SF2F4nc89e0GKk9vlfAL%0A9tV%2FJwC086KR0VU6mggyea8U3dmzxARsJWV%2Bb9p8u4%2BNMMsVIxyIWkjE5xHTpMlEGjV%2FjYsyZFy3%0Aizv%2FyQRqQG2syIQ2u4HkVUiC9HqdScyDTYqHQfmR58LduHYvLRaZVY9QX72oWfa1VA4At1%2BDMpf9%0ANG%2FDFlrDRQlIK%2BzGDCuqwJDKVcRFadfSu6KTxmy0xxbvf%2Ft2Pntlr%2B%2FXQ7u4f9vZ2fi4fBzbsSls%0AjwFDInZh56gRFFYKtapzXRFGzl1BrLjB','07:02','5l000D307290','AOH','CUW')\">预订</a></td></tr><tr datatran=\"D3072\" id=\"price_5l000D307290_01_20\" style=\"display:none;\"></tr><tr class=\"bgc\" id=\"ticket_5l000G197481_01_24\"><td colspan=\"4\" width=\"370\"><div class=\"ticket-info clearfix\" id=\"train_num_4\"><div class=\"train\" id=\"ticket_5l000G197481_01_24_train\"><div><a class=\"number\" href=\"javascript:\" id=\"5l000G197481_AOH_CXW\" onclick=\"myStopStation.open('4','5l000G197481','AOH','CXW','20230507','3');\" style=\"height: 18px; line-height: 18px;\" title=\"点击查看停靠站信息\">G1974</a><div class=\"train-type\"><div class=\"train-type-item item-fu\" title=\"复兴号\">复</div></div></div><span class=\"lookup\" id=\"5l000G197481_01_24_2Iqmj0S9RRnhtXv%2BHf%2BUZEaPpZuw7fNz95xMJfM23KML55FW_9MO\" onclick=\"showTicketPrice(this)\"><span style=\"display:none;\">查看票价</span><b aria-label=\"查看票价,按回车键操作\" tabindex=\"0\" title=\"查看票价\"></b></span></div><div class=\"cdz\"><strong class=\"start-s\" title=\"上海虹桥\">上海虹桥</strong><strong class=\"end-s\" title=\"重庆西\">重庆西</strong></div><div class=\"cds\"><strong class=\"start-t\">07:17</strong><strong class=\"color999\">20:27</strong></div><div class=\"ls\" id=\"5l000G197481_ls\"><strong>13:10</strong><span>当日到达</span></div></div></td><td align=\"center\" aria-label=\"G1974次列车，商务座票价3405.5元，余票4\" class=\"t-num\" hbdata=\"2023-05-07#5l000G197481#SWZ_#\" hbid=\"2023-05-07#AOH#CXW#5l000G197481#SWZ_#01#上海虹桥#24#重庆西#sDHI1kf0GRVhTt5knRY4OTDYTAc4SYhuRXEM215FZ5oYapQP18NSev5NBNR1P9ZJ5ZvSYBo29vf8%0AQN8HyEx5cIALnXUfkzF8TDRTFX%2FdN6%2BcsVuZImUX4MKjzcoMqtuEYK0k1JhrE6emByfSVQC7WP0E%0Awz93eTeynPJR6BuOazaeq%2FHyxOzeH1Eb8rZnY39rgA1gGWEw8abl9Lt3x2zzYZDykVuoVCQvOvGu%0AJJExlkGclx4RflNrvn9HN7JYjDQRZvZs3pYa8zLy9gGDXLwIE485y9H%2BT5eVp29%2Fy1SUscC4999W%0A8t%2B7TUlUw%2BFvQ3v5kzovLAB%2BUghP0oQn#G1974#\" id=\"SWZ_5l000G197481\" ifalow_maxlength=\"1\" onclick=\"showTicketPrice(this)\" style=\"cursor: pointer;\" tabindex=\"0\" title=\"\" width=\"46\"><div>4</div></td><td align=\"center\" aria-label=\"G1974次列车，一等座票价1769.5元，余票有\" class=\"yes\" hbdata=\"2023-05-07#5l000G197481#ZY_#\" hbid=\"2023-05-07#AOH#CXW#5l000G197481#ZY_#01#上海虹桥#24#重庆西#sDHI1kf0GRVhTt5knRY4OTDYTAc4SYhuRXEM215FZ5oYapQP18NSev5NBNR1P9ZJ5ZvSYBo29vf8%0AQN8HyEx5cIALnXUfkzF8TDRTFX%2FdN6%2BcsVuZImUX4MKjzcoMqtuEYK0k1JhrE6emByfSVQC7WP0E%0Awz93eTeynPJR6BuOazaeq%2FHyxOzeH1Eb8rZnY39rgA1gGWEw8abl9Lt3x2zzYZDykVuoVCQvOvGu%0AJJExlkGclx4RflNrvn9HN7JYjDQRZvZs3pYa8zLy9gGDXLwIE485y9H%2BT5eVp29%2Fy1SUscC4999W%0A8t%2B7TUlUw%2BFvQ3v5kzovLAB%2BUghP0oQn#G1974#\" id=\"ZY_5l000G197481\" onclick=\"showTicketPrice(this)\" style=\"cursor: pointer;\" tabindex=\"0\" width=\"46\">有</td><td align=\"center\" aria-label=\"G1974次列车，二等座票价1090元，余票有\" class=\"yes\" hbdata=\"2023-05-07#5l000G197481#ZE_#\" hbid=\"2023-05-07#AOH#CXW#5l000G197481#ZE_#01#上海虹桥#24#重庆西#sDHI1kf0GRVhTt5knRY4OTDYTAc4SYhuRXEM215FZ5oYapQP18NSev5NBNR1P9ZJ5ZvSYBo29vf8%0AQN8HyEx5cIALnXUfkzF8TDRTFX%2FdN6%2BcsVuZImUX4MKjzcoMqtuEYK0k1JhrE6emByfSVQC7WP0E%0Awz93eTeynPJR6BuOazaeq%2FHyxOzeH1Eb8rZnY39rgA1gGWEw8abl9Lt3x2zzYZDykVuoVCQvOvGu%0AJJExlkGclx4RflNrvn9HN7JYjDQRZvZs3pYa8zLy9gGDXLwIE485y9H%2BT5eVp29%2Fy1SUscC4999W%0A8t%2B7TUlUw%2BFvQ3v5kzovLAB%2BUghP0oQn#G1974#\" id=\"ZE_5l000G197481\" onclick=\"showTicketPrice(this)\" style=\"cursor: pointer;\" tabindex=\"0\" width=\"46\">有</td> <td align=\"center\" hbdata=\"2023-05-07#5l000G197481#GR_#\" hbid=\"2023-05-07#AOH#CXW#5l000G197481#GR_#01#上海虹桥#24#重庆西#sDHI1kf0GRVhTt5knRY4OTDYTAc4SYhuRXEM215FZ5oYapQP18NSev5NBNR1P9ZJ5ZvSYBo29vf8%0AQN8HyEx5cIALnXUfkzF8TDRTFX%2FdN6%2BcsVuZImUX4MKjzcoMqtuEYK0k1JhrE6emByfSVQC7WP0E%0Awz93eTeynPJR6BuOazaeq%2FHyxOzeH1Eb8rZnY39rgA1gGWEw8abl9Lt3x2zzYZDykVuoVCQvOvGu%0AJJExlkGclx4RflNrvn9HN7JYjDQRZvZs3pYa8zLy9gGDXLwIE485y9H%2BT5eVp29%2Fy1SUscC4999W%0A8t%2B7TUlUw%2BFvQ3v5kzovLAB%2BUghP0oQn#G1974#\" id=\"GR_5l000G197481\" ifalow_maxlength=\"1\" onclick=\"showTicketPrice(this)\" style=\"cursor: pointer;\" title=\"\" undefined=\"\" width=\"46\">--</td> <td align=\"center\" hbdata=\"2023-05-07#5l000G197481#RW_#\" hbid=\"2023-05-07#AOH#CXW#5l000G197481#RW_#01#上海虹桥#24#重庆西#sDHI1kf0GRVhTt5knRY4OTDYTAc4SYhuRXEM215FZ5oYapQP18NSev5NBNR1P9ZJ5ZvSYBo29vf8%0AQN8HyEx5cIALnXUfkzF8TDRTFX%2FdN6%2BcsVuZImUX4MKjzcoMqtuEYK0k1JhrE6emByfSVQC7WP0E%0Awz93eTeynPJR6BuOazaeq%2FHyxOzeH1Eb8rZnY39rgA1gGWEw8abl9Lt3x2zzYZDykVuoVCQvOvGu%0AJJExlkGclx4RflNrvn9HN7JYjDQRZvZs3pYa8zLy9gGDXLwIE485y9H%2BT5eVp29%2Fy1SUscC4999W%0A8t%2B7TUlUw%2BFvQ3v5kzovLAB%2BUghP0oQn#G1974#\" id=\"RW_5l000G197481\" ifalow_maxlength=\"1\" onclick=\"showTicketPrice(this)\" style=\"cursor: pointer;\" title=\"\" undefined=\"\" width=\"46\">--</td> <td align=\"center\" hbdata=\"2023-05-07#5l000G197481#SRRB_#\" hbid=\"2023-05-07#AOH#CXW#5l000G197481#SRRB_#01#上海虹桥#24#重庆西#sDHI1kf0GRVhTt5knRY4OTDYTAc4SYhuRXEM215FZ5oYapQP18NSev5NBNR1P9ZJ5ZvSYBo29vf8%0AQN8HyEx5cIALnXUfkzF8TDRTFX%2FdN6%2BcsVuZImUX4MKjzcoMqtuEYK0k1JhrE6emByfSVQC7WP0E%0Awz93eTeynPJR6BuOazaeq%2FHyxOzeH1Eb8rZnY39rgA1gGWEw8abl9Lt3x2zzYZDykVuoVCQvOvGu%0AJJExlkGclx4RflNrvn9HN7JYjDQRZvZs3pYa8zLy9gGDXLwIE485y9H%2BT5eVp29%2Fy1SUscC4999W%0A8t%2B7TUlUw%2BFvQ3v5kzovLAB%2BUghP0oQn#G1974#\" id=\"SRRB_5l000G197481\" ifalow_maxlength=\"1\" onclick=\"showTicketPrice(this)\" style=\"cursor: pointer;\" title=\"\" undefined=\"\" width=\"46\">--</td> <td align=\"center\" hbdata=\"2023-05-07#5l000G197481#YW_#\" hbid=\"2023-05-07#AOH#CXW#5l000G197481#YW_#01#上海虹桥#24#重庆西#sDHI1kf0GRVhTt5knRY4OTDYTAc4SYhuRXEM215FZ5oYapQP18NSev5NBNR1P9ZJ5ZvSYBo29vf8%0AQN8HyEx5cIALnXUfkzF8TDRTFX%2FdN6%2BcsVuZImUX4MKjzcoMqtuEYK0k1JhrE6emByfSVQC7WP0E%0Awz93eTeynPJR6BuOazaeq%2FHyxOzeH1Eb8rZnY39rgA1gGWEw8abl9Lt3x2zzYZDykVuoVCQvOvGu%0AJJExlkGclx4RflNrvn9HN7JYjDQRZvZs3pYa8zLy9gGDXLwIE485y9H%2BT5eVp29%2Fy1SUscC4999W%0A8t%2B7TUlUw%2BFvQ3v5kzovLAB%2BUghP0oQn#G1974#\" id=\"YW_5l000G197481\" ifalow_maxlength=\"1\" onclick=\"showTicketPrice(this)\" style=\"cursor: pointer;\" title=\"\" undefined=\"\" width=\"46\">--</td> <td align=\"center\" hbdata=\"2023-05-07#5l000G197481#RZ_#\" hbid=\"2023-05-07#AOH#CXW#5l000G197481#RZ_#01#上海虹桥#24#重庆西#sDHI1kf0GRVhTt5knRY4OTDYTAc4SYhuRXEM215FZ5oYapQP18NSev5NBNR1P9ZJ5ZvSYBo29vf8%0AQN8HyEx5cIALnXUfkzF8TDRTFX%2FdN6%2BcsVuZImUX4MKjzcoMqtuEYK0k1JhrE6emByfSVQC7WP0E%0Awz93eTeynPJR6BuOazaeq%2FHyxOzeH1Eb8rZnY39rgA1gGWEw8abl9Lt3x2zzYZDykVuoVCQvOvGu%0AJJExlkGclx4RflNrvn9HN7JYjDQRZvZs3pYa8zLy9gGDXLwIE485y9H%2BT5eVp29%2Fy1SUscC4999W%0A8t%2B7TUlUw%2BFvQ3v5kzovLAB%2BUghP0oQn#G1974#\" id=\"RZ_5l000G197481\" ifalow_maxlength=\"1\" onclick=\"showTicketPrice(this)\" style=\"cursor: pointer;\" title=\"\" undefined=\"\" width=\"46\">--</td> <td align=\"center\" hbdata=\"2023-05-07#5l000G197481#YZ_#\" hbid=\"2023-05-07#AOH#CXW#5l000G197481#YZ_#01#上海虹桥#24#重庆西#sDHI1kf0GRVhTt5knRY4OTDYTAc4SYhuRXEM215FZ5oYapQP18NSev5NBNR1P9ZJ5ZvSYBo29vf8%0AQN8HyEx5cIALnXUfkzF8TDRTFX%2FdN6%2BcsVuZImUX4MKjzcoMqtuEYK0k1JhrE6emByfSVQC7WP0E%0Awz93eTeynPJR6BuOazaeq%2FHyxOzeH1Eb8rZnY39rgA1gGWEw8abl9Lt3x2zzYZDykVuoVCQvOvGu%0AJJExlkGclx4RflNrvn9HN7JYjDQRZvZs3pYa8zLy9gGDXLwIE485y9H%2BT5eVp29%2Fy1SUscC4999W%0A8t%2B7TUlUw%2BFvQ3v5kzovLAB%2BUghP0oQn#G1974#\" id=\"YZ_5l000G197481\" ifalow_maxlength=\"1\" onclick=\"showTicketPrice(this)\" style=\"cursor: pointer;\" title=\"\" undefined=\"\" width=\"46\">--</td> <td align=\"center\" hbdata=\"2023-05-07#5l000G197481#WZ_#\" hbid=\"2023-05-07#AOH#CXW#5l000G197481#WZ_#01#上海虹桥#24#重庆西#sDHI1kf0GRVhTt5knRY4OTDYTAc4SYhuRXEM215FZ5oYapQP18NSev5NBNR1P9ZJ5ZvSYBo29vf8%0AQN8HyEx5cIALnXUfkzF8TDRTFX%2FdN6%2BcsVuZImUX4MKjzcoMqtuEYK0k1JhrE6emByfSVQC7WP0E%0Awz93eTeynPJR6BuOazaeq%2FHyxOzeH1Eb8rZnY39rgA1gGWEw8abl9Lt3x2zzYZDykVuoVCQvOvGu%0AJJExlkGclx4RflNrvn9HN7JYjDQRZvZs3pYa8zLy9gGDXLwIE485y9H%2BT5eVp29%2Fy1SUscC4999W%0A8t%2B7TUlUw%2BFvQ3v5kzovLAB%2BUghP0oQn#G1974#\" id=\"WZ_5l000G197481\" ifalow_maxlength=\"1\" onclick=\"showTicketPrice(this)\" style=\"cursor: pointer;\" title=\"\" undefined=\"\" width=\"46\">--</td> <td align=\"center\" hbdata=\"2023-05-07#5l000G197481#QT_#\" hbid=\"2023-05-07#AOH#CXW#5l000G197481#QT_#01#上海虹桥#24#重庆西#sDHI1kf0GRVhTt5knRY4OTDYTAc4SYhuRXEM215FZ5oYapQP18NSev5NBNR1P9ZJ5ZvSYBo29vf8%0AQN8HyEx5cIALnXUfkzF8TDRTFX%2FdN6%2BcsVuZImUX4MKjzcoMqtuEYK0k1JhrE6emByfSVQC7WP0E%0Awz93eTeynPJR6BuOazaeq%2FHyxOzeH1Eb8rZnY39rgA1gGWEw8abl9Lt3x2zzYZDykVuoVCQvOvGu%0AJJExlkGclx4RflNrvn9HN7JYjDQRZvZs3pYa8zLy9gGDXLwIE485y9H%2BT5eVp29%2Fy1SUscC4999W%0A8t%2B7TUlUw%2BFvQ3v5kzovLAB%2BUghP0oQn#G1974#\" id=\"QT_5l000G197481\" ifalow_maxlength=\"1\" onclick=\"showTicketPrice(this)\" style=\"cursor: pointer;\" title=\"\" undefined=\"\" width=\"46\">--</td> <td align=\"center\" class=\"no-br\" width=\"80\"><a aria-label=\"预订G1974次车07:17从上海虹桥出发，20:27到重庆西,当日到达历时13:10的车票\" class=\"btn72\" href=\"javascript:\" onclick=\"checkG1234('sDHI1kf0GRVhTt5knRY4OTDYTAc4SYhuRXEM215FZ5oYapQP18NSev5NBNR1P9ZJ5ZvSYBo29vf8%0AQN8HyEx5cIALnXUfkzF8TDRTFX%2FdN6%2BcsVuZImUX4MKjzcoMqtuEYK0k1JhrE6emByfSVQC7WP0E%0Awz93eTeynPJR6BuOazaeq%2FHyxOzeH1Eb8rZnY39rgA1gGWEw8abl9Lt3x2zzYZDykVuoVCQvOvGu%0AJJExlkGclx4RflNrvn9HN7JYjDQRZvZs3pYa8zLy9gGDXLwIE485y9H%2BT5eVp29%2Fy1SUscC4999W%0A8t%2B7TUlUw%2BFvQ3v5kzovLAB%2BUghP0oQn','07:17','5l000G197481','AOH','CXW')\">预订</a></td></tr><tr datatran=\"G1974\" id=\"price_5l000G197481_01_24\" style=\"display:none;\"></tr><tr class=\"\" id=\"ticket_55000D305612_01_19\"><td colspan=\"4\" width=\"370\"><div class=\"ticket-info clearfix\" id=\"train_num_5\"><div class=\"train\" id=\"ticket_55000D305612_01_19_train\"><div><a class=\"number\" href=\"javascript:\" id=\"55000D305612_SHH_CUW\" onclick=\"myStopStation.open('5','55000D305612','SHH','CUW','20230507','3');\" title=\"点击查看停靠站信息\">D3056</a><div class=\"train-type\"></div></div><span class=\"lookup\" id=\"55000D305612_01_19_eSUrfg062FPqsRWNV1T4xT1mq2bju7V%2FQ7GSS6jGQRzhHo5%2B_MOO\" onclick=\"showTicketPrice(this)\"><span style=\"display:none;\">查看票价</span><b aria-label=\"查看票价,按回车键操作\" tabindex=\"0\" title=\"查看票价\"></b></span></div><div class=\"cdz\"><strong class=\"start-s\" title=\"上海\">上海</strong><strong>重庆北</strong></div><div class=\"cds\"><strong class=\"start-t\">07:23</strong><strong class=\"color999\">19:38</strong></div><div class=\"ls\" id=\"55000D305612_ls\"><strong>12:15</strong><span>当日到达</span></div></div></td> <td align=\"center\" hbdata=\"2023-05-07#55000D305612#TZ_#\" hbid=\"2023-05-07#SHH#CUW#55000D305612#TZ_#01#上海#19#重庆北#b5izlNxN4%2FzcPtm5u77nTsYFlxQ9nG%2BuXCQVm9Kj6cSNbduu6kg%2FhKL36f%2BdMOcS5aI8EKpnVGjB%0APT0upBEHD%2FHMsutXoPdcYgCCjkrHRU5DfuqgETk2udnGeM%2BDksfAcYcO6%2Bbhr21RyhCghJWpafwr%0A0M3F%2FQLrAwTINje9oFOD1FmRITJeIYF313heWUjw3EEsuzky6wFvDfeWH48EUWyBpwNXq0Y5qdVZ%0Aa0tPSPGuwXKcq%2FziUc7LDDOOwEZqRvrVASEge86VAkmrNWhYeWII22b0LzhIp4AD87%2Bj5fAoK3s7%0AZ7Yh0RvfWDcDNAn59TY0JGH42js%3D#D3056#\" id=\"TZ_55000D305612\" ifalow_maxlength=\"1\" onclick=\"showTicketPrice(this)\" style=\"cursor: pointer;\" title=\"\" undefined=\"\" width=\"46\">--</td><td align=\"center\" aria-label=\"D3056次列车，一等座票价949元，余票有\" class=\"yes\" hbdata=\"2023-05-07#55000D305612#ZY_#\" hbid=\"2023-05-07#SHH#CUW#55000D305612#ZY_#01#上海#19#重庆北#b5izlNxN4%2FzcPtm5u77nTsYFlxQ9nG%2BuXCQVm9Kj6cSNbduu6kg%2FhKL36f%2BdMOcS5aI8EKpnVGjB%0APT0upBEHD%2FHMsutXoPdcYgCCjkrHRU5DfuqgETk2udnGeM%2BDksfAcYcO6%2Bbhr21RyhCghJWpafwr%0A0M3F%2FQLrAwTINje9oFOD1FmRITJeIYF313heWUjw3EEsuzky6wFvDfeWH48EUWyBpwNXq0Y5qdVZ%0Aa0tPSPGuwXKcq%2FziUc7LDDOOwEZqRvrVASEge86VAkmrNWhYeWII22b0LzhIp4AD87%2Bj5fAoK3s7%0AZ7Yh0RvfWDcDNAn59TY0JGH42js%3D#D3056#\" id=\"ZY_55000D305612\" onclick=\"showTicketPrice(this)\" style=\"cursor: pointer;\" tabindex=\"0\" width=\"46\">有</td><td align=\"center\" aria-label=\"D3056次列车，二等座票价593.5元，余票有\" class=\"yes\" hbdata=\"2023-05-07#55000D305612#ZE_#\" hbid=\"2023-05-07#SHH#CUW#55000D305612#ZE_#01#上海#19#重庆北#b5izlNxN4%2FzcPtm5u77nTsYFlxQ9nG%2BuXCQVm9Kj6cSNbduu6kg%2FhKL36f%2BdMOcS5aI8EKpnVGjB%0APT0upBEHD%2FHMsutXoPdcYgCCjkrHRU5DfuqgETk2udnGeM%2BDksfAcYcO6%2Bbhr21RyhCghJWpafwr%0A0M3F%2FQLrAwTINje9oFOD1FmRITJeIYF313heWUjw3EEsuzky6wFvDfeWH48EUWyBpwNXq0Y5qdVZ%0Aa0tPSPGuwXKcq%2FziUc7LDDOOwEZqRvrVASEge86VAkmrNWhYeWII22b0LzhIp4AD87%2Bj5fAoK3s7%0AZ7Yh0RvfWDcDNAn59TY0JGH42js%3D#D3056#\" id=\"ZE_55000D305612\" onclick=\"showTicketPrice(this)\" style=\"cursor: pointer;\" tabindex=\"0\" width=\"46\">有</td> <td align=\"center\" hbdata=\"2023-05-07#55000D305612#GR_#\" hbid=\"2023-05-07#SHH#CUW#55000D305612#GR_#01#上海#19#重庆北#b5izlNxN4%2FzcPtm5u77nTsYFlxQ9nG%2BuXCQVm9Kj6cSNbduu6kg%2FhKL36f%2BdMOcS5aI8EKpnVGjB%0APT0upBEHD%2FHMsutXoPdcYgCCjkrHRU5DfuqgETk2udnGeM%2BDksfAcYcO6%2Bbhr21RyhCghJWpafwr%0A0M3F%2FQLrAwTINje9oFOD1FmRITJeIYF313heWUjw3EEsuzky6wFvDfeWH48EUWyBpwNXq0Y5qdVZ%0Aa0tPSPGuwXKcq%2FziUc7LDDOOwEZqRvrVASEge86VAkmrNWhYeWII22b0LzhIp4AD87%2Bj5fAoK3s7%0AZ7Yh0RvfWDcDNAn59TY0JGH42js%3D#D3056#\" id=\"GR_55000D305612\" ifalow_maxlength=\"1\" onclick=\"showTicketPrice(this)\" style=\"cursor: pointer;\" title=\"\" undefined=\"\" width=\"46\">--</td> <td align=\"center\" hbdata=\"2023-05-07#55000D305612#RW_#\" hbid=\"2023-05-07#SHH#CUW#55000D305612#RW_#01#上海#19#重庆北#b5izlNxN4%2FzcPtm5u77nTsYFlxQ9nG%2BuXCQVm9Kj6cSNbduu6kg%2FhKL36f%2BdMOcS5aI8EKpnVGjB%0APT0upBEHD%2FHMsutXoPdcYgCCjkrHRU5DfuqgETk2udnGeM%2BDksfAcYcO6%2Bbhr21RyhCghJWpafwr%0A0M3F%2FQLrAwTINje9oFOD1FmRITJeIYF313heWUjw3EEsuzky6wFvDfeWH48EUWyBpwNXq0Y5qdVZ%0Aa0tPSPGuwXKcq%2FziUc7LDDOOwEZqRvrVASEge86VAkmrNWhYeWII22b0LzhIp4AD87%2Bj5fAoK3s7%0AZ7Yh0RvfWDcDNAn59TY0JGH42js%3D#D3056#\" id=\"RW_55000D305612\" ifalow_maxlength=\"1\" onclick=\"showTicketPrice(this)\" style=\"cursor: pointer;\" title=\"\" undefined=\"\" width=\"46\">--</td> <td align=\"center\" hbdata=\"2023-05-07#55000D305612#SRRB_#\" hbid=\"2023-05-07#SHH#CUW#55000D305612#SRRB_#01#上海#19#重庆北#b5izlNxN4%2FzcPtm5u77nTsYFlxQ9nG%2BuXCQVm9Kj6cSNbduu6kg%2FhKL36f%2BdMOcS5aI8EKpnVGjB%0APT0upBEHD%2FHMsutXoPdcYgCCjkrHRU5DfuqgETk2udnGeM%2BDksfAcYcO6%2Bbhr21RyhCghJWpafwr%0A0M3F%2FQLrAwTINje9oFOD1FmRITJeIYF313heWUjw3EEsuzky6wFvDfeWH48EUWyBpwNXq0Y5qdVZ%0Aa0tPSPGuwXKcq%2FziUc7LDDOOwEZqRvrVASEge86VAkmrNWhYeWII22b0LzhIp4AD87%2Bj5fAoK3s7%0AZ7Yh0RvfWDcDNAn59TY0JGH42js%3D#D3056#\" id=\"SRRB_55000D305612\" ifalow_maxlength=\"1\" onclick=\"showTicketPrice(this)\" style=\"cursor: pointer;\" title=\"\" undefined=\"\" width=\"46\">--</td> <td align=\"center\" hbdata=\"2023-05-07#55000D305612#YW_#\" hbid=\"2023-05-07#SHH#CUW#55000D305612#YW_#01#上海#19#重庆北#b5izlNxN4%2FzcPtm5u77nTsYFlxQ9nG%2BuXCQVm9Kj6cSNbduu6kg%2FhKL36f%2BdMOcS5aI8EKpnVGjB%0APT0upBEHD%2FHMsutXoPdcYgCCjkrHRU5DfuqgETk2udnGeM%2BDksfAcYcO6%2Bbhr21RyhCghJWpafwr%0A0M3F%2FQLrAwTINje9oFOD1FmRITJeIYF313heWUjw3EEsuzky6wFvDfeWH48EUWyBpwNXq0Y5qdVZ%0Aa0tPSPGuwXKcq%2FziUc7LDDOOwEZqRvrVASEge86VAkmrNWhYeWII22b0LzhIp4AD87%2Bj5fAoK3s7%0AZ7Yh0RvfWDcDNAn59TY0JGH42js%3D#D3056#\" id=\"YW_55000D305612\" ifalow_maxlength=\"1\" onclick=\"showTicketPrice(this)\" style=\"cursor: pointer;\" title=\"\" undefined=\"\" width=\"46\">--</td> <td align=\"center\" hbdata=\"2023-05-07#55000D305612#RZ_#\" hbid=\"2023-05-07#SHH#CUW#55000D305612#RZ_#01#上海#19#重庆北#b5izlNxN4%2FzcPtm5u77nTsYFlxQ9nG%2BuXCQVm9Kj6cSNbduu6kg%2FhKL36f%2BdMOcS5aI8EKpnVGjB%0APT0upBEHD%2FHMsutXoPdcYgCCjkrHRU5DfuqgETk2udnGeM%2BDksfAcYcO6%2Bbhr21RyhCghJWpafwr%0A0M3F%2FQLrAwTINje9oFOD1FmRITJeIYF313heWUjw3EEsuzky6wFvDfeWH48EUWyBpwNXq0Y5qdVZ%0Aa0tPSPGuwXKcq%2FziUc7LDDOOwEZqRvrVASEge86VAkmrNWhYeWII22b0LzhIp4AD87%2Bj5fAoK3s7%0AZ7Yh0RvfWDcDNAn59TY0JGH42js%3D#D3056#\" id=\"RZ_55000D305612\" ifalow_maxlength=\"1\" onclick=\"showTicketPrice(this)\" style=\"cursor: pointer;\" title=\"\" undefined=\"\" width=\"46\">--</td> <td align=\"center\" hbdata=\"2023-05-07#55000D305612#YZ_#\" hbid=\"2023-05-07#SHH#CUW#55000D305612#YZ_#01#上海#19#重庆北#b5izlNxN4%2FzcPtm5u77nTsYFlxQ9nG%2BuXCQVm9Kj6cSNbduu6kg%2FhKL36f%2BdMOcS5aI8EKpnVGjB%0APT0upBEHD%2FHMsutXoPdcYgCCjkrHRU5DfuqgETk2udnGeM%2BDksfAcYcO6%2Bbhr21RyhCghJWpafwr%0A0M3F%2FQLrAwTINje9oFOD1FmRITJeIYF313heWUjw3EEsuzky6wFvDfeWH48EUWyBpwNXq0Y5qdVZ%0Aa0tPSPGuwXKcq%2FziUc7LDDOOwEZqRvrVASEge86VAkmrNWhYeWII22b0LzhIp4AD87%2Bj5fAoK3s7%0AZ7Yh0RvfWDcDNAn59TY0JGH42js%3D#D3056#\" id=\"YZ_55000D305612\" ifalow_maxlength=\"1\" onclick=\"showTicketPrice(this)\" style=\"cursor: pointer;\" title=\"\" undefined=\"\" width=\"46\">--</td><td align=\"center\" aria-label=\"D3056次列车，无座票价593.5元，余票有\" class=\"yes\" hbdata=\"2023-05-07#55000D305612#WZ_#\" hbid=\"2023-05-07#SHH#CUW#55000D305612#WZ_#01#上海#19#重庆北#b5izlNxN4%2FzcPtm5u77nTsYFlxQ9nG%2BuXCQVm9Kj6cSNbduu6kg%2FhKL36f%2BdMOcS5aI8EKpnVGjB%0APT0upBEHD%2FHMsutXoPdcYgCCjkrHRU5DfuqgETk2udnGeM%2BDksfAcYcO6%2Bbhr21RyhCghJWpafwr%0A0M3F%2FQLrAwTINje9oFOD1FmRITJeIYF313heWUjw3EEsuzky6wFvDfeWH48EUWyBpwNXq0Y5qdVZ%0Aa0tPSPGuwXKcq%2FziUc7LDDOOwEZqRvrVASEge86VAkmrNWhYeWII22b0LzhIp4AD87%2Bj5fAoK3s7%0AZ7Yh0RvfWDcDNAn59TY0JGH42js%3D#D3056#\" id=\"WZ_55000D305612\" onclick=\"showTicketPrice(this)\" style=\"cursor: pointer;\" tabindex=\"0\" width=\"46\">有</td> <td align=\"center\" hbdata=\"2023-05-07#55000D305612#QT_#\" hbid=\"2023-05-07#SHH#CUW#55000D305612#QT_#01#上海#19#重庆北#b5izlNxN4%2FzcPtm5u77nTsYFlxQ9nG%2BuXCQVm9Kj6cSNbduu6kg%2FhKL36f%2BdMOcS5aI8EKpnVGjB%0APT0upBEHD%2FHMsutXoPdcYgCCjkrHRU5DfuqgETk2udnGeM%2BDksfAcYcO6%2Bbhr21RyhCghJWpafwr%0A0M3F%2FQLrAwTINje9oFOD1FmRITJeIYF313heWUjw3EEsuzky6wFvDfeWH48EUWyBpwNXq0Y5qdVZ%0Aa0tPSPGuwXKcq%2FziUc7LDDOOwEZqRvrVASEge86VAkmrNWhYeWII22b0LzhIp4AD87%2Bj5fAoK3s7%0AZ7Yh0RvfWDcDNAn59TY0JGH42js%3D#D3056#\" id=\"QT_55000D305612\" ifalow_maxlength=\"1\" onclick=\"showTicketPrice(this)\" style=\"cursor: pointer;\" title=\"\" undefined=\"\" width=\"46\">--</td> <td align=\"center\" class=\"no-br\" width=\"80\"><a aria-label=\"预订D3056次车07:23从上海出发，19:38到重庆北,当日到达历时12:15的车票\" class=\"btn72\" href=\"javascript:\" onclick=\"checkG1234('b5izlNxN4%2FzcPtm5u77nTsYFlxQ9nG%2BuXCQVm9Kj6cSNbduu6kg%2FhKL36f%2BdMOcS5aI8EKpnVGjB%0APT0upBEHD%2FHMsutXoPdcYgCCjkrHRU5DfuqgETk2udnGeM%2BDksfAcYcO6%2Bbhr21RyhCghJWpafwr%0A0M3F%2FQLrAwTINje9oFOD1FmRITJeIYF313heWUjw3EEsuzky6wFvDfeWH48EUWyBpwNXq0Y5qdVZ%0Aa0tPSPGuwXKcq%2FziUc7LDDOOwEZqRvrVASEge86VAkmrNWhYeWII22b0LzhIp4AD87%2Bj5fAoK3s7%0AZ7Yh0RvfWDcDNAn59TY0JGH42js%3D','07:23','55000D305612','SHH','CUW')\">预订</a></td></tr><tr datatran=\"D3056\" id=\"price_55000D305612_01_19\" style=\"display:none;\"></tr><tr class=\"bgc\" id=\"ticket_5l000D221602_01_22\"><td colspan=\"4\" width=\"370\"><div class=\"ticket-info clearfix\" id=\"train_num_6\"><div class=\"train\" id=\"ticket_5l000D221602_01_22_train\"><div><a class=\"number\" href=\"javascript:\" id=\"5l000D221602_AOH_CUW\" onclick=\"myStopStation.open('6','5l000D221602','AOH','CUW','20230507','3');\" title=\"点击查看停靠站信息\">D2216</a><div class=\"train-type\"></div></div><span class=\"lookup\" id=\"5l000D221602_01_22_atuO0bT7GbBPoVzTJP%2BiP%2Fe7UW4%2F1Q3oIgWwmKOpwKwWgTmg_MOO\" onclick=\"showTicketPrice(this)\"><span style=\"display:none;\">查看票价</span><b aria-label=\"查看票价,按回车键操作\" tabindex=\"0\" title=\"查看票价\"></b></span></div><div class=\"cdz\"><strong class=\"start-s\" title=\"上海虹桥\">上海虹桥</strong><strong class=\"end-s\" title=\"重庆北\">重庆北</strong></div><div class=\"cds\"><strong class=\"start-t\">07:37</strong><strong class=\"color999\">21:20</strong></div><div class=\"ls\" id=\"5l000D221602_ls\"><strong>13:43</strong><span>当日到达</span></div></div></td> <td align=\"center\" hbdata=\"2023-05-07#5l000D221602#TZ_#\" hbid=\"2023-05-07#AOH#CUW#5l000D221602#TZ_#01#上海虹桥#22#重庆北#97rrwvywXBn78hGtXOMKxtR1KTxZKIGEe7C9CX5eUw%2BKt2djtszr%2FHci7Ad1R4DXTAGmtdGApHZJ%0A6GVsfmDVRNKyUlcpaG8ZfB2BKo8VxY6tRwjEqwcAA0072M7%2BkpyHeGSu4jkMo7YccxcnvJkOuVPf%0Af9zOH2yRSR%2B%2F33jYu%2F5jJe%2BComxZyuXCmDvXuqLrdCT3qicsjLiwGiDZiLQNr3oiS%2BVAypD37wiR%0Ac31dIYe%2BrEZzy8TpJVg1%2FctthZNFS2cWDRkJCfd8UoaiXipIu2qZztcKyWpLeZJrk2VBwyT3BI6A%0ANGmEdt5b2vEqh4c%2FRfdOSd9Lr93jOTdh#D2216#\" id=\"TZ_5l000D221602\" ifalow_maxlength=\"1\" onclick=\"showTicketPrice(this)\" style=\"cursor: pointer;\" title=\"\" undefined=\"\" width=\"46\">--</td><td align=\"center\" aria-label=\"D2216次列车，一等座票价982元，余票有\" class=\"yes\" hbdata=\"2023-05-07#5l000D221602#ZY_#\" hbid=\"2023-05-07#AOH#CUW#5l000D221602#ZY_#01#上海虹桥#22#重庆北#97rrwvywXBn78hGtXOMKxtR1KTxZKIGEe7C9CX5eUw%2BKt2djtszr%2FHci7Ad1R4DXTAGmtdGApHZJ%0A6GVsfmDVRNKyUlcpaG8ZfB2BKo8VxY6tRwjEqwcAA0072M7%2BkpyHeGSu4jkMo7YccxcnvJkOuVPf%0Af9zOH2yRSR%2B%2F33jYu%2F5jJe%2BComxZyuXCmDvXuqLrdCT3qicsjLiwGiDZiLQNr3oiS%2BVAypD37wiR%0Ac31dIYe%2BrEZzy8TpJVg1%2FctthZNFS2cWDRkJCfd8UoaiXipIu2qZztcKyWpLeZJrk2VBwyT3BI6A%0ANGmEdt5b2vEqh4c%2FRfdOSd9Lr93jOTdh#D2216#\" id=\"ZY_5l000D221602\" onclick=\"showTicketPrice(this)\" style=\"cursor: pointer;\" tabindex=\"0\" width=\"46\">有</td><td align=\"center\" aria-label=\"D2216次列车，二等座票价615.5元，余票有\" class=\"yes\" hbdata=\"2023-05-07#5l000D221602#ZE_#\" hbid=\"2023-05-07#AOH#CUW#5l000D221602#ZE_#01#上海虹桥#22#重庆北#97rrwvywXBn78hGtXOMKxtR1KTxZKIGEe7C9CX5eUw%2BKt2djtszr%2FHci7Ad1R4DXTAGmtdGApHZJ%0A6GVsfmDVRNKyUlcpaG8ZfB2BKo8VxY6tRwjEqwcAA0072M7%2BkpyHeGSu4jkMo7YccxcnvJkOuVPf%0Af9zOH2yRSR%2B%2F33jYu%2F5jJe%2BComxZyuXCmDvXuqLrdCT3qicsjLiwGiDZiLQNr3oiS%2BVAypD37wiR%0Ac31dIYe%2BrEZzy8TpJVg1%2FctthZNFS2cWDRkJCfd8UoaiXipIu2qZztcKyWpLeZJrk2VBwyT3BI6A%0ANGmEdt5b2vEqh4c%2FRfdOSd9Lr93jOTdh#D2216#\" id=\"ZE_5l000D221602\" onclick=\"showTicketPrice(this)\" style=\"cursor: pointer;\" tabindex=\"0\" width=\"46\">有</td> <td align=\"center\" hbdata=\"2023-05-07#5l000D221602#GR_#\" hbid=\"2023-05-07#AOH#CUW#5l000D221602#GR_#01#上海虹桥#22#重庆北#97rrwvywXBn78hGtXOMKxtR1KTxZKIGEe7C9CX5eUw%2BKt2djtszr%2FHci7Ad1R4DXTAGmtdGApHZJ%0A6GVsfmDVRNKyUlcpaG8ZfB2BKo8VxY6tRwjEqwcAA0072M7%2BkpyHeGSu4jkMo7YccxcnvJkOuVPf%0Af9zOH2yRSR%2B%2F33jYu%2F5jJe%2BComxZyuXCmDvXuqLrdCT3qicsjLiwGiDZiLQNr3oiS%2BVAypD37wiR%0Ac31dIYe%2BrEZzy8TpJVg1%2FctthZNFS2cWDRkJCfd8UoaiXipIu2qZztcKyWpLeZJrk2VBwyT3BI6A%0ANGmEdt5b2vEqh4c%2FRfdOSd9Lr93jOTdh#D2216#\" id=\"GR_5l000D221602\" ifalow_maxlength=\"1\" onclick=\"showTicketPrice(this)\" style=\"cursor: pointer;\" title=\"\" undefined=\"\" width=\"46\">--</td> <td align=\"center\" hbdata=\"2023-05-07#5l000D221602#RW_#\" hbid=\"2023-05-07#AOH#CUW#5l000D221602#RW_#01#上海虹桥#22#重庆北#97rrwvywXBn78hGtXOMKxtR1KTxZKIGEe7C9CX5eUw%2BKt2djtszr%2FHci7Ad1R4DXTAGmtdGApHZJ%0A6GVsfmDVRNKyUlcpaG8ZfB2BKo8VxY6tRwjEqwcAA0072M7%2BkpyHeGSu4jkMo7YccxcnvJkOuVPf%0Af9zOH2yRSR%2B%2F33jYu%2F5jJe%2BComxZyuXCmDvXuqLrdCT3qicsjLiwGiDZiLQNr3oiS%2BVAypD37wiR%0Ac31dIYe%2BrEZzy8TpJVg1%2FctthZNFS2cWDRkJCfd8UoaiXipIu2qZztcKyWpLeZJrk2VBwyT3BI6A%0ANGmEdt5b2vEqh4c%2FRfdOSd9Lr93jOTdh#D2216#\" id=\"RW_5l000D221602\" ifalow_maxlength=\"1\" onclick=\"showTicketPrice(this)\" style=\"cursor: pointer;\" title=\"\" undefined=\"\" width=\"46\">--</td> <td align=\"center\" hbdata=\"2023-05-07#5l000D221602#SRRB_#\" hbid=\"2023-05-07#AOH#CUW#5l000D221602#SRRB_#01#上海虹桥#22#重庆北#97rrwvywXBn78hGtXOMKxtR1KTxZKIGEe7C9CX5eUw%2BKt2djtszr%2FHci7Ad1R4DXTAGmtdGApHZJ%0A6GVsfmDVRNKyUlcpaG8ZfB2BKo8VxY6tRwjEqwcAA0072M7%2BkpyHeGSu4jkMo7YccxcnvJkOuVPf%0Af9zOH2yRSR%2B%2F33jYu%2F5jJe%2BComxZyuXCmDvXuqLrdCT3qicsjLiwGiDZiLQNr3oiS%2BVAypD37wiR%0Ac31dIYe%2BrEZzy8TpJVg1%2FctthZNFS2cWDRkJCfd8UoaiXipIu2qZztcKyWpLeZJrk2VBwyT3BI6A%0ANGmEdt5b2vEqh4c%2FRfdOSd9Lr93jOTdh#D2216#\" id=\"SRRB_5l000D221602\" ifalow_maxlength=\"1\" onclick=\"showTicketPrice(this)\" style=\"cursor: pointer;\" title=\"\" undefined=\"\" width=\"46\">--</td> <td align=\"center\" hbdata=\"2023-05-07#5l000D221602#YW_#\" hbid=\"2023-05-07#AOH#CUW#5l000D221602#YW_#01#上海虹桥#22#重庆北#97rrwvywXBn78hGtXOMKxtR1KTxZKIGEe7C9CX5eUw%2BKt2djtszr%2FHci7Ad1R4DXTAGmtdGApHZJ%0A6GVsfmDVRNKyUlcpaG8ZfB2BKo8VxY6tRwjEqwcAA0072M7%2BkpyHeGSu4jkMo7YccxcnvJkOuVPf%0Af9zOH2yRSR%2B%2F33jYu%2F5jJe%2BComxZyuXCmDvXuqLrdCT3qicsjLiwGiDZiLQNr3oiS%2BVAypD37wiR%0Ac31dIYe%2BrEZzy8TpJVg1%2FctthZNFS2cWDRkJCfd8UoaiXipIu2qZztcKyWpLeZJrk2VBwyT3BI6A%0ANGmEdt5b2vEqh4c%2FRfdOSd9Lr93jOTdh#D2216#\" id=\"YW_5l000D221602\" ifalow_maxlength=\"1\" onclick=\"showTicketPrice(this)\" style=\"cursor: pointer;\" title=\"\" undefined=\"\" width=\"46\">--</td> <td align=\"center\" hbdata=\"2023-05-07#5l000D221602#RZ_#\" hbid=\"2023-05-07#AOH#CUW#5l000D221602#RZ_#01#上海虹桥#22#重庆北#97rrwvywXBn78hGtXOMKxtR1KTxZKIGEe7C9CX5eUw%2BKt2djtszr%2FHci7Ad1R4DXTAGmtdGApHZJ%0A6GVsfmDVRNKyUlcpaG8ZfB2BKo8VxY6tRwjEqwcAA0072M7%2BkpyHeGSu4jkMo7YccxcnvJkOuVPf%0Af9zOH2yRSR%2B%2F33jYu%2F5jJe%2BComxZyuXCmDvXuqLrdCT3qicsjLiwGiDZiLQNr3oiS%2BVAypD37wiR%0Ac31dIYe%2BrEZzy8TpJVg1%2FctthZNFS2cWDRkJCfd8UoaiXipIu2qZztcKyWpLeZJrk2VBwyT3BI6A%0ANGmEdt5b2vEqh4c%2FRfdOSd9Lr93jOTdh#D2216#\" id=\"RZ_5l000D221602\" ifalow_maxlength=\"1\" onclick=\"showTicketPrice(this)\" style=\"cursor: pointer;\" title=\"\" undefined=\"\" width=\"46\">--</td> <td align=\"center\" hbdata=\"2023-05-07#5l000D221602#YZ_#\" hbid=\"2023-05-07#AOH#CUW#5l000D221602#YZ_#01#上海虹桥#22#重庆北#97rrwvywXBn78hGtXOMKxtR1KTxZKIGEe7C9CX5eUw%2BKt2djtszr%2FHci7Ad1R4DXTAGmtdGApHZJ%0A6GVsfmDVRNKyUlcpaG8ZfB2BKo8VxY6tRwjEqwcAA0072M7%2BkpyHeGSu4jkMo7YccxcnvJkOuVPf%0Af9zOH2yRSR%2B%2F33jYu%2F5jJe%2BComxZyuXCmDvXuqLrdCT3qicsjLiwGiDZiLQNr3oiS%2BVAypD37wiR%0Ac31dIYe%2BrEZzy8TpJVg1%2FctthZNFS2cWDRkJCfd8UoaiXipIu2qZztcKyWpLeZJrk2VBwyT3BI6A%0ANGmEdt5b2vEqh4c%2FRfdOSd9Lr93jOTdh#D2216#\" id=\"YZ_5l000D221602\" ifalow_maxlength=\"1\" onclick=\"showTicketPrice(this)\" style=\"cursor: pointer;\" title=\"\" undefined=\"\" width=\"46\">--</td><td align=\"center\" aria-label=\"D2216次列车，无座票价615.5元，余票有\" class=\"yes\" hbdata=\"2023-05-07#5l000D221602#WZ_#\" hbid=\"2023-05-07#AOH#CUW#5l000D221602#WZ_#01#上海虹桥#22#重庆北#97rrwvywXBn78hGtXOMKxtR1KTxZKIGEe7C9CX5eUw%2BKt2djtszr%2FHci7Ad1R4DXTAGmtdGApHZJ%0A6GVsfmDVRNKyUlcpaG8ZfB2BKo8VxY6tRwjEqwcAA0072M7%2BkpyHeGSu4jkMo7YccxcnvJkOuVPf%0Af9zOH2yRSR%2B%2F33jYu%2F5jJe%2BComxZyuXCmDvXuqLrdCT3qicsjLiwGiDZiLQNr3oiS%2BVAypD37wiR%0Ac31dIYe%2BrEZzy8TpJVg1%2FctthZNFS2cWDRkJCfd8UoaiXipIu2qZztcKyWpLeZJrk2VBwyT3BI6A%0ANGmEdt5b2vEqh4c%2FRfdOSd9Lr93jOTdh#D2216#\" id=\"WZ_5l000D221602\" onclick=\"showTicketPrice(this)\" style=\"cursor: pointer;\" tabindex=\"0\" width=\"46\">有</td> <td align=\"center\" hbdata=\"2023-05-07#5l000D221602#QT_#\" hbid=\"2023-05-07#AOH#CUW#5l000D221602#QT_#01#上海虹桥#22#重庆北#97rrwvywXBn78hGtXOMKxtR1KTxZKIGEe7C9CX5eUw%2BKt2djtszr%2FHci7Ad1R4DXTAGmtdGApHZJ%0A6GVsfmDVRNKyUlcpaG8ZfB2BKo8VxY6tRwjEqwcAA0072M7%2BkpyHeGSu4jkMo7YccxcnvJkOuVPf%0Af9zOH2yRSR%2B%2F33jYu%2F5jJe%2BComxZyuXCmDvXuqLrdCT3qicsjLiwGiDZiLQNr3oiS%2BVAypD37wiR%0Ac31dIYe%2BrEZzy8TpJVg1%2FctthZNFS2cWDRkJCfd8UoaiXipIu2qZztcKyWpLeZJrk2VBwyT3BI6A%0ANGmEdt5b2vEqh4c%2FRfdOSd9Lr93jOTdh#D2216#\" id=\"QT_5l000D221602\" ifalow_maxlength=\"1\" onclick=\"showTicketPrice(this)\" style=\"cursor: pointer;\" title=\"\" undefined=\"\" width=\"46\">--</td> <td align=\"center\" class=\"no-br\" width=\"80\"><a aria-label=\"预订D2216次车07:37从上海虹桥出发，21:20到重庆北,当日到达历时13:43的车票\" class=\"btn72\" href=\"javascript:\" onclick=\"checkG1234('97rrwvywXBn78hGtXOMKxtR1KTxZKIGEe7C9CX5eUw%2BKt2djtszr%2FHci7Ad1R4DXTAGmtdGApHZJ%0A6GVsfmDVRNKyUlcpaG8ZfB2BKo8VxY6tRwjEqwcAA0072M7%2BkpyHeGSu4jkMo7YccxcnvJkOuVPf%0Af9zOH2yRSR%2B%2F33jYu%2F5jJe%2BComxZyuXCmDvXuqLrdCT3qicsjLiwGiDZiLQNr3oiS%2BVAypD37wiR%0Ac31dIYe%2BrEZzy8TpJVg1%2FctthZNFS2cWDRkJCfd8UoaiXipIu2qZztcKyWpLeZJrk2VBwyT3BI6A%0ANGmEdt5b2vEqh4c%2FRfdOSd9Lr93jOTdh','07:37','5l000D221602','AOH','CUW')\">预订<i class=\"ico-dh\"></i></a></td></tr><tr datatran=\"D2216\" id=\"price_5l000D221602_01_22\" style=\"display:none;\"></tr><tr class=\"\" id=\"ticket_5q000D221202_04_24\"><td colspan=\"4\" width=\"370\"><div class=\"ticket-info clearfix\" id=\"train_num_7\"><div class=\"train\" id=\"ticket_5q000D221202_04_24_train\"><div><a class=\"number\" href=\"javascript:\" id=\"5q000D221202_AOH_CUW\" onclick=\"myStopStation.open('7','5q000D221202','AOH','CUW','20230507','3');\" title=\"点击查看停靠站信息\">D2212</a><div class=\"train-type\"></div></div><span class=\"lookup\" id=\"5q000D221202_04_24_vT3KmaEMHnYqE4vCZ%2BjsXQwyGHEUR7ZirPmYsh%2Fimw1SNHWs_MOO\" onclick=\"showTicketPrice(this)\"><span style=\"display:none;\">查看票价</span><b aria-label=\"查看票价,按回车键操作\" tabindex=\"0\" title=\"查看票价\"></b></span></div><div class=\"cdz\"><strong>上海虹桥</strong><strong class=\"end-s\" title=\"重庆北\">重庆北</strong></div><div class=\"cds\"><strong class=\"start-t\">07:42</strong><strong class=\"color999\">20:19</strong></div><div class=\"ls\" id=\"5q000D221202_ls\"><strong>12:37</strong><span>当日到达</span></div></div></td> <td align=\"center\" hbdata=\"2023-05-07#5q000D221202#TZ_#\" hbid=\"2023-05-07#AOH#CUW#5q000D221202#TZ_#04#上海虹桥#24#重庆北#RW3MvgSr1TO2trqQl3C8Oqz3Nb5rIzZsHCxkAwY7Ps9vraolyoKigLbdHne8IXld92m6q7QEpvVM%0ALWSxrj9Q%2FhTc3t7MVumstSI4h39cNDx%2FbJq4poy2a3UDmoqg2djPy0xQyJE6oEJakXmsy1NbNkv4%0A6dy8e1jhKMfY10hhrY0NkDdKpjjJRsDpxfq%2Foo%2FT2GooqD2EndtosVUCB1%2Bq11qzuEVGXA31D7Qs%0AVRSqpHlmA4YN%2FNonw99DN%2BoMN7CBbGxJ%2BiNNVJoswSzMZZrrKqJFe3Wb9nsbp1USu6hYrNOqBQB4%0Aja9D0LtlSL2evugecDYyZ2xBOitTnRmo#D2212#\" id=\"TZ_5q000D221202\" ifalow_maxlength=\"1\" onclick=\"showTicketPrice(this)\" style=\"cursor: pointer;\" title=\"\" undefined=\"\" width=\"46\">--</td><td align=\"center\" aria-label=\"D2212次列车，一等座票价935元，余票18\" class=\"t-num\" hbdata=\"2023-05-07#5q000D221202#ZY_#\" hbid=\"2023-05-07#AOH#CUW#5q000D221202#ZY_#04#上海虹桥#24#重庆北#RW3MvgSr1TO2trqQl3C8Oqz3Nb5rIzZsHCxkAwY7Ps9vraolyoKigLbdHne8IXld92m6q7QEpvVM%0ALWSxrj9Q%2FhTc3t7MVumstSI4h39cNDx%2FbJq4poy2a3UDmoqg2djPy0xQyJE6oEJakXmsy1NbNkv4%0A6dy8e1jhKMfY10hhrY0NkDdKpjjJRsDpxfq%2Foo%2FT2GooqD2EndtosVUCB1%2Bq11qzuEVGXA31D7Qs%0AVRSqpHlmA4YN%2FNonw99DN%2BoMN7CBbGxJ%2BiNNVJoswSzMZZrrKqJFe3Wb9nsbp1USu6hYrNOqBQB4%0Aja9D0LtlSL2evugecDYyZ2xBOitTnRmo#D2212#\" id=\"ZY_5q000D221202\" ifalow_maxlength=\"1\" onclick=\"showTicketPrice(this)\" style=\"cursor: pointer;\" tabindex=\"0\" title=\"\" width=\"46\"><div>18</div></td><td align=\"center\" aria-label=\"D2212次列车，二等座票价585元，余票有\" class=\"yes\" hbdata=\"2023-05-07#5q000D221202#ZE_#\" hbid=\"2023-05-07#AOH#CUW#5q000D221202#ZE_#04#上海虹桥#24#重庆北#RW3MvgSr1TO2trqQl3C8Oqz3Nb5rIzZsHCxkAwY7Ps9vraolyoKigLbdHne8IXld92m6q7QEpvVM%0ALWSxrj9Q%2FhTc3t7MVumstSI4h39cNDx%2FbJq4poy2a3UDmoqg2djPy0xQyJE6oEJakXmsy1NbNkv4%0A6dy8e1jhKMfY10hhrY0NkDdKpjjJRsDpxfq%2Foo%2FT2GooqD2EndtosVUCB1%2Bq11qzuEVGXA31D7Qs%0AVRSqpHlmA4YN%2FNonw99DN%2BoMN7CBbGxJ%2BiNNVJoswSzMZZrrKqJFe3Wb9nsbp1USu6hYrNOqBQB4%0Aja9D0LtlSL2evugecDYyZ2xBOitTnRmo#D2212#\" id=\"ZE_5q000D221202\" onclick=\"showTicketPrice(this)\" style=\"cursor: pointer;\" tabindex=\"0\" width=\"46\">有</td> <td align=\"center\" hbdata=\"2023-05-07#5q000D221202#GR_#\" hbid=\"2023-05-07#AOH#CUW#5q000D221202#GR_#04#上海虹桥#24#重庆北#RW3MvgSr1TO2trqQl3C8Oqz3Nb5rIzZsHCxkAwY7Ps9vraolyoKigLbdHne8IXld92m6q7QEpvVM%0ALWSxrj9Q%2FhTc3t7MVumstSI4h39cNDx%2FbJq4poy2a3UDmoqg2djPy0xQyJE6oEJakXmsy1NbNkv4%0A6dy8e1jhKMfY10hhrY0NkDdKpjjJRsDpxfq%2Foo%2FT2GooqD2EndtosVUCB1%2Bq11qzuEVGXA31D7Qs%0AVRSqpHlmA4YN%2FNonw99DN%2BoMN7CBbGxJ%2BiNNVJoswSzMZZrrKqJFe3Wb9nsbp1USu6hYrNOqBQB4%0Aja9D0LtlSL2evugecDYyZ2xBOitTnRmo#D2212#\" id=\"GR_5q000D221202\" ifalow_maxlength=\"1\" onclick=\"showTicketPrice(this)\" style=\"cursor: pointer;\" title=\"\" undefined=\"\" width=\"46\">--</td> <td align=\"center\" hbdata=\"2023-05-07#5q000D221202#RW_#\" hbid=\"2023-05-07#AOH#CUW#5q000D221202#RW_#04#上海虹桥#24#重庆北#RW3MvgSr1TO2trqQl3C8Oqz3Nb5rIzZsHCxkAwY7Ps9vraolyoKigLbdHne8IXld92m6q7QEpvVM%0ALWSxrj9Q%2FhTc3t7MVumstSI4h39cNDx%2FbJq4poy2a3UDmoqg2djPy0xQyJE6oEJakXmsy1NbNkv4%0A6dy8e1jhKMfY10hhrY0NkDdKpjjJRsDpxfq%2Foo%2FT2GooqD2EndtosVUCB1%2Bq11qzuEVGXA31D7Qs%0AVRSqpHlmA4YN%2FNonw99DN%2BoMN7CBbGxJ%2BiNNVJoswSzMZZrrKqJFe3Wb9nsbp1USu6hYrNOqBQB4%0Aja9D0LtlSL2evugecDYyZ2xBOitTnRmo#D2212#\" id=\"RW_5q000D221202\" ifalow_maxlength=\"1\" onclick=\"showTicketPrice(this)\" style=\"cursor: pointer;\" title=\"\" undefined=\"\" width=\"46\">--</td> <td align=\"center\" hbdata=\"2023-05-07#5q000D221202#SRRB_#\" hbid=\"2023-05-07#AOH#CUW#5q000D221202#SRRB_#04#上海虹桥#24#重庆北#RW3MvgSr1TO2trqQl3C8Oqz3Nb5rIzZsHCxkAwY7Ps9vraolyoKigLbdHne8IXld92m6q7QEpvVM%0ALWSxrj9Q%2FhTc3t7MVumstSI4h39cNDx%2FbJq4poy2a3UDmoqg2djPy0xQyJE6oEJakXmsy1NbNkv4%0A6dy8e1jhKMfY10hhrY0NkDdKpjjJRsDpxfq%2Foo%2FT2GooqD2EndtosVUCB1%2Bq11qzuEVGXA31D7Qs%0AVRSqpHlmA4YN%2FNonw99DN%2BoMN7CBbGxJ%2BiNNVJoswSzMZZrrKqJFe3Wb9nsbp1USu6hYrNOqBQB4%0Aja9D0LtlSL2evugecDYyZ2xBOitTnRmo#D2212#\" id=\"SRRB_5q000D221202\" ifalow_maxlength=\"1\" onclick=\"showTicketPrice(this)\" style=\"cursor: pointer;\" title=\"\" undefined=\"\" width=\"46\">--</td> <td align=\"center\" hbdata=\"2023-05-07#5q000D221202#YW_#\" hbid=\"2023-05-07#AOH#CUW#5q000D221202#YW_#04#上海虹桥#24#重庆北#RW3MvgSr1TO2trqQl3C8Oqz3Nb5rIzZsHCxkAwY7Ps9vraolyoKigLbdHne8IXld92m6q7QEpvVM%0ALWSxrj9Q%2FhTc3t7MVumstSI4h39cNDx%2FbJq4poy2a3UDmoqg2djPy0xQyJE6oEJakXmsy1NbNkv4%0A6dy8e1jhKMfY10hhrY0NkDdKpjjJRsDpxfq%2Foo%2FT2GooqD2EndtosVUCB1%2Bq11qzuEVGXA31D7Qs%0AVRSqpHlmA4YN%2FNonw99DN%2BoMN7CBbGxJ%2BiNNVJoswSzMZZrrKqJFe3Wb9nsbp1USu6hYrNOqBQB4%0Aja9D0LtlSL2evugecDYyZ2xBOitTnRmo#D2212#\" id=\"YW_5q000D221202\" ifalow_maxlength=\"1\" onclick=\"showTicketPrice(this)\" style=\"cursor: pointer;\" title=\"\" undefined=\"\" width=\"46\">--</td> <td align=\"center\" hbdata=\"2023-05-07#5q000D221202#RZ_#\" hbid=\"2023-05-07#AOH#CUW#5q000D221202#RZ_#04#上海虹桥#24#重庆北#RW3MvgSr1TO2trqQl3C8Oqz3Nb5rIzZsHCxkAwY7Ps9vraolyoKigLbdHne8IXld92m6q7QEpvVM%0ALWSxrj9Q%2FhTc3t7MVumstSI4h39cNDx%2FbJq4poy2a3UDmoqg2djPy0xQyJE6oEJakXmsy1NbNkv4%0A6dy8e1jhKMfY10hhrY0NkDdKpjjJRsDpxfq%2Foo%2FT2GooqD2EndtosVUCB1%2Bq11qzuEVGXA31D7Qs%0AVRSqpHlmA4YN%2FNonw99DN%2BoMN7CBbGxJ%2BiNNVJoswSzMZZrrKqJFe3Wb9nsbp1USu6hYrNOqBQB4%0Aja9D0LtlSL2evugecDYyZ2xBOitTnRmo#D2212#\" id=\"RZ_5q000D221202\" ifalow_maxlength=\"1\" onclick=\"showTicketPrice(this)\" style=\"cursor: pointer;\" title=\"\" undefined=\"\" width=\"46\">--</td> <td align=\"center\" hbdata=\"2023-05-07#5q000D221202#YZ_#\" hbid=\"2023-05-07#AOH#CUW#5q000D221202#YZ_#04#上海虹桥#24#重庆北#RW3MvgSr1TO2trqQl3C8Oqz3Nb5rIzZsHCxkAwY7Ps9vraolyoKigLbdHne8IXld92m6q7QEpvVM%0ALWSxrj9Q%2FhTc3t7MVumstSI4h39cNDx%2FbJq4poy2a3UDmoqg2djPy0xQyJE6oEJakXmsy1NbNkv4%0A6dy8e1jhKMfY10hhrY0NkDdKpjjJRsDpxfq%2Foo%2FT2GooqD2EndtosVUCB1%2Bq11qzuEVGXA31D7Qs%0AVRSqpHlmA4YN%2FNonw99DN%2BoMN7CBbGxJ%2BiNNVJoswSzMZZrrKqJFe3Wb9nsbp1USu6hYrNOqBQB4%0Aja9D0LtlSL2evugecDYyZ2xBOitTnRmo#D2212#\" id=\"YZ_5q000D221202\" ifalow_maxlength=\"1\" onclick=\"showTicketPrice(this)\" style=\"cursor: pointer;\" title=\"\" undefined=\"\" width=\"46\">--</td><td align=\"center\" aria-label=\"D2212次列车，无座票价585元，余票无\" hbdata=\"2023-05-07#5q000D221202#WZ_#\" hbid=\"2023-05-07#AOH#CUW#5q000D221202#WZ_#04#上海虹桥#24#重庆北#RW3MvgSr1TO2trqQl3C8Oqz3Nb5rIzZsHCxkAwY7Ps9vraolyoKigLbdHne8IXld92m6q7QEpvVM%0ALWSxrj9Q%2FhTc3t7MVumstSI4h39cNDx%2FbJq4poy2a3UDmoqg2djPy0xQyJE6oEJakXmsy1NbNkv4%0A6dy8e1jhKMfY10hhrY0NkDdKpjjJRsDpxfq%2Foo%2FT2GooqD2EndtosVUCB1%2Bq11qzuEVGXA31D7Qs%0AVRSqpHlmA4YN%2FNonw99DN%2BoMN7CBbGxJ%2BiNNVJoswSzMZZrrKqJFe3Wb9nsbp1USu6hYrNOqBQB4%0Aja9D0LtlSL2evugecDYyZ2xBOitTnRmo#D2212#\" id=\"WZ_5q000D221202\" ifalow_maxlength=\"1\" onclick=\"showTicketPrice(this)\" style=\"cursor: pointer;\" tabindex=\"0\" title=\"\" width=\"46\">无</td> <td align=\"center\" hbdata=\"2023-05-07#5q000D221202#QT_#\" hbid=\"2023-05-07#AOH#CUW#5q000D221202#QT_#04#上海虹桥#24#重庆北#RW3MvgSr1TO2trqQl3C8Oqz3Nb5rIzZsHCxkAwY7Ps9vraolyoKigLbdHne8IXld92m6q7QEpvVM%0ALWSxrj9Q%2FhTc3t7MVumstSI4h39cNDx%2FbJq4poy2a3UDmoqg2djPy0xQyJE6oEJakXmsy1NbNkv4%0A6dy8e1jhKMfY10hhrY0NkDdKpjjJRsDpxfq%2Foo%2FT2GooqD2EndtosVUCB1%2Bq11qzuEVGXA31D7Qs%0AVRSqpHlmA4YN%2FNonw99DN%2BoMN7CBbGxJ%2BiNNVJoswSzMZZrrKqJFe3Wb9nsbp1USu6hYrNOqBQB4%0Aja9D0LtlSL2evugecDYyZ2xBOitTnRmo#D2212#\" id=\"QT_5q000D221202\" ifalow_maxlength=\"1\" onclick=\"showTicketPrice(this)\" style=\"cursor: pointer;\" title=\"\" undefined=\"\" width=\"46\">--</td> <td align=\"center\" class=\"no-br\" width=\"80\"><a aria-label=\"预订D2212次车07:42从上海虹桥出发，20:19到重庆北,当日到达历时12:37的车票\" class=\"btn72\" href=\"javascript:\" onclick=\"checkG1234('RW3MvgSr1TO2trqQl3C8Oqz3Nb5rIzZsHCxkAwY7Ps9vraolyoKigLbdHne8IXld92m6q7QEpvVM%0ALWSxrj9Q%2FhTc3t7MVumstSI4h39cNDx%2FbJq4poy2a3UDmoqg2djPy0xQyJE6oEJakXmsy1NbNkv4%0A6dy8e1jhKMfY10hhrY0NkDdKpjjJRsDpxfq%2Foo%2FT2GooqD2EndtosVUCB1%2Bq11qzuEVGXA31D7Qs%0AVRSqpHlmA4YN%2FNonw99DN%2BoMN7CBbGxJ%2BiNNVJoswSzMZZrrKqJFe3Wb9nsbp1USu6hYrNOqBQB4%0Aja9D0LtlSL2evugecDYyZ2xBOitTnRmo','07:42','5q000D221202','AOH','CUW')\">预订</a></td></tr><tr datatran=\"D2212\" id=\"price_5q000D221202_04_24\" style=\"display:none;\"></tr><tr class=\"bgc\" id=\"ticket_5l000G328850_01_29\"><td colspan=\"4\" width=\"370\"><div class=\"ticket-info clearfix\" id=\"train_num_8\"><div class=\"train\" id=\"ticket_5l000G328850_01_29_train\"><div><a class=\"number\" href=\"javascript:\" id=\"5l000G328850_AOH_CYW\" onclick=\"myStopStation.open('8','5l000G328850','AOH','CYW','20230507','3');\" style=\"height: 18px; line-height: 18px;\" title=\"点击查看停靠站信息\">G3288</a><div class=\"train-type\"><div class=\"train-type-item item-fu\" title=\"复兴号\">复</div></div></div><span class=\"lookup\" id=\"5l000G328850_01_29_GhYBHddMUmf%2Fq4mhAFYDvb2xzk3m8o47UQ3sxRCxXZMv0%2Fnr_9MO\" onclick=\"showTicketPrice(this)\"><span style=\"display:none;\">查看票价</span><b aria-label=\"查看票价,按回车键操作\" class=\"\" tabindex=\"0\" title=\"查看票价\"></b></span></div><div class=\"cdz\"><strong class=\"start-s\" title=\"上海虹桥\">上海虹桥</strong><strong class=\"end-s\" title=\"沙坪坝\">沙坪坝</strong></div><div class=\"cds\"><strong class=\"start-t\">07:49</strong><strong class=\"color999\">21:48</strong></div><div class=\"ls\" id=\"5l000G328850_ls\"><strong>13:59</strong><span>当日到达</span></div></div></td><td align=\"center\" aria-label=\"G3288次列车，商务座票价3383.5元，余票5\" class=\"t-num\" hbdata=\"2023-05-07#5l000G328850#SWZ_#\" hbid=\"2023-05-07#AOH#CYW#5l000G328850#SWZ_#01#上海虹桥#29#沙坪坝#21Z%2BqRBDDax%2FiI6%2F%2FvEfAxHUZzDTrmfBUTxfo2wMlWkwDPgGeXilXSuBBtVikOXE9X8xnAT6bl%2B5%0A7AIhxHEwICxM%2FCV%2B1OHrm4ywKeBe6FCMwCbAmdPh3MmI4mc17nVD1HKgTDWWGxdAAx%2FwZAbjaIjo%0A4JrOKcAJlTJZdbnwjrDJoBHshtYA44RxA25ZwfYEHHvf2vpUP831pZSeBdj1wwEHEEjVIWCwdDtU%0AzxA8hvg4ZmyL24hg6CQsjwDuH%2BTCI6NB6hVPCBuuTL%2BYflUveLJZ9Oxj%2BnavuN6l7gDSvwlHgck1%0AWSmF2pUk%2BMFTOx5PUUPYCL8EllqIwO1O#G3288#\" id=\"SWZ_5l000G328850\" ifalow_maxlength=\"1\" onclick=\"showTicketPrice(this)\" style=\"cursor: pointer;\" tabindex=\"0\" title=\"\" width=\"46\"><div>5</div></td><td align=\"center\" aria-label=\"G3288次列车，一等座票价1743.5元，余票10\" class=\"t-num\" hbdata=\"2023-05-07#5l000G328850#ZY_#\" hbid=\"2023-05-07#AOH#CYW#5l000G328850#ZY_#01#上海虹桥#29#沙坪坝#21Z%2BqRBDDax%2FiI6%2F%2FvEfAxHUZzDTrmfBUTxfo2wMlWkwDPgGeXilXSuBBtVikOXE9X8xnAT6bl%2B5%0A7AIhxHEwICxM%2FCV%2B1OHrm4ywKeBe6FCMwCbAmdPh3MmI4mc17nVD1HKgTDWWGxdAAx%2FwZAbjaIjo%0A4JrOKcAJlTJZdbnwjrDJoBHshtYA44RxA25ZwfYEHHvf2vpUP831pZSeBdj1wwEHEEjVIWCwdDtU%0AzxA8hvg4ZmyL24hg6CQsjwDuH%2BTCI6NB6hVPCBuuTL%2BYflUveLJZ9Oxj%2BnavuN6l7gDSvwlHgck1%0AWSmF2pUk%2BMFTOx5PUUPYCL8EllqIwO1O#G3288#\" id=\"ZY_5l000G328850\" ifalow_maxlength=\"1\" onclick=\"showTicketPrice(this)\" style=\"cursor: pointer;\" tabindex=\"0\" title=\"\" width=\"46\"><div>10</div></td><td align=\"center\" aria-label=\"G3288次列车，二等座票价1091元，余票有\" class=\"yes\" hbdata=\"2023-05-07#5l000G328850#ZE_#\" hbid=\"2023-05-07#AOH#CYW#5l000G328850#ZE_#01#上海虹桥#29#沙坪坝#21Z%2BqRBDDax%2FiI6%2F%2FvEfAxHUZzDTrmfBUTxfo2wMlWkwDPgGeXilXSuBBtVikOXE9X8xnAT6bl%2B5%0A7AIhxHEwICxM%2FCV%2B1OHrm4ywKeBe6FCMwCbAmdPh3MmI4mc17nVD1HKgTDWWGxdAAx%2FwZAbjaIjo%0A4JrOKcAJlTJZdbnwjrDJoBHshtYA44RxA25ZwfYEHHvf2vpUP831pZSeBdj1wwEHEEjVIWCwdDtU%0AzxA8hvg4ZmyL24hg6CQsjwDuH%2BTCI6NB6hVPCBuuTL%2BYflUveLJZ9Oxj%2BnavuN6l7gDSvwlHgck1%0AWSmF2pUk%2BMFTOx5PUUPYCL8EllqIwO1O#G3288#\" id=\"ZE_5l000G328850\" onclick=\"showTicketPrice(this)\" style=\"cursor: pointer;\" tabindex=\"0\" width=\"46\">有</td> <td align=\"center\" hbdata=\"2023-05-07#5l000G328850#GR_#\" hbid=\"2023-05-07#AOH#CYW#5l000G328850#GR_#01#上海虹桥#29#沙坪坝#21Z%2BqRBDDax%2FiI6%2F%2FvEfAxHUZzDTrmfBUTxfo2wMlWkwDPgGeXilXSuBBtVikOXE9X8xnAT6bl%2B5%0A7AIhxHEwICxM%2FCV%2B1OHrm4ywKeBe6FCMwCbAmdPh3MmI4mc17nVD1HKgTDWWGxdAAx%2FwZAbjaIjo%0A4JrOKcAJlTJZdbnwjrDJoBHshtYA44RxA25ZwfYEHHvf2vpUP831pZSeBdj1wwEHEEjVIWCwdDtU%0AzxA8hvg4ZmyL24hg6CQsjwDuH%2BTCI6NB6hVPCBuuTL%2BYflUveLJZ9Oxj%2BnavuN6l7gDSvwlHgck1%0AWSmF2pUk%2BMFTOx5PUUPYCL8EllqIwO1O#G3288#\" id=\"GR_5l000G328850\" ifalow_maxlength=\"1\" onclick=\"showTicketPrice(this)\" style=\"cursor: pointer;\" title=\"\" undefined=\"\" width=\"46\">--</td> <td align=\"center\" hbdata=\"2023-05-07#5l000G328850#RW_#\" hbid=\"2023-05-07#AOH#CYW#5l000G328850#RW_#01#上海虹桥#29#沙坪坝#21Z%2BqRBDDax%2FiI6%2F%2FvEfAxHUZzDTrmfBUTxfo2wMlWkwDPgGeXilXSuBBtVikOXE9X8xnAT6bl%2B5%0A7AIhxHEwICxM%2FCV%2B1OHrm4ywKeBe6FCMwCbAmdPh3MmI4mc17nVD1HKgTDWWGxdAAx%2FwZAbjaIjo%0A4JrOKcAJlTJZdbnwjrDJoBHshtYA44RxA25ZwfYEHHvf2vpUP831pZSeBdj1wwEHEEjVIWCwdDtU%0AzxA8hvg4ZmyL24hg6CQsjwDuH%2BTCI6NB6hVPCBuuTL%2BYflUveLJZ9Oxj%2BnavuN6l7gDSvwlHgck1%0AWSmF2pUk%2BMFTOx5PUUPYCL8EllqIwO1O#G3288#\" id=\"RW_5l000G328850\" ifalow_maxlength=\"1\" onclick=\"showTicketPrice(this)\" style=\"cursor: pointer;\" title=\"\" undefined=\"\" width=\"46\">--</td> <td align=\"center\" hbdata=\"2023-05-07#5l000G328850#SRRB_#\" hbid=\"2023-05-07#AOH#CYW#5l000G328850#SRRB_#01#上海虹桥#29#沙坪坝#21Z%2BqRBDDax%2FiI6%2F%2FvEfAxHUZzDTrmfBUTxfo2wMlWkwDPgGeXilXSuBBtVikOXE9X8xnAT6bl%2B5%0A7AIhxHEwICxM%2FCV%2B1OHrm4ywKeBe6FCMwCbAmdPh3MmI4mc17nVD1HKgTDWWGxdAAx%2FwZAbjaIjo%0A4JrOKcAJlTJZdbnwjrDJoBHshtYA44RxA25ZwfYEHHvf2vpUP831pZSeBdj1wwEHEEjVIWCwdDtU%0AzxA8hvg4ZmyL24hg6CQsjwDuH%2BTCI6NB6hVPCBuuTL%2BYflUveLJZ9Oxj%2BnavuN6l7gDSvwlHgck1%0AWSmF2pUk%2BMFTOx5PUUPYCL8EllqIwO1O#G3288#\" id=\"SRRB_5l000G328850\" ifalow_maxlength=\"1\" onclick=\"showTicketPrice(this)\" style=\"cursor: pointer;\" title=\"\" undefined=\"\" width=\"46\">--</td> <td align=\"center\" hbdata=\"2023-05-07#5l000G328850#YW_#\" hbid=\"2023-05-07#AOH#CYW#5l000G328850#YW_#01#上海虹桥#29#沙坪坝#21Z%2BqRBDDax%2FiI6%2F%2FvEfAxHUZzDTrmfBUTxfo2wMlWkwDPgGeXilXSuBBtVikOXE9X8xnAT6bl%2B5%0A7AIhxHEwICxM%2FCV%2B1OHrm4ywKeBe6FCMwCbAmdPh3MmI4mc17nVD1HKgTDWWGxdAAx%2FwZAbjaIjo%0A4JrOKcAJlTJZdbnwjrDJoBHshtYA44RxA25ZwfYEHHvf2vpUP831pZSeBdj1wwEHEEjVIWCwdDtU%0AzxA8hvg4ZmyL24hg6CQsjwDuH%2BTCI6NB6hVPCBuuTL%2BYflUveLJZ9Oxj%2BnavuN6l7gDSvwlHgck1%0AWSmF2pUk%2BMFTOx5PUUPYCL8EllqIwO1O#G3288#\" id=\"YW_5l000G328850\" ifalow_maxlength=\"1\" onclick=\"showTicketPrice(this)\" style=\"cursor: pointer;\" title=\"\" undefined=\"\" width=\"46\">--</td> <td align=\"center\" hbdata=\"2023-05-07#5l000G328850#RZ_#\" hbid=\"2023-05-07#AOH#CYW#5l000G328850#RZ_#01#上海虹桥#29#沙坪坝#21Z%2BqRBDDax%2FiI6%2F%2FvEfAxHUZzDTrmfBUTxfo2wMlWkwDPgGeXilXSuBBtVikOXE9X8xnAT6bl%2B5%0A7AIhxHEwICxM%2FCV%2B1OHrm4ywKeBe6FCMwCbAmdPh3MmI4mc17nVD1HKgTDWWGxdAAx%2FwZAbjaIjo%0A4JrOKcAJlTJZdbnwjrDJoBHshtYA44RxA25ZwfYEHHvf2vpUP831pZSeBdj1wwEHEEjVIWCwdDtU%0AzxA8hvg4ZmyL24hg6CQsjwDuH%2BTCI6NB6hVPCBuuTL%2BYflUveLJZ9Oxj%2BnavuN6l7gDSvwlHgck1%0AWSmF2pUk%2BMFTOx5PUUPYCL8EllqIwO1O#G3288#\" id=\"RZ_5l000G328850\" ifalow_maxlength=\"1\" onclick=\"showTicketPrice(this)\" style=\"cursor: pointer;\" title=\"\" undefined=\"\" width=\"46\">--</td> <td align=\"center\" hbdata=\"2023-05-07#5l000G328850#YZ_#\" hbid=\"2023-05-07#AOH#CYW#5l000G328850#YZ_#01#上海虹桥#29#沙坪坝#21Z%2BqRBDDax%2FiI6%2F%2FvEfAxHUZzDTrmfBUTxfo2wMlWkwDPgGeXilXSuBBtVikOXE9X8xnAT6bl%2B5%0A7AIhxHEwICxM%2FCV%2B1OHrm4ywKeBe6FCMwCbAmdPh3MmI4mc17nVD1HKgTDWWGxdAAx%2FwZAbjaIjo%0A4JrOKcAJlTJZdbnwjrDJoBHshtYA44RxA25ZwfYEHHvf2vpUP831pZSeBdj1wwEHEEjVIWCwdDtU%0AzxA8hvg4ZmyL24hg6CQsjwDuH%2BTCI6NB6hVPCBuuTL%2BYflUveLJZ9Oxj%2BnavuN6l7gDSvwlHgck1%0AWSmF2pUk%2BMFTOx5PUUPYCL8EllqIwO1O#G3288#\" id=\"YZ_5l000G328850\" ifalow_maxlength=\"1\" onclick=\"showTicketPrice(this)\" style=\"cursor: pointer;\" title=\"\" undefined=\"\" width=\"46\">--</td> <td align=\"center\" hbdata=\"2023-05-07#5l000G328850#WZ_#\" hbid=\"2023-05-07#AOH#CYW#5l000G328850#WZ_#01#上海虹桥#29#沙坪坝#21Z%2BqRBDDax%2FiI6%2F%2FvEfAxHUZzDTrmfBUTxfo2wMlWkwDPgGeXilXSuBBtVikOXE9X8xnAT6bl%2B5%0A7AIhxHEwICxM%2FCV%2B1OHrm4ywKeBe6FCMwCbAmdPh3MmI4mc17nVD1HKgTDWWGxdAAx%2FwZAbjaIjo%0A4JrOKcAJlTJZdbnwjrDJoBHshtYA44RxA25ZwfYEHHvf2vpUP831pZSeBdj1wwEHEEjVIWCwdDtU%0AzxA8hvg4ZmyL24hg6CQsjwDuH%2BTCI6NB6hVPCBuuTL%2BYflUveLJZ9Oxj%2BnavuN6l7gDSvwlHgck1%0AWSmF2pUk%2BMFTOx5PUUPYCL8EllqIwO1O#G3288#\" id=\"WZ_5l000G328850\" ifalow_maxlength=\"1\" onclick=\"showTicketPrice(this)\" style=\"cursor: pointer;\" title=\"\" undefined=\"\" width=\"46\">--</td> <td align=\"center\" hbdata=\"2023-05-07#5l000G328850#QT_#\" hbid=\"2023-05-07#AOH#CYW#5l000G328850#QT_#01#上海虹桥#29#沙坪坝#21Z%2BqRBDDax%2FiI6%2F%2FvEfAxHUZzDTrmfBUTxfo2wMlWkwDPgGeXilXSuBBtVikOXE9X8xnAT6bl%2B5%0A7AIhxHEwICxM%2FCV%2B1OHrm4ywKeBe6FCMwCbAmdPh3MmI4mc17nVD1HKgTDWWGxdAAx%2FwZAbjaIjo%0A4JrOKcAJlTJZdbnwjrDJoBHshtYA44RxA25ZwfYEHHvf2vpUP831pZSeBdj1wwEHEEjVIWCwdDtU%0AzxA8hvg4ZmyL24hg6CQsjwDuH%2BTCI6NB6hVPCBuuTL%2BYflUveLJZ9Oxj%2BnavuN6l7gDSvwlHgck1%0AWSmF2pUk%2BMFTOx5PUUPYCL8EllqIwO1O#G3288#\" id=\"QT_5l000G328850\" ifalow_maxlength=\"1\" onclick=\"showTicketPrice(this)\" style=\"cursor: pointer;\" title=\"\" undefined=\"\" width=\"46\">--</td> <td align=\"center\" class=\"no-br\" width=\"80\"><a aria-label=\"预订G3288次车07:49从上海虹桥出发，21:48到沙坪坝,当日到达历时13:59的车票\" class=\"btn72\" href=\"javascript:\" onclick=\"checkG1234('21Z%2BqRBDDax%2FiI6%2F%2FvEfAxHUZzDTrmfBUTxfo2wMlWkwDPgGeXilXSuBBtVikOXE9X8xnAT6bl%2B5%0A7AIhxHEwICxM%2FCV%2B1OHrm4ywKeBe6FCMwCbAmdPh3MmI4mc17nVD1HKgTDWWGxdAAx%2FwZAbjaIjo%0A4JrOKcAJlTJZdbnwjrDJoBHshtYA44RxA25ZwfYEHHvf2vpUP831pZSeBdj1wwEHEEjVIWCwdDtU%0AzxA8hvg4ZmyL24hg6CQsjwDuH%2BTCI6NB6hVPCBuuTL%2BYflUveLJZ9Oxj%2BnavuN6l7gDSvwlHgck1%0AWSmF2pUk%2BMFTOx5PUUPYCL8EllqIwO1O','07:49','5l000G328850','AOH','CYW')\">预订</a></td></tr><tr class=\"bgc\" datatran=\"G3288\" id=\"price_5l000G328850_01_29\" style=\"display: none;\"></tr><tr class=\"\" id=\"ticket_5l000D226803_01_20\"><td colspan=\"4\" width=\"370\"><div class=\"ticket-info clearfix\" id=\"train_num_9\"><div class=\"train\" id=\"ticket_5l000D226803_01_20_train\"><div><a class=\"number\" href=\"javascript:\" id=\"5l000D226803_AOH_CUW\" onclick=\"myStopStation.open('9','5l000D226803','AOH','CUW','20230507','3');\" title=\"点击查看停靠站信息\">D2268</a><div class=\"train-type\"></div></div><span class=\"lookup\" id=\"5l000D226803_01_20_lmWgSDi8bsEINhsEhzly9b3z4TE7Hy1bU9YgSkKhrJyZ3FZq_MOO\" onclick=\"showTicketPrice(this)\"><span style=\"display:none;\">查看票价</span><b aria-label=\"查看票价,按回车键操作\" tabindex=\"0\" title=\"查看票价\"></b></span></div><div class=\"cdz\"><strong class=\"start-s\" title=\"上海虹桥\">上海虹桥</strong><strong class=\"end-s\" title=\"重庆北\">重庆北</strong></div><div class=\"cds\"><strong class=\"start-t\">08:01</strong><strong class=\"color999\">21:30</strong></div><div class=\"ls\" id=\"5l000D226803_ls\"><strong>13:29</strong><span>当日到达</span></div></div></td> <td align=\"center\" hbdata=\"2023-05-07#5l000D226803#TZ_#\" hbid=\"2023-05-07#AOH#CUW#5l000D226803#TZ_#01#上海虹桥#20#重庆北#30iUmb%2BMr3fqKanqt8XOUP%2BBVls%2FGVwP%2FKPKna7mtb3PYhS9yzcOr3Rbmdc5Bq13igcgasDt1Wa1%0A5LtD76M82hRi%2BsPrCvdI42xNjQDWyOEUglgv3T9sivu30%2F5X7gKpTTU5TbqMUqUSndcsw5eVnlwO%0AbMF%2F0%2BG0Vz6SsR8efa8i4kej3Rplxx6XjzA8zM6Of9fm%2B%2FnJ6fqxbmGqYCWdYsN7ZPCqtItiEEj7%0A0%2F%2FH%2F4tScrZ24Mxhxt2wyKaZJHi0aLANRuzW9AmofnfrjuXOlvHPz6SrPgEXPZkifgrD29d0Sfh2%0AYIbPuWH2wG2ahpmannbDSm8scM%2F0meut#D2268#\" id=\"TZ_5l000D226803\" ifalow_maxlength=\"1\" onclick=\"showTicketPrice(this)\" style=\"cursor: pointer;\" title=\"\" undefined=\"\" width=\"46\">--</td><td align=\"center\" aria-label=\"D2268次列车，一等座票价1018元，余票有\" class=\"yes\" hbdata=\"2023-05-07#5l000D226803#ZY_#\" hbid=\"2023-05-07#AOH#CUW#5l000D226803#ZY_#01#上海虹桥#20#重庆北#30iUmb%2BMr3fqKanqt8XOUP%2BBVls%2FGVwP%2FKPKna7mtb3PYhS9yzcOr3Rbmdc5Bq13igcgasDt1Wa1%0A5LtD76M82hRi%2BsPrCvdI42xNjQDWyOEUglgv3T9sivu30%2F5X7gKpTTU5TbqMUqUSndcsw5eVnlwO%0AbMF%2F0%2BG0Vz6SsR8efa8i4kej3Rplxx6XjzA8zM6Of9fm%2B%2FnJ6fqxbmGqYCWdYsN7ZPCqtItiEEj7%0A0%2F%2FH%2F4tScrZ24Mxhxt2wyKaZJHi0aLANRuzW9AmofnfrjuXOlvHPz6SrPgEXPZkifgrD29d0Sfh2%0AYIbPuWH2wG2ahpmannbDSm8scM%2F0meut#D2268#\" id=\"ZY_5l000D226803\" onclick=\"showTicketPrice(this)\" style=\"cursor: pointer;\" tabindex=\"0\" width=\"46\">有</td><td align=\"center\" aria-label=\"D2268次列车，二等座票价638.5元，余票有\" class=\"yes\" hbdata=\"2023-05-07#5l000D226803#ZE_#\" hbid=\"2023-05-07#AOH#CUW#5l000D226803#ZE_#01#上海虹桥#20#重庆北#30iUmb%2BMr3fqKanqt8XOUP%2BBVls%2FGVwP%2FKPKna7mtb3PYhS9yzcOr3Rbmdc5Bq13igcgasDt1Wa1%0A5LtD76M82hRi%2BsPrCvdI42xNjQDWyOEUglgv3T9sivu30%2F5X7gKpTTU5TbqMUqUSndcsw5eVnlwO%0AbMF%2F0%2BG0Vz6SsR8efa8i4kej3Rplxx6XjzA8zM6Of9fm%2B%2FnJ6fqxbmGqYCWdYsN7ZPCqtItiEEj7%0A0%2F%2FH%2F4tScrZ24Mxhxt2wyKaZJHi0aLANRuzW9AmofnfrjuXOlvHPz6SrPgEXPZkifgrD29d0Sfh2%0AYIbPuWH2wG2ahpmannbDSm8scM%2F0meut#D2268#\" id=\"ZE_5l000D226803\" onclick=\"showTicketPrice(this)\" style=\"cursor: pointer;\" tabindex=\"0\" width=\"46\">有</td> <td align=\"center\" hbdata=\"2023-05-07#5l000D226803#GR_#\" hbid=\"2023-05-07#AOH#CUW#5l000D226803#GR_#01#上海虹桥#20#重庆北#30iUmb%2BMr3fqKanqt8XOUP%2BBVls%2FGVwP%2FKPKna7mtb3PYhS9yzcOr3Rbmdc5Bq13igcgasDt1Wa1%0A5LtD76M82hRi%2BsPrCvdI42xNjQDWyOEUglgv3T9sivu30%2F5X7gKpTTU5TbqMUqUSndcsw5eVnlwO%0AbMF%2F0%2BG0Vz6SsR8efa8i4kej3Rplxx6XjzA8zM6Of9fm%2B%2FnJ6fqxbmGqYCWdYsN7ZPCqtItiEEj7%0A0%2F%2FH%2F4tScrZ24Mxhxt2wyKaZJHi0aLANRuzW9AmofnfrjuXOlvHPz6SrPgEXPZkifgrD29d0Sfh2%0AYIbPuWH2wG2ahpmannbDSm8scM%2F0meut#D2268#\" id=\"GR_5l000D226803\" ifalow_maxlength=\"1\" onclick=\"showTicketPrice(this)\" style=\"cursor: pointer;\" title=\"\" undefined=\"\" width=\"46\">--</td> <td align=\"center\" hbdata=\"2023-05-07#5l000D226803#RW_#\" hbid=\"2023-05-07#AOH#CUW#5l000D226803#RW_#01#上海虹桥#20#重庆北#30iUmb%2BMr3fqKanqt8XOUP%2BBVls%2FGVwP%2FKPKna7mtb3PYhS9yzcOr3Rbmdc5Bq13igcgasDt1Wa1%0A5LtD76M82hRi%2BsPrCvdI42xNjQDWyOEUglgv3T9sivu30%2F5X7gKpTTU5TbqMUqUSndcsw5eVnlwO%0AbMF%2F0%2BG0Vz6SsR8efa8i4kej3Rplxx6XjzA8zM6Of9fm%2B%2FnJ6fqxbmGqYCWdYsN7ZPCqtItiEEj7%0A0%2F%2FH%2F4tScrZ24Mxhxt2wyKaZJHi0aLANRuzW9AmofnfrjuXOlvHPz6SrPgEXPZkifgrD29d0Sfh2%0AYIbPuWH2wG2ahpmannbDSm8scM%2F0meut#D2268#\" id=\"RW_5l000D226803\" ifalow_maxlength=\"1\" onclick=\"showTicketPrice(this)\" style=\"cursor: pointer;\" title=\"\" undefined=\"\" width=\"46\">--</td> <td align=\"center\" hbdata=\"2023-05-07#5l000D226803#SRRB_#\" hbid=\"2023-05-07#AOH#CUW#5l000D226803#SRRB_#01#上海虹桥#20#重庆北#30iUmb%2BMr3fqKanqt8XOUP%2BBVls%2FGVwP%2FKPKna7mtb3PYhS9yzcOr3Rbmdc5Bq13igcgasDt1Wa1%0A5LtD76M82hRi%2BsPrCvdI42xNjQDWyOEUglgv3T9sivu30%2F5X7gKpTTU5TbqMUqUSndcsw5eVnlwO%0AbMF%2F0%2BG0Vz6SsR8efa8i4kej3Rplxx6XjzA8zM6Of9fm%2B%2FnJ6fqxbmGqYCWdYsN7ZPCqtItiEEj7%0A0%2F%2FH%2F4tScrZ24Mxhxt2wyKaZJHi0aLANRuzW9AmofnfrjuXOlvHPz6SrPgEXPZkifgrD29d0Sfh2%0AYIbPuWH2wG2ahpmannbDSm8scM%2F0meut#D2268#\" id=\"SRRB_5l000D226803\" ifalow_maxlength=\"1\" onclick=\"showTicketPrice(this)\" style=\"cursor: pointer;\" title=\"\" undefined=\"\" width=\"46\">--</td> <td align=\"center\" hbdata=\"2023-05-07#5l000D226803#YW_#\" hbid=\"2023-05-07#AOH#CUW#5l000D226803#YW_#01#上海虹桥#20#重庆北#30iUmb%2BMr3fqKanqt8XOUP%2BBVls%2FGVwP%2FKPKna7mtb3PYhS9yzcOr3Rbmdc5Bq13igcgasDt1Wa1%0A5LtD76M82hRi%2BsPrCvdI42xNjQDWyOEUglgv3T9sivu30%2F5X7gKpTTU5TbqMUqUSndcsw5eVnlwO%0AbMF%2F0%2BG0Vz6SsR8efa8i4kej3Rplxx6XjzA8zM6Of9fm%2B%2FnJ6fqxbmGqYCWdYsN7ZPCqtItiEEj7%0A0%2F%2FH%2F4tScrZ24Mxhxt2wyKaZJHi0aLANRuzW9AmofnfrjuXOlvHPz6SrPgEXPZkifgrD29d0Sfh2%0AYIbPuWH2wG2ahpmannbDSm8scM%2F0meut#D2268#\" id=\"YW_5l000D226803\" ifalow_maxlength=\"1\" onclick=\"showTicketPrice(this)\" style=\"cursor: pointer;\" title=\"\" undefined=\"\" width=\"46\">--</td> <td align=\"center\" hbdata=\"2023-05-07#5l000D226803#RZ_#\" hbid=\"2023-05-07#AOH#CUW#5l000D226803#RZ_#01#上海虹桥#20#重庆北#30iUmb%2BMr3fqKanqt8XOUP%2BBVls%2FGVwP%2FKPKna7mtb3PYhS9yzcOr3Rbmdc5Bq13igcgasDt1Wa1%0A5LtD76M82hRi%2BsPrCvdI42xNjQDWyOEUglgv3T9sivu30%2F5X7gKpTTU5TbqMUqUSndcsw5eVnlwO%0AbMF%2F0%2BG0Vz6SsR8efa8i4kej3Rplxx6XjzA8zM6Of9fm%2B%2FnJ6fqxbmGqYCWdYsN7ZPCqtItiEEj7%0A0%2F%2FH%2F4tScrZ24Mxhxt2wyKaZJHi0aLANRuzW9AmofnfrjuXOlvHPz6SrPgEXPZkifgrD29d0Sfh2%0AYIbPuWH2wG2ahpmannbDSm8scM%2F0meut#D2268#\" id=\"RZ_5l000D226803\" ifalow_maxlength=\"1\" onclick=\"showTicketPrice(this)\" style=\"cursor: pointer;\" title=\"\" undefined=\"\" width=\"46\">--</td> <td align=\"center\" hbdata=\"2023-05-07#5l000D226803#YZ_#\" hbid=\"2023-05-07#AOH#CUW#5l000D226803#YZ_#01#上海虹桥#20#重庆北#30iUmb%2BMr3fqKanqt8XOUP%2BBVls%2FGVwP%2FKPKna7mtb3PYhS9yzcOr3Rbmdc5Bq13igcgasDt1Wa1%0A5LtD76M82hRi%2BsPrCvdI42xNjQDWyOEUglgv3T9sivu30%2F5X7gKpTTU5TbqMUqUSndcsw5eVnlwO%0AbMF%2F0%2BG0Vz6SsR8efa8i4kej3Rplxx6XjzA8zM6Of9fm%2B%2FnJ6fqxbmGqYCWdYsN7ZPCqtItiEEj7%0A0%2F%2FH%2F4tScrZ24Mxhxt2wyKaZJHi0aLANRuzW9AmofnfrjuXOlvHPz6SrPgEXPZkifgrD29d0Sfh2%0AYIbPuWH2wG2ahpmannbDSm8scM%2F0meut#D2268#\" id=\"YZ_5l000D226803\" ifalow_maxlength=\"1\" onclick=\"showTicketPrice(this)\" style=\"cursor: pointer;\" title=\"\" undefined=\"\" width=\"46\">--</td><td align=\"center\" aria-label=\"D2268次列车，无座票价638.5元，余票有\" class=\"yes\" hbdata=\"2023-05-07#5l000D226803#WZ_#\" hbid=\"2023-05-07#AOH#CUW#5l000D226803#WZ_#01#上海虹桥#20#重庆北#30iUmb%2BMr3fqKanqt8XOUP%2BBVls%2FGVwP%2FKPKna7mtb3PYhS9yzcOr3Rbmdc5Bq13igcgasDt1Wa1%0A5LtD76M82hRi%2BsPrCvdI42xNjQDWyOEUglgv3T9sivu30%2F5X7gKpTTU5TbqMUqUSndcsw5eVnlwO%0AbMF%2F0%2BG0Vz6SsR8efa8i4kej3Rplxx6XjzA8zM6Of9fm%2B%2FnJ6fqxbmGqYCWdYsN7ZPCqtItiEEj7%0A0%2F%2FH%2F4tScrZ24Mxhxt2wyKaZJHi0aLANRuzW9AmofnfrjuXOlvHPz6SrPgEXPZkifgrD29d0Sfh2%0AYIbPuWH2wG2ahpmannbDSm8scM%2F0meut#D2268#\" id=\"WZ_5l000D226803\" onclick=\"showTicketPrice(this)\" style=\"cursor: pointer;\" tabindex=\"0\" width=\"46\">有</td> <td align=\"center\" hbdata=\"2023-05-07#5l000D226803#QT_#\" hbid=\"2023-05-07#AOH#CUW#5l000D226803#QT_#01#上海虹桥#20#重庆北#30iUmb%2BMr3fqKanqt8XOUP%2BBVls%2FGVwP%2FKPKna7mtb3PYhS9yzcOr3Rbmdc5Bq13igcgasDt1Wa1%0A5LtD76M82hRi%2BsPrCvdI42xNjQDWyOEUglgv3T9sivu30%2F5X7gKpTTU5TbqMUqUSndcsw5eVnlwO%0AbMF%2F0%2BG0Vz6SsR8efa8i4kej3Rplxx6XjzA8zM6Of9fm%2B%2FnJ6fqxbmGqYCWdYsN7ZPCqtItiEEj7%0A0%2F%2FH%2F4tScrZ24Mxhxt2wyKaZJHi0aLANRuzW9AmofnfrjuXOlvHPz6SrPgEXPZkifgrD29d0Sfh2%0AYIbPuWH2wG2ahpmannbDSm8scM%2F0meut#D2268#\" id=\"QT_5l000D226803\" ifalow_maxlength=\"1\" onclick=\"showTicketPrice(this)\" style=\"cursor: pointer;\" title=\"\" undefined=\"\" width=\"46\">--</td> <td align=\"center\" class=\"no-br\" width=\"80\"><a aria-label=\"预订D2268次车08:01从上海虹桥出发，21:30到重庆北,当日到达历时13:29的车票\" class=\"btn72\" href=\"javascript:\" onclick=\"checkG1234('30iUmb%2BMr3fqKanqt8XOUP%2BBVls%2FGVwP%2FKPKna7mtb3PYhS9yzcOr3Rbmdc5Bq13igcgasDt1Wa1%0A5LtD76M82hRi%2BsPrCvdI42xNjQDWyOEUglgv3T9sivu30%2F5X7gKpTTU5TbqMUqUSndcsw5eVnlwO%0AbMF%2F0%2BG0Vz6SsR8efa8i4kej3Rplxx6XjzA8zM6Of9fm%2B%2FnJ6fqxbmGqYCWdYsN7ZPCqtItiEEj7%0A0%2F%2FH%2F4tScrZ24Mxhxt2wyKaZJHi0aLANRuzW9AmofnfrjuXOlvHPz6SrPgEXPZkifgrD29d0Sfh2%0AYIbPuWH2wG2ahpmannbDSm8scM%2F0meut','08:01','5l000D226803','AOH','CUW')\">预订</a></td></tr><tr datatran=\"D2268\" id=\"price_5l000D226803_01_20\" style=\"display:none;\"></tr><tr class=\"bgc\" id=\"ticket_5l000G133780_01_21\"><td colspan=\"4\" width=\"370\"><div class=\"ticket-info clearfix\" id=\"train_num_10\"><div class=\"train\" id=\"ticket_5l000G133780_01_21_train\"><div><a class=\"number\" href=\"javascript:\" id=\"5l000G133780_AOH_CXW\" onclick=\"myStopStation.open('10','5l000G133780','AOH','CXW','20230507','3');\" title=\"点击查看停靠站信息\">G1337</a><div class=\"train-type\"></div></div><span class=\"lookup\" id=\"5l000G133780_01_21_eAI3xMIWzCBlwMdgnlf8fhIWjRvfCnvmOssjIP%2B46saQE9HrkWO5on%2BCPlI%3D_9MOP\" onclick=\"showTicketPrice(this)\"><span style=\"display:none;\">查看票价</span><b aria-label=\"查看票价,按回车键操作\" tabindex=\"0\" title=\"查看票价\"></b></span></div><div class=\"cdz\"><strong class=\"start-s\" title=\"上海虹桥\">上海虹桥</strong><strong class=\"end-s\" title=\"重庆西\">重庆西</strong></div><div class=\"cds\"><strong class=\"start-t\">08:22</strong><strong class=\"color999\">19:46</strong></div><div class=\"ls\" id=\"5l000G133780_ls\"><strong>11:24</strong><span>当日到达</span></div></div></td><td align=\"center\" aria-label=\"G1337次列车，特等座票价1633.5元，余票15\" class=\"t-num\" hbdata=\"2023-05-07#5l000G133780#TZ_#\" hbid=\"2023-05-07#AOH#CXW#5l000G133780#TZ_#01#上海虹桥#21#重庆西#TKxzDBi%2BAZV%2FdyrTdI2bHPa9hZ%2BYtJJs5jSvBg3%2FB52vf3rkj5MlSUVVzqzXCKFAFwmXN2fDRsDL%0AfOgehOZxBqzUJMSAIq3NE0vkaGlYzhsbfd3l0HRmIXShgXNPnarkq1u%2BlOabgleb%2FNPf%2BZMqgsKO%0AwcEeBfHI%2BSMUottnZugKqqZ93X%2FfX449pwvWS8ZAwc%2FSQE6e3Bb%2BuRKvqP2sw99fqOIN8mJRnZR0%0ABJZBJ3jik9cbKuqtTNdAPVvSjb%2FniufMmIXTPeB7nHE2f%2B58SmwWWXZdc6%2FFxCXpbeJJmOhenLTJ%0AXTY6rhnjRO2WEcdUgXMF6SAlKj1z1wsiDe43k%2F7Or32GwtK6#G1337#\" id=\"TZ_5l000G133780\" ifalow_maxlength=\"1\" onclick=\"showTicketPrice(this)\" style=\"cursor: pointer;\" tabindex=\"0\" title=\"\" width=\"46\"><div>15</div></td><td align=\"center\" aria-label=\"G1337次列车，一等座票价1446元，余票有\" class=\"yes\" hbdata=\"2023-05-07#5l000G133780#ZY_#\" hbid=\"2023-05-07#AOH#CXW#5l000G133780#ZY_#01#上海虹桥#21#重庆西#TKxzDBi%2BAZV%2FdyrTdI2bHPa9hZ%2BYtJJs5jSvBg3%2FB52vf3rkj5MlSUVVzqzXCKFAFwmXN2fDRsDL%0AfOgehOZxBqzUJMSAIq3NE0vkaGlYzhsbfd3l0HRmIXShgXNPnarkq1u%2BlOabgleb%2FNPf%2BZMqgsKO%0AwcEeBfHI%2BSMUottnZugKqqZ93X%2FfX449pwvWS8ZAwc%2FSQE6e3Bb%2BuRKvqP2sw99fqOIN8mJRnZR0%0ABJZBJ3jik9cbKuqtTNdAPVvSjb%2FniufMmIXTPeB7nHE2f%2B58SmwWWXZdc6%2FFxCXpbeJJmOhenLTJ%0AXTY6rhnjRO2WEcdUgXMF6SAlKj1z1wsiDe43k%2F7Or32GwtK6#G1337#\" id=\"ZY_5l000G133780\" onclick=\"showTicketPrice(this)\" style=\"cursor: pointer;\" tabindex=\"0\" width=\"46\">有</td><td align=\"center\" aria-label=\"G1337次列车，二等座票价869.5元，余票有\" class=\"yes\" hbdata=\"2023-05-07#5l000G133780#ZE_#\" hbid=\"2023-05-07#AOH#CXW#5l000G133780#ZE_#01#上海虹桥#21#重庆西#TKxzDBi%2BAZV%2FdyrTdI2bHPa9hZ%2BYtJJs5jSvBg3%2FB52vf3rkj5MlSUVVzqzXCKFAFwmXN2fDRsDL%0AfOgehOZxBqzUJMSAIq3NE0vkaGlYzhsbfd3l0HRmIXShgXNPnarkq1u%2BlOabgleb%2FNPf%2BZMqgsKO%0AwcEeBfHI%2BSMUottnZugKqqZ93X%2FfX449pwvWS8ZAwc%2FSQE6e3Bb%2BuRKvqP2sw99fqOIN8mJRnZR0%0ABJZBJ3jik9cbKuqtTNdAPVvSjb%2FniufMmIXTPeB7nHE2f%2B58SmwWWXZdc6%2FFxCXpbeJJmOhenLTJ%0AXTY6rhnjRO2WEcdUgXMF6SAlKj1z1wsiDe43k%2F7Or32GwtK6#G1337#\" id=\"ZE_5l000G133780\" onclick=\"showTicketPrice(this)\" style=\"cursor: pointer;\" tabindex=\"0\" width=\"46\">有</td> <td align=\"center\" hbdata=\"2023-05-07#5l000G133780#GR_#\" hbid=\"2023-05-07#AOH#CXW#5l000G133780#GR_#01#上海虹桥#21#重庆西#TKxzDBi%2BAZV%2FdyrTdI2bHPa9hZ%2BYtJJs5jSvBg3%2FB52vf3rkj5MlSUVVzqzXCKFAFwmXN2fDRsDL%0AfOgehOZxBqzUJMSAIq3NE0vkaGlYzhsbfd3l0HRmIXShgXNPnarkq1u%2BlOabgleb%2FNPf%2BZMqgsKO%0AwcEeBfHI%2BSMUottnZugKqqZ93X%2FfX449pwvWS8ZAwc%2FSQE6e3Bb%2BuRKvqP2sw99fqOIN8mJRnZR0%0ABJZBJ3jik9cbKuqtTNdAPVvSjb%2FniufMmIXTPeB7nHE2f%2B58SmwWWXZdc6%2FFxCXpbeJJmOhenLTJ%0AXTY6rhnjRO2WEcdUgXMF6SAlKj1z1wsiDe43k%2F7Or32GwtK6#G1337#\" id=\"GR_5l000G133780\" ifalow_maxlength=\"1\" onclick=\"showTicketPrice(this)\" style=\"cursor: pointer;\" title=\"\" undefined=\"\" width=\"46\">--</td> <td align=\"center\" hbdata=\"2023-05-07#5l000G133780#RW_#\" hbid=\"2023-05-07#AOH#CXW#5l000G133780#RW_#01#上海虹桥#21#重庆西#TKxzDBi%2BAZV%2FdyrTdI2bHPa9hZ%2BYtJJs5jSvBg3%2FB52vf3rkj5MlSUVVzqzXCKFAFwmXN2fDRsDL%0AfOgehOZxBqzUJMSAIq3NE0vkaGlYzhsbfd3l0HRmIXShgXNPnarkq1u%2BlOabgleb%2FNPf%2BZMqgsKO%0AwcEeBfHI%2BSMUottnZugKqqZ93X%2FfX449pwvWS8ZAwc%2FSQE6e3Bb%2BuRKvqP2sw99fqOIN8mJRnZR0%0ABJZBJ3jik9cbKuqtTNdAPVvSjb%2FniufMmIXTPeB7nHE2f%2B58SmwWWXZdc6%2FFxCXpbeJJmOhenLTJ%0AXTY6rhnjRO2WEcdUgXMF6SAlKj1z1wsiDe43k%2F7Or32GwtK6#G1337#\" id=\"RW_5l000G133780\" ifalow_maxlength=\"1\" onclick=\"showTicketPrice(this)\" style=\"cursor: pointer;\" title=\"\" undefined=\"\" width=\"46\">--</td> <td align=\"center\" hbdata=\"2023-05-07#5l000G133780#SRRB_#\" hbid=\"2023-05-07#AOH#CXW#5l000G133780#SRRB_#01#上海虹桥#21#重庆西#TKxzDBi%2BAZV%2FdyrTdI2bHPa9hZ%2BYtJJs5jSvBg3%2FB52vf3rkj5MlSUVVzqzXCKFAFwmXN2fDRsDL%0AfOgehOZxBqzUJMSAIq3NE0vkaGlYzhsbfd3l0HRmIXShgXNPnarkq1u%2BlOabgleb%2FNPf%2BZMqgsKO%0AwcEeBfHI%2BSMUottnZugKqqZ93X%2FfX449pwvWS8ZAwc%2FSQE6e3Bb%2BuRKvqP2sw99fqOIN8mJRnZR0%0ABJZBJ3jik9cbKuqtTNdAPVvSjb%2FniufMmIXTPeB7nHE2f%2B58SmwWWXZdc6%2FFxCXpbeJJmOhenLTJ%0AXTY6rhnjRO2WEcdUgXMF6SAlKj1z1wsiDe43k%2F7Or32GwtK6#G1337#\" id=\"SRRB_5l000G133780\" ifalow_maxlength=\"1\" onclick=\"showTicketPrice(this)\" style=\"cursor: pointer;\" title=\"\" undefined=\"\" width=\"46\">--</td> <td align=\"center\" hbdata=\"2023-05-07#5l000G133780#YW_#\" hbid=\"2023-05-07#AOH#CXW#5l000G133780#YW_#01#上海虹桥#21#重庆西#TKxzDBi%2BAZV%2FdyrTdI2bHPa9hZ%2BYtJJs5jSvBg3%2FB52vf3rkj5MlSUVVzqzXCKFAFwmXN2fDRsDL%0AfOgehOZxBqzUJMSAIq3NE0vkaGlYzhsbfd3l0HRmIXShgXNPnarkq1u%2BlOabgleb%2FNPf%2BZMqgsKO%0AwcEeBfHI%2BSMUottnZugKqqZ93X%2FfX449pwvWS8ZAwc%2FSQE6e3Bb%2BuRKvqP2sw99fqOIN8mJRnZR0%0ABJZBJ3jik9cbKuqtTNdAPVvSjb%2FniufMmIXTPeB7nHE2f%2B58SmwWWXZdc6%2FFxCXpbeJJmOhenLTJ%0AXTY6rhnjRO2WEcdUgXMF6SAlKj1z1wsiDe43k%2F7Or32GwtK6#G1337#\" id=\"YW_5l000G133780\" ifalow_maxlength=\"1\" onclick=\"showTicketPrice(this)\" style=\"cursor: pointer;\" title=\"\" undefined=\"\" width=\"46\">--</td> <td align=\"center\" hbdata=\"2023-05-07#5l000G133780#RZ_#\" hbid=\"2023-05-07#AOH#CXW#5l000G133780#RZ_#01#上海虹桥#21#重庆西#TKxzDBi%2BAZV%2FdyrTdI2bHPa9hZ%2BYtJJs5jSvBg3%2FB52vf3rkj5MlSUVVzqzXCKFAFwmXN2fDRsDL%0AfOgehOZxBqzUJMSAIq3NE0vkaGlYzhsbfd3l0HRmIXShgXNPnarkq1u%2BlOabgleb%2FNPf%2BZMqgsKO%0AwcEeBfHI%2BSMUottnZugKqqZ93X%2FfX449pwvWS8ZAwc%2FSQE6e3Bb%2BuRKvqP2sw99fqOIN8mJRnZR0%0ABJZBJ3jik9cbKuqtTNdAPVvSjb%2FniufMmIXTPeB7nHE2f%2B58SmwWWXZdc6%2FFxCXpbeJJmOhenLTJ%0AXTY6rhnjRO2WEcdUgXMF6SAlKj1z1wsiDe43k%2F7Or32GwtK6#G1337#\" id=\"RZ_5l000G133780\" ifalow_maxlength=\"1\" onclick=\"showTicketPrice(this)\" style=\"cursor: pointer;\" title=\"\" undefined=\"\" width=\"46\">--</td> <td align=\"center\" hbdata=\"2023-05-07#5l000G133780#YZ_#\" hbid=\"2023-05-07#AOH#CXW#5l000G133780#YZ_#01#上海虹桥#21#重庆西#TKxzDBi%2BAZV%2FdyrTdI2bHPa9hZ%2BYtJJs5jSvBg3%2FB52vf3rkj5MlSUVVzqzXCKFAFwmXN2fDRsDL%0AfOgehOZxBqzUJMSAIq3NE0vkaGlYzhsbfd3l0HRmIXShgXNPnarkq1u%2BlOabgleb%2FNPf%2BZMqgsKO%0AwcEeBfHI%2BSMUottnZugKqqZ93X%2FfX449pwvWS8ZAwc%2FSQE6e3Bb%2BuRKvqP2sw99fqOIN8mJRnZR0%0ABJZBJ3jik9cbKuqtTNdAPVvSjb%2FniufMmIXTPeB7nHE2f%2B58SmwWWXZdc6%2FFxCXpbeJJmOhenLTJ%0AXTY6rhnjRO2WEcdUgXMF6SAlKj1z1wsiDe43k%2F7Or32GwtK6#G1337#\" id=\"YZ_5l000G133780\" ifalow_maxlength=\"1\" onclick=\"showTicketPrice(this)\" style=\"cursor: pointer;\" title=\"\" undefined=\"\" width=\"46\">--</td> <td align=\"center\" hbdata=\"2023-05-07#5l000G133780#WZ_#\" hbid=\"2023-05-07#AOH#CXW#5l000G133780#WZ_#01#上海虹桥#21#重庆西#TKxzDBi%2BAZV%2FdyrTdI2bHPa9hZ%2BYtJJs5jSvBg3%2FB52vf3rkj5MlSUVVzqzXCKFAFwmXN2fDRsDL%0AfOgehOZxBqzUJMSAIq3NE0vkaGlYzhsbfd3l0HRmIXShgXNPnarkq1u%2BlOabgleb%2FNPf%2BZMqgsKO%0AwcEeBfHI%2BSMUottnZugKqqZ93X%2FfX449pwvWS8ZAwc%2FSQE6e3Bb%2BuRKvqP2sw99fqOIN8mJRnZR0%0ABJZBJ3jik9cbKuqtTNdAPVvSjb%2FniufMmIXTPeB7nHE2f%2B58SmwWWXZdc6%2FFxCXpbeJJmOhenLTJ%0AXTY6rhnjRO2WEcdUgXMF6SAlKj1z1wsiDe43k%2F7Or32GwtK6#G1337#\" id=\"WZ_5l000G133780\" ifalow_maxlength=\"1\" onclick=\"showTicketPrice(this)\" style=\"cursor: pointer;\" title=\"\" undefined=\"\" width=\"46\">--</td> <td align=\"center\" hbdata=\"2023-05-07#5l000G133780#QT_#\" hbid=\"2023-05-07#AOH#CXW#5l000G133780#QT_#01#上海虹桥#21#重庆西#TKxzDBi%2BAZV%2FdyrTdI2bHPa9hZ%2BYtJJs5jSvBg3%2FB52vf3rkj5MlSUVVzqzXCKFAFwmXN2fDRsDL%0AfOgehOZxBqzUJMSAIq3NE0vkaGlYzhsbfd3l0HRmIXShgXNPnarkq1u%2BlOabgleb%2FNPf%2BZMqgsKO%0AwcEeBfHI%2BSMUottnZugKqqZ93X%2FfX449pwvWS8ZAwc%2FSQE6e3Bb%2BuRKvqP2sw99fqOIN8mJRnZR0%0ABJZBJ3jik9cbKuqtTNdAPVvSjb%2FniufMmIXTPeB7nHE2f%2B58SmwWWXZdc6%2FFxCXpbeJJmOhenLTJ%0AXTY6rhnjRO2WEcdUgXMF6SAlKj1z1wsiDe43k%2F7Or32GwtK6#G1337#\" id=\"QT_5l000G133780\" ifalow_maxlength=\"1\" onclick=\"showTicketPrice(this)\" style=\"cursor: pointer;\" title=\"\" undefined=\"\" width=\"46\">--</td> <td align=\"center\" class=\"no-br\" width=\"80\"><a aria-label=\"预订G1337次车08:22从上海虹桥出发，19:46到重庆西,当日到达历时11:24的车票\" class=\"btn72\" href=\"javascript:\" onclick=\"checkG1234('TKxzDBi%2BAZV%2FdyrTdI2bHPa9hZ%2BYtJJs5jSvBg3%2FB52vf3rkj5MlSUVVzqzXCKFAFwmXN2fDRsDL%0AfOgehOZxBqzUJMSAIq3NE0vkaGlYzhsbfd3l0HRmIXShgXNPnarkq1u%2BlOabgleb%2FNPf%2BZMqgsKO%0AwcEeBfHI%2BSMUottnZugKqqZ93X%2FfX449pwvWS8ZAwc%2FSQE6e3Bb%2BuRKvqP2sw99fqOIN8mJRnZR0%0ABJZBJ3jik9cbKuqtTNdAPVvSjb%2FniufMmIXTPeB7nHE2f%2B58SmwWWXZdc6%2FFxCXpbeJJmOhenLTJ%0AXTY6rhnjRO2WEcdUgXMF6SAlKj1z1wsiDe43k%2F7Or32GwtK6','08:22','5l000G133780','AOH','CXW')\">预订</a></td></tr><tr datatran=\"G1337\" id=\"price_5l000G133780_01_21\" style=\"display:none;\"></tr><tr class=\"\" id=\"ticket_550000D95231_01_08\"><td colspan=\"4\" width=\"370\"><div class=\"ticket-info clearfix\" id=\"train_num_11\"><div class=\"train\" id=\"ticket_550000D95231_01_08_train\"><div><a class=\"number\" href=\"javascript:\" id=\"550000D95231_SHH_CUW\" onclick=\"myStopStation.open('11','550000D95231','SHH','CUW','20230507','3');\" title=\"点击查看停靠站信息\">D952</a><div class=\"train-type\"></div></div><span class=\"lookup\" id=\"550000D95231_01_08_GtVbr3FT8PWz0LFKCWyTSHG%2F3VrJC4DdZaITMeCiR5I%2F1w4s_MOO\" onclick=\"showTicketPrice(this)\"><span style=\"display:none;\">查看票价</span><b aria-label=\"查看票价,按回车键操作\" tabindex=\"0\" title=\"查看票价\"></b></span></div><div class=\"cdz\"><strong class=\"start-s\" title=\"上海\">上海</strong><strong>重庆北</strong></div><div class=\"cds\"><strong class=\"start-t\">08:30</strong><strong class=\"color999\">19:00</strong></div><div class=\"ls\" id=\"550000D95231_ls\"><strong>10:30</strong><span>当日到达</span></div></div></td> <td align=\"center\" hbdata=\"2023-05-07#550000D95231#TZ_#\" hbid=\"2023-05-07#SHH#CUW#550000D95231#TZ_#01#上海#08#重庆北#kSNJ9VldUqH31%2BufV%2FH%2B4o6svvNvQ3Cx%2FUn1k8h%2BsOVLjnGx5K2GwYbduBs3gbBkVRvTTOlWjpAq%0AwmZnHp8pE0DbxgP8GrN4%2BaDAk4nzM9qGtlq9OaKKy3Xb5Jm4taq18J0qTUYeobOtBdJfsIBpdCfk%0AHrEAiFZGgfoilxnjYB5njBAIbe%2BwtnVZW0v8x4Ji4mMS%2B0ZXuNYbOxUM9XDLZ%2F37QoP7M0yGebZA%0AQZuqRug3diQunamaltBapBE0Kqbl3uxpkzxqdhEbFrs1S4urt8hEtzitf2ZHGnyHGNcBqM4DbM3x%0ASRmNRjVuYFbp8jPPcW3DOw%3D%3D#D952#\" id=\"TZ_550000D95231\" ifalow_maxlength=\"1\" onclick=\"showTicketPrice(this)\" style=\"cursor: pointer;\" title=\"\" undefined=\"\" width=\"46\">--</td><td align=\"center\" aria-label=\"D952次列车，一等座票价949元，余票有\" class=\"yes\" hbdata=\"2023-05-07#550000D95231#ZY_#\" hbid=\"2023-05-07#SHH#CUW#550000D95231#ZY_#01#上海#08#重庆北#kSNJ9VldUqH31%2BufV%2FH%2B4o6svvNvQ3Cx%2FUn1k8h%2BsOVLjnGx5K2GwYbduBs3gbBkVRvTTOlWjpAq%0AwmZnHp8pE0DbxgP8GrN4%2BaDAk4nzM9qGtlq9OaKKy3Xb5Jm4taq18J0qTUYeobOtBdJfsIBpdCfk%0AHrEAiFZGgfoilxnjYB5njBAIbe%2BwtnVZW0v8x4Ji4mMS%2B0ZXuNYbOxUM9XDLZ%2F37QoP7M0yGebZA%0AQZuqRug3diQunamaltBapBE0Kqbl3uxpkzxqdhEbFrs1S4urt8hEtzitf2ZHGnyHGNcBqM4DbM3x%0ASRmNRjVuYFbp8jPPcW3DOw%3D%3D#D952#\" id=\"ZY_550000D95231\" onclick=\"showTicketPrice(this)\" style=\"cursor: pointer;\" tabindex=\"0\" width=\"46\">有</td><td align=\"center\" aria-label=\"D952次列车，二等座票价593.5元，余票有\" class=\"yes\" hbdata=\"2023-05-07#550000D95231#ZE_#\" hbid=\"2023-05-07#SHH#CUW#550000D95231#ZE_#01#上海#08#重庆北#kSNJ9VldUqH31%2BufV%2FH%2B4o6svvNvQ3Cx%2FUn1k8h%2BsOVLjnGx5K2GwYbduBs3gbBkVRvTTOlWjpAq%0AwmZnHp8pE0DbxgP8GrN4%2BaDAk4nzM9qGtlq9OaKKy3Xb5Jm4taq18J0qTUYeobOtBdJfsIBpdCfk%0AHrEAiFZGgfoilxnjYB5njBAIbe%2BwtnVZW0v8x4Ji4mMS%2B0ZXuNYbOxUM9XDLZ%2F37QoP7M0yGebZA%0AQZuqRug3diQunamaltBapBE0Kqbl3uxpkzxqdhEbFrs1S4urt8hEtzitf2ZHGnyHGNcBqM4DbM3x%0ASRmNRjVuYFbp8jPPcW3DOw%3D%3D#D952#\" id=\"ZE_550000D95231\" onclick=\"showTicketPrice(this)\" style=\"cursor: pointer;\" tabindex=\"0\" width=\"46\">有</td> <td align=\"center\" hbdata=\"2023-05-07#550000D95231#GR_#\" hbid=\"2023-05-07#SHH#CUW#550000D95231#GR_#01#上海#08#重庆北#kSNJ9VldUqH31%2BufV%2FH%2B4o6svvNvQ3Cx%2FUn1k8h%2BsOVLjnGx5K2GwYbduBs3gbBkVRvTTOlWjpAq%0AwmZnHp8pE0DbxgP8GrN4%2BaDAk4nzM9qGtlq9OaKKy3Xb5Jm4taq18J0qTUYeobOtBdJfsIBpdCfk%0AHrEAiFZGgfoilxnjYB5njBAIbe%2BwtnVZW0v8x4Ji4mMS%2B0ZXuNYbOxUM9XDLZ%2F37QoP7M0yGebZA%0AQZuqRug3diQunamaltBapBE0Kqbl3uxpkzxqdhEbFrs1S4urt8hEtzitf2ZHGnyHGNcBqM4DbM3x%0ASRmNRjVuYFbp8jPPcW3DOw%3D%3D#D952#\" id=\"GR_550000D95231\" ifalow_maxlength=\"1\" onclick=\"showTicketPrice(this)\" style=\"cursor: pointer;\" title=\"\" undefined=\"\" width=\"46\">--</td> <td align=\"center\" hbdata=\"2023-05-07#550000D95231#RW_#\" hbid=\"2023-05-07#SHH#CUW#550000D95231#RW_#01#上海#08#重庆北#kSNJ9VldUqH31%2BufV%2FH%2B4o6svvNvQ3Cx%2FUn1k8h%2BsOVLjnGx5K2GwYbduBs3gbBkVRvTTOlWjpAq%0AwmZnHp8pE0DbxgP8GrN4%2BaDAk4nzM9qGtlq9OaKKy3Xb5Jm4taq18J0qTUYeobOtBdJfsIBpdCfk%0AHrEAiFZGgfoilxnjYB5njBAIbe%2BwtnVZW0v8x4Ji4mMS%2B0ZXuNYbOxUM9XDLZ%2F37QoP7M0yGebZA%0AQZuqRug3diQunamaltBapBE0Kqbl3uxpkzxqdhEbFrs1S4urt8hEtzitf2ZHGnyHGNcBqM4DbM3x%0ASRmNRjVuYFbp8jPPcW3DOw%3D%3D#D952#\" id=\"RW_550000D95231\" ifalow_maxlength=\"1\" onclick=\"showTicketPrice(this)\" style=\"cursor: pointer;\" title=\"\" undefined=\"\" width=\"46\">--</td> <td align=\"center\" hbdata=\"2023-05-07#550000D95231#SRRB_#\" hbid=\"2023-05-07#SHH#CUW#550000D95231#SRRB_#01#上海#08#重庆北#kSNJ9VldUqH31%2BufV%2FH%2B4o6svvNvQ3Cx%2FUn1k8h%2BsOVLjnGx5K2GwYbduBs3gbBkVRvTTOlWjpAq%0AwmZnHp8pE0DbxgP8GrN4%2BaDAk4nzM9qGtlq9OaKKy3Xb5Jm4taq18J0qTUYeobOtBdJfsIBpdCfk%0AHrEAiFZGgfoilxnjYB5njBAIbe%2BwtnVZW0v8x4Ji4mMS%2B0ZXuNYbOxUM9XDLZ%2F37QoP7M0yGebZA%0AQZuqRug3diQunamaltBapBE0Kqbl3uxpkzxqdhEbFrs1S4urt8hEtzitf2ZHGnyHGNcBqM4DbM3x%0ASRmNRjVuYFbp8jPPcW3DOw%3D%3D#D952#\" id=\"SRRB_550000D95231\" ifalow_maxlength=\"1\" onclick=\"showTicketPrice(this)\" style=\"cursor: pointer;\" title=\"\" undefined=\"\" width=\"46\">--</td> <td align=\"center\" hbdata=\"2023-05-07#550000D95231#YW_#\" hbid=\"2023-05-07#SHH#CUW#550000D95231#YW_#01#上海#08#重庆北#kSNJ9VldUqH31%2BufV%2FH%2B4o6svvNvQ3Cx%2FUn1k8h%2BsOVLjnGx5K2GwYbduBs3gbBkVRvTTOlWjpAq%0AwmZnHp8pE0DbxgP8GrN4%2BaDAk4nzM9qGtlq9OaKKy3Xb5Jm4taq18J0qTUYeobOtBdJfsIBpdCfk%0AHrEAiFZGgfoilxnjYB5njBAIbe%2BwtnVZW0v8x4Ji4mMS%2B0ZXuNYbOxUM9XDLZ%2F37QoP7M0yGebZA%0AQZuqRug3diQunamaltBapBE0Kqbl3uxpkzxqdhEbFrs1S4urt8hEtzitf2ZHGnyHGNcBqM4DbM3x%0ASRmNRjVuYFbp8jPPcW3DOw%3D%3D#D952#\" id=\"YW_550000D95231\" ifalow_maxlength=\"1\" onclick=\"showTicketPrice(this)\" style=\"cursor: pointer;\" title=\"\" undefined=\"\" width=\"46\">--</td> <td align=\"center\" hbdata=\"2023-05-07#550000D95231#RZ_#\" hbid=\"2023-05-07#SHH#CUW#550000D95231#RZ_#01#上海#08#重庆北#kSNJ9VldUqH31%2BufV%2FH%2B4o6svvNvQ3Cx%2FUn1k8h%2BsOVLjnGx5K2GwYbduBs3gbBkVRvTTOlWjpAq%0AwmZnHp8pE0DbxgP8GrN4%2BaDAk4nzM9qGtlq9OaKKy3Xb5Jm4taq18J0qTUYeobOtBdJfsIBpdCfk%0AHrEAiFZGgfoilxnjYB5njBAIbe%2BwtnVZW0v8x4Ji4mMS%2B0ZXuNYbOxUM9XDLZ%2F37QoP7M0yGebZA%0AQZuqRug3diQunamaltBapBE0Kqbl3uxpkzxqdhEbFrs1S4urt8hEtzitf2ZHGnyHGNcBqM4DbM3x%0ASRmNRjVuYFbp8jPPcW3DOw%3D%3D#D952#\" id=\"RZ_550000D95231\" ifalow_maxlength=\"1\" onclick=\"showTicketPrice(this)\" style=\"cursor: pointer;\" title=\"\" undefined=\"\" width=\"46\">--</td> <td align=\"center\" hbdata=\"2023-05-07#550000D95231#YZ_#\" hbid=\"2023-05-07#SHH#CUW#550000D95231#YZ_#01#上海#08#重庆北#kSNJ9VldUqH31%2BufV%2FH%2B4o6svvNvQ3Cx%2FUn1k8h%2BsOVLjnGx5K2GwYbduBs3gbBkVRvTTOlWjpAq%0AwmZnHp8pE0DbxgP8GrN4%2BaDAk4nzM9qGtlq9OaKKy3Xb5Jm4taq18J0qTUYeobOtBdJfsIBpdCfk%0AHrEAiFZGgfoilxnjYB5njBAIbe%2BwtnVZW0v8x4Ji4mMS%2B0ZXuNYbOxUM9XDLZ%2F37QoP7M0yGebZA%0AQZuqRug3diQunamaltBapBE0Kqbl3uxpkzxqdhEbFrs1S4urt8hEtzitf2ZHGnyHGNcBqM4DbM3x%0ASRmNRjVuYFbp8jPPcW3DOw%3D%3D#D952#\" id=\"YZ_550000D95231\" ifalow_maxlength=\"1\" onclick=\"showTicketPrice(this)\" style=\"cursor: pointer;\" title=\"\" undefined=\"\" width=\"46\">--</td><td align=\"center\" aria-label=\"D952次列车，无座票价593.5元，余票有\" class=\"yes\" hbdata=\"2023-05-07#550000D95231#WZ_#\" hbid=\"2023-05-07#SHH#CUW#550000D95231#WZ_#01#上海#08#重庆北#kSNJ9VldUqH31%2BufV%2FH%2B4o6svvNvQ3Cx%2FUn1k8h%2BsOVLjnGx5K2GwYbduBs3gbBkVRvTTOlWjpAq%0AwmZnHp8pE0DbxgP8GrN4%2BaDAk4nzM9qGtlq9OaKKy3Xb5Jm4taq18J0qTUYeobOtBdJfsIBpdCfk%0AHrEAiFZGgfoilxnjYB5njBAIbe%2BwtnVZW0v8x4Ji4mMS%2B0ZXuNYbOxUM9XDLZ%2F37QoP7M0yGebZA%0AQZuqRug3diQunamaltBapBE0Kqbl3uxpkzxqdhEbFrs1S4urt8hEtzitf2ZHGnyHGNcBqM4DbM3x%0ASRmNRjVuYFbp8jPPcW3DOw%3D%3D#D952#\" id=\"WZ_550000D95231\" onclick=\"showTicketPrice(this)\" style=\"cursor: pointer;\" tabindex=\"0\" width=\"46\">有</td> <td align=\"center\" hbdata=\"2023-05-07#550000D95231#QT_#\" hbid=\"2023-05-07#SHH#CUW#550000D95231#QT_#01#上海#08#重庆北#kSNJ9VldUqH31%2BufV%2FH%2B4o6svvNvQ3Cx%2FUn1k8h%2BsOVLjnGx5K2GwYbduBs3gbBkVRvTTOlWjpAq%0AwmZnHp8pE0DbxgP8GrN4%2BaDAk4nzM9qGtlq9OaKKy3Xb5Jm4taq18J0qTUYeobOtBdJfsIBpdCfk%0AHrEAiFZGgfoilxnjYB5njBAIbe%2BwtnVZW0v8x4Ji4mMS%2B0ZXuNYbOxUM9XDLZ%2F37QoP7M0yGebZA%0AQZuqRug3diQunamaltBapBE0Kqbl3uxpkzxqdhEbFrs1S4urt8hEtzitf2ZHGnyHGNcBqM4DbM3x%0ASRmNRjVuYFbp8jPPcW3DOw%3D%3D#D952#\" id=\"QT_550000D95231\" ifalow_maxlength=\"1\" onclick=\"showTicketPrice(this)\" style=\"cursor: pointer;\" title=\"\" undefined=\"\" width=\"46\">--</td> <td align=\"center\" class=\"no-br\" width=\"80\"><a aria-label=\"预订D952次车08:30从上海出发，19:00到重庆北,当日到达历时10:30的车票\" class=\"btn72\" href=\"javascript:\" onclick=\"checkG1234('kSNJ9VldUqH31%2BufV%2FH%2B4o6svvNvQ3Cx%2FUn1k8h%2BsOVLjnGx5K2GwYbduBs3gbBkVRvTTOlWjpAq%0AwmZnHp8pE0DbxgP8GrN4%2BaDAk4nzM9qGtlq9OaKKy3Xb5Jm4taq18J0qTUYeobOtBdJfsIBpdCfk%0AHrEAiFZGgfoilxnjYB5njBAIbe%2BwtnVZW0v8x4Ji4mMS%2B0ZXuNYbOxUM9XDLZ%2F37QoP7M0yGebZA%0AQZuqRug3diQunamaltBapBE0Kqbl3uxpkzxqdhEbFrs1S4urt8hEtzitf2ZHGnyHGNcBqM4DbM3x%0ASRmNRjVuYFbp8jPPcW3DOw%3D%3D','08:30','550000D95231','SHH','CUW')\">预订</a></td></tr><tr datatran=\"D952\" id=\"price_550000D95231_01_08\" style=\"display:none;\"></tr><tr class=\"bgc\" id=\"ticket_550000D956A0_01_09\"><td colspan=\"4\" width=\"370\"><div class=\"ticket-info clearfix\" id=\"train_num_12\"><div class=\"train\" id=\"ticket_550000D956A0_01_09_train\"><div><a class=\"number\" href=\"javascript:\" id=\"550000D956A0_SHH_CUW\" onclick=\"myStopStation.open('12','550000D956A0','SHH','CUW','20230507','3');\" title=\"点击查看停靠站信息\">D956</a><div class=\"train-type\"></div></div><span class=\"lookup\" id=\"550000D956A0_01_09_rK0ush6U8BolSQ%2BNvbgoG8WejQaFAwVzScQ0UPNj5TjShKL8_MOO\" onclick=\"showTicketPrice(this)\"><span style=\"display:none;\">查看票价</span><b aria-label=\"查看票价,按回车键操作\" tabindex=\"0\" title=\"查看票价\"></b></span></div><div class=\"cdz\"><strong class=\"start-s\" title=\"上海\">上海</strong><strong class=\"end-s\" title=\"重庆北\">重庆北</strong></div><div class=\"cds\"><strong class=\"start-t\">09:30</strong><strong class=\"color999\">20:14</strong></div><div class=\"ls\" id=\"550000D956A0_ls\"><strong>10:44</strong><span>当日到达</span></div></div></td> <td align=\"center\" hbdata=\"2023-05-07#550000D956A0#TZ_#\" hbid=\"2023-05-07#SHH#CUW#550000D956A0#TZ_#01#上海#09#重庆北#LxmtcxDSRH1zg7p3vYf0WqD11%2FP3APQ4z1yy6Nqjq8YuHswj7GVnSUmtEFck8kjmVoyNj1oJGKlp%0A8d5F5%2B%2Fz6xguOakUVglN8K8odGZiRzkJ0Rmwk%2BrKdykobDcYJeN%2F2vZG41UhVhI6y%2BGB5jcdBdab%0AWZKkUk%2FU96R73yEGqnpnFBovWV%2BJqY1gqLCgg8sWykgtJWyIDAv3Kwau6BNYJT9WQZIeLrVAMS1c%0A8O6rqSlHBcbmTdWXgxbG4Ir%2BBCbl9z7KLLRYbJaCbtKfb96z%2FXrPJ3cXHzAV8Uj2LQdOc5eRpt8J%0AzuYQqXNVIR8Y6Y4hSgcVPw%3D%3D#D956#\" id=\"TZ_550000D956A0\" ifalow_maxlength=\"1\" onclick=\"showTicketPrice(this)\" style=\"cursor: pointer;\" title=\"\" undefined=\"\" width=\"46\">--</td><td align=\"center\" aria-label=\"D956次列车，一等座票价949元，余票有\" class=\"yes\" hbdata=\"2023-05-07#550000D956A0#ZY_#\" hbid=\"2023-05-07#SHH#CUW#550000D956A0#ZY_#01#上海#09#重庆北#LxmtcxDSRH1zg7p3vYf0WqD11%2FP3APQ4z1yy6Nqjq8YuHswj7GVnSUmtEFck8kjmVoyNj1oJGKlp%0A8d5F5%2B%2Fz6xguOakUVglN8K8odGZiRzkJ0Rmwk%2BrKdykobDcYJeN%2F2vZG41UhVhI6y%2BGB5jcdBdab%0AWZKkUk%2FU96R73yEGqnpnFBovWV%2BJqY1gqLCgg8sWykgtJWyIDAv3Kwau6BNYJT9WQZIeLrVAMS1c%0A8O6rqSlHBcbmTdWXgxbG4Ir%2BBCbl9z7KLLRYbJaCbtKfb96z%2FXrPJ3cXHzAV8Uj2LQdOc5eRpt8J%0AzuYQqXNVIR8Y6Y4hSgcVPw%3D%3D#D956#\" id=\"ZY_550000D956A0\" onclick=\"showTicketPrice(this)\" style=\"cursor: pointer;\" tabindex=\"0\" width=\"46\">有</td><td align=\"center\" aria-label=\"D956次列车，二等座票价593.5元，余票有\" class=\"yes\" hbdata=\"2023-05-07#550000D956A0#ZE_#\" hbid=\"2023-05-07#SHH#CUW#550000D956A0#ZE_#01#上海#09#重庆北#LxmtcxDSRH1zg7p3vYf0WqD11%2FP3APQ4z1yy6Nqjq8YuHswj7GVnSUmtEFck8kjmVoyNj1oJGKlp%0A8d5F5%2B%2Fz6xguOakUVglN8K8odGZiRzkJ0Rmwk%2BrKdykobDcYJeN%2F2vZG41UhVhI6y%2BGB5jcdBdab%0AWZKkUk%2FU96R73yEGqnpnFBovWV%2BJqY1gqLCgg8sWykgtJWyIDAv3Kwau6BNYJT9WQZIeLrVAMS1c%0A8O6rqSlHBcbmTdWXgxbG4Ir%2BBCbl9z7KLLRYbJaCbtKfb96z%2FXrPJ3cXHzAV8Uj2LQdOc5eRpt8J%0AzuYQqXNVIR8Y6Y4hSgcVPw%3D%3D#D956#\" id=\"ZE_550000D956A0\" onclick=\"showTicketPrice(this)\" style=\"cursor: pointer;\" tabindex=\"0\" width=\"46\">有</td> <td align=\"center\" hbdata=\"2023-05-07#550000D956A0#GR_#\" hbid=\"2023-05-07#SHH#CUW#550000D956A0#GR_#01#上海#09#重庆北#LxmtcxDSRH1zg7p3vYf0WqD11%2FP3APQ4z1yy6Nqjq8YuHswj7GVnSUmtEFck8kjmVoyNj1oJGKlp%0A8d5F5%2B%2Fz6xguOakUVglN8K8odGZiRzkJ0Rmwk%2BrKdykobDcYJeN%2F2vZG41UhVhI6y%2BGB5jcdBdab%0AWZKkUk%2FU96R73yEGqnpnFBovWV%2BJqY1gqLCgg8sWykgtJWyIDAv3Kwau6BNYJT9WQZIeLrVAMS1c%0A8O6rqSlHBcbmTdWXgxbG4Ir%2BBCbl9z7KLLRYbJaCbtKfb96z%2FXrPJ3cXHzAV8Uj2LQdOc5eRpt8J%0AzuYQqXNVIR8Y6Y4hSgcVPw%3D%3D#D956#\" id=\"GR_550000D956A0\" ifalow_maxlength=\"1\" onclick=\"showTicketPrice(this)\" style=\"cursor: pointer;\" title=\"\" undefined=\"\" width=\"46\">--</td> <td align=\"center\" hbdata=\"2023-05-07#550000D956A0#RW_#\" hbid=\"2023-05-07#SHH#CUW#550000D956A0#RW_#01#上海#09#重庆北#LxmtcxDSRH1zg7p3vYf0WqD11%2FP3APQ4z1yy6Nqjq8YuHswj7GVnSUmtEFck8kjmVoyNj1oJGKlp%0A8d5F5%2B%2Fz6xguOakUVglN8K8odGZiRzkJ0Rmwk%2BrKdykobDcYJeN%2F2vZG41UhVhI6y%2BGB5jcdBdab%0AWZKkUk%2FU96R73yEGqnpnFBovWV%2BJqY1gqLCgg8sWykgtJWyIDAv3Kwau6BNYJT9WQZIeLrVAMS1c%0A8O6rqSlHBcbmTdWXgxbG4Ir%2BBCbl9z7KLLRYbJaCbtKfb96z%2FXrPJ3cXHzAV8Uj2LQdOc5eRpt8J%0AzuYQqXNVIR8Y6Y4hSgcVPw%3D%3D#D956#\" id=\"RW_550000D956A0\" ifalow_maxlength=\"1\" onclick=\"showTicketPrice(this)\" style=\"cursor: pointer;\" title=\"\" undefined=\"\" width=\"46\">--</td> <td align=\"center\" hbdata=\"2023-05-07#550000D956A0#SRRB_#\" hbid=\"2023-05-07#SHH#CUW#550000D956A0#SRRB_#01#上海#09#重庆北#LxmtcxDSRH1zg7p3vYf0WqD11%2FP3APQ4z1yy6Nqjq8YuHswj7GVnSUmtEFck8kjmVoyNj1oJGKlp%0A8d5F5%2B%2Fz6xguOakUVglN8K8odGZiRzkJ0Rmwk%2BrKdykobDcYJeN%2F2vZG41UhVhI6y%2BGB5jcdBdab%0AWZKkUk%2FU96R73yEGqnpnFBovWV%2BJqY1gqLCgg8sWykgtJWyIDAv3Kwau6BNYJT9WQZIeLrVAMS1c%0A8O6rqSlHBcbmTdWXgxbG4Ir%2BBCbl9z7KLLRYbJaCbtKfb96z%2FXrPJ3cXHzAV8Uj2LQdOc5eRpt8J%0AzuYQqXNVIR8Y6Y4hSgcVPw%3D%3D#D956#\" id=\"SRRB_550000D956A0\" ifalow_maxlength=\"1\" onclick=\"showTicketPrice(this)\" style=\"cursor: pointer;\" title=\"\" undefined=\"\" width=\"46\">--</td> <td align=\"center\" hbdata=\"2023-05-07#550000D956A0#YW_#\" hbid=\"2023-05-07#SHH#CUW#550000D956A0#YW_#01#上海#09#重庆北#LxmtcxDSRH1zg7p3vYf0WqD11%2FP3APQ4z1yy6Nqjq8YuHswj7GVnSUmtEFck8kjmVoyNj1oJGKlp%0A8d5F5%2B%2Fz6xguOakUVglN8K8odGZiRzkJ0Rmwk%2BrKdykobDcYJeN%2F2vZG41UhVhI6y%2BGB5jcdBdab%0AWZKkUk%2FU96R73yEGqnpnFBovWV%2BJqY1gqLCgg8sWykgtJWyIDAv3Kwau6BNYJT9WQZIeLrVAMS1c%0A8O6rqSlHBcbmTdWXgxbG4Ir%2BBCbl9z7KLLRYbJaCbtKfb96z%2FXrPJ3cXHzAV8Uj2LQdOc5eRpt8J%0AzuYQqXNVIR8Y6Y4hSgcVPw%3D%3D#D956#\" id=\"YW_550000D956A0\" ifalow_maxlength=\"1\" onclick=\"showTicketPrice(this)\" style=\"cursor: pointer;\" title=\"\" undefined=\"\" width=\"46\">--</td> <td align=\"center\" hbdata=\"2023-05-07#550000D956A0#RZ_#\" hbid=\"2023-05-07#SHH#CUW#550000D956A0#RZ_#01#上海#09#重庆北#LxmtcxDSRH1zg7p3vYf0WqD11%2FP3APQ4z1yy6Nqjq8YuHswj7GVnSUmtEFck8kjmVoyNj1oJGKlp%0A8d5F5%2B%2Fz6xguOakUVglN8K8odGZiRzkJ0Rmwk%2BrKdykobDcYJeN%2F2vZG41UhVhI6y%2BGB5jcdBdab%0AWZKkUk%2FU96R73yEGqnpnFBovWV%2BJqY1gqLCgg8sWykgtJWyIDAv3Kwau6BNYJT9WQZIeLrVAMS1c%0A8O6rqSlHBcbmTdWXgxbG4Ir%2BBCbl9z7KLLRYbJaCbtKfb96z%2FXrPJ3cXHzAV8Uj2LQdOc5eRpt8J%0AzuYQqXNVIR8Y6Y4hSgcVPw%3D%3D#D956#\" id=\"RZ_550000D956A0\" ifalow_maxlength=\"1\" onclick=\"showTicketPrice(this)\" style=\"cursor: pointer;\" title=\"\" undefined=\"\" width=\"46\">--</td> <td align=\"center\" hbdata=\"2023-05-07#550000D956A0#YZ_#\" hbid=\"2023-05-07#SHH#CUW#550000D956A0#YZ_#01#上海#09#重庆北#LxmtcxDSRH1zg7p3vYf0WqD11%2FP3APQ4z1yy6Nqjq8YuHswj7GVnSUmtEFck8kjmVoyNj1oJGKlp%0A8d5F5%2B%2Fz6xguOakUVglN8K8odGZiRzkJ0Rmwk%2BrKdykobDcYJeN%2F2vZG41UhVhI6y%2BGB5jcdBdab%0AWZKkUk%2FU96R73yEGqnpnFBovWV%2BJqY1gqLCgg8sWykgtJWyIDAv3Kwau6BNYJT9WQZIeLrVAMS1c%0A8O6rqSlHBcbmTdWXgxbG4Ir%2BBCbl9z7KLLRYbJaCbtKfb96z%2FXrPJ3cXHzAV8Uj2LQdOc5eRpt8J%0AzuYQqXNVIR8Y6Y4hSgcVPw%3D%3D#D956#\" id=\"YZ_550000D956A0\" ifalow_maxlength=\"1\" onclick=\"showTicketPrice(this)\" style=\"cursor: pointer;\" title=\"\" undefined=\"\" width=\"46\">--</td><td align=\"center\" aria-label=\"D956次列车，无座票价593.5元，余票有\" class=\"yes\" hbdata=\"2023-05-07#550000D956A0#WZ_#\" hbid=\"2023-05-07#SHH#CUW#550000D956A0#WZ_#01#上海#09#重庆北#LxmtcxDSRH1zg7p3vYf0WqD11%2FP3APQ4z1yy6Nqjq8YuHswj7GVnSUmtEFck8kjmVoyNj1oJGKlp%0A8d5F5%2B%2Fz6xguOakUVglN8K8odGZiRzkJ0Rmwk%2BrKdykobDcYJeN%2F2vZG41UhVhI6y%2BGB5jcdBdab%0AWZKkUk%2FU96R73yEGqnpnFBovWV%2BJqY1gqLCgg8sWykgtJWyIDAv3Kwau6BNYJT9WQZIeLrVAMS1c%0A8O6rqSlHBcbmTdWXgxbG4Ir%2BBCbl9z7KLLRYbJaCbtKfb96z%2FXrPJ3cXHzAV8Uj2LQdOc5eRpt8J%0AzuYQqXNVIR8Y6Y4hSgcVPw%3D%3D#D956#\" id=\"WZ_550000D956A0\" onclick=\"showTicketPrice(this)\" style=\"cursor: pointer;\" tabindex=\"0\" width=\"46\">有</td> <td align=\"center\" hbdata=\"2023-05-07#550000D956A0#QT_#\" hbid=\"2023-05-07#SHH#CUW#550000D956A0#QT_#01#上海#09#重庆北#LxmtcxDSRH1zg7p3vYf0WqD11%2FP3APQ4z1yy6Nqjq8YuHswj7GVnSUmtEFck8kjmVoyNj1oJGKlp%0A8d5F5%2B%2Fz6xguOakUVglN8K8odGZiRzkJ0Rmwk%2BrKdykobDcYJeN%2F2vZG41UhVhI6y%2BGB5jcdBdab%0AWZKkUk%2FU96R73yEGqnpnFBovWV%2BJqY1gqLCgg8sWykgtJWyIDAv3Kwau6BNYJT9WQZIeLrVAMS1c%0A8O6rqSlHBcbmTdWXgxbG4Ir%2BBCbl9z7KLLRYbJaCbtKfb96z%2FXrPJ3cXHzAV8Uj2LQdOc5eRpt8J%0AzuYQqXNVIR8Y6Y4hSgcVPw%3D%3D#D956#\" id=\"QT_550000D956A0\" ifalow_maxlength=\"1\" onclick=\"showTicketPrice(this)\" style=\"cursor: pointer;\" title=\"\" undefined=\"\" width=\"46\">--</td> <td align=\"center\" class=\"no-br\" width=\"80\"><a aria-label=\"预订D956次车09:30从上海出发，20:14到重庆北,当日到达历时10:44的车票\" class=\"btn72\" href=\"javascript:\" onclick=\"checkG1234('LxmtcxDSRH1zg7p3vYf0WqD11%2FP3APQ4z1yy6Nqjq8YuHswj7GVnSUmtEFck8kjmVoyNj1oJGKlp%0A8d5F5%2B%2Fz6xguOakUVglN8K8odGZiRzkJ0Rmwk%2BrKdykobDcYJeN%2F2vZG41UhVhI6y%2BGB5jcdBdab%0AWZKkUk%2FU96R73yEGqnpnFBovWV%2BJqY1gqLCgg8sWykgtJWyIDAv3Kwau6BNYJT9WQZIeLrVAMS1c%0A8O6rqSlHBcbmTdWXgxbG4Ir%2BBCbl9z7KLLRYbJaCbtKfb96z%2FXrPJ3cXHzAV8Uj2LQdOc5eRpt8J%0AzuYQqXNVIR8Y6Y4hSgcVPw%3D%3D','09:30','550000D956A0','SHH','CUW')\">预订</a></td></tr><tr datatran=\"D956\" id=\"price_550000D956A0_01_09\" style=\"display:none;\"></tr><tr class=\"\" id=\"ticket_5l000G147610_01_23\"><td colspan=\"4\" width=\"370\"><div class=\"ticket-info clearfix\" id=\"train_num_13\"><div class=\"train\" id=\"ticket_5l000G147610_01_23_train\"><div><a class=\"number\" href=\"javascript:\" id=\"5l000G147610_AOH_CUW\" onclick=\"myStopStation.open('13','5l000G147610','AOH','CUW','20230507','3');\" style=\"height: 18px; line-height: 18px;\" title=\"点击查看停靠站信息\">G1476</a><div class=\"train-type\"><div class=\"train-type-item item-fu\" title=\"复兴号\">复</div></div></div><span class=\"lookup\" id=\"5l000G147610_01_23_gVOX14nLhjLGck2cFbeBrbzI6DAHhb2J1U9g6Ft3s5GJPx2N_9MO\" onclick=\"showTicketPrice(this)\"><span style=\"display:none;\">查看票价</span><b aria-label=\"查看票价,按回车键操作\" tabindex=\"0\" title=\"查看票价\"></b></span></div><div class=\"cdz\"><strong class=\"start-s\" title=\"上海虹桥\">上海虹桥</strong><strong>重庆北</strong></div><div class=\"cds\"><strong class=\"start-t\">09:51</strong><strong class=\"color999\">20:32</strong></div><div class=\"ls\" id=\"5l000G147610_ls\"><strong>10:41</strong><span>当日到达</span></div></div></td> <td align=\"center\" aria-label=\"G1476次列车，商务座票价3247元，余票候补\" hbdata=\"2023-05-07#5l000G147610#SWZ_#\" hbid=\"2023-05-07#AOH#CUW#5l000G147610#SWZ_#01#上海虹桥#23#重庆北#SdYOGDbEfVjUrd%2FdUroBXFEl81jNihgtRfZ97kdEGqMzQ4NHtyzrXRhUq35NuRFFGHE8OXn1Yy6r%0AFGPA3851lBKqEEi1uyoV9TCX93GtrJjkz1ne6eZ4hQbvBhq48ECgyZUeGZLfzyFqhZE4przPM27Z%0AI%2FnMIQUeG%2Bgi41oHRTAd7eZSdcmc1yJVZsWwM80UFZvKQyEdgyKOtzvcTcKCZ9G2A4AOSQWyGIkF%0A2VScEZCEJvJ7bpA2x49yYgioAOxy4w82y%2Bf41k%2FdZnHwbXilWPbr9BlrWxwdTU172Ad45gWliMuU%0A3HsUTrnNhZdfCl3IEoe9NTbkHNqLn94B#G1476#\" id=\"SWZ_5l000G147610\" ifalow_maxlength=\"1\" onclick=\"showTicketPrice(this)\" role=\"button\" style=\"cursor: pointer;color: #f80;\" tabindex=\"0\" title=\"\" undefined=\"\" width=\"46\">候补</td> <td align=\"center\" aria-label=\"G1476次列车，一等座票价1639.5元，余票候补\" hbdata=\"2023-05-07#5l000G147610#ZY_#\" hbid=\"2023-05-07#AOH#CUW#5l000G147610#ZY_#01#上海虹桥#23#重庆北#SdYOGDbEfVjUrd%2FdUroBXFEl81jNihgtRfZ97kdEGqMzQ4NHtyzrXRhUq35NuRFFGHE8OXn1Yy6r%0AFGPA3851lBKqEEi1uyoV9TCX93GtrJjkz1ne6eZ4hQbvBhq48ECgyZUeGZLfzyFqhZE4przPM27Z%0AI%2FnMIQUeG%2Bgi41oHRTAd7eZSdcmc1yJVZsWwM80UFZvKQyEdgyKOtzvcTcKCZ9G2A4AOSQWyGIkF%0A2VScEZCEJvJ7bpA2x49yYgioAOxy4w82y%2Bf41k%2FdZnHwbXilWPbr9BlrWxwdTU172Ad45gWliMuU%0A3HsUTrnNhZdfCl3IEoe9NTbkHNqLn94B#G1476#\" id=\"ZY_5l000G147610\" ifalow_maxlength=\"1\" onclick=\"showTicketPrice(this)\" role=\"button\" style=\"cursor: pointer;color: #f80;\" tabindex=\"0\" title=\"\" undefined=\"\" width=\"46\">候补</td><td align=\"center\" aria-label=\"G1476次列车，二等座票价1009.5元，余票有\" class=\"yes\" hbdata=\"2023-05-07#5l000G147610#ZE_#\" hbid=\"2023-05-07#AOH#CUW#5l000G147610#ZE_#01#上海虹桥#23#重庆北#SdYOGDbEfVjUrd%2FdUroBXFEl81jNihgtRfZ97kdEGqMzQ4NHtyzrXRhUq35NuRFFGHE8OXn1Yy6r%0AFGPA3851lBKqEEi1uyoV9TCX93GtrJjkz1ne6eZ4hQbvBhq48ECgyZUeGZLfzyFqhZE4przPM27Z%0AI%2FnMIQUeG%2Bgi41oHRTAd7eZSdcmc1yJVZsWwM80UFZvKQyEdgyKOtzvcTcKCZ9G2A4AOSQWyGIkF%0A2VScEZCEJvJ7bpA2x49yYgioAOxy4w82y%2Bf41k%2FdZnHwbXilWPbr9BlrWxwdTU172Ad45gWliMuU%0A3HsUTrnNhZdfCl3IEoe9NTbkHNqLn94B#G1476#\" id=\"ZE_5l000G147610\" onclick=\"showTicketPrice(this)\" style=\"cursor: pointer;\" tabindex=\"0\" width=\"46\">有</td> <td align=\"center\" hbdata=\"2023-05-07#5l000G147610#GR_#\" hbid=\"2023-05-07#AOH#CUW#5l000G147610#GR_#01#上海虹桥#23#重庆北#SdYOGDbEfVjUrd%2FdUroBXFEl81jNihgtRfZ97kdEGqMzQ4NHtyzrXRhUq35NuRFFGHE8OXn1Yy6r%0AFGPA3851lBKqEEi1uyoV9TCX93GtrJjkz1ne6eZ4hQbvBhq48ECgyZUeGZLfzyFqhZE4przPM27Z%0AI%2FnMIQUeG%2Bgi41oHRTAd7eZSdcmc1yJVZsWwM80UFZvKQyEdgyKOtzvcTcKCZ9G2A4AOSQWyGIkF%0A2VScEZCEJvJ7bpA2x49yYgioAOxy4w82y%2Bf41k%2FdZnHwbXilWPbr9BlrWxwdTU172Ad45gWliMuU%0A3HsUTrnNhZdfCl3IEoe9NTbkHNqLn94B#G1476#\" id=\"GR_5l000G147610\" ifalow_maxlength=\"1\" onclick=\"showTicketPrice(this)\" style=\"cursor: pointer;\" title=\"\" undefined=\"\" width=\"46\">--</td> <td align=\"center\" hbdata=\"2023-05-07#5l000G147610#RW_#\" hbid=\"2023-05-07#AOH#CUW#5l000G147610#RW_#01#上海虹桥#23#重庆北#SdYOGDbEfVjUrd%2FdUroBXFEl81jNihgtRfZ97kdEGqMzQ4NHtyzrXRhUq35NuRFFGHE8OXn1Yy6r%0AFGPA3851lBKqEEi1uyoV9TCX93GtrJjkz1ne6eZ4hQbvBhq48ECgyZUeGZLfzyFqhZE4przPM27Z%0AI%2FnMIQUeG%2Bgi41oHRTAd7eZSdcmc1yJVZsWwM80UFZvKQyEdgyKOtzvcTcKCZ9G2A4AOSQWyGIkF%0A2VScEZCEJvJ7bpA2x49yYgioAOxy4w82y%2Bf41k%2FdZnHwbXilWPbr9BlrWxwdTU172Ad45gWliMuU%0A3HsUTrnNhZdfCl3IEoe9NTbkHNqLn94B#G1476#\" id=\"RW_5l000G147610\" ifalow_maxlength=\"1\" onclick=\"showTicketPrice(this)\" style=\"cursor: pointer;\" title=\"\" undefined=\"\" width=\"46\">--</td> <td align=\"center\" hbdata=\"2023-05-07#5l000G147610#SRRB_#\" hbid=\"2023-05-07#AOH#CUW#5l000G147610#SRRB_#01#上海虹桥#23#重庆北#SdYOGDbEfVjUrd%2FdUroBXFEl81jNihgtRfZ97kdEGqMzQ4NHtyzrXRhUq35NuRFFGHE8OXn1Yy6r%0AFGPA3851lBKqEEi1uyoV9TCX93GtrJjkz1ne6eZ4hQbvBhq48ECgyZUeGZLfzyFqhZE4przPM27Z%0AI%2FnMIQUeG%2Bgi41oHRTAd7eZSdcmc1yJVZsWwM80UFZvKQyEdgyKOtzvcTcKCZ9G2A4AOSQWyGIkF%0A2VScEZCEJvJ7bpA2x49yYgioAOxy4w82y%2Bf41k%2FdZnHwbXilWPbr9BlrWxwdTU172Ad45gWliMuU%0A3HsUTrnNhZdfCl3IEoe9NTbkHNqLn94B#G1476#\" id=\"SRRB_5l000G147610\" ifalow_maxlength=\"1\" onclick=\"showTicketPrice(this)\" style=\"cursor: pointer;\" title=\"\" undefined=\"\" width=\"46\">--</td> <td align=\"center\" hbdata=\"2023-05-07#5l000G147610#YW_#\" hbid=\"2023-05-07#AOH#CUW#5l000G147610#YW_#01#上海虹桥#23#重庆北#SdYOGDbEfVjUrd%2FdUroBXFEl81jNihgtRfZ97kdEGqMzQ4NHtyzrXRhUq35NuRFFGHE8OXn1Yy6r%0AFGPA3851lBKqEEi1uyoV9TCX93GtrJjkz1ne6eZ4hQbvBhq48ECgyZUeGZLfzyFqhZE4przPM27Z%0AI%2FnMIQUeG%2Bgi41oHRTAd7eZSdcmc1yJVZsWwM80UFZvKQyEdgyKOtzvcTcKCZ9G2A4AOSQWyGIkF%0A2VScEZCEJvJ7bpA2x49yYgioAOxy4w82y%2Bf41k%2FdZnHwbXilWPbr9BlrWxwdTU172Ad45gWliMuU%0A3HsUTrnNhZdfCl3IEoe9NTbkHNqLn94B#G1476#\" id=\"YW_5l000G147610\" ifalow_maxlength=\"1\" onclick=\"showTicketPrice(this)\" style=\"cursor: pointer;\" title=\"\" undefined=\"\" width=\"46\">--</td> <td align=\"center\" hbdata=\"2023-05-07#5l000G147610#RZ_#\" hbid=\"2023-05-07#AOH#CUW#5l000G147610#RZ_#01#上海虹桥#23#重庆北#SdYOGDbEfVjUrd%2FdUroBXFEl81jNihgtRfZ97kdEGqMzQ4NHtyzrXRhUq35NuRFFGHE8OXn1Yy6r%0AFGPA3851lBKqEEi1uyoV9TCX93GtrJjkz1ne6eZ4hQbvBhq48ECgyZUeGZLfzyFqhZE4przPM27Z%0AI%2FnMIQUeG%2Bgi41oHRTAd7eZSdcmc1yJVZsWwM80UFZvKQyEdgyKOtzvcTcKCZ9G2A4AOSQWyGIkF%0A2VScEZCEJvJ7bpA2x49yYgioAOxy4w82y%2Bf41k%2FdZnHwbXilWPbr9BlrWxwdTU172Ad45gWliMuU%0A3HsUTrnNhZdfCl3IEoe9NTbkHNqLn94B#G1476#\" id=\"RZ_5l000G147610\" ifalow_maxlength=\"1\" onclick=\"showTicketPrice(this)\" style=\"cursor: pointer;\" title=\"\" undefined=\"\" width=\"46\">--</td> <td align=\"center\" hbdata=\"2023-05-07#5l000G147610#YZ_#\" hbid=\"2023-05-07#AOH#CUW#5l000G147610#YZ_#01#上海虹桥#23#重庆北#SdYOGDbEfVjUrd%2FdUroBXFEl81jNihgtRfZ97kdEGqMzQ4NHtyzrXRhUq35NuRFFGHE8OXn1Yy6r%0AFGPA3851lBKqEEi1uyoV9TCX93GtrJjkz1ne6eZ4hQbvBhq48ECgyZUeGZLfzyFqhZE4przPM27Z%0AI%2FnMIQUeG%2Bgi41oHRTAd7eZSdcmc1yJVZsWwM80UFZvKQyEdgyKOtzvcTcKCZ9G2A4AOSQWyGIkF%0A2VScEZCEJvJ7bpA2x49yYgioAOxy4w82y%2Bf41k%2FdZnHwbXilWPbr9BlrWxwdTU172Ad45gWliMuU%0A3HsUTrnNhZdfCl3IEoe9NTbkHNqLn94B#G1476#\" id=\"YZ_5l000G147610\" ifalow_maxlength=\"1\" onclick=\"showTicketPrice(this)\" style=\"cursor: pointer;\" title=\"\" undefined=\"\" width=\"46\">--</td> <td align=\"center\" hbdata=\"2023-05-07#5l000G147610#WZ_#\" hbid=\"2023-05-07#AOH#CUW#5l000G147610#WZ_#01#上海虹桥#23#重庆北#SdYOGDbEfVjUrd%2FdUroBXFEl81jNihgtRfZ97kdEGqMzQ4NHtyzrXRhUq35NuRFFGHE8OXn1Yy6r%0AFGPA3851lBKqEEi1uyoV9TCX93GtrJjkz1ne6eZ4hQbvBhq48ECgyZUeGZLfzyFqhZE4przPM27Z%0AI%2FnMIQUeG%2Bgi41oHRTAd7eZSdcmc1yJVZsWwM80UFZvKQyEdgyKOtzvcTcKCZ9G2A4AOSQWyGIkF%0A2VScEZCEJvJ7bpA2x49yYgioAOxy4w82y%2Bf41k%2FdZnHwbXilWPbr9BlrWxwdTU172Ad45gWliMuU%0A3HsUTrnNhZdfCl3IEoe9NTbkHNqLn94B#G1476#\" id=\"WZ_5l000G147610\" ifalow_maxlength=\"1\" onclick=\"showTicketPrice(this)\" style=\"cursor: pointer;\" title=\"\" undefined=\"\" width=\"46\">--</td> <td align=\"center\" hbdata=\"2023-05-07#5l000G147610#QT_#\" hbid=\"2023-05-07#AOH#CUW#5l000G147610#QT_#01#上海虹桥#23#重庆北#SdYOGDbEfVjUrd%2FdUroBXFEl81jNihgtRfZ97kdEGqMzQ4NHtyzrXRhUq35NuRFFGHE8OXn1Yy6r%0AFGPA3851lBKqEEi1uyoV9TCX93GtrJjkz1ne6eZ4hQbvBhq48ECgyZUeGZLfzyFqhZE4przPM27Z%0AI%2FnMIQUeG%2Bgi41oHRTAd7eZSdcmc1yJVZsWwM80UFZvKQyEdgyKOtzvcTcKCZ9G2A4AOSQWyGIkF%0A2VScEZCEJvJ7bpA2x49yYgioAOxy4w82y%2Bf41k%2FdZnHwbXilWPbr9BlrWxwdTU172Ad45gWliMuU%0A3HsUTrnNhZdfCl3IEoe9NTbkHNqLn94B#G1476#\" id=\"QT_5l000G147610\" ifalow_maxlength=\"1\" onclick=\"showTicketPrice(this)\" style=\"cursor: pointer;\" title=\"\" undefined=\"\" width=\"46\">--</td> <td align=\"center\" class=\"no-br\" width=\"80\"><a aria-label=\"预订G1476次车09:51从上海虹桥出发，20:32到重庆北,当日到达历时10:41的车票\" class=\"btn72\" href=\"javascript:\" onclick=\"checkG1234('SdYOGDbEfVjUrd%2FdUroBXFEl81jNihgtRfZ97kdEGqMzQ4NHtyzrXRhUq35NuRFFGHE8OXn1Yy6r%0AFGPA3851lBKqEEi1uyoV9TCX93GtrJjkz1ne6eZ4hQbvBhq48ECgyZUeGZLfzyFqhZE4przPM27Z%0AI%2FnMIQUeG%2Bgi41oHRTAd7eZSdcmc1yJVZsWwM80UFZvKQyEdgyKOtzvcTcKCZ9G2A4AOSQWyGIkF%0A2VScEZCEJvJ7bpA2x49yYgioAOxy4w82y%2Bf41k%2FdZnHwbXilWPbr9BlrWxwdTU172Ad45gWliMuU%0A3HsUTrnNhZdfCl3IEoe9NTbkHNqLn94B','09:51','5l000G147610','AOH','CUW')\">预订</a></td></tr><tr datatran=\"G1476\" id=\"price_5l000G147610_01_23\" style=\"display:none;\"></tr><tr class=\"bgc\" id=\"ticket_5l000G133320_01_21\"><td colspan=\"4\" width=\"370\"><div class=\"ticket-info clearfix\" id=\"train_num_14\"><div class=\"train\" id=\"ticket_5l000G133320_01_21_train\"><div><a class=\"number\" href=\"javascript:\" id=\"5l000G133320_AOH_CXW\" onclick=\"myStopStation.open('14','5l000G133320','AOH','CXW','20230507','3');\" title=\"点击查看停靠站信息\">G1333</a><div class=\"train-type\"></div></div><span class=\"lookup\" id=\"5l000G133320_01_21_5IRWeuVOETJk6%2FpG37keZ3BwBraPax8RkpaaUzCeOFVXp3Zp_9MO\" onclick=\"showTicketPrice(this)\"><span style=\"display:none;\">查看票价</span><b aria-label=\"查看票价,按回车键操作\" tabindex=\"0\" title=\"查看票价\"></b></span></div><div class=\"cdz\"><strong class=\"start-s\" title=\"上海虹桥\">上海虹桥</strong><strong class=\"end-s\" title=\"重庆西\">重庆西</strong></div><div class=\"cds\"><strong class=\"start-t\">11:44</strong><strong class=\"color999\">23:09</strong></div><div class=\"ls\" id=\"5l000G133320_ls\"><strong>11:25</strong><span>当日到达</span></div></div></td> <td align=\"center\" aria-label=\"G1333次列车，商务座票价2680.5元，余票候补\" hbdata=\"2023-05-07#5l000G133320#SWZ_#\" hbid=\"2023-05-07#AOH#CXW#5l000G133320#SWZ_#01#上海虹桥#21#重庆西#gOtxzSbAHzMtnbseVpqbpy8blNwL8QY6K%2BRrcmrPVAtlpTPr8MO18v9l4wm1FUjjdbMmvvi67Ahy%0AWj78upyroLrGUJU1zo1bhuKDSnukyZ2%2Fa4njQWuXep66N8GPJMEi%2FBAg68h83yemVYBOoJrnrKtX%0AmjE4zZFN3K%2BHwUhxLlWpnX4gds7tUKHzMaeb6mMLUce656zipNHLaYDnLSivCU%2FudNtEXPponmtt%0A04DQV0yZlwaAELj52AmRqKxGmAReBN8lTp4lKBMpOOPQdzlqVWTW%2FUGXNb%2BaX02HT3bbU%2BnBspTl%0AkgxVArBLAyhXMtm3C%2B7QrS6GrA8e3QYI#G1333#\" id=\"SWZ_5l000G133320\" ifalow_maxlength=\"1\" onclick=\"showTicketPrice(this)\" role=\"button\" style=\"cursor: pointer;color: #f80;\" tabindex=\"0\" title=\"\" undefined=\"\" width=\"46\">候补</td> <td align=\"center\" aria-label=\"G1333次列车，一等座票价1430元，余票候补\" hbdata=\"2023-05-07#5l000G133320#ZY_#\" hbid=\"2023-05-07#AOH#CXW#5l000G133320#ZY_#01#上海虹桥#21#重庆西#gOtxzSbAHzMtnbseVpqbpy8blNwL8QY6K%2BRrcmrPVAtlpTPr8MO18v9l4wm1FUjjdbMmvvi67Ahy%0AWj78upyroLrGUJU1zo1bhuKDSnukyZ2%2Fa4njQWuXep66N8GPJMEi%2FBAg68h83yemVYBOoJrnrKtX%0AmjE4zZFN3K%2BHwUhxLlWpnX4gds7tUKHzMaeb6mMLUce656zipNHLaYDnLSivCU%2FudNtEXPponmtt%0A04DQV0yZlwaAELj52AmRqKxGmAReBN8lTp4lKBMpOOPQdzlqVWTW%2FUGXNb%2BaX02HT3bbU%2BnBspTl%0AkgxVArBLAyhXMtm3C%2B7QrS6GrA8e3QYI#G1333#\" id=\"ZY_5l000G133320\" ifalow_maxlength=\"1\" onclick=\"showTicketPrice(this)\" role=\"button\" style=\"cursor: pointer;color: #f80;\" tabindex=\"0\" title=\"\" undefined=\"\" width=\"46\">候补</td><td align=\"center\" aria-label=\"G1333次列车，二等座票价859.5元，余票有\" class=\"yes\" hbdata=\"2023-05-07#5l000G133320#ZE_#\" hbid=\"2023-05-07#AOH#CXW#5l000G133320#ZE_#01#上海虹桥#21#重庆西#gOtxzSbAHzMtnbseVpqbpy8blNwL8QY6K%2BRrcmrPVAtlpTPr8MO18v9l4wm1FUjjdbMmvvi67Ahy%0AWj78upyroLrGUJU1zo1bhuKDSnukyZ2%2Fa4njQWuXep66N8GPJMEi%2FBAg68h83yemVYBOoJrnrKtX%0AmjE4zZFN3K%2BHwUhxLlWpnX4gds7tUKHzMaeb6mMLUce656zipNHLaYDnLSivCU%2FudNtEXPponmtt%0A04DQV0yZlwaAELj52AmRqKxGmAReBN8lTp4lKBMpOOPQdzlqVWTW%2FUGXNb%2BaX02HT3bbU%2BnBspTl%0AkgxVArBLAyhXMtm3C%2B7QrS6GrA8e3QYI#G1333#\" id=\"ZE_5l000G133320\" onclick=\"showTicketPrice(this)\" style=\"cursor: pointer;\" tabindex=\"0\" width=\"46\">有</td> <td align=\"center\" hbdata=\"2023-05-07#5l000G133320#GR_#\" hbid=\"2023-05-07#AOH#CXW#5l000G133320#GR_#01#上海虹桥#21#重庆西#gOtxzSbAHzMtnbseVpqbpy8blNwL8QY6K%2BRrcmrPVAtlpTPr8MO18v9l4wm1FUjjdbMmvvi67Ahy%0AWj78upyroLrGUJU1zo1bhuKDSnukyZ2%2Fa4njQWuXep66N8GPJMEi%2FBAg68h83yemVYBOoJrnrKtX%0AmjE4zZFN3K%2BHwUhxLlWpnX4gds7tUKHzMaeb6mMLUce656zipNHLaYDnLSivCU%2FudNtEXPponmtt%0A04DQV0yZlwaAELj52AmRqKxGmAReBN8lTp4lKBMpOOPQdzlqVWTW%2FUGXNb%2BaX02HT3bbU%2BnBspTl%0AkgxVArBLAyhXMtm3C%2B7QrS6GrA8e3QYI#G1333#\" id=\"GR_5l000G133320\" ifalow_maxlength=\"1\" onclick=\"showTicketPrice(this)\" style=\"cursor: pointer;\" title=\"\" undefined=\"\" width=\"46\">--</td> <td align=\"center\" hbdata=\"2023-05-07#5l000G133320#RW_#\" hbid=\"2023-05-07#AOH#CXW#5l000G133320#RW_#01#上海虹桥#21#重庆西#gOtxzSbAHzMtnbseVpqbpy8blNwL8QY6K%2BRrcmrPVAtlpTPr8MO18v9l4wm1FUjjdbMmvvi67Ahy%0AWj78upyroLrGUJU1zo1bhuKDSnukyZ2%2Fa4njQWuXep66N8GPJMEi%2FBAg68h83yemVYBOoJrnrKtX%0AmjE4zZFN3K%2BHwUhxLlWpnX4gds7tUKHzMaeb6mMLUce656zipNHLaYDnLSivCU%2FudNtEXPponmtt%0A04DQV0yZlwaAELj52AmRqKxGmAReBN8lTp4lKBMpOOPQdzlqVWTW%2FUGXNb%2BaX02HT3bbU%2BnBspTl%0AkgxVArBLAyhXMtm3C%2B7QrS6GrA8e3QYI#G1333#\" id=\"RW_5l000G133320\" ifalow_maxlength=\"1\" onclick=\"showTicketPrice(this)\" style=\"cursor: pointer;\" title=\"\" undefined=\"\" width=\"46\">--</td> <td align=\"center\" hbdata=\"2023-05-07#5l000G133320#SRRB_#\" hbid=\"2023-05-07#AOH#CXW#5l000G133320#SRRB_#01#上海虹桥#21#重庆西#gOtxzSbAHzMtnbseVpqbpy8blNwL8QY6K%2BRrcmrPVAtlpTPr8MO18v9l4wm1FUjjdbMmvvi67Ahy%0AWj78upyroLrGUJU1zo1bhuKDSnukyZ2%2Fa4njQWuXep66N8GPJMEi%2FBAg68h83yemVYBOoJrnrKtX%0AmjE4zZFN3K%2BHwUhxLlWpnX4gds7tUKHzMaeb6mMLUce656zipNHLaYDnLSivCU%2FudNtEXPponmtt%0A04DQV0yZlwaAELj52AmRqKxGmAReBN8lTp4lKBMpOOPQdzlqVWTW%2FUGXNb%2BaX02HT3bbU%2BnBspTl%0AkgxVArBLAyhXMtm3C%2B7QrS6GrA8e3QYI#G1333#\" id=\"SRRB_5l000G133320\" ifalow_maxlength=\"1\" onclick=\"showTicketPrice(this)\" style=\"cursor: pointer;\" title=\"\" undefined=\"\" width=\"46\">--</td> <td align=\"center\" hbdata=\"2023-05-07#5l000G133320#YW_#\" hbid=\"2023-05-07#AOH#CXW#5l000G133320#YW_#01#上海虹桥#21#重庆西#gOtxzSbAHzMtnbseVpqbpy8blNwL8QY6K%2BRrcmrPVAtlpTPr8MO18v9l4wm1FUjjdbMmvvi67Ahy%0AWj78upyroLrGUJU1zo1bhuKDSnukyZ2%2Fa4njQWuXep66N8GPJMEi%2FBAg68h83yemVYBOoJrnrKtX%0AmjE4zZFN3K%2BHwUhxLlWpnX4gds7tUKHzMaeb6mMLUce656zipNHLaYDnLSivCU%2FudNtEXPponmtt%0A04DQV0yZlwaAELj52AmRqKxGmAReBN8lTp4lKBMpOOPQdzlqVWTW%2FUGXNb%2BaX02HT3bbU%2BnBspTl%0AkgxVArBLAyhXMtm3C%2B7QrS6GrA8e3QYI#G1333#\" id=\"YW_5l000G133320\" ifalow_maxlength=\"1\" onclick=\"showTicketPrice(this)\" style=\"cursor: pointer;\" title=\"\" undefined=\"\" width=\"46\">--</td> <td align=\"center\" hbdata=\"2023-05-07#5l000G133320#RZ_#\" hbid=\"2023-05-07#AOH#CXW#5l000G133320#RZ_#01#上海虹桥#21#重庆西#gOtxzSbAHzMtnbseVpqbpy8blNwL8QY6K%2BRrcmrPVAtlpTPr8MO18v9l4wm1FUjjdbMmvvi67Ahy%0AWj78upyroLrGUJU1zo1bhuKDSnukyZ2%2Fa4njQWuXep66N8GPJMEi%2FBAg68h83yemVYBOoJrnrKtX%0AmjE4zZFN3K%2BHwUhxLlWpnX4gds7tUKHzMaeb6mMLUce656zipNHLaYDnLSivCU%2FudNtEXPponmtt%0A04DQV0yZlwaAELj52AmRqKxGmAReBN8lTp4lKBMpOOPQdzlqVWTW%2FUGXNb%2BaX02HT3bbU%2BnBspTl%0AkgxVArBLAyhXMtm3C%2B7QrS6GrA8e3QYI#G1333#\" id=\"RZ_5l000G133320\" ifalow_maxlength=\"1\" onclick=\"showTicketPrice(this)\" style=\"cursor: pointer;\" title=\"\" undefined=\"\" width=\"46\">--</td> <td align=\"center\" hbdata=\"2023-05-07#5l000G133320#YZ_#\" hbid=\"2023-05-07#AOH#CXW#5l000G133320#YZ_#01#上海虹桥#21#重庆西#gOtxzSbAHzMtnbseVpqbpy8blNwL8QY6K%2BRrcmrPVAtlpTPr8MO18v9l4wm1FUjjdbMmvvi67Ahy%0AWj78upyroLrGUJU1zo1bhuKDSnukyZ2%2Fa4njQWuXep66N8GPJMEi%2FBAg68h83yemVYBOoJrnrKtX%0AmjE4zZFN3K%2BHwUhxLlWpnX4gds7tUKHzMaeb6mMLUce656zipNHLaYDnLSivCU%2FudNtEXPponmtt%0A04DQV0yZlwaAELj52AmRqKxGmAReBN8lTp4lKBMpOOPQdzlqVWTW%2FUGXNb%2BaX02HT3bbU%2BnBspTl%0AkgxVArBLAyhXMtm3C%2B7QrS6GrA8e3QYI#G1333#\" id=\"YZ_5l000G133320\" ifalow_maxlength=\"1\" onclick=\"showTicketPrice(this)\" style=\"cursor: pointer;\" title=\"\" undefined=\"\" width=\"46\">--</td> <td align=\"center\" hbdata=\"2023-05-07#5l000G133320#WZ_#\" hbid=\"2023-05-07#AOH#CXW#5l000G133320#WZ_#01#上海虹桥#21#重庆西#gOtxzSbAHzMtnbseVpqbpy8blNwL8QY6K%2BRrcmrPVAtlpTPr8MO18v9l4wm1FUjjdbMmvvi67Ahy%0AWj78upyroLrGUJU1zo1bhuKDSnukyZ2%2Fa4njQWuXep66N8GPJMEi%2FBAg68h83yemVYBOoJrnrKtX%0AmjE4zZFN3K%2BHwUhxLlWpnX4gds7tUKHzMaeb6mMLUce656zipNHLaYDnLSivCU%2FudNtEXPponmtt%0A04DQV0yZlwaAELj52AmRqKxGmAReBN8lTp4lKBMpOOPQdzlqVWTW%2FUGXNb%2BaX02HT3bbU%2BnBspTl%0AkgxVArBLAyhXMtm3C%2B7QrS6GrA8e3QYI#G1333#\" id=\"WZ_5l000G133320\" ifalow_maxlength=\"1\" onclick=\"showTicketPrice(this)\" style=\"cursor: pointer;\" title=\"\" undefined=\"\" width=\"46\">--</td> <td align=\"center\" hbdata=\"2023-05-07#5l000G133320#QT_#\" hbid=\"2023-05-07#AOH#CXW#5l000G133320#QT_#01#上海虹桥#21#重庆西#gOtxzSbAHzMtnbseVpqbpy8blNwL8QY6K%2BRrcmrPVAtlpTPr8MO18v9l4wm1FUjjdbMmvvi67Ahy%0AWj78upyroLrGUJU1zo1bhuKDSnukyZ2%2Fa4njQWuXep66N8GPJMEi%2FBAg68h83yemVYBOoJrnrKtX%0AmjE4zZFN3K%2BHwUhxLlWpnX4gds7tUKHzMaeb6mMLUce656zipNHLaYDnLSivCU%2FudNtEXPponmtt%0A04DQV0yZlwaAELj52AmRqKxGmAReBN8lTp4lKBMpOOPQdzlqVWTW%2FUGXNb%2BaX02HT3bbU%2BnBspTl%0AkgxVArBLAyhXMtm3C%2B7QrS6GrA8e3QYI#G1333#\" id=\"QT_5l000G133320\" ifalow_maxlength=\"1\" onclick=\"showTicketPrice(this)\" style=\"cursor: pointer;\" title=\"\" undefined=\"\" width=\"46\">--</td> <td align=\"center\" class=\"no-br\" width=\"80\"><a aria-label=\"预订G1333次车11:44从上海虹桥出发，23:09到重庆西,当日到达历时11:25的车票\" class=\"btn72\" href=\"javascript:\" onclick=\"checkG1234('gOtxzSbAHzMtnbseVpqbpy8blNwL8QY6K%2BRrcmrPVAtlpTPr8MO18v9l4wm1FUjjdbMmvvi67Ahy%0AWj78upyroLrGUJU1zo1bhuKDSnukyZ2%2Fa4njQWuXep66N8GPJMEi%2FBAg68h83yemVYBOoJrnrKtX%0AmjE4zZFN3K%2BHwUhxLlWpnX4gds7tUKHzMaeb6mMLUce656zipNHLaYDnLSivCU%2FudNtEXPponmtt%0A04DQV0yZlwaAELj52AmRqKxGmAReBN8lTp4lKBMpOOPQdzlqVWTW%2FUGXNb%2BaX02HT3bbU%2BnBspTl%0AkgxVArBLAyhXMtm3C%2B7QrS6GrA8e3QYI','11:44','5l000G133320','AOH','CXW')\">预订</a></td></tr><tr datatran=\"G1333\" id=\"price_5l000G133320_01_21\" style=\"display:none;\"></tr><tr class=\"\" id=\"ticket_5l000G153200_01_23\"><td colspan=\"4\" width=\"370\"><div class=\"ticket-info clearfix\" id=\"train_num_15\"><div class=\"train\" id=\"ticket_5l000G153200_01_23_train\"><div><a class=\"number\" href=\"javascript:\" id=\"5l000G153200_AOH_CUW\" onclick=\"myStopStation.open('15','5l000G153200','AOH','CUW','20230507','3');\" title=\"点击查看停靠站信息\">G1532</a><div class=\"train-type\"></div></div><span class=\"lookup\" id=\"5l000G153200_01_23_7d4GrvCyXd9Lj63B%2BlKbQSyQNgsppbvgPbRYCOdVcBpURwP9_MOP\" onclick=\"showTicketPrice(this)\"><span style=\"display:none;\">查看票价</span><b aria-label=\"查看票价,按回车键操作\" tabindex=\"0\" title=\"查看票价\"></b></span></div><div class=\"cdz\"><strong class=\"start-s\" title=\"上海虹桥\">上海虹桥</strong><strong class=\"end-s\" title=\"重庆北\">重庆北</strong></div><div class=\"cds\"><strong class=\"start-t\">11:52</strong><strong class=\"color999\">23:27</strong></div><div class=\"ls\" id=\"5l000G153200_ls\"><strong>11:35</strong><span>当日到达</span></div></div></td><td align=\"center\" aria-label=\"G1532次列车，特等座票价1730.5元，余票8\" class=\"t-num\" hbdata=\"2023-05-07#5l000G153200#TZ_#\" hbid=\"2023-05-07#AOH#CUW#5l000G153200#TZ_#01#上海虹桥#23#重庆北#sdy0yOIY431qlh1ASpYRt49jVTBzJsOWGQAeXJUxz3XGHLLRyKyOQwvkM3LCegUzU9tBVm8A7e0c%0A10EHU2s3P00XJlLLtylHbTy5Z%2FSEnBPLisGzZJz6LXocKVw3g0G3RsqD9oeWVsrkR14GuMVvCNyK%0AAnrzIbM2XVSLaMTD%2BvRLFlFnzk5tHpbXNaGfITtHsWKzGj8UcszKNpvOATnePEtVC0ySZOiiXfVn%0A%2FceJPkdGza2wdKshK8HlbmH0qwkK%2Fio9dc0nBRi3Z%2BiveCmnswZSk5i%2Bpu3wa8NX16%2FAUQbqJvMr%0AGElRfXYkKzOGvGJk3LAnz3JJ%2B%2B1tBcKa#G1532#\" id=\"TZ_5l000G153200\" ifalow_maxlength=\"1\" onclick=\"showTicketPrice(this)\" style=\"cursor: pointer;\" tabindex=\"0\" title=\"\" width=\"46\"><div>8</div></td><td align=\"center\" aria-label=\"G1532次列车，一等座票价1522.5元，余票有\" class=\"yes\" hbdata=\"2023-05-07#5l000G153200#ZY_#\" hbid=\"2023-05-07#AOH#CUW#5l000G153200#ZY_#01#上海虹桥#23#重庆北#sdy0yOIY431qlh1ASpYRt49jVTBzJsOWGQAeXJUxz3XGHLLRyKyOQwvkM3LCegUzU9tBVm8A7e0c%0A10EHU2s3P00XJlLLtylHbTy5Z%2FSEnBPLisGzZJz6LXocKVw3g0G3RsqD9oeWVsrkR14GuMVvCNyK%0AAnrzIbM2XVSLaMTD%2BvRLFlFnzk5tHpbXNaGfITtHsWKzGj8UcszKNpvOATnePEtVC0ySZOiiXfVn%0A%2FceJPkdGza2wdKshK8HlbmH0qwkK%2Fio9dc0nBRi3Z%2BiveCmnswZSk5i%2Bpu3wa8NX16%2FAUQbqJvMr%0AGElRfXYkKzOGvGJk3LAnz3JJ%2B%2B1tBcKa#G1532#\" id=\"ZY_5l000G153200\" onclick=\"showTicketPrice(this)\" style=\"cursor: pointer;\" tabindex=\"0\" width=\"46\">有</td><td align=\"center\" aria-label=\"G1532次列车，二等座票价953.5元，余票有\" class=\"yes\" hbdata=\"2023-05-07#5l000G153200#ZE_#\" hbid=\"2023-05-07#AOH#CUW#5l000G153200#ZE_#01#上海虹桥#23#重庆北#sdy0yOIY431qlh1ASpYRt49jVTBzJsOWGQAeXJUxz3XGHLLRyKyOQwvkM3LCegUzU9tBVm8A7e0c%0A10EHU2s3P00XJlLLtylHbTy5Z%2FSEnBPLisGzZJz6LXocKVw3g0G3RsqD9oeWVsrkR14GuMVvCNyK%0AAnrzIbM2XVSLaMTD%2BvRLFlFnzk5tHpbXNaGfITtHsWKzGj8UcszKNpvOATnePEtVC0ySZOiiXfVn%0A%2FceJPkdGza2wdKshK8HlbmH0qwkK%2Fio9dc0nBRi3Z%2BiveCmnswZSk5i%2Bpu3wa8NX16%2FAUQbqJvMr%0AGElRfXYkKzOGvGJk3LAnz3JJ%2B%2B1tBcKa#G1532#\" id=\"ZE_5l000G153200\" onclick=\"showTicketPrice(this)\" style=\"cursor: pointer;\" tabindex=\"0\" width=\"46\">有</td> <td align=\"center\" hbdata=\"2023-05-07#5l000G153200#GR_#\" hbid=\"2023-05-07#AOH#CUW#5l000G153200#GR_#01#上海虹桥#23#重庆北#sdy0yOIY431qlh1ASpYRt49jVTBzJsOWGQAeXJUxz3XGHLLRyKyOQwvkM3LCegUzU9tBVm8A7e0c%0A10EHU2s3P00XJlLLtylHbTy5Z%2FSEnBPLisGzZJz6LXocKVw3g0G3RsqD9oeWVsrkR14GuMVvCNyK%0AAnrzIbM2XVSLaMTD%2BvRLFlFnzk5tHpbXNaGfITtHsWKzGj8UcszKNpvOATnePEtVC0ySZOiiXfVn%0A%2FceJPkdGza2wdKshK8HlbmH0qwkK%2Fio9dc0nBRi3Z%2BiveCmnswZSk5i%2Bpu3wa8NX16%2FAUQbqJvMr%0AGElRfXYkKzOGvGJk3LAnz3JJ%2B%2B1tBcKa#G1532#\" id=\"GR_5l000G153200\" ifalow_maxlength=\"1\" onclick=\"showTicketPrice(this)\" style=\"cursor: pointer;\" title=\"\" undefined=\"\" width=\"46\">--</td> <td align=\"center\" hbdata=\"2023-05-07#5l000G153200#RW_#\" hbid=\"2023-05-07#AOH#CUW#5l000G153200#RW_#01#上海虹桥#23#重庆北#sdy0yOIY431qlh1ASpYRt49jVTBzJsOWGQAeXJUxz3XGHLLRyKyOQwvkM3LCegUzU9tBVm8A7e0c%0A10EHU2s3P00XJlLLtylHbTy5Z%2FSEnBPLisGzZJz6LXocKVw3g0G3RsqD9oeWVsrkR14GuMVvCNyK%0AAnrzIbM2XVSLaMTD%2BvRLFlFnzk5tHpbXNaGfITtHsWKzGj8UcszKNpvOATnePEtVC0ySZOiiXfVn%0A%2FceJPkdGza2wdKshK8HlbmH0qwkK%2Fio9dc0nBRi3Z%2BiveCmnswZSk5i%2Bpu3wa8NX16%2FAUQbqJvMr%0AGElRfXYkKzOGvGJk3LAnz3JJ%2B%2B1tBcKa#G1532#\" id=\"RW_5l000G153200\" ifalow_maxlength=\"1\" onclick=\"showTicketPrice(this)\" style=\"cursor: pointer;\" title=\"\" undefined=\"\" width=\"46\">--</td> <td align=\"center\" hbdata=\"2023-05-07#5l000G153200#SRRB_#\" hbid=\"2023-05-07#AOH#CUW#5l000G153200#SRRB_#01#上海虹桥#23#重庆北#sdy0yOIY431qlh1ASpYRt49jVTBzJsOWGQAeXJUxz3XGHLLRyKyOQwvkM3LCegUzU9tBVm8A7e0c%0A10EHU2s3P00XJlLLtylHbTy5Z%2FSEnBPLisGzZJz6LXocKVw3g0G3RsqD9oeWVsrkR14GuMVvCNyK%0AAnrzIbM2XVSLaMTD%2BvRLFlFnzk5tHpbXNaGfITtHsWKzGj8UcszKNpvOATnePEtVC0ySZOiiXfVn%0A%2FceJPkdGza2wdKshK8HlbmH0qwkK%2Fio9dc0nBRi3Z%2BiveCmnswZSk5i%2Bpu3wa8NX16%2FAUQbqJvMr%0AGElRfXYkKzOGvGJk3LAnz3JJ%2B%2B1tBcKa#G1532#\" id=\"SRRB_5l000G153200\" ifalow_maxlength=\"1\" onclick=\"showTicketPrice(this)\" style=\"cursor: pointer;\" title=\"\" undefined=\"\" width=\"46\">--</td> <td align=\"center\" hbdata=\"2023-05-07#5l000G153200#YW_#\" hbid=\"2023-05-07#AOH#CUW#5l000G153200#YW_#01#上海虹桥#23#重庆北#sdy0yOIY431qlh1ASpYRt49jVTBzJsOWGQAeXJUxz3XGHLLRyKyOQwvkM3LCegUzU9tBVm8A7e0c%0A10EHU2s3P00XJlLLtylHbTy5Z%2FSEnBPLisGzZJz6LXocKVw3g0G3RsqD9oeWVsrkR14GuMVvCNyK%0AAnrzIbM2XVSLaMTD%2BvRLFlFnzk5tHpbXNaGfITtHsWKzGj8UcszKNpvOATnePEtVC0ySZOiiXfVn%0A%2FceJPkdGza2wdKshK8HlbmH0qwkK%2Fio9dc0nBRi3Z%2BiveCmnswZSk5i%2Bpu3wa8NX16%2FAUQbqJvMr%0AGElRfXYkKzOGvGJk3LAnz3JJ%2B%2B1tBcKa#G1532#\" id=\"YW_5l000G153200\" ifalow_maxlength=\"1\" onclick=\"showTicketPrice(this)\" style=\"cursor: pointer;\" title=\"\" undefined=\"\" width=\"46\">--</td> <td align=\"center\" hbdata=\"2023-05-07#5l000G153200#RZ_#\" hbid=\"2023-05-07#AOH#CUW#5l000G153200#RZ_#01#上海虹桥#23#重庆北#sdy0yOIY431qlh1ASpYRt49jVTBzJsOWGQAeXJUxz3XGHLLRyKyOQwvkM3LCegUzU9tBVm8A7e0c%0A10EHU2s3P00XJlLLtylHbTy5Z%2FSEnBPLisGzZJz6LXocKVw3g0G3RsqD9oeWVsrkR14GuMVvCNyK%0AAnrzIbM2XVSLaMTD%2BvRLFlFnzk5tHpbXNaGfITtHsWKzGj8UcszKNpvOATnePEtVC0ySZOiiXfVn%0A%2FceJPkdGza2wdKshK8HlbmH0qwkK%2Fio9dc0nBRi3Z%2BiveCmnswZSk5i%2Bpu3wa8NX16%2FAUQbqJvMr%0AGElRfXYkKzOGvGJk3LAnz3JJ%2B%2B1tBcKa#G1532#\" id=\"RZ_5l000G153200\" ifalow_maxlength=\"1\" onclick=\"showTicketPrice(this)\" style=\"cursor: pointer;\" title=\"\" undefined=\"\" width=\"46\">--</td> <td align=\"center\" hbdata=\"2023-05-07#5l000G153200#YZ_#\" hbid=\"2023-05-07#AOH#CUW#5l000G153200#YZ_#01#上海虹桥#23#重庆北#sdy0yOIY431qlh1ASpYRt49jVTBzJsOWGQAeXJUxz3XGHLLRyKyOQwvkM3LCegUzU9tBVm8A7e0c%0A10EHU2s3P00XJlLLtylHbTy5Z%2FSEnBPLisGzZJz6LXocKVw3g0G3RsqD9oeWVsrkR14GuMVvCNyK%0AAnrzIbM2XVSLaMTD%2BvRLFlFnzk5tHpbXNaGfITtHsWKzGj8UcszKNpvOATnePEtVC0ySZOiiXfVn%0A%2FceJPkdGza2wdKshK8HlbmH0qwkK%2Fio9dc0nBRi3Z%2BiveCmnswZSk5i%2Bpu3wa8NX16%2FAUQbqJvMr%0AGElRfXYkKzOGvGJk3LAnz3JJ%2B%2B1tBcKa#G1532#\" id=\"YZ_5l000G153200\" ifalow_maxlength=\"1\" onclick=\"showTicketPrice(this)\" style=\"cursor: pointer;\" title=\"\" undefined=\"\" width=\"46\">--</td> <td align=\"center\" hbdata=\"2023-05-07#5l000G153200#WZ_#\" hbid=\"2023-05-07#AOH#CUW#5l000G153200#WZ_#01#上海虹桥#23#重庆北#sdy0yOIY431qlh1ASpYRt49jVTBzJsOWGQAeXJUxz3XGHLLRyKyOQwvkM3LCegUzU9tBVm8A7e0c%0A10EHU2s3P00XJlLLtylHbTy5Z%2FSEnBPLisGzZJz6LXocKVw3g0G3RsqD9oeWVsrkR14GuMVvCNyK%0AAnrzIbM2XVSLaMTD%2BvRLFlFnzk5tHpbXNaGfITtHsWKzGj8UcszKNpvOATnePEtVC0ySZOiiXfVn%0A%2FceJPkdGza2wdKshK8HlbmH0qwkK%2Fio9dc0nBRi3Z%2BiveCmnswZSk5i%2Bpu3wa8NX16%2FAUQbqJvMr%0AGElRfXYkKzOGvGJk3LAnz3JJ%2B%2B1tBcKa#G1532#\" id=\"WZ_5l000G153200\" ifalow_maxlength=\"1\" onclick=\"showTicketPrice(this)\" style=\"cursor: pointer;\" title=\"\" undefined=\"\" width=\"46\">--</td> <td align=\"center\" hbdata=\"2023-05-07#5l000G153200#QT_#\" hbid=\"2023-05-07#AOH#CUW#5l000G153200#QT_#01#上海虹桥#23#重庆北#sdy0yOIY431qlh1ASpYRt49jVTBzJsOWGQAeXJUxz3XGHLLRyKyOQwvkM3LCegUzU9tBVm8A7e0c%0A10EHU2s3P00XJlLLtylHbTy5Z%2FSEnBPLisGzZJz6LXocKVw3g0G3RsqD9oeWVsrkR14GuMVvCNyK%0AAnrzIbM2XVSLaMTD%2BvRLFlFnzk5tHpbXNaGfITtHsWKzGj8UcszKNpvOATnePEtVC0ySZOiiXfVn%0A%2FceJPkdGza2wdKshK8HlbmH0qwkK%2Fio9dc0nBRi3Z%2BiveCmnswZSk5i%2Bpu3wa8NX16%2FAUQbqJvMr%0AGElRfXYkKzOGvGJk3LAnz3JJ%2B%2B1tBcKa#G1532#\" id=\"QT_5l000G153200\" ifalow_maxlength=\"1\" onclick=\"showTicketPrice(this)\" style=\"cursor: pointer;\" title=\"\" undefined=\"\" width=\"46\">--</td> <td align=\"center\" class=\"no-br\" width=\"80\"><a aria-label=\"预订G1532次车11:52从上海虹桥出发，23:27到重庆北,当日到达历时11:35的车票\" class=\"btn72\" href=\"javascript:\" onclick=\"checkG1234('sdy0yOIY431qlh1ASpYRt49jVTBzJsOWGQAeXJUxz3XGHLLRyKyOQwvkM3LCegUzU9tBVm8A7e0c%0A10EHU2s3P00XJlLLtylHbTy5Z%2FSEnBPLisGzZJz6LXocKVw3g0G3RsqD9oeWVsrkR14GuMVvCNyK%0AAnrzIbM2XVSLaMTD%2BvRLFlFnzk5tHpbXNaGfITtHsWKzGj8UcszKNpvOATnePEtVC0ySZOiiXfVn%0A%2FceJPkdGza2wdKshK8HlbmH0qwkK%2Fio9dc0nBRi3Z%2BiveCmnswZSk5i%2Bpu3wa8NX16%2FAUQbqJvMr%0AGElRfXYkKzOGvGJk3LAnz3JJ%2B%2B1tBcKa','11:52','5l000G153200','AOH','CUW')\">预订</a></td></tr><tr datatran=\"G1532\" id=\"price_5l000G153200_01_23\" style=\"display:none;\"></tr><tr class=\"bgc\" id=\"ticket_5500000K7104_01_23\"><td colspan=\"4\" width=\"370\"><div class=\"ticket-info clearfix\" id=\"train_num_16\"><div class=\"train\" id=\"ticket_5500000K7104_01_23_train\"><div><a class=\"number\" href=\"javascript:\" id=\"5500000K7104_SNH_CUW\" onclick=\"myStopStation.open('16','5500000K7104','SNH','CUW','20230507','3');\" title=\"点击查看停靠站信息\">K71</a><div class=\"train-type\"></div></div><span class=\"lookup\" id=\"5500000K7104_01_23_opZM602YQzmbDsEqeSBoYRaGHAmipKOcNKEsSD2lfZKDNEbULMywQFFjBV8%3D_1341\" onclick=\"showTicketPrice(this)\"><span style=\"display:none;\">查看票价</span><b aria-label=\"查看票价,按回车键操作\" tabindex=\"0\" title=\"查看票价\"></b></span></div><div class=\"cdz\"><strong class=\"start-s\" title=\"上海南\">上海南</strong><strong class=\"end-s\" title=\"重庆北\">重庆北</strong></div><div class=\"cds\"><strong class=\"start-t\">14:13</strong><strong class=\"color999\">15:34</strong></div><div class=\"ls\" id=\"5500000K7104_ls\"><strong>25:21</strong><span>次日到达</span></div></div></td> <td align=\"center\" hbdata=\"2023-05-07#5500000K7104#TZ_#\" hbid=\"2023-05-07#SNH#CUW#5500000K7104#TZ_#01#上海南#23#重庆北#u8XV%2FqGgmUAdcYfwKmIdRkf5JYnDfgRDcwV25wXh1yqr2HuolRB4AFpM%2Fpt5yba%2FDocdNIDSdy4K%0Aiy6A%2F4rOEYZQEyME%2FysfDh1sN1dUoyNIxSf8neBihPK9dUt%2BO3Sf3gGJuZ2coUdU0mx6Y8aUJBU0%0AmujU9HvxI7Gkqn%2B4ct8y8CFsNqGpYimNRZ7N%2FZdBNZTIG3QwaRUUath1A4w6M6%2BuPKTwR71lW73U%0AKLNuxt%2FW%2BL6vEK%2FJlaONUTypDaKJHZ%2FR5%2FOSRi4jhbmGOfaZAMLmJIIR4kEh14Pqxh6C%2Bxl5ykX1%0AiRCoiMx1n%2Fce9sAcRQzREA5yM7bcZpRrYXJkwbcIyHY%3D#K71#\" id=\"TZ_5500000K7104\" ifalow_maxlength=\"1\" onclick=\"showTicketPrice(this)\" style=\"cursor: pointer;\" title=\"\" undefined=\"\" width=\"46\">--</td> <td align=\"center\" hbdata=\"2023-05-07#5500000K7104#ZY_#\" hbid=\"2023-05-07#SNH#CUW#5500000K7104#ZY_#01#上海南#23#重庆北#u8XV%2FqGgmUAdcYfwKmIdRkf5JYnDfgRDcwV25wXh1yqr2HuolRB4AFpM%2Fpt5yba%2FDocdNIDSdy4K%0Aiy6A%2F4rOEYZQEyME%2FysfDh1sN1dUoyNIxSf8neBihPK9dUt%2BO3Sf3gGJuZ2coUdU0mx6Y8aUJBU0%0AmujU9HvxI7Gkqn%2B4ct8y8CFsNqGpYimNRZ7N%2FZdBNZTIG3QwaRUUath1A4w6M6%2BuPKTwR71lW73U%0AKLNuxt%2FW%2BL6vEK%2FJlaONUTypDaKJHZ%2FR5%2FOSRi4jhbmGOfaZAMLmJIIR4kEh14Pqxh6C%2Bxl5ykX1%0AiRCoiMx1n%2Fce9sAcRQzREA5yM7bcZpRrYXJkwbcIyHY%3D#K71#\" id=\"ZY_5500000K7104\" ifalow_maxlength=\"1\" onclick=\"showTicketPrice(this)\" style=\"cursor: pointer;\" title=\"\" undefined=\"\" width=\"46\">--</td> <td align=\"center\" hbdata=\"2023-05-07#5500000K7104#ZE_#\" hbid=\"2023-05-07#SNH#CUW#5500000K7104#ZE_#01#上海南#23#重庆北#u8XV%2FqGgmUAdcYfwKmIdRkf5JYnDfgRDcwV25wXh1yqr2HuolRB4AFpM%2Fpt5yba%2FDocdNIDSdy4K%0Aiy6A%2F4rOEYZQEyME%2FysfDh1sN1dUoyNIxSf8neBihPK9dUt%2BO3Sf3gGJuZ2coUdU0mx6Y8aUJBU0%0AmujU9HvxI7Gkqn%2B4ct8y8CFsNqGpYimNRZ7N%2FZdBNZTIG3QwaRUUath1A4w6M6%2BuPKTwR71lW73U%0AKLNuxt%2FW%2BL6vEK%2FJlaONUTypDaKJHZ%2FR5%2FOSRi4jhbmGOfaZAMLmJIIR4kEh14Pqxh6C%2Bxl5ykX1%0AiRCoiMx1n%2Fce9sAcRQzREA5yM7bcZpRrYXJkwbcIyHY%3D#K71#\" id=\"ZE_5500000K7104\" ifalow_maxlength=\"1\" onclick=\"showTicketPrice(this)\" style=\"cursor: pointer;\" title=\"\" undefined=\"\" width=\"46\">--</td> <td align=\"center\" hbdata=\"2023-05-07#5500000K7104#GR_#\" hbid=\"2023-05-07#SNH#CUW#5500000K7104#GR_#01#上海南#23#重庆北#u8XV%2FqGgmUAdcYfwKmIdRkf5JYnDfgRDcwV25wXh1yqr2HuolRB4AFpM%2Fpt5yba%2FDocdNIDSdy4K%0Aiy6A%2F4rOEYZQEyME%2FysfDh1sN1dUoyNIxSf8neBihPK9dUt%2BO3Sf3gGJuZ2coUdU0mx6Y8aUJBU0%0AmujU9HvxI7Gkqn%2B4ct8y8CFsNqGpYimNRZ7N%2FZdBNZTIG3QwaRUUath1A4w6M6%2BuPKTwR71lW73U%0AKLNuxt%2FW%2BL6vEK%2FJlaONUTypDaKJHZ%2FR5%2FOSRi4jhbmGOfaZAMLmJIIR4kEh14Pqxh6C%2Bxl5ykX1%0AiRCoiMx1n%2Fce9sAcRQzREA5yM7bcZpRrYXJkwbcIyHY%3D#K71#\" id=\"GR_5500000K7104\" ifalow_maxlength=\"1\" onclick=\"showTicketPrice(this)\" style=\"cursor: pointer;\" title=\"\" undefined=\"\" width=\"46\">--</td><td align=\"center\" aria-label=\"K71次列车，软卧票价598元，余票8\" class=\"t-num\" hbdata=\"2023-05-07#5500000K7104#RW_#\" hbid=\"2023-05-07#SNH#CUW#5500000K7104#RW_#01#上海南#23#重庆北#u8XV%2FqGgmUAdcYfwKmIdRkf5JYnDfgRDcwV25wXh1yqr2HuolRB4AFpM%2Fpt5yba%2FDocdNIDSdy4K%0Aiy6A%2F4rOEYZQEyME%2FysfDh1sN1dUoyNIxSf8neBihPK9dUt%2BO3Sf3gGJuZ2coUdU0mx6Y8aUJBU0%0AmujU9HvxI7Gkqn%2B4ct8y8CFsNqGpYimNRZ7N%2FZdBNZTIG3QwaRUUath1A4w6M6%2BuPKTwR71lW73U%0AKLNuxt%2FW%2BL6vEK%2FJlaONUTypDaKJHZ%2FR5%2FOSRi4jhbmGOfaZAMLmJIIR4kEh14Pqxh6C%2Bxl5ykX1%0AiRCoiMx1n%2Fce9sAcRQzREA5yM7bcZpRrYXJkwbcIyHY%3D#K71#\" id=\"RW_5500000K7104\" ifalow_maxlength=\"1\" onclick=\"showTicketPrice(this)\" style=\"cursor: pointer;\" tabindex=\"0\" title=\"\" width=\"46\">8</td> <td align=\"center\" hbdata=\"2023-05-07#5500000K7104#SRRB_#\" hbid=\"2023-05-07#SNH#CUW#5500000K7104#SRRB_#01#上海南#23#重庆北#u8XV%2FqGgmUAdcYfwKmIdRkf5JYnDfgRDcwV25wXh1yqr2HuolRB4AFpM%2Fpt5yba%2FDocdNIDSdy4K%0Aiy6A%2F4rOEYZQEyME%2FysfDh1sN1dUoyNIxSf8neBihPK9dUt%2BO3Sf3gGJuZ2coUdU0mx6Y8aUJBU0%0AmujU9HvxI7Gkqn%2B4ct8y8CFsNqGpYimNRZ7N%2FZdBNZTIG3QwaRUUath1A4w6M6%2BuPKTwR71lW73U%0AKLNuxt%2FW%2BL6vEK%2FJlaONUTypDaKJHZ%2FR5%2FOSRi4jhbmGOfaZAMLmJIIR4kEh14Pqxh6C%2Bxl5ykX1%0AiRCoiMx1n%2Fce9sAcRQzREA5yM7bcZpRrYXJkwbcIyHY%3D#K71#\" id=\"SRRB_5500000K7104\" ifalow_maxlength=\"1\" onclick=\"showTicketPrice(this)\" style=\"cursor: pointer;\" title=\"\" undefined=\"\" width=\"46\">--</td><td align=\"center\" aria-label=\"K71次列车，硬卧票价381元，余票有\" class=\"yes\" hbdata=\"2023-05-07#5500000K7104#YW_#\" hbid=\"2023-05-07#SNH#CUW#5500000K7104#YW_#01#上海南#23#重庆北#u8XV%2FqGgmUAdcYfwKmIdRkf5JYnDfgRDcwV25wXh1yqr2HuolRB4AFpM%2Fpt5yba%2FDocdNIDSdy4K%0Aiy6A%2F4rOEYZQEyME%2FysfDh1sN1dUoyNIxSf8neBihPK9dUt%2BO3Sf3gGJuZ2coUdU0mx6Y8aUJBU0%0AmujU9HvxI7Gkqn%2B4ct8y8CFsNqGpYimNRZ7N%2FZdBNZTIG3QwaRUUath1A4w6M6%2BuPKTwR71lW73U%0AKLNuxt%2FW%2BL6vEK%2FJlaONUTypDaKJHZ%2FR5%2FOSRi4jhbmGOfaZAMLmJIIR4kEh14Pqxh6C%2Bxl5ykX1%0AiRCoiMx1n%2Fce9sAcRQzREA5yM7bcZpRrYXJkwbcIyHY%3D#K71#\" id=\"YW_5500000K7104\" onclick=\"showTicketPrice(this)\" style=\"cursor: pointer;\" tabindex=\"0\" width=\"46\">有</td> <td align=\"center\" hbdata=\"2023-05-07#5500000K7104#RZ_#\" hbid=\"2023-05-07#SNH#CUW#5500000K7104#RZ_#01#上海南#23#重庆北#u8XV%2FqGgmUAdcYfwKmIdRkf5JYnDfgRDcwV25wXh1yqr2HuolRB4AFpM%2Fpt5yba%2FDocdNIDSdy4K%0Aiy6A%2F4rOEYZQEyME%2FysfDh1sN1dUoyNIxSf8neBihPK9dUt%2BO3Sf3gGJuZ2coUdU0mx6Y8aUJBU0%0AmujU9HvxI7Gkqn%2B4ct8y8CFsNqGpYimNRZ7N%2FZdBNZTIG3QwaRUUath1A4w6M6%2BuPKTwR71lW73U%0AKLNuxt%2FW%2BL6vEK%2FJlaONUTypDaKJHZ%2FR5%2FOSRi4jhbmGOfaZAMLmJIIR4kEh14Pqxh6C%2Bxl5ykX1%0AiRCoiMx1n%2Fce9sAcRQzREA5yM7bcZpRrYXJkwbcIyHY%3D#K71#\" id=\"RZ_5500000K7104\" ifalow_maxlength=\"1\" onclick=\"showTicketPrice(this)\" style=\"cursor: pointer;\" title=\"\" undefined=\"\" width=\"46\">--</td><td align=\"center\" aria-label=\"K71次列车，硬座票价224元，余票有\" class=\"yes\" hbdata=\"2023-05-07#5500000K7104#YZ_#\" hbid=\"2023-05-07#SNH#CUW#5500000K7104#YZ_#01#上海南#23#重庆北#u8XV%2FqGgmUAdcYfwKmIdRkf5JYnDfgRDcwV25wXh1yqr2HuolRB4AFpM%2Fpt5yba%2FDocdNIDSdy4K%0Aiy6A%2F4rOEYZQEyME%2FysfDh1sN1dUoyNIxSf8neBihPK9dUt%2BO3Sf3gGJuZ2coUdU0mx6Y8aUJBU0%0AmujU9HvxI7Gkqn%2B4ct8y8CFsNqGpYimNRZ7N%2FZdBNZTIG3QwaRUUath1A4w6M6%2BuPKTwR71lW73U%0AKLNuxt%2FW%2BL6vEK%2FJlaONUTypDaKJHZ%2FR5%2FOSRi4jhbmGOfaZAMLmJIIR4kEh14Pqxh6C%2Bxl5ykX1%0AiRCoiMx1n%2Fce9sAcRQzREA5yM7bcZpRrYXJkwbcIyHY%3D#K71#\" id=\"YZ_5500000K7104\" onclick=\"showTicketPrice(this)\" style=\"cursor: pointer;\" tabindex=\"0\" width=\"46\">有</td><td align=\"center\" aria-label=\"K71次列车，无座票价224元，余票有\" class=\"yes\" hbdata=\"2023-05-07#5500000K7104#WZ_#\" hbid=\"2023-05-07#SNH#CUW#5500000K7104#WZ_#01#上海南#23#重庆北#u8XV%2FqGgmUAdcYfwKmIdRkf5JYnDfgRDcwV25wXh1yqr2HuolRB4AFpM%2Fpt5yba%2FDocdNIDSdy4K%0Aiy6A%2F4rOEYZQEyME%2FysfDh1sN1dUoyNIxSf8neBihPK9dUt%2BO3Sf3gGJuZ2coUdU0mx6Y8aUJBU0%0AmujU9HvxI7Gkqn%2B4ct8y8CFsNqGpYimNRZ7N%2FZdBNZTIG3QwaRUUath1A4w6M6%2BuPKTwR71lW73U%0AKLNuxt%2FW%2BL6vEK%2FJlaONUTypDaKJHZ%2FR5%2FOSRi4jhbmGOfaZAMLmJIIR4kEh14Pqxh6C%2Bxl5ykX1%0AiRCoiMx1n%2Fce9sAcRQzREA5yM7bcZpRrYXJkwbcIyHY%3D#K71#\" id=\"WZ_5500000K7104\" onclick=\"showTicketPrice(this)\" style=\"cursor: pointer;\" tabindex=\"0\" width=\"46\">有</td> <td align=\"center\" hbdata=\"2023-05-07#5500000K7104#QT_#\" hbid=\"2023-05-07#SNH#CUW#5500000K7104#QT_#01#上海南#23#重庆北#u8XV%2FqGgmUAdcYfwKmIdRkf5JYnDfgRDcwV25wXh1yqr2HuolRB4AFpM%2Fpt5yba%2FDocdNIDSdy4K%0Aiy6A%2F4rOEYZQEyME%2FysfDh1sN1dUoyNIxSf8neBihPK9dUt%2BO3Sf3gGJuZ2coUdU0mx6Y8aUJBU0%0AmujU9HvxI7Gkqn%2B4ct8y8CFsNqGpYimNRZ7N%2FZdBNZTIG3QwaRUUath1A4w6M6%2BuPKTwR71lW73U%0AKLNuxt%2FW%2BL6vEK%2FJlaONUTypDaKJHZ%2FR5%2FOSRi4jhbmGOfaZAMLmJIIR4kEh14Pqxh6C%2Bxl5ykX1%0AiRCoiMx1n%2Fce9sAcRQzREA5yM7bcZpRrYXJkwbcIyHY%3D#K71#\" id=\"QT_5500000K7104\" ifalow_maxlength=\"1\" onclick=\"showTicketPrice(this)\" style=\"cursor: pointer;\" title=\"\" undefined=\"\" width=\"46\">--</td> <td align=\"center\" class=\"no-br\" width=\"80\"><a aria-label=\"预订K71次车14:13从上海南出发，15:34到重庆北,次日到达历时25:21的车票\" class=\"btn72\" href=\"javascript:\" onclick=\"checkG1234('u8XV%2FqGgmUAdcYfwKmIdRkf5JYnDfgRDcwV25wXh1yqr2HuolRB4AFpM%2Fpt5yba%2FDocdNIDSdy4K%0Aiy6A%2F4rOEYZQEyME%2FysfDh1sN1dUoyNIxSf8neBihPK9dUt%2BO3Sf3gGJuZ2coUdU0mx6Y8aUJBU0%0AmujU9HvxI7Gkqn%2B4ct8y8CFsNqGpYimNRZ7N%2FZdBNZTIG3QwaRUUath1A4w6M6%2BuPKTwR71lW73U%0AKLNuxt%2FW%2BL6vEK%2FJlaONUTypDaKJHZ%2FR5%2FOSRi4jhbmGOfaZAMLmJIIR4kEh14Pqxh6C%2Bxl5ykX1%0AiRCoiMx1n%2Fce9sAcRQzREA5yM7bcZpRrYXJkwbcIyHY%3D','14:13','5500000K7104','SNH','CUW')\">预订</a></td></tr><tr datatran=\"K71\" id=\"price_5500000K7104_01_23\" style=\"display:none;\"></tr><tr class=\"\" id=\"ticket_550000Z25730_01_09\"><td colspan=\"4\" width=\"370\"><div class=\"ticket-info clearfix\" id=\"train_num_17\"><div class=\"train\" id=\"ticket_550000Z25730_01_09_train\"><div><a class=\"number\" href=\"javascript:\" id=\"550000Z25730_SNH_CUW\" onclick=\"myStopStation.open('17','550000Z25730','SNH','CUW','20230507','3');\" title=\"点击查看停靠站信息\">Z257</a><div class=\"train-type\"></div></div><span class=\"lookup\" id=\"550000Z25730_01_09_bm95fwuWpbyg%2Fe1ph8t%2Fpw4a4DqYvJyy_34\" onclick=\"showTicketPrice(this)\"><span style=\"display:none;\">查看票价</span><b aria-label=\"查看票价,按回车键操作\" tabindex=\"0\" title=\"查看票价\"></b></span></div><div class=\"cdz\"><strong class=\"start-s\" title=\"上海南\">上海南</strong><strong class=\"end-s\" title=\"重庆北\">重庆北</strong></div><div class=\"cds\"><strong class=\"start-t\">19:07</strong><strong class=\"color999\">12:44</strong></div><div class=\"ls\" id=\"550000Z25730_ls\"><strong>17:37</strong><span>次日到达</span></div></div></td> <td align=\"center\" hbdata=\"2023-05-07#550000Z25730#TZ_#\" hbid=\"2023-05-07#SNH#CUW#550000Z25730#TZ_#01#上海南#09#重庆北#ipW3cw5k4cnLyO3RCbO2Ta5Ylua2XgCqfS2q9Y0wmIbXJxoOSvKURVChWMWRjkmEKY9WpzZ8uaCw%0ACG%2B5vbwJaYmpNWQq%2F7CZZGZCf95IrYmnjopuY1UHSWhaM933DeycX%2F35KJgqkfF8AnDZjOmCDGPl%0A7AiGaVpMh33pD8NJdN%2FTlttWM89pfZJrFcJojIBxqq2YNnS49u8HEYLu9AzIp9k4vZmgh%2BQtTIKT%0A3PXyaNQhPVydR9aitvYO8bMp3ayqQPqiOF4MjU6ktt9lnk9QT85pqanzXWsgiKmC4VtVRzrsK2vy%0AMfbg1NdxXcWA2oNK#Z257#\" id=\"TZ_550000Z25730\" ifalow_maxlength=\"1\" onclick=\"showTicketPrice(this)\" style=\"cursor: pointer;\" title=\"\" undefined=\"\" width=\"46\">--</td> <td align=\"center\" hbdata=\"2023-05-07#550000Z25730#ZY_#\" hbid=\"2023-05-07#SNH#CUW#550000Z25730#ZY_#01#上海南#09#重庆北#ipW3cw5k4cnLyO3RCbO2Ta5Ylua2XgCqfS2q9Y0wmIbXJxoOSvKURVChWMWRjkmEKY9WpzZ8uaCw%0ACG%2B5vbwJaYmpNWQq%2F7CZZGZCf95IrYmnjopuY1UHSWhaM933DeycX%2F35KJgqkfF8AnDZjOmCDGPl%0A7AiGaVpMh33pD8NJdN%2FTlttWM89pfZJrFcJojIBxqq2YNnS49u8HEYLu9AzIp9k4vZmgh%2BQtTIKT%0A3PXyaNQhPVydR9aitvYO8bMp3ayqQPqiOF4MjU6ktt9lnk9QT85pqanzXWsgiKmC4VtVRzrsK2vy%0AMfbg1NdxXcWA2oNK#Z257#\" id=\"ZY_550000Z25730\" ifalow_maxlength=\"1\" onclick=\"showTicketPrice(this)\" style=\"cursor: pointer;\" title=\"\" undefined=\"\" width=\"46\">--</td> <td align=\"center\" hbdata=\"2023-05-07#550000Z25730#ZE_#\" hbid=\"2023-05-07#SNH#CUW#550000Z25730#ZE_#01#上海南#09#重庆北#ipW3cw5k4cnLyO3RCbO2Ta5Ylua2XgCqfS2q9Y0wmIbXJxoOSvKURVChWMWRjkmEKY9WpzZ8uaCw%0ACG%2B5vbwJaYmpNWQq%2F7CZZGZCf95IrYmnjopuY1UHSWhaM933DeycX%2F35KJgqkfF8AnDZjOmCDGPl%0A7AiGaVpMh33pD8NJdN%2FTlttWM89pfZJrFcJojIBxqq2YNnS49u8HEYLu9AzIp9k4vZmgh%2BQtTIKT%0A3PXyaNQhPVydR9aitvYO8bMp3ayqQPqiOF4MjU6ktt9lnk9QT85pqanzXWsgiKmC4VtVRzrsK2vy%0AMfbg1NdxXcWA2oNK#Z257#\" id=\"ZE_550000Z25730\" ifalow_maxlength=\"1\" onclick=\"showTicketPrice(this)\" style=\"cursor: pointer;\" title=\"\" undefined=\"\" width=\"46\">--</td> <td align=\"center\" hbdata=\"2023-05-07#550000Z25730#GR_#\" hbid=\"2023-05-07#SNH#CUW#550000Z25730#GR_#01#上海南#09#重庆北#ipW3cw5k4cnLyO3RCbO2Ta5Ylua2XgCqfS2q9Y0wmIbXJxoOSvKURVChWMWRjkmEKY9WpzZ8uaCw%0ACG%2B5vbwJaYmpNWQq%2F7CZZGZCf95IrYmnjopuY1UHSWhaM933DeycX%2F35KJgqkfF8AnDZjOmCDGPl%0A7AiGaVpMh33pD8NJdN%2FTlttWM89pfZJrFcJojIBxqq2YNnS49u8HEYLu9AzIp9k4vZmgh%2BQtTIKT%0A3PXyaNQhPVydR9aitvYO8bMp3ayqQPqiOF4MjU6ktt9lnk9QT85pqanzXWsgiKmC4VtVRzrsK2vy%0AMfbg1NdxXcWA2oNK#Z257#\" id=\"GR_550000Z25730\" ifalow_maxlength=\"1\" onclick=\"showTicketPrice(this)\" style=\"cursor: pointer;\" title=\"\" undefined=\"\" width=\"46\">--</td><td align=\"center\" aria-label=\"Z257次列车，软卧票价572元，余票1\" class=\"t-num\" hbdata=\"2023-05-07#550000Z25730#RW_#\" hbid=\"2023-05-07#SNH#CUW#550000Z25730#RW_#01#上海南#09#重庆北#ipW3cw5k4cnLyO3RCbO2Ta5Ylua2XgCqfS2q9Y0wmIbXJxoOSvKURVChWMWRjkmEKY9WpzZ8uaCw%0ACG%2B5vbwJaYmpNWQq%2F7CZZGZCf95IrYmnjopuY1UHSWhaM933DeycX%2F35KJgqkfF8AnDZjOmCDGPl%0A7AiGaVpMh33pD8NJdN%2FTlttWM89pfZJrFcJojIBxqq2YNnS49u8HEYLu9AzIp9k4vZmgh%2BQtTIKT%0A3PXyaNQhPVydR9aitvYO8bMp3ayqQPqiOF4MjU6ktt9lnk9QT85pqanzXWsgiKmC4VtVRzrsK2vy%0AMfbg1NdxXcWA2oNK#Z257#\" id=\"RW_550000Z25730\" ifalow_maxlength=\"1\" onclick=\"showTicketPrice(this)\" style=\"cursor: pointer;\" tabindex=\"0\" title=\"\" width=\"46\">1</td> <td align=\"center\" hbdata=\"2023-05-07#550000Z25730#SRRB_#\" hbid=\"2023-05-07#SNH#CUW#550000Z25730#SRRB_#01#上海南#09#重庆北#ipW3cw5k4cnLyO3RCbO2Ta5Ylua2XgCqfS2q9Y0wmIbXJxoOSvKURVChWMWRjkmEKY9WpzZ8uaCw%0ACG%2B5vbwJaYmpNWQq%2F7CZZGZCf95IrYmnjopuY1UHSWhaM933DeycX%2F35KJgqkfF8AnDZjOmCDGPl%0A7AiGaVpMh33pD8NJdN%2FTlttWM89pfZJrFcJojIBxqq2YNnS49u8HEYLu9AzIp9k4vZmgh%2BQtTIKT%0A3PXyaNQhPVydR9aitvYO8bMp3ayqQPqiOF4MjU6ktt9lnk9QT85pqanzXWsgiKmC4VtVRzrsK2vy%0AMfbg1NdxXcWA2oNK#Z257#\" id=\"SRRB_550000Z25730\" ifalow_maxlength=\"1\" onclick=\"showTicketPrice(this)\" style=\"cursor: pointer;\" title=\"\" undefined=\"\" width=\"46\">--</td><td align=\"center\" aria-label=\"Z257次列车，硬卧票价363元，余票有\" class=\"yes\" hbdata=\"2023-05-07#550000Z25730#YW_#\" hbid=\"2023-05-07#SNH#CUW#550000Z25730#YW_#01#上海南#09#重庆北#ipW3cw5k4cnLyO3RCbO2Ta5Ylua2XgCqfS2q9Y0wmIbXJxoOSvKURVChWMWRjkmEKY9WpzZ8uaCw%0ACG%2B5vbwJaYmpNWQq%2F7CZZGZCf95IrYmnjopuY1UHSWhaM933DeycX%2F35KJgqkfF8AnDZjOmCDGPl%0A7AiGaVpMh33pD8NJdN%2FTlttWM89pfZJrFcJojIBxqq2YNnS49u8HEYLu9AzIp9k4vZmgh%2BQtTIKT%0A3PXyaNQhPVydR9aitvYO8bMp3ayqQPqiOF4MjU6ktt9lnk9QT85pqanzXWsgiKmC4VtVRzrsK2vy%0AMfbg1NdxXcWA2oNK#Z257#\" id=\"YW_550000Z25730\" onclick=\"showTicketPrice(this)\" style=\"cursor: pointer;\" tabindex=\"0\" width=\"46\">有</td> <td align=\"center\" hbdata=\"2023-05-07#550000Z25730#RZ_#\" hbid=\"2023-05-07#SNH#CUW#550000Z25730#RZ_#01#上海南#09#重庆北#ipW3cw5k4cnLyO3RCbO2Ta5Ylua2XgCqfS2q9Y0wmIbXJxoOSvKURVChWMWRjkmEKY9WpzZ8uaCw%0ACG%2B5vbwJaYmpNWQq%2F7CZZGZCf95IrYmnjopuY1UHSWhaM933DeycX%2F35KJgqkfF8AnDZjOmCDGPl%0A7AiGaVpMh33pD8NJdN%2FTlttWM89pfZJrFcJojIBxqq2YNnS49u8HEYLu9AzIp9k4vZmgh%2BQtTIKT%0A3PXyaNQhPVydR9aitvYO8bMp3ayqQPqiOF4MjU6ktt9lnk9QT85pqanzXWsgiKmC4VtVRzrsK2vy%0AMfbg1NdxXcWA2oNK#Z257#\" id=\"RZ_550000Z25730\" ifalow_maxlength=\"1\" onclick=\"showTicketPrice(this)\" style=\"cursor: pointer;\" title=\"\" undefined=\"\" width=\"46\">--</td> <td align=\"center\" hbdata=\"2023-05-07#550000Z25730#YZ_#\" hbid=\"2023-05-07#SNH#CUW#550000Z25730#YZ_#01#上海南#09#重庆北#ipW3cw5k4cnLyO3RCbO2Ta5Ylua2XgCqfS2q9Y0wmIbXJxoOSvKURVChWMWRjkmEKY9WpzZ8uaCw%0ACG%2B5vbwJaYmpNWQq%2F7CZZGZCf95IrYmnjopuY1UHSWhaM933DeycX%2F35KJgqkfF8AnDZjOmCDGPl%0A7AiGaVpMh33pD8NJdN%2FTlttWM89pfZJrFcJojIBxqq2YNnS49u8HEYLu9AzIp9k4vZmgh%2BQtTIKT%0A3PXyaNQhPVydR9aitvYO8bMp3ayqQPqiOF4MjU6ktt9lnk9QT85pqanzXWsgiKmC4VtVRzrsK2vy%0AMfbg1NdxXcWA2oNK#Z257#\" id=\"YZ_550000Z25730\" ifalow_maxlength=\"1\" onclick=\"showTicketPrice(this)\" style=\"cursor: pointer;\" title=\"\" undefined=\"\" width=\"46\">--</td> <td align=\"center\" hbdata=\"2023-05-07#550000Z25730#WZ_#\" hbid=\"2023-05-07#SNH#CUW#550000Z25730#WZ_#01#上海南#09#重庆北#ipW3cw5k4cnLyO3RCbO2Ta5Ylua2XgCqfS2q9Y0wmIbXJxoOSvKURVChWMWRjkmEKY9WpzZ8uaCw%0ACG%2B5vbwJaYmpNWQq%2F7CZZGZCf95IrYmnjopuY1UHSWhaM933DeycX%2F35KJgqkfF8AnDZjOmCDGPl%0A7AiGaVpMh33pD8NJdN%2FTlttWM89pfZJrFcJojIBxqq2YNnS49u8HEYLu9AzIp9k4vZmgh%2BQtTIKT%0A3PXyaNQhPVydR9aitvYO8bMp3ayqQPqiOF4MjU6ktt9lnk9QT85pqanzXWsgiKmC4VtVRzrsK2vy%0AMfbg1NdxXcWA2oNK#Z257#\" id=\"WZ_550000Z25730\" ifalow_maxlength=\"1\" onclick=\"showTicketPrice(this)\" style=\"cursor: pointer;\" title=\"\" undefined=\"\" width=\"46\">--</td> <td align=\"center\" hbdata=\"2023-05-07#550000Z25730#QT_#\" hbid=\"2023-05-07#SNH#CUW#550000Z25730#QT_#01#上海南#09#重庆北#ipW3cw5k4cnLyO3RCbO2Ta5Ylua2XgCqfS2q9Y0wmIbXJxoOSvKURVChWMWRjkmEKY9WpzZ8uaCw%0ACG%2B5vbwJaYmpNWQq%2F7CZZGZCf95IrYmnjopuY1UHSWhaM933DeycX%2F35KJgqkfF8AnDZjOmCDGPl%0A7AiGaVpMh33pD8NJdN%2FTlttWM89pfZJrFcJojIBxqq2YNnS49u8HEYLu9AzIp9k4vZmgh%2BQtTIKT%0A3PXyaNQhPVydR9aitvYO8bMp3ayqQPqiOF4MjU6ktt9lnk9QT85pqanzXWsgiKmC4VtVRzrsK2vy%0AMfbg1NdxXcWA2oNK#Z257#\" id=\"QT_550000Z25730\" ifalow_maxlength=\"1\" onclick=\"showTicketPrice(this)\" style=\"cursor: pointer;\" title=\"\" undefined=\"\" width=\"46\">--</td> <td align=\"center\" class=\"no-br\" width=\"80\"><a aria-label=\"预订Z257次车19:07从上海南出发，12:44到重庆北,次日到达历时17:37的车票\" class=\"btn72\" href=\"javascript:\" onclick=\"checkG1234('ipW3cw5k4cnLyO3RCbO2Ta5Ylua2XgCqfS2q9Y0wmIbXJxoOSvKURVChWMWRjkmEKY9WpzZ8uaCw%0ACG%2B5vbwJaYmpNWQq%2F7CZZGZCf95IrYmnjopuY1UHSWhaM933DeycX%2F35KJgqkfF8AnDZjOmCDGPl%0A7AiGaVpMh33pD8NJdN%2FTlttWM89pfZJrFcJojIBxqq2YNnS49u8HEYLu9AzIp9k4vZmgh%2BQtTIKT%0A3PXyaNQhPVydR9aitvYO8bMp3ayqQPqiOF4MjU6ktt9lnk9QT85pqanzXWsgiKmC4VtVRzrsK2vy%0AMfbg1NdxXcWA2oNK','19:07','550000Z25730','SNH','CUW')\">预订</a></td></tr><tr datatran=\"Z257\" id=\"price_550000Z25730_01_09\" style=\"display:none;\"></tr><tr class=\"\" id=\"lcdata\" style=\"display:none;\"><td class=\"no-br\" colspan=\"16\" style=\"text-align: left; padding-left: 20px; height: 30px;\">以下为同车车次变更接续方案(无需下车换乘)</td></tr></tbody>"
      ]
     },
     "execution_count": 171,
     "metadata": {},
     "output_type": "execute_result"
    }
   ],
   "source": [
    "find_id"
   ]
  },
  {
   "cell_type": "code",
   "execution_count": 177,
   "metadata": {},
   "outputs": [
    {
     "data": {
      "text/plain": [
       "'D2206查看票价上海虹桥重庆北06:0119:1713:16当日到达 --有有 -- -- -- -- -- --有 -- 预订'"
      ]
     },
     "execution_count": 177,
     "metadata": {},
     "output_type": "execute_result"
    }
   ],
   "source": [
    "find_id.contents[0].text"
   ]
  },
  {
   "cell_type": "code",
   "execution_count": 188,
   "metadata": {},
   "outputs": [
    {
     "data": {
      "text/plain": [
       "'D2206查看票价上海虹桥重庆北06:0119:1713:16当日到达'"
      ]
     },
     "execution_count": 188,
     "metadata": {},
     "output_type": "execute_result"
    }
   ],
   "source": [
    "find_id.contents[0].contents[0].text"
   ]
  },
  {
   "cell_type": "code",
   "execution_count": 191,
   "metadata": {},
   "outputs": [
    {
     "ename": "AttributeError",
     "evalue": "'NavigableString' object has no attribute 'text'",
     "output_type": "error",
     "traceback": [
      "\u001b[1;31m---------------------------------------------------------------------------\u001b[0m",
      "\u001b[1;31mAttributeError\u001b[0m                            Traceback (most recent call last)",
      "\u001b[1;32m<ipython-input-191-8cdfa591ccb6>\u001b[0m in \u001b[0;36m<module>\u001b[1;34m\u001b[0m\n\u001b[1;32m----> 1\u001b[1;33m \u001b[0mfind_id\u001b[0m\u001b[1;33m.\u001b[0m\u001b[0mcontents\u001b[0m\u001b[1;33m[\u001b[0m\u001b[1;36m0\u001b[0m\u001b[1;33m]\u001b[0m\u001b[1;33m.\u001b[0m\u001b[0mcontents\u001b[0m\u001b[1;33m[\u001b[0m\u001b[1;36m1\u001b[0m\u001b[1;33m]\u001b[0m\u001b[1;33m.\u001b[0m\u001b[0mtext\u001b[0m\u001b[1;33m\u001b[0m\u001b[1;33m\u001b[0m\u001b[0m\n\u001b[0m",
      "\u001b[1;32mC:\\ProgramData\\Anaconda3\\lib\\site-packages\\bs4\\element.py\u001b[0m in \u001b[0;36m__getattr__\u001b[1;34m(self, attr)\u001b[0m\n\u001b[0;32m    644\u001b[0m             raise AttributeError(\n\u001b[0;32m    645\u001b[0m                 \"'%s' object has no attribute '%s'\" % (\n\u001b[1;32m--> 646\u001b[1;33m                     self.__class__.__name__, attr))\n\u001b[0m\u001b[0;32m    647\u001b[0m \u001b[1;33m\u001b[0m\u001b[0m\n\u001b[0;32m    648\u001b[0m     \u001b[1;32mdef\u001b[0m \u001b[0moutput_ready\u001b[0m\u001b[1;33m(\u001b[0m\u001b[0mself\u001b[0m\u001b[1;33m,\u001b[0m \u001b[0mformatter\u001b[0m\u001b[1;33m=\u001b[0m\u001b[1;34m\"minimal\"\u001b[0m\u001b[1;33m)\u001b[0m\u001b[1;33m:\u001b[0m\u001b[1;33m\u001b[0m\u001b[1;33m\u001b[0m\u001b[0m\n",
      "\u001b[1;31mAttributeError\u001b[0m: 'NavigableString' object has no attribute 'text'"
     ]
    }
   ],
   "source": [
    "find_id.contents[0].contents[1].text"
   ]
  },
  {
   "cell_type": "code",
   "execution_count": 192,
   "metadata": {},
   "outputs": [
    {
     "data": {
      "text/plain": [
       "'--'"
      ]
     },
     "execution_count": 192,
     "metadata": {},
     "output_type": "execute_result"
    }
   ],
   "source": [
    "find_id.contents[0].contents[2].text"
   ]
  },
  {
   "cell_type": "code",
   "execution_count": 193,
   "metadata": {},
   "outputs": [
    {
     "data": {
      "text/plain": [
       "'有'"
      ]
     },
     "execution_count": 193,
     "metadata": {},
     "output_type": "execute_result"
    }
   ],
   "source": [
    "find_id.contents[0].contents[3].text"
   ]
  },
  {
   "cell_type": "code",
   "execution_count": 180,
   "metadata": {},
   "outputs": [
    {
     "data": {
      "text/plain": [
       "''"
      ]
     },
     "execution_count": 180,
     "metadata": {},
     "output_type": "execute_result"
    }
   ],
   "source": [
    "find_id.contents[1].text"
   ]
  },
  {
   "cell_type": "code",
   "execution_count": null,
   "metadata": {},
   "outputs": [],
   "source": []
  },
  {
   "cell_type": "code",
   "execution_count": 181,
   "metadata": {},
   "outputs": [
    {
     "data": {
      "text/plain": [
       "'D352查看票价上海虹桥重庆北06:1318:0711:54当日到达 --有有 -- -- -- -- -- --有 -- 预订'"
      ]
     },
     "execution_count": 181,
     "metadata": {},
     "output_type": "execute_result"
    }
   ],
   "source": [
    "find_id.contents[2].text"
   ]
  },
  {
   "cell_type": "code",
   "execution_count": 182,
   "metadata": {},
   "outputs": [
    {
     "data": {
      "text/plain": [
       "''"
      ]
     },
     "execution_count": 182,
     "metadata": {},
     "output_type": "execute_result"
    }
   ],
   "source": [
    "find_id.contents[3].text"
   ]
  },
  {
   "cell_type": "code",
   "execution_count": 206,
   "metadata": {},
   "outputs": [
    {
     "name": "stdout",
     "output_type": "stream",
     "text": [
      "<tr class=\"bgc\" id=\"ticket_5l000D220602_01_17\"><td colspan=\"4\" width=\"370\"><div class=\"ticket-info clearfix\" id=\"train_num_0\"><div class=\"train\" id=\"ticket_5l000D220602_01_17_train\"><div><a class=\"number\" href=\"javascript:\" id=\"5l000D220602_AOH_CUW\" onclick=\"myStopStation.open('0','5l000D220602','AOH','CUW','20230507','3');\" title=\"点击查看停靠站信息\">D2206</a><div class=\"train-type\"></div></div><span class=\"lookup\" id=\"5l000D220602_01_17_C51435XW2CdKbQS2DdpLIkQbjr%2BC9UvLvOYujPMMNz%2FSdMGY_MOO\" onclick=\"showTicketPrice(this)\"><span style=\"display:none;\">查看票价</span><b aria-label=\"查看票价,按回车键操作\" tabindex=\"0\" title=\"查看票价\"></b></span></div><div class=\"cdz\"><strong class=\"start-s\" title=\"上海虹桥\">上海虹桥</strong><strong>重庆北</strong></div><div class=\"cds\"><strong class=\"start-t\">06:01</strong><strong class=\"color999\">19:17</strong></div><div class=\"ls\" id=\"5l000D220602_ls\"><strong>13:16</strong><span>当日到达</span></div></div></td> <td align=\"center\" hbdata=\"2023-05-07#5l000D220602#TZ_#\" hbid=\"2023-05-07#AOH#CUW#5l000D220602#TZ_#01#上海虹桥#17#重庆北#c12s9xiufZwiEdkcvqni4QWc5Qk%2Ftqeoctt24%2B1AthDSLmbj4Z4fq42BixnafZGK8ujAX%2BlXD5LO%0AsG5FMXWvponcFjrKcxc8BJCqMDcJOPyPzR04ar9GjRepAONoYRTHfXfNzZWBK4btKa0W%2FWIHx0sf%0AyJsPxabDawmJ5mAi%2FvTfKc%2BWc0g%2F9ya%2FPZn30KU65O2lKWu4KKFWwFfBmKPgtM11vbUrPqX4n7jt%0Apeq600zHB4%2F4EIkCFZKhm%2FrlrXctuoaOBks55kEIjkJy5HtHLd09cMLk2zcyANaPUcMe%2BZ4tnJ%2Fs%0ApmIdFeXcTvy897vYzDj3aB2U%2FybUoqI4#D2206#\" id=\"TZ_5l000D220602\" ifalow_maxlength=\"1\" onclick=\"showTicketPrice(this)\" style=\"cursor: pointer;\" title=\"\" undefined=\"\" width=\"46\">--</td><td align=\"center\" aria-label=\"D2206次列车，一等座票价997元，余票有\" class=\"yes\" hbdata=\"2023-05-07#5l000D220602#ZY_#\" hbid=\"2023-05-07#AOH#CUW#5l000D220602#ZY_#01#上海虹桥#17#重庆北#c12s9xiufZwiEdkcvqni4QWc5Qk%2Ftqeoctt24%2B1AthDSLmbj4Z4fq42BixnafZGK8ujAX%2BlXD5LO%0AsG5FMXWvponcFjrKcxc8BJCqMDcJOPyPzR04ar9GjRepAONoYRTHfXfNzZWBK4btKa0W%2FWIHx0sf%0AyJsPxabDawmJ5mAi%2FvTfKc%2BWc0g%2F9ya%2FPZn30KU65O2lKWu4KKFWwFfBmKPgtM11vbUrPqX4n7jt%0Apeq600zHB4%2F4EIkCFZKhm%2FrlrXctuoaOBks55kEIjkJy5HtHLd09cMLk2zcyANaPUcMe%2BZ4tnJ%2Fs%0ApmIdFeXcTvy897vYzDj3aB2U%2FybUoqI4#D2206#\" id=\"ZY_5l000D220602\" onclick=\"showTicketPrice(this)\" style=\"cursor: pointer;\" tabindex=\"0\" width=\"46\">有</td><td align=\"center\" aria-label=\"D2206次列车，二等座票价624.5元，余票有\" class=\"yes\" hbdata=\"2023-05-07#5l000D220602#ZE_#\" hbid=\"2023-05-07#AOH#CUW#5l000D220602#ZE_#01#上海虹桥#17#重庆北#c12s9xiufZwiEdkcvqni4QWc5Qk%2Ftqeoctt24%2B1AthDSLmbj4Z4fq42BixnafZGK8ujAX%2BlXD5LO%0AsG5FMXWvponcFjrKcxc8BJCqMDcJOPyPzR04ar9GjRepAONoYRTHfXfNzZWBK4btKa0W%2FWIHx0sf%0AyJsPxabDawmJ5mAi%2FvTfKc%2BWc0g%2F9ya%2FPZn30KU65O2lKWu4KKFWwFfBmKPgtM11vbUrPqX4n7jt%0Apeq600zHB4%2F4EIkCFZKhm%2FrlrXctuoaOBks55kEIjkJy5HtHLd09cMLk2zcyANaPUcMe%2BZ4tnJ%2Fs%0ApmIdFeXcTvy897vYzDj3aB2U%2FybUoqI4#D2206#\" id=\"ZE_5l000D220602\" onclick=\"showTicketPrice(this)\" style=\"cursor: pointer;\" tabindex=\"0\" width=\"46\">有</td> <td align=\"center\" hbdata=\"2023-05-07#5l000D220602#GR_#\" hbid=\"2023-05-07#AOH#CUW#5l000D220602#GR_#01#上海虹桥#17#重庆北#c12s9xiufZwiEdkcvqni4QWc5Qk%2Ftqeoctt24%2B1AthDSLmbj4Z4fq42BixnafZGK8ujAX%2BlXD5LO%0AsG5FMXWvponcFjrKcxc8BJCqMDcJOPyPzR04ar9GjRepAONoYRTHfXfNzZWBK4btKa0W%2FWIHx0sf%0AyJsPxabDawmJ5mAi%2FvTfKc%2BWc0g%2F9ya%2FPZn30KU65O2lKWu4KKFWwFfBmKPgtM11vbUrPqX4n7jt%0Apeq600zHB4%2F4EIkCFZKhm%2FrlrXctuoaOBks55kEIjkJy5HtHLd09cMLk2zcyANaPUcMe%2BZ4tnJ%2Fs%0ApmIdFeXcTvy897vYzDj3aB2U%2FybUoqI4#D2206#\" id=\"GR_5l000D220602\" ifalow_maxlength=\"1\" onclick=\"showTicketPrice(this)\" style=\"cursor: pointer;\" title=\"\" undefined=\"\" width=\"46\">--</td> <td align=\"center\" hbdata=\"2023-05-07#5l000D220602#RW_#\" hbid=\"2023-05-07#AOH#CUW#5l000D220602#RW_#01#上海虹桥#17#重庆北#c12s9xiufZwiEdkcvqni4QWc5Qk%2Ftqeoctt24%2B1AthDSLmbj4Z4fq42BixnafZGK8ujAX%2BlXD5LO%0AsG5FMXWvponcFjrKcxc8BJCqMDcJOPyPzR04ar9GjRepAONoYRTHfXfNzZWBK4btKa0W%2FWIHx0sf%0AyJsPxabDawmJ5mAi%2FvTfKc%2BWc0g%2F9ya%2FPZn30KU65O2lKWu4KKFWwFfBmKPgtM11vbUrPqX4n7jt%0Apeq600zHB4%2F4EIkCFZKhm%2FrlrXctuoaOBks55kEIjkJy5HtHLd09cMLk2zcyANaPUcMe%2BZ4tnJ%2Fs%0ApmIdFeXcTvy897vYzDj3aB2U%2FybUoqI4#D2206#\" id=\"RW_5l000D220602\" ifalow_maxlength=\"1\" onclick=\"showTicketPrice(this)\" style=\"cursor: pointer;\" title=\"\" undefined=\"\" width=\"46\">--</td> <td align=\"center\" hbdata=\"2023-05-07#5l000D220602#SRRB_#\" hbid=\"2023-05-07#AOH#CUW#5l000D220602#SRRB_#01#上海虹桥#17#重庆北#c12s9xiufZwiEdkcvqni4QWc5Qk%2Ftqeoctt24%2B1AthDSLmbj4Z4fq42BixnafZGK8ujAX%2BlXD5LO%0AsG5FMXWvponcFjrKcxc8BJCqMDcJOPyPzR04ar9GjRepAONoYRTHfXfNzZWBK4btKa0W%2FWIHx0sf%0AyJsPxabDawmJ5mAi%2FvTfKc%2BWc0g%2F9ya%2FPZn30KU65O2lKWu4KKFWwFfBmKPgtM11vbUrPqX4n7jt%0Apeq600zHB4%2F4EIkCFZKhm%2FrlrXctuoaOBks55kEIjkJy5HtHLd09cMLk2zcyANaPUcMe%2BZ4tnJ%2Fs%0ApmIdFeXcTvy897vYzDj3aB2U%2FybUoqI4#D2206#\" id=\"SRRB_5l000D220602\" ifalow_maxlength=\"1\" onclick=\"showTicketPrice(this)\" style=\"cursor: pointer;\" title=\"\" undefined=\"\" width=\"46\">--</td> <td align=\"center\" hbdata=\"2023-05-07#5l000D220602#YW_#\" hbid=\"2023-05-07#AOH#CUW#5l000D220602#YW_#01#上海虹桥#17#重庆北#c12s9xiufZwiEdkcvqni4QWc5Qk%2Ftqeoctt24%2B1AthDSLmbj4Z4fq42BixnafZGK8ujAX%2BlXD5LO%0AsG5FMXWvponcFjrKcxc8BJCqMDcJOPyPzR04ar9GjRepAONoYRTHfXfNzZWBK4btKa0W%2FWIHx0sf%0AyJsPxabDawmJ5mAi%2FvTfKc%2BWc0g%2F9ya%2FPZn30KU65O2lKWu4KKFWwFfBmKPgtM11vbUrPqX4n7jt%0Apeq600zHB4%2F4EIkCFZKhm%2FrlrXctuoaOBks55kEIjkJy5HtHLd09cMLk2zcyANaPUcMe%2BZ4tnJ%2Fs%0ApmIdFeXcTvy897vYzDj3aB2U%2FybUoqI4#D2206#\" id=\"YW_5l000D220602\" ifalow_maxlength=\"1\" onclick=\"showTicketPrice(this)\" style=\"cursor: pointer;\" title=\"\" undefined=\"\" width=\"46\">--</td> <td align=\"center\" hbdata=\"2023-05-07#5l000D220602#RZ_#\" hbid=\"2023-05-07#AOH#CUW#5l000D220602#RZ_#01#上海虹桥#17#重庆北#c12s9xiufZwiEdkcvqni4QWc5Qk%2Ftqeoctt24%2B1AthDSLmbj4Z4fq42BixnafZGK8ujAX%2BlXD5LO%0AsG5FMXWvponcFjrKcxc8BJCqMDcJOPyPzR04ar9GjRepAONoYRTHfXfNzZWBK4btKa0W%2FWIHx0sf%0AyJsPxabDawmJ5mAi%2FvTfKc%2BWc0g%2F9ya%2FPZn30KU65O2lKWu4KKFWwFfBmKPgtM11vbUrPqX4n7jt%0Apeq600zHB4%2F4EIkCFZKhm%2FrlrXctuoaOBks55kEIjkJy5HtHLd09cMLk2zcyANaPUcMe%2BZ4tnJ%2Fs%0ApmIdFeXcTvy897vYzDj3aB2U%2FybUoqI4#D2206#\" id=\"RZ_5l000D220602\" ifalow_maxlength=\"1\" onclick=\"showTicketPrice(this)\" style=\"cursor: pointer;\" title=\"\" undefined=\"\" width=\"46\">--</td> <td align=\"center\" hbdata=\"2023-05-07#5l000D220602#YZ_#\" hbid=\"2023-05-07#AOH#CUW#5l000D220602#YZ_#01#上海虹桥#17#重庆北#c12s9xiufZwiEdkcvqni4QWc5Qk%2Ftqeoctt24%2B1AthDSLmbj4Z4fq42BixnafZGK8ujAX%2BlXD5LO%0AsG5FMXWvponcFjrKcxc8BJCqMDcJOPyPzR04ar9GjRepAONoYRTHfXfNzZWBK4btKa0W%2FWIHx0sf%0AyJsPxabDawmJ5mAi%2FvTfKc%2BWc0g%2F9ya%2FPZn30KU65O2lKWu4KKFWwFfBmKPgtM11vbUrPqX4n7jt%0Apeq600zHB4%2F4EIkCFZKhm%2FrlrXctuoaOBks55kEIjkJy5HtHLd09cMLk2zcyANaPUcMe%2BZ4tnJ%2Fs%0ApmIdFeXcTvy897vYzDj3aB2U%2FybUoqI4#D2206#\" id=\"YZ_5l000D220602\" ifalow_maxlength=\"1\" onclick=\"showTicketPrice(this)\" style=\"cursor: pointer;\" title=\"\" undefined=\"\" width=\"46\">--</td><td align=\"center\" aria-label=\"D2206次列车，无座票价624.5元，余票有\" class=\"yes\" hbdata=\"2023-05-07#5l000D220602#WZ_#\" hbid=\"2023-05-07#AOH#CUW#5l000D220602#WZ_#01#上海虹桥#17#重庆北#c12s9xiufZwiEdkcvqni4QWc5Qk%2Ftqeoctt24%2B1AthDSLmbj4Z4fq42BixnafZGK8ujAX%2BlXD5LO%0AsG5FMXWvponcFjrKcxc8BJCqMDcJOPyPzR04ar9GjRepAONoYRTHfXfNzZWBK4btKa0W%2FWIHx0sf%0AyJsPxabDawmJ5mAi%2FvTfKc%2BWc0g%2F9ya%2FPZn30KU65O2lKWu4KKFWwFfBmKPgtM11vbUrPqX4n7jt%0Apeq600zHB4%2F4EIkCFZKhm%2FrlrXctuoaOBks55kEIjkJy5HtHLd09cMLk2zcyANaPUcMe%2BZ4tnJ%2Fs%0ApmIdFeXcTvy897vYzDj3aB2U%2FybUoqI4#D2206#\" id=\"WZ_5l000D220602\" onclick=\"showTicketPrice(this)\" style=\"cursor: pointer;\" tabindex=\"0\" width=\"46\">有</td> <td align=\"center\" hbdata=\"2023-05-07#5l000D220602#QT_#\" hbid=\"2023-05-07#AOH#CUW#5l000D220602#QT_#01#上海虹桥#17#重庆北#c12s9xiufZwiEdkcvqni4QWc5Qk%2Ftqeoctt24%2B1AthDSLmbj4Z4fq42BixnafZGK8ujAX%2BlXD5LO%0AsG5FMXWvponcFjrKcxc8BJCqMDcJOPyPzR04ar9GjRepAONoYRTHfXfNzZWBK4btKa0W%2FWIHx0sf%0AyJsPxabDawmJ5mAi%2FvTfKc%2BWc0g%2F9ya%2FPZn30KU65O2lKWu4KKFWwFfBmKPgtM11vbUrPqX4n7jt%0Apeq600zHB4%2F4EIkCFZKhm%2FrlrXctuoaOBks55kEIjkJy5HtHLd09cMLk2zcyANaPUcMe%2BZ4tnJ%2Fs%0ApmIdFeXcTvy897vYzDj3aB2U%2FybUoqI4#D2206#\" id=\"QT_5l000D220602\" ifalow_maxlength=\"1\" onclick=\"showTicketPrice(this)\" style=\"cursor: pointer;\" title=\"\" undefined=\"\" width=\"46\">--</td> <td align=\"center\" class=\"no-br\" width=\"80\"><a aria-label=\"预订D2206次车06:01从上海虹桥出发，19:17到重庆北,当日到达历时13:16的车票\" class=\"btn72\" href=\"javascript:\" onclick=\"checkG1234('c12s9xiufZwiEdkcvqni4QWc5Qk%2Ftqeoctt24%2B1AthDSLmbj4Z4fq42BixnafZGK8ujAX%2BlXD5LO%0AsG5FMXWvponcFjrKcxc8BJCqMDcJOPyPzR04ar9GjRepAONoYRTHfXfNzZWBK4btKa0W%2FWIHx0sf%0AyJsPxabDawmJ5mAi%2FvTfKc%2BWc0g%2F9ya%2FPZn30KU65O2lKWu4KKFWwFfBmKPgtM11vbUrPqX4n7jt%0Apeq600zHB4%2F4EIkCFZKhm%2FrlrXctuoaOBks55kEIjkJy5HtHLd09cMLk2zcyANaPUcMe%2BZ4tnJ%2Fs%0ApmIdFeXcTvy897vYzDj3aB2U%2FybUoqI4','06:01','5l000D220602','AOH','CUW')\">预订</a></td></tr>\n",
      "<tr datatran=\"D2206\" id=\"price_5l000D220602_01_17\" style=\"display:none;\"></tr>\n",
      "<tr class=\"\" id=\"ticket_5l0000D35204_01_21\"><td colspan=\"4\" width=\"370\"><div class=\"ticket-info clearfix\" id=\"train_num_1\"><div class=\"train\" id=\"ticket_5l0000D35204_01_21_train\"><div><a class=\"number\" href=\"javascript:\" id=\"5l0000D35204_AOH_CUW\" onclick=\"myStopStation.open('1','5l0000D35204','AOH','CUW','20230507','3');\" title=\"点击查看停靠站信息\">D352</a><div class=\"train-type\"></div></div><span class=\"lookup\" id=\"5l0000D35204_01_21_qd2%2BJYWKEblWj%2BQMoihilXbHmult5gLJMD4cxxtdrapHXdfX_MOO\" onclick=\"showTicketPrice(this)\"><span style=\"display:none;\">查看票价</span><b aria-label=\"查看票价,按回车键操作\" tabindex=\"0\" title=\"查看票价\"></b></span></div><div class=\"cdz\"><strong class=\"start-s\" title=\"上海虹桥\">上海虹桥</strong><strong>重庆北</strong></div><div class=\"cds\"><strong class=\"start-t\">06:13</strong><strong class=\"color999\">18:07</strong></div><div class=\"ls\" id=\"5l0000D35204_ls\"><strong>11:54</strong><span>当日到达</span></div></div></td> <td align=\"center\" hbdata=\"2023-05-07#5l0000D35204#TZ_#\" hbid=\"2023-05-07#AOH#CUW#5l0000D35204#TZ_#01#上海虹桥#21#重庆北#O0if%2BKHHF3upFkXZjPH%2B%2FMzhYCwePXlLiljNrGGU2YitKpbxAuhA7Jez%2FvDnRkK9Ak4xaFtftVPt%0AT591nKFMxXpgETBs%2FKVkBSXnI6CpgyaWqYRN3aqMcwPNrFnY91twJLhxwL%2F%2By2dAZOMhrAkzopC3%0ArOzSMUbyzMhEVeUtv2ePkOv7rKqME8mO83GXkW8%2BWw0awY%2FklRn3%2BfUFP5uvTbicPI8nJRUEYjVx%0ANYeapog3HzGyd5ts4H6m685dGsFVXl87GvtvcV1Vli2qJwTdZ37TAsIArzaxgT4og5W%2FxEjRPBDc%0ArcMT1bx%2FYS5OUTmLNfTT5TcPLcpHLWjH#D352#\" id=\"TZ_5l0000D35204\" ifalow_maxlength=\"1\" onclick=\"showTicketPrice(this)\" style=\"cursor: pointer;\" title=\"\" undefined=\"\" width=\"46\">--</td><td align=\"center\" aria-label=\"D352次列车，一等座票价949元，余票有\" class=\"yes\" hbdata=\"2023-05-07#5l0000D35204#ZY_#\" hbid=\"2023-05-07#AOH#CUW#5l0000D35204#ZY_#01#上海虹桥#21#重庆北#O0if%2BKHHF3upFkXZjPH%2B%2FMzhYCwePXlLiljNrGGU2YitKpbxAuhA7Jez%2FvDnRkK9Ak4xaFtftVPt%0AT591nKFMxXpgETBs%2FKVkBSXnI6CpgyaWqYRN3aqMcwPNrFnY91twJLhxwL%2F%2By2dAZOMhrAkzopC3%0ArOzSMUbyzMhEVeUtv2ePkOv7rKqME8mO83GXkW8%2BWw0awY%2FklRn3%2BfUFP5uvTbicPI8nJRUEYjVx%0ANYeapog3HzGyd5ts4H6m685dGsFVXl87GvtvcV1Vli2qJwTdZ37TAsIArzaxgT4og5W%2FxEjRPBDc%0ArcMT1bx%2FYS5OUTmLNfTT5TcPLcpHLWjH#D352#\" id=\"ZY_5l0000D35204\" onclick=\"showTicketPrice(this)\" style=\"cursor: pointer;\" tabindex=\"0\" width=\"46\">有</td><td align=\"center\" aria-label=\"D352次列车，二等座票价593.5元，余票有\" class=\"yes\" hbdata=\"2023-05-07#5l0000D35204#ZE_#\" hbid=\"2023-05-07#AOH#CUW#5l0000D35204#ZE_#01#上海虹桥#21#重庆北#O0if%2BKHHF3upFkXZjPH%2B%2FMzhYCwePXlLiljNrGGU2YitKpbxAuhA7Jez%2FvDnRkK9Ak4xaFtftVPt%0AT591nKFMxXpgETBs%2FKVkBSXnI6CpgyaWqYRN3aqMcwPNrFnY91twJLhxwL%2F%2By2dAZOMhrAkzopC3%0ArOzSMUbyzMhEVeUtv2ePkOv7rKqME8mO83GXkW8%2BWw0awY%2FklRn3%2BfUFP5uvTbicPI8nJRUEYjVx%0ANYeapog3HzGyd5ts4H6m685dGsFVXl87GvtvcV1Vli2qJwTdZ37TAsIArzaxgT4og5W%2FxEjRPBDc%0ArcMT1bx%2FYS5OUTmLNfTT5TcPLcpHLWjH#D352#\" id=\"ZE_5l0000D35204\" onclick=\"showTicketPrice(this)\" style=\"cursor: pointer;\" tabindex=\"0\" width=\"46\">有</td> <td align=\"center\" hbdata=\"2023-05-07#5l0000D35204#GR_#\" hbid=\"2023-05-07#AOH#CUW#5l0000D35204#GR_#01#上海虹桥#21#重庆北#O0if%2BKHHF3upFkXZjPH%2B%2FMzhYCwePXlLiljNrGGU2YitKpbxAuhA7Jez%2FvDnRkK9Ak4xaFtftVPt%0AT591nKFMxXpgETBs%2FKVkBSXnI6CpgyaWqYRN3aqMcwPNrFnY91twJLhxwL%2F%2By2dAZOMhrAkzopC3%0ArOzSMUbyzMhEVeUtv2ePkOv7rKqME8mO83GXkW8%2BWw0awY%2FklRn3%2BfUFP5uvTbicPI8nJRUEYjVx%0ANYeapog3HzGyd5ts4H6m685dGsFVXl87GvtvcV1Vli2qJwTdZ37TAsIArzaxgT4og5W%2FxEjRPBDc%0ArcMT1bx%2FYS5OUTmLNfTT5TcPLcpHLWjH#D352#\" id=\"GR_5l0000D35204\" ifalow_maxlength=\"1\" onclick=\"showTicketPrice(this)\" style=\"cursor: pointer;\" title=\"\" undefined=\"\" width=\"46\">--</td> <td align=\"center\" hbdata=\"2023-05-07#5l0000D35204#RW_#\" hbid=\"2023-05-07#AOH#CUW#5l0000D35204#RW_#01#上海虹桥#21#重庆北#O0if%2BKHHF3upFkXZjPH%2B%2FMzhYCwePXlLiljNrGGU2YitKpbxAuhA7Jez%2FvDnRkK9Ak4xaFtftVPt%0AT591nKFMxXpgETBs%2FKVkBSXnI6CpgyaWqYRN3aqMcwPNrFnY91twJLhxwL%2F%2By2dAZOMhrAkzopC3%0ArOzSMUbyzMhEVeUtv2ePkOv7rKqME8mO83GXkW8%2BWw0awY%2FklRn3%2BfUFP5uvTbicPI8nJRUEYjVx%0ANYeapog3HzGyd5ts4H6m685dGsFVXl87GvtvcV1Vli2qJwTdZ37TAsIArzaxgT4og5W%2FxEjRPBDc%0ArcMT1bx%2FYS5OUTmLNfTT5TcPLcpHLWjH#D352#\" id=\"RW_5l0000D35204\" ifalow_maxlength=\"1\" onclick=\"showTicketPrice(this)\" style=\"cursor: pointer;\" title=\"\" undefined=\"\" width=\"46\">--</td> <td align=\"center\" hbdata=\"2023-05-07#5l0000D35204#SRRB_#\" hbid=\"2023-05-07#AOH#CUW#5l0000D35204#SRRB_#01#上海虹桥#21#重庆北#O0if%2BKHHF3upFkXZjPH%2B%2FMzhYCwePXlLiljNrGGU2YitKpbxAuhA7Jez%2FvDnRkK9Ak4xaFtftVPt%0AT591nKFMxXpgETBs%2FKVkBSXnI6CpgyaWqYRN3aqMcwPNrFnY91twJLhxwL%2F%2By2dAZOMhrAkzopC3%0ArOzSMUbyzMhEVeUtv2ePkOv7rKqME8mO83GXkW8%2BWw0awY%2FklRn3%2BfUFP5uvTbicPI8nJRUEYjVx%0ANYeapog3HzGyd5ts4H6m685dGsFVXl87GvtvcV1Vli2qJwTdZ37TAsIArzaxgT4og5W%2FxEjRPBDc%0ArcMT1bx%2FYS5OUTmLNfTT5TcPLcpHLWjH#D352#\" id=\"SRRB_5l0000D35204\" ifalow_maxlength=\"1\" onclick=\"showTicketPrice(this)\" style=\"cursor: pointer;\" title=\"\" undefined=\"\" width=\"46\">--</td> <td align=\"center\" hbdata=\"2023-05-07#5l0000D35204#YW_#\" hbid=\"2023-05-07#AOH#CUW#5l0000D35204#YW_#01#上海虹桥#21#重庆北#O0if%2BKHHF3upFkXZjPH%2B%2FMzhYCwePXlLiljNrGGU2YitKpbxAuhA7Jez%2FvDnRkK9Ak4xaFtftVPt%0AT591nKFMxXpgETBs%2FKVkBSXnI6CpgyaWqYRN3aqMcwPNrFnY91twJLhxwL%2F%2By2dAZOMhrAkzopC3%0ArOzSMUbyzMhEVeUtv2ePkOv7rKqME8mO83GXkW8%2BWw0awY%2FklRn3%2BfUFP5uvTbicPI8nJRUEYjVx%0ANYeapog3HzGyd5ts4H6m685dGsFVXl87GvtvcV1Vli2qJwTdZ37TAsIArzaxgT4og5W%2FxEjRPBDc%0ArcMT1bx%2FYS5OUTmLNfTT5TcPLcpHLWjH#D352#\" id=\"YW_5l0000D35204\" ifalow_maxlength=\"1\" onclick=\"showTicketPrice(this)\" style=\"cursor: pointer;\" title=\"\" undefined=\"\" width=\"46\">--</td> <td align=\"center\" hbdata=\"2023-05-07#5l0000D35204#RZ_#\" hbid=\"2023-05-07#AOH#CUW#5l0000D35204#RZ_#01#上海虹桥#21#重庆北#O0if%2BKHHF3upFkXZjPH%2B%2FMzhYCwePXlLiljNrGGU2YitKpbxAuhA7Jez%2FvDnRkK9Ak4xaFtftVPt%0AT591nKFMxXpgETBs%2FKVkBSXnI6CpgyaWqYRN3aqMcwPNrFnY91twJLhxwL%2F%2By2dAZOMhrAkzopC3%0ArOzSMUbyzMhEVeUtv2ePkOv7rKqME8mO83GXkW8%2BWw0awY%2FklRn3%2BfUFP5uvTbicPI8nJRUEYjVx%0ANYeapog3HzGyd5ts4H6m685dGsFVXl87GvtvcV1Vli2qJwTdZ37TAsIArzaxgT4og5W%2FxEjRPBDc%0ArcMT1bx%2FYS5OUTmLNfTT5TcPLcpHLWjH#D352#\" id=\"RZ_5l0000D35204\" ifalow_maxlength=\"1\" onclick=\"showTicketPrice(this)\" style=\"cursor: pointer;\" title=\"\" undefined=\"\" width=\"46\">--</td> <td align=\"center\" hbdata=\"2023-05-07#5l0000D35204#YZ_#\" hbid=\"2023-05-07#AOH#CUW#5l0000D35204#YZ_#01#上海虹桥#21#重庆北#O0if%2BKHHF3upFkXZjPH%2B%2FMzhYCwePXlLiljNrGGU2YitKpbxAuhA7Jez%2FvDnRkK9Ak4xaFtftVPt%0AT591nKFMxXpgETBs%2FKVkBSXnI6CpgyaWqYRN3aqMcwPNrFnY91twJLhxwL%2F%2By2dAZOMhrAkzopC3%0ArOzSMUbyzMhEVeUtv2ePkOv7rKqME8mO83GXkW8%2BWw0awY%2FklRn3%2BfUFP5uvTbicPI8nJRUEYjVx%0ANYeapog3HzGyd5ts4H6m685dGsFVXl87GvtvcV1Vli2qJwTdZ37TAsIArzaxgT4og5W%2FxEjRPBDc%0ArcMT1bx%2FYS5OUTmLNfTT5TcPLcpHLWjH#D352#\" id=\"YZ_5l0000D35204\" ifalow_maxlength=\"1\" onclick=\"showTicketPrice(this)\" style=\"cursor: pointer;\" title=\"\" undefined=\"\" width=\"46\">--</td><td align=\"center\" aria-label=\"D352次列车，无座票价593.5元，余票有\" class=\"yes\" hbdata=\"2023-05-07#5l0000D35204#WZ_#\" hbid=\"2023-05-07#AOH#CUW#5l0000D35204#WZ_#01#上海虹桥#21#重庆北#O0if%2BKHHF3upFkXZjPH%2B%2FMzhYCwePXlLiljNrGGU2YitKpbxAuhA7Jez%2FvDnRkK9Ak4xaFtftVPt%0AT591nKFMxXpgETBs%2FKVkBSXnI6CpgyaWqYRN3aqMcwPNrFnY91twJLhxwL%2F%2By2dAZOMhrAkzopC3%0ArOzSMUbyzMhEVeUtv2ePkOv7rKqME8mO83GXkW8%2BWw0awY%2FklRn3%2BfUFP5uvTbicPI8nJRUEYjVx%0ANYeapog3HzGyd5ts4H6m685dGsFVXl87GvtvcV1Vli2qJwTdZ37TAsIArzaxgT4og5W%2FxEjRPBDc%0ArcMT1bx%2FYS5OUTmLNfTT5TcPLcpHLWjH#D352#\" id=\"WZ_5l0000D35204\" onclick=\"showTicketPrice(this)\" style=\"cursor: pointer;\" tabindex=\"0\" width=\"46\">有</td> <td align=\"center\" hbdata=\"2023-05-07#5l0000D35204#QT_#\" hbid=\"2023-05-07#AOH#CUW#5l0000D35204#QT_#01#上海虹桥#21#重庆北#O0if%2BKHHF3upFkXZjPH%2B%2FMzhYCwePXlLiljNrGGU2YitKpbxAuhA7Jez%2FvDnRkK9Ak4xaFtftVPt%0AT591nKFMxXpgETBs%2FKVkBSXnI6CpgyaWqYRN3aqMcwPNrFnY91twJLhxwL%2F%2By2dAZOMhrAkzopC3%0ArOzSMUbyzMhEVeUtv2ePkOv7rKqME8mO83GXkW8%2BWw0awY%2FklRn3%2BfUFP5uvTbicPI8nJRUEYjVx%0ANYeapog3HzGyd5ts4H6m685dGsFVXl87GvtvcV1Vli2qJwTdZ37TAsIArzaxgT4og5W%2FxEjRPBDc%0ArcMT1bx%2FYS5OUTmLNfTT5TcPLcpHLWjH#D352#\" id=\"QT_5l0000D35204\" ifalow_maxlength=\"1\" onclick=\"showTicketPrice(this)\" style=\"cursor: pointer;\" title=\"\" undefined=\"\" width=\"46\">--</td> <td align=\"center\" class=\"no-br\" width=\"80\"><a aria-label=\"预订D352次车06:13从上海虹桥出发，18:07到重庆北,当日到达历时11:54的车票\" class=\"btn72\" href=\"javascript:\" onclick=\"checkG1234('O0if%2BKHHF3upFkXZjPH%2B%2FMzhYCwePXlLiljNrGGU2YitKpbxAuhA7Jez%2FvDnRkK9Ak4xaFtftVPt%0AT591nKFMxXpgETBs%2FKVkBSXnI6CpgyaWqYRN3aqMcwPNrFnY91twJLhxwL%2F%2By2dAZOMhrAkzopC3%0ArOzSMUbyzMhEVeUtv2ePkOv7rKqME8mO83GXkW8%2BWw0awY%2FklRn3%2BfUFP5uvTbicPI8nJRUEYjVx%0ANYeapog3HzGyd5ts4H6m685dGsFVXl87GvtvcV1Vli2qJwTdZ37TAsIArzaxgT4og5W%2FxEjRPBDc%0ArcMT1bx%2FYS5OUTmLNfTT5TcPLcpHLWjH','06:13','5l0000D35204','AOH','CUW')\">预订</a></td></tr>\n"
     ]
    }
   ],
   "source": [
    "a=0\n",
    "for child in find_id.children:\n",
    "    print(child)\n",
    "    a=a+1\n",
    "    if a>2:\n",
    "        break"
   ]
  },
  {
   "cell_type": "code",
   "execution_count": 200,
   "metadata": {},
   "outputs": [
    {
     "data": {
      "text/plain": [
       "37"
      ]
     },
     "execution_count": 200,
     "metadata": {},
     "output_type": "execute_result"
    }
   ],
   "source": [
    "len(list(find_id.children))"
   ]
  },
  {
   "cell_type": "code",
   "execution_count": 210,
   "metadata": {},
   "outputs": [
    {
     "data": {
      "text/plain": [
       "'D352查看票价上海虹桥重庆北06:1318:0711:54当日到达 --有有 -- -- -- -- -- --有 -- 预订'"
      ]
     },
     "execution_count": 210,
     "metadata": {},
     "output_type": "execute_result"
    }
   ],
   "source": [
    "child.text"
   ]
  },
  {
   "cell_type": "code",
   "execution_count": 211,
   "metadata": {},
   "outputs": [],
   "source": [
    "child.string"
   ]
  },
  {
   "cell_type": "code",
   "execution_count": 224,
   "metadata": {},
   "outputs": [],
   "source": [
    "tr_list=find_id.find_all('tr')"
   ]
  },
  {
   "cell_type": "code",
   "execution_count": 226,
   "metadata": {},
   "outputs": [
    {
     "data": {
      "text/plain": [
       "'D2206查看票价上海虹桥重庆北06:0119:1713:16当日到达 --有有 -- -- -- -- -- --有 -- 预订'"
      ]
     },
     "execution_count": 226,
     "metadata": {},
     "output_type": "execute_result"
    }
   ],
   "source": [
    "tr_list[0].text"
   ]
  },
  {
   "cell_type": "code",
   "execution_count": 227,
   "metadata": {},
   "outputs": [
    {
     "data": {
      "text/plain": [
       "''"
      ]
     },
     "execution_count": 227,
     "metadata": {},
     "output_type": "execute_result"
    }
   ],
   "source": [
    "tr_list[1].text"
   ]
  },
  {
   "cell_type": "code",
   "execution_count": 228,
   "metadata": {},
   "outputs": [
    {
     "data": {
      "text/plain": [
       "'D352查看票价上海虹桥重庆北06:1318:0711:54当日到达 --有有 -- -- -- -- -- --有 -- 预订'"
      ]
     },
     "execution_count": 228,
     "metadata": {},
     "output_type": "execute_result"
    }
   ],
   "source": [
    "tr_list[2].text"
   ]
  },
  {
   "cell_type": "code",
   "execution_count": 232,
   "metadata": {},
   "outputs": [],
   "source": [
    "grandson=child.find_all('td')"
   ]
  },
  {
   "cell_type": "code",
   "execution_count": 234,
   "metadata": {},
   "outputs": [
    {
     "data": {
      "text/plain": [
       "'D3056查看票价上海重庆北07:2319:3812:15当日到达'"
      ]
     },
     "execution_count": 234,
     "metadata": {},
     "output_type": "execute_result"
    }
   ],
   "source": [
    "grandson[0].text"
   ]
  },
  {
   "cell_type": "code",
   "execution_count": 235,
   "metadata": {},
   "outputs": [
    {
     "data": {
      "text/plain": [
       "'--'"
      ]
     },
     "execution_count": 235,
     "metadata": {},
     "output_type": "execute_result"
    }
   ],
   "source": [
    "grandson[1].text"
   ]
  },
  {
   "cell_type": "code",
   "execution_count": 236,
   "metadata": {},
   "outputs": [
    {
     "data": {
      "text/plain": [
       "'有'"
      ]
     },
     "execution_count": 236,
     "metadata": {},
     "output_type": "execute_result"
    }
   ],
   "source": [
    "grandson[2].text"
   ]
  },
  {
   "cell_type": "code",
   "execution_count": null,
   "metadata": {},
   "outputs": [],
   "source": []
  }
 ],
 "metadata": {
  "kernelspec": {
   "display_name": "Python 3",
   "language": "python",
   "name": "python3"
  },
  "language_info": {
   "codemirror_mode": {
    "name": "ipython",
    "version": 3
   },
   "file_extension": ".py",
   "mimetype": "text/x-python",
   "name": "python",
   "nbconvert_exporter": "python",
   "pygments_lexer": "ipython3",
   "version": "3.7.4"
  }
 },
 "nbformat": 4,
 "nbformat_minor": 2
}
